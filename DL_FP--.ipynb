{
  "nbformat": 4,
  "nbformat_minor": 0,
  "metadata": {
    "colab": {
      "name": "Copy of DL_FP--.ipynb",
      "provenance": [],
      "collapsed_sections": []
    },
    "kernelspec": {
      "display_name": "Python 3",
      "language": "python",
      "name": "python3"
    },
    "language_info": {
      "codemirror_mode": {
        "name": "ipython",
        "version": 3
      },
      "file_extension": ".py",
      "mimetype": "text/x-python",
      "name": "python",
      "nbconvert_exporter": "python",
      "pygments_lexer": "ipython3",
      "version": "3.7.6"
    },
    "accelerator": "GPU"
  },
  "cells": [
    {
      "cell_type": "code",
      "metadata": {
        "colab_type": "code",
        "id": "0KHhdljls2jv",
        "colab": {}
      },
      "source": [
        "import pandas as pd\n",
        "import numpy as np\n",
        "import pickle\n",
        "import gzip\n"
      ],
      "execution_count": 0,
      "outputs": []
    },
    {
      "cell_type": "code",
      "metadata": {
        "id": "8koJOznOWvIq",
        "colab_type": "code",
        "outputId": "f9c72d43-484e-49e1-c317-8261c62c4c97",
        "colab": {
          "base_uri": "https://localhost:8080/",
          "height": 54
        }
      },
      "source": [
        "from google.colab import drive\n",
        "drive.mount('/content/drive')"
      ],
      "execution_count": 2,
      "outputs": [
        {
          "output_type": "stream",
          "text": [
            "Drive already mounted at /content/drive; to attempt to forcibly remount, call drive.mount(\"/content/drive\", force_remount=True).\n"
          ],
          "name": "stdout"
        }
      ]
    },
    {
      "cell_type": "code",
      "metadata": {
        "colab_type": "code",
        "id": "LZjNADAjs2jz",
        "colab": {}
      },
      "source": [
        "with open('/content/drive/My Drive/dl-ims/test_subjects','rb') as f:\n",
        "               images = pickle.load(f)\n"
      ],
      "execution_count": 0,
      "outputs": []
    },
    {
      "cell_type": "markdown",
      "metadata": {
        "id": "ntuCGkPPUGZi",
        "colab_type": "text"
      },
      "source": [
        "#### Subject IDs"
      ]
    },
    {
      "cell_type": "code",
      "metadata": {
        "id": "fcxNfjWzUGZj",
        "colab_type": "code",
        "outputId": "b580cfeb-acbf-4801-e5c8-d4047317bf01",
        "colab": {
          "base_uri": "https://localhost:8080/",
          "height": 204
        }
      },
      "source": [
        "im_name_list =[]\n",
        "\n",
        "for x1 in images:\n",
        "    im_name_list.append(x1)\n",
        "im_name_list"
      ],
      "execution_count": 4,
      "outputs": [
        {
          "output_type": "execute_result",
          "data": {
            "text/plain": [
              "['OAS30001',\n",
              " 'OAS30002',\n",
              " 'OAS30004',\n",
              " 'OAS30005',\n",
              " 'OAS30006',\n",
              " 'OAS30007',\n",
              " 'OAS30008',\n",
              " 'OAS30019',\n",
              " 'OAS30022',\n",
              " 'OAS30024',\n",
              " 'OAS30027']"
            ]
          },
          "metadata": {
            "tags": []
          },
          "execution_count": 4
        }
      ]
    },
    {
      "cell_type": "markdown",
      "metadata": {
        "id": "7U3-dxk-UGZl",
        "colab_type": "text"
      },
      "source": [
        "#### Making training and test sets"
      ]
    },
    {
      "cell_type": "code",
      "metadata": {
        "id": "7kE0NS3tUGZm",
        "colab_type": "code",
        "outputId": "de392966-8ef9-4b64-d6f6-9616ba8cbd58",
        "colab": {
          "base_uri": "https://localhost:8080/",
          "height": 34
        }
      },
      "source": [
        "pixels=np.zeros((1, 120, 160, 120))\n",
        "for name in im_name_list:\n",
        "    pixels= np.append(pixels ,np.reshape(images[name]['image'], (1, 120, 160, 120) ), axis=0)\n",
        "\n",
        "input_ims= pixels[1:12,:,:,:] \n",
        "input_ims.shape"
      ],
      "execution_count": 5,
      "outputs": [
        {
          "output_type": "execute_result",
          "data": {
            "text/plain": [
              "(11, 120, 160, 120)"
            ]
          },
          "metadata": {
            "tags": []
          },
          "execution_count": 5
        }
      ]
    },
    {
      "cell_type": "code",
      "metadata": {
        "id": "d2rMKeiKUGZo",
        "colab_type": "code",
        "outputId": "1e23e644-a17d-426d-fc9f-bc61f6637188",
        "colab": {
          "base_uri": "https://localhost:8080/",
          "height": 34
        }
      },
      "source": [
        "x_train = input_ims[0:9,:,:,:]\n",
        "x_train.shape"
      ],
      "execution_count": 6,
      "outputs": [
        {
          "output_type": "execute_result",
          "data": {
            "text/plain": [
              "(9, 120, 160, 120)"
            ]
          },
          "metadata": {
            "tags": []
          },
          "execution_count": 6
        }
      ]
    },
    {
      "cell_type": "code",
      "metadata": {
        "id": "wRiDq0aEUGZr",
        "colab_type": "code",
        "outputId": "6a2237e3-2ac5-4882-f15e-6aaa02b1d350",
        "colab": {
          "base_uri": "https://localhost:8080/",
          "height": 34
        }
      },
      "source": [
        "x_test=input_ims[9:12,:,:,:]\n",
        "x_test.shape"
      ],
      "execution_count": 7,
      "outputs": [
        {
          "output_type": "execute_result",
          "data": {
            "text/plain": [
              "(2, 120, 160, 120)"
            ]
          },
          "metadata": {
            "tags": []
          },
          "execution_count": 7
        }
      ]
    },
    {
      "cell_type": "code",
      "metadata": {
        "id": "p2dqArmV00R_",
        "colab_type": "code",
        "colab": {}
      },
      "source": [
        "x_test= np.reshape(x_test, (2, 120, 160, 120, 1) )"
      ],
      "execution_count": 0,
      "outputs": []
    },
    {
      "cell_type": "markdown",
      "metadata": {
        "id": "67Ko9vksUGZu",
        "colab_type": "text"
      },
      "source": [
        "#### Making target values"
      ]
    },
    {
      "cell_type": "code",
      "metadata": {
        "id": "QJIbKq4mUGZu",
        "colab_type": "code",
        "outputId": "5c10c837-ba09-45c2-ca1d-0f16a0088ada",
        "colab": {
          "base_uri": "https://localhost:8080/",
          "height": 34
        }
      },
      "source": [
        "y_train= [images[key]['group'] for key in images.keys()]\n",
        "y_test = y_train[-2:]\n",
        "y_test"
      ],
      "execution_count": 9,
      "outputs": [
        {
          "output_type": "execute_result",
          "data": {
            "text/plain": [
              "['AD', 'AD']"
            ]
          },
          "metadata": {
            "tags": []
          },
          "execution_count": 9
        }
      ]
    },
    {
      "cell_type": "code",
      "metadata": {
        "id": "3JMDvjDIUGZx",
        "colab_type": "code",
        "outputId": "33e1a47a-2932-429e-f450-848447149509",
        "colab": {
          "base_uri": "https://localhost:8080/",
          "height": 34
        }
      },
      "source": [
        "y_train = y_train[:9]\n",
        "y_train"
      ],
      "execution_count": 10,
      "outputs": [
        {
          "output_type": "execute_result",
          "data": {
            "text/plain": [
              "['CN', 'CN', 'CN', 'CN', 'CN', 'CN', 'CN', 'AD', 'AD']"
            ]
          },
          "metadata": {
            "tags": []
          },
          "execution_count": 10
        }
      ]
    },
    {
      "cell_type": "code",
      "metadata": {
        "id": "VvH5WXTrUGZz",
        "colab_type": "code",
        "outputId": "382797e7-bd83-4f18-efea-78bf190a0cb6",
        "colab": {
          "base_uri": "https://localhost:8080/",
          "height": 34
        }
      },
      "source": [
        "def convert_numeric(x):\n",
        "    if x == \"AD\":\n",
        "        return 1\n",
        "    elif x == \"CN\":\n",
        "        return 0\n",
        "    else:\n",
        "        return x\n",
        "    \n",
        "    \n",
        "y_train = list(map( convert_numeric, y_train))\n",
        "y_train"
      ],
      "execution_count": 11,
      "outputs": [
        {
          "output_type": "execute_result",
          "data": {
            "text/plain": [
              "[0, 0, 0, 0, 0, 0, 0, 1, 1]"
            ]
          },
          "metadata": {
            "tags": []
          },
          "execution_count": 11
        }
      ]
    },
    {
      "cell_type": "code",
      "metadata": {
        "id": "UTEBBiJ2UGZ1",
        "colab_type": "code",
        "outputId": "ce5c74a9-fb4d-4925-8c1c-e95154aa2b3c",
        "colab": {
          "base_uri": "https://localhost:8080/",
          "height": 34
        }
      },
      "source": [
        "y_test = list(map( convert_numeric, y_test))\n",
        "y_test"
      ],
      "execution_count": 12,
      "outputs": [
        {
          "output_type": "execute_result",
          "data": {
            "text/plain": [
              "[1, 1]"
            ]
          },
          "metadata": {
            "tags": []
          },
          "execution_count": 12
        }
      ]
    },
    {
      "cell_type": "code",
      "metadata": {
        "id": "f-EM0OscUGZ3",
        "colab_type": "code",
        "outputId": "228a2ec0-a00c-4a55-f188-e84feb4a4a43",
        "colab": {
          "base_uri": "https://localhost:8080/",
          "height": 34
        }
      },
      "source": [
        "len(input_ims)"
      ],
      "execution_count": 13,
      "outputs": [
        {
          "output_type": "execute_result",
          "data": {
            "text/plain": [
              "11"
            ]
          },
          "metadata": {
            "tags": []
          },
          "execution_count": 13
        }
      ]
    },
    {
      "cell_type": "code",
      "metadata": {
        "id": "Kg183FUvUGZ6",
        "colab_type": "code",
        "outputId": "f6cf639b-b8d4-4f9f-edbf-b1d924bd515b",
        "colab": {
          "base_uri": "https://localhost:8080/",
          "height": 34
        }
      },
      "source": [
        "#looking into first image\n",
        "first_im=images['OAS30001']\n",
        "first = first_im['image']\n",
        "first.shape"
      ],
      "execution_count": 14,
      "outputs": [
        {
          "output_type": "execute_result",
          "data": {
            "text/plain": [
              "(120, 160, 120)"
            ]
          },
          "metadata": {
            "tags": []
          },
          "execution_count": 14
        }
      ]
    },
    {
      "cell_type": "code",
      "metadata": {
        "id": "nCGQTwSoUGZ8",
        "colab_type": "code",
        "colab": {}
      },
      "source": [
        "first_modified= np.reshape(first, (120, 160, 120 , 1))"
      ],
      "execution_count": 0,
      "outputs": []
    },
    {
      "cell_type": "code",
      "metadata": {
        "id": "UBpkRIRDyCZz",
        "colab_type": "code",
        "colab": {}
      },
      "source": [
        "x_train = np.reshape(x_train, (9, 120, 160, 120, 1) )"
      ],
      "execution_count": 0,
      "outputs": []
    },
    {
      "cell_type": "markdown",
      "metadata": {
        "id": "C8kJ3DGfpK3T",
        "colab_type": "text"
      },
      "source": [
        "#### Building Encoder"
      ]
    },
    {
      "cell_type": "code",
      "metadata": {
        "id": "hNAqMSGOnNBd",
        "colab_type": "code",
        "colab": {
          "base_uri": "https://localhost:8080/",
          "height": 646
        },
        "outputId": "31804b50-49ee-47f2-df13-d621fe27de43"
      },
      "source": [
        "import tensorflow as tf\n",
        "from tensorflow import keras\n",
        "from tensorflow.keras import backend as K\n",
        "from tensorflow.keras.callbacks import TensorBoard\n",
        "import matplotlib.pyplot as plt\n",
        "from keras.models import Sequential, Model\n",
        "from keras.layers import Dense, Conv3D, MaxPool3D, Dropout, Flatten, Conv3DTranspose, UpSampling3D, Reshape\n",
        "from keras.layers import Input\n",
        "\n",
        "\n",
        "input_img = Input(shape= (120, 160, 120 , 1))\n",
        "x = Conv3D(10, (3,3,3), activation='relu', padding='same')(input_img)\n",
        "x = MaxPool3D((2,2,2))(x)\n",
        "x= Dropout(0.8)(x)\n",
        "\n",
        "x = Conv3D(10, (3,3,3), activation='relu', padding='same')(x)\n",
        "x = MaxPool3D((2,2,2))(x)\n",
        "x= Dropout(0.8)(x)\n",
        "\n",
        "x = Conv3D(10, (3,3,3), activation='relu', padding='same')(x)\n",
        "x = MaxPool3D((2,2,2))(x)\n",
        "x= Dropout(0.8)(x)\n",
        "\n",
        "encoded_shape = K.int_shape(x)\n",
        "\n",
        "x = Flatten()(x)\n",
        "\n",
        "x = Dense(32, activation='selu')(x)\n",
        "x= Dense(16, activation='selu')(x)\n",
        "encoded = Dense(2)(x)\n",
        "\n",
        "\n",
        "encoder=Model(input_img, encoded, name='encoder')\n",
        "encoder.summary()"
      ],
      "execution_count": 17,
      "outputs": [
        {
          "output_type": "stream",
          "text": [
            "Using TensorFlow backend.\n"
          ],
          "name": "stderr"
        },
        {
          "output_type": "stream",
          "text": [
            "Model: \"encoder\"\n",
            "_________________________________________________________________\n",
            "Layer (type)                 Output Shape              Param #   \n",
            "=================================================================\n",
            "input_1 (InputLayer)         (None, 120, 160, 120, 1)  0         \n",
            "_________________________________________________________________\n",
            "conv3d_1 (Conv3D)            (None, 120, 160, 120, 10) 280       \n",
            "_________________________________________________________________\n",
            "max_pooling3d_1 (MaxPooling3 (None, 60, 80, 60, 10)    0         \n",
            "_________________________________________________________________\n",
            "dropout_1 (Dropout)          (None, 60, 80, 60, 10)    0         \n",
            "_________________________________________________________________\n",
            "conv3d_2 (Conv3D)            (None, 60, 80, 60, 10)    2710      \n",
            "_________________________________________________________________\n",
            "max_pooling3d_2 (MaxPooling3 (None, 30, 40, 30, 10)    0         \n",
            "_________________________________________________________________\n",
            "dropout_2 (Dropout)          (None, 30, 40, 30, 10)    0         \n",
            "_________________________________________________________________\n",
            "conv3d_3 (Conv3D)            (None, 30, 40, 30, 10)    2710      \n",
            "_________________________________________________________________\n",
            "max_pooling3d_3 (MaxPooling3 (None, 15, 20, 15, 10)    0         \n",
            "_________________________________________________________________\n",
            "dropout_3 (Dropout)          (None, 15, 20, 15, 10)    0         \n",
            "_________________________________________________________________\n",
            "flatten_1 (Flatten)          (None, 45000)             0         \n",
            "_________________________________________________________________\n",
            "dense_1 (Dense)              (None, 32)                1440032   \n",
            "_________________________________________________________________\n",
            "dense_2 (Dense)              (None, 16)                528       \n",
            "_________________________________________________________________\n",
            "dense_3 (Dense)              (None, 2)                 34        \n",
            "=================================================================\n",
            "Total params: 1,446,294\n",
            "Trainable params: 1,446,294\n",
            "Non-trainable params: 0\n",
            "_________________________________________________________________\n"
          ],
          "name": "stdout"
        }
      ]
    },
    {
      "cell_type": "markdown",
      "metadata": {
        "id": "IifbTxu4r7oW",
        "colab_type": "text"
      },
      "source": [
        "#### Building decoder"
      ]
    },
    {
      "cell_type": "code",
      "metadata": {
        "id": "QpOjuZZGsFUc",
        "colab_type": "code",
        "colab": {
          "base_uri": "https://localhost:8080/",
          "height": 663
        },
        "outputId": "9a99e27d-1ea5-4b03-9504-f9a58316faa6"
      },
      "source": [
        "encoded_input= Input(shape=(2,))\n",
        "x = Dense(16, activation='selu')(encoded_input)\n",
        "x= Dense(32, activation='selu')(x)\n",
        "x= Dense(np.prod(encoded_shape[1:]))(x)\n",
        "x= Reshape((encoded_shape[1], encoded_shape[2], encoded_shape[3], encoded_shape[4]))(x)\n",
        "\n",
        "x = Conv3DTranspose(10, (3,3,3), activation='relu', padding='same')(x)\n",
        "x = UpSampling3D((2,2,2))(x)\n",
        "x= Dropout(0.8)(x)\n",
        "\n",
        "x = Conv3DTranspose(10, (3,3,3), activation='relu', padding='same')(x)\n",
        "x = UpSampling3D((2,2,2))(x)\n",
        "x= Dropout(0.8)(x)\n",
        "\n",
        "x = Conv3DTranspose(10, (3,3,3), activation='relu', padding='same')(x)\n",
        "x = UpSampling3D((2,2,2))(x)\n",
        "x= Dropout(0.8)(x)\n",
        "\n",
        "x = Conv3DTranspose(1, (3,3,3), activation='sigmoid', padding='same')(x)\n",
        "\n",
        "decoder = Model(encoded_input, x, name='decoder')\n",
        "decoder.summary()"
      ],
      "execution_count": 18,
      "outputs": [
        {
          "output_type": "stream",
          "text": [
            "Model: \"decoder\"\n",
            "_________________________________________________________________\n",
            "Layer (type)                 Output Shape              Param #   \n",
            "=================================================================\n",
            "input_2 (InputLayer)         (None, 2)                 0         \n",
            "_________________________________________________________________\n",
            "dense_4 (Dense)              (None, 16)                48        \n",
            "_________________________________________________________________\n",
            "dense_5 (Dense)              (None, 32)                544       \n",
            "_________________________________________________________________\n",
            "dense_6 (Dense)              (None, 45000)             1485000   \n",
            "_________________________________________________________________\n",
            "reshape_1 (Reshape)          (None, 15, 20, 15, 10)    0         \n",
            "_________________________________________________________________\n",
            "conv3d_transpose_1 (Conv3DTr (None, 15, 20, 15, 10)    2710      \n",
            "_________________________________________________________________\n",
            "up_sampling3d_1 (UpSampling3 (None, 30, 40, 30, 10)    0         \n",
            "_________________________________________________________________\n",
            "dropout_4 (Dropout)          (None, 30, 40, 30, 10)    0         \n",
            "_________________________________________________________________\n",
            "conv3d_transpose_2 (Conv3DTr (None, 30, 40, 30, 10)    2710      \n",
            "_________________________________________________________________\n",
            "up_sampling3d_2 (UpSampling3 (None, 60, 80, 60, 10)    0         \n",
            "_________________________________________________________________\n",
            "dropout_5 (Dropout)          (None, 60, 80, 60, 10)    0         \n",
            "_________________________________________________________________\n",
            "conv3d_transpose_3 (Conv3DTr (None, 60, 80, 60, 10)    2710      \n",
            "_________________________________________________________________\n",
            "up_sampling3d_3 (UpSampling3 (None, 120, 160, 120, 10) 0         \n",
            "_________________________________________________________________\n",
            "dropout_6 (Dropout)          (None, 120, 160, 120, 10) 0         \n",
            "_________________________________________________________________\n",
            "conv3d_transpose_4 (Conv3DTr (None, 120, 160, 120, 1)  271       \n",
            "=================================================================\n",
            "Total params: 1,493,993\n",
            "Trainable params: 1,493,993\n",
            "Non-trainable params: 0\n",
            "_________________________________________________________________\n"
          ],
          "name": "stdout"
        }
      ]
    },
    {
      "cell_type": "markdown",
      "metadata": {
        "id": "MTCOKfGfwTtB",
        "colab_type": "text"
      },
      "source": [
        "#### Building Autoencoder"
      ]
    },
    {
      "cell_type": "code",
      "metadata": {
        "id": "pQiTACIywYZS",
        "colab_type": "code",
        "colab": {
          "base_uri": "https://localhost:8080/",
          "height": 255
        },
        "outputId": "fce27168-608f-429a-c0f2-f606c70d54df"
      },
      "source": [
        "autoencoder= Model(input_img, decoder(encoder(input_img)), name='autoencoder')\n",
        "autoencoder.summary()"
      ],
      "execution_count": 19,
      "outputs": [
        {
          "output_type": "stream",
          "text": [
            "Model: \"autoencoder\"\n",
            "_________________________________________________________________\n",
            "Layer (type)                 Output Shape              Param #   \n",
            "=================================================================\n",
            "input_1 (InputLayer)         (None, 120, 160, 120, 1)  0         \n",
            "_________________________________________________________________\n",
            "encoder (Model)              (None, 2)                 1446294   \n",
            "_________________________________________________________________\n",
            "decoder (Model)              (None, 120, 160, 120, 1)  1493993   \n",
            "=================================================================\n",
            "Total params: 2,940,287\n",
            "Trainable params: 2,940,287\n",
            "Non-trainable params: 0\n",
            "_________________________________________________________________\n"
          ],
          "name": "stdout"
        }
      ]
    },
    {
      "cell_type": "code",
      "metadata": {
        "id": "czyHPguCxP_c",
        "colab_type": "code",
        "colab": {
          "base_uri": "https://localhost:8080/",
          "height": 1000
        },
        "outputId": "c802324f-2c09-43c8-bb9b-c81a56c16ff7"
      },
      "source": [
        "autoencoder.compile(optimizer='adam', loss='binary_crossentropy')\n",
        "\n",
        "hist= autoencoder.fit(x_train, x_train, epochs=200, verbose=1, validation_data=(x_test, x_test))\n"
      ],
      "execution_count": 27,
      "outputs": [
        {
          "output_type": "stream",
          "text": [
            "Train on 9 samples, validate on 2 samples\n",
            "Epoch 1/200\n",
            "9/9 [==============================] - 2s 198ms/step - loss: 0.3381 - val_loss: 0.4851\n",
            "Epoch 2/200\n",
            "9/9 [==============================] - 1s 121ms/step - loss: 0.3397 - val_loss: 0.4995\n",
            "Epoch 3/200\n",
            "9/9 [==============================] - 1s 122ms/step - loss: 0.3388 - val_loss: 0.4923\n",
            "Epoch 4/200\n",
            "9/9 [==============================] - 1s 122ms/step - loss: 0.3351 - val_loss: 0.4793\n",
            "Epoch 5/200\n",
            "9/9 [==============================] - 1s 122ms/step - loss: 0.3348 - val_loss: 0.4693\n",
            "Epoch 6/200\n",
            "9/9 [==============================] - 1s 123ms/step - loss: 0.3351 - val_loss: 0.4649\n",
            "Epoch 7/200\n",
            "9/9 [==============================] - 1s 123ms/step - loss: 0.3344 - val_loss: 0.4631\n",
            "Epoch 8/200\n",
            "9/9 [==============================] - 1s 124ms/step - loss: 0.3342 - val_loss: 0.4629\n",
            "Epoch 9/200\n",
            "9/9 [==============================] - 1s 123ms/step - loss: 0.3349 - val_loss: 0.4607\n",
            "Epoch 10/200\n",
            "9/9 [==============================] - 1s 123ms/step - loss: 0.3344 - val_loss: 0.4579\n",
            "Epoch 11/200\n",
            "9/9 [==============================] - 1s 123ms/step - loss: 0.3339 - val_loss: 0.4558\n",
            "Epoch 12/200\n",
            "9/9 [==============================] - 1s 124ms/step - loss: 0.3338 - val_loss: 0.4552\n",
            "Epoch 13/200\n",
            "9/9 [==============================] - 1s 124ms/step - loss: 0.3337 - val_loss: 0.4555\n",
            "Epoch 14/200\n",
            "9/9 [==============================] - 1s 126ms/step - loss: 0.3337 - val_loss: 0.4568\n",
            "Epoch 15/200\n",
            "9/9 [==============================] - 1s 123ms/step - loss: 0.3337 - val_loss: 0.4557\n",
            "Epoch 16/200\n",
            "9/9 [==============================] - 1s 124ms/step - loss: 0.3334 - val_loss: 0.4552\n",
            "Epoch 17/200\n",
            "9/9 [==============================] - 1s 122ms/step - loss: 0.3337 - val_loss: 0.4555\n",
            "Epoch 18/200\n",
            "9/9 [==============================] - 1s 123ms/step - loss: 0.3335 - val_loss: 0.4577\n",
            "Epoch 19/200\n",
            "9/9 [==============================] - 1s 123ms/step - loss: 0.3333 - val_loss: 0.4606\n",
            "Epoch 20/200\n",
            "9/9 [==============================] - 1s 122ms/step - loss: 0.3332 - val_loss: 0.4615\n",
            "Epoch 21/200\n",
            "9/9 [==============================] - 1s 123ms/step - loss: 0.3331 - val_loss: 0.4596\n",
            "Epoch 22/200\n",
            "9/9 [==============================] - 1s 122ms/step - loss: 0.3331 - val_loss: 0.4549\n",
            "Epoch 23/200\n",
            "9/9 [==============================] - 1s 122ms/step - loss: 0.3330 - val_loss: 0.4519\n",
            "Epoch 24/200\n",
            "9/9 [==============================] - 1s 122ms/step - loss: 0.3331 - val_loss: 0.4522\n",
            "Epoch 25/200\n",
            "9/9 [==============================] - 1s 121ms/step - loss: 0.3328 - val_loss: 0.4534\n",
            "Epoch 26/200\n",
            "9/9 [==============================] - 1s 121ms/step - loss: 0.3332 - val_loss: 0.4521\n",
            "Epoch 27/200\n",
            "9/9 [==============================] - 1s 122ms/step - loss: 0.3328 - val_loss: 0.4496\n",
            "Epoch 28/200\n",
            "9/9 [==============================] - 1s 121ms/step - loss: 0.3327 - val_loss: 0.4486\n",
            "Epoch 29/200\n",
            "9/9 [==============================] - 1s 121ms/step - loss: 0.3327 - val_loss: 0.4508\n",
            "Epoch 30/200\n",
            "9/9 [==============================] - 1s 121ms/step - loss: 0.3327 - val_loss: 0.4554\n",
            "Epoch 31/200\n",
            "9/9 [==============================] - 1s 121ms/step - loss: 0.3326 - val_loss: 0.4567\n",
            "Epoch 32/200\n",
            "9/9 [==============================] - 1s 121ms/step - loss: 0.3328 - val_loss: 0.4534\n",
            "Epoch 33/200\n",
            "9/9 [==============================] - 1s 121ms/step - loss: 0.3339 - val_loss: 0.4468\n",
            "Epoch 34/200\n",
            "9/9 [==============================] - 1s 120ms/step - loss: 0.3329 - val_loss: 0.4455\n",
            "Epoch 35/200\n",
            "9/9 [==============================] - 1s 120ms/step - loss: 0.3328 - val_loss: 0.4488\n",
            "Epoch 36/200\n",
            "9/9 [==============================] - 1s 121ms/step - loss: 0.3325 - val_loss: 0.4534\n",
            "Epoch 37/200\n",
            "9/9 [==============================] - 1s 120ms/step - loss: 0.3328 - val_loss: 0.4569\n",
            "Epoch 38/200\n",
            "9/9 [==============================] - 1s 120ms/step - loss: 0.3331 - val_loss: 0.4559\n",
            "Epoch 39/200\n",
            "9/9 [==============================] - 1s 120ms/step - loss: 0.3327 - val_loss: 0.4522\n",
            "Epoch 40/200\n",
            "9/9 [==============================] - 1s 120ms/step - loss: 0.3324 - val_loss: 0.4499\n",
            "Epoch 41/200\n",
            "9/9 [==============================] - 1s 120ms/step - loss: 0.3329 - val_loss: 0.4519\n",
            "Epoch 42/200\n",
            "9/9 [==============================] - 1s 120ms/step - loss: 0.3325 - val_loss: 0.4550\n",
            "Epoch 43/200\n",
            "9/9 [==============================] - 1s 120ms/step - loss: 0.3324 - val_loss: 0.4558\n",
            "Epoch 44/200\n",
            "9/9 [==============================] - 1s 119ms/step - loss: 0.3325 - val_loss: 0.4527\n",
            "Epoch 45/200\n",
            "9/9 [==============================] - 1s 120ms/step - loss: 0.3324 - val_loss: 0.4466\n",
            "Epoch 46/200\n",
            "9/9 [==============================] - 1s 120ms/step - loss: 0.3324 - val_loss: 0.4437\n",
            "Epoch 47/200\n",
            "9/9 [==============================] - 1s 119ms/step - loss: 0.3326 - val_loss: 0.4464\n",
            "Epoch 48/200\n",
            "9/9 [==============================] - 1s 119ms/step - loss: 0.3322 - val_loss: 0.4517\n",
            "Epoch 49/200\n",
            "9/9 [==============================] - 1s 120ms/step - loss: 0.3321 - val_loss: 0.4551\n",
            "Epoch 50/200\n",
            "9/9 [==============================] - 1s 120ms/step - loss: 0.3325 - val_loss: 0.4534\n",
            "Epoch 51/200\n",
            "9/9 [==============================] - 1s 120ms/step - loss: 0.3328 - val_loss: 0.4478\n",
            "Epoch 52/200\n",
            "9/9 [==============================] - 1s 120ms/step - loss: 0.3321 - val_loss: 0.4454\n",
            "Epoch 53/200\n",
            "9/9 [==============================] - 1s 119ms/step - loss: 0.3325 - val_loss: 0.4487\n",
            "Epoch 54/200\n",
            "9/9 [==============================] - 1s 119ms/step - loss: 0.3320 - val_loss: 0.4539\n",
            "Epoch 55/200\n",
            "9/9 [==============================] - 1s 119ms/step - loss: 0.3321 - val_loss: 0.4561\n",
            "Epoch 56/200\n",
            "9/9 [==============================] - 1s 120ms/step - loss: 0.3328 - val_loss: 0.4529\n",
            "Epoch 57/200\n",
            "9/9 [==============================] - 1s 120ms/step - loss: 0.3321 - val_loss: 0.4462\n",
            "Epoch 58/200\n",
            "9/9 [==============================] - 1s 119ms/step - loss: 0.3320 - val_loss: 0.4428\n",
            "Epoch 59/200\n",
            "9/9 [==============================] - 1s 119ms/step - loss: 0.3327 - val_loss: 0.4463\n",
            "Epoch 60/200\n",
            "9/9 [==============================] - 1s 119ms/step - loss: 0.3323 - val_loss: 0.4537\n",
            "Epoch 61/200\n",
            "9/9 [==============================] - 1s 120ms/step - loss: 0.3319 - val_loss: 0.4595\n",
            "Epoch 62/200\n",
            "9/9 [==============================] - 1s 120ms/step - loss: 0.3324 - val_loss: 0.4586\n",
            "Epoch 63/200\n",
            "9/9 [==============================] - 1s 120ms/step - loss: 0.3325 - val_loss: 0.4517\n",
            "Epoch 64/200\n",
            "9/9 [==============================] - 1s 120ms/step - loss: 0.3319 - val_loss: 0.4441\n",
            "Epoch 65/200\n",
            "9/9 [==============================] - 1s 120ms/step - loss: 0.3322 - val_loss: 0.4423\n",
            "Epoch 66/200\n",
            "9/9 [==============================] - 1s 120ms/step - loss: 0.3330 - val_loss: 0.4486\n",
            "Epoch 67/200\n",
            "9/9 [==============================] - 1s 120ms/step - loss: 0.3320 - val_loss: 0.4557\n",
            "Epoch 68/200\n",
            "9/9 [==============================] - 1s 120ms/step - loss: 0.3321 - val_loss: 0.4581\n",
            "Epoch 69/200\n",
            "9/9 [==============================] - 1s 121ms/step - loss: 0.3325 - val_loss: 0.4542\n",
            "Epoch 70/200\n",
            "9/9 [==============================] - 1s 121ms/step - loss: 0.3322 - val_loss: 0.4472\n",
            "Epoch 71/200\n",
            "9/9 [==============================] - 1s 121ms/step - loss: 0.3319 - val_loss: 0.4434\n",
            "Epoch 72/200\n",
            "9/9 [==============================] - 1s 120ms/step - loss: 0.3327 - val_loss: 0.4468\n",
            "Epoch 73/200\n",
            "9/9 [==============================] - 1s 120ms/step - loss: 0.3321 - val_loss: 0.4543\n",
            "Epoch 74/200\n",
            "9/9 [==============================] - 1s 120ms/step - loss: 0.3317 - val_loss: 0.4602\n",
            "Epoch 75/200\n",
            "9/9 [==============================] - 1s 120ms/step - loss: 0.3322 - val_loss: 0.4594\n",
            "Epoch 76/200\n",
            "9/9 [==============================] - 1s 120ms/step - loss: 0.3323 - val_loss: 0.4530\n",
            "Epoch 77/200\n",
            "9/9 [==============================] - 1s 121ms/step - loss: 0.3316 - val_loss: 0.4448\n",
            "Epoch 78/200\n",
            "9/9 [==============================] - 1s 120ms/step - loss: 0.3321 - val_loss: 0.4413\n",
            "Epoch 79/200\n",
            "9/9 [==============================] - 1s 120ms/step - loss: 0.3324 - val_loss: 0.4449\n",
            "Epoch 80/200\n",
            "9/9 [==============================] - 1s 121ms/step - loss: 0.3320 - val_loss: 0.4524\n",
            "Epoch 81/200\n",
            "9/9 [==============================] - 1s 120ms/step - loss: 0.3314 - val_loss: 0.4578\n",
            "Epoch 82/200\n",
            "9/9 [==============================] - 1s 121ms/step - loss: 0.3322 - val_loss: 0.4573\n",
            "Epoch 83/200\n",
            "9/9 [==============================] - 1s 122ms/step - loss: 0.3323 - val_loss: 0.4510\n",
            "Epoch 84/200\n",
            "9/9 [==============================] - 1s 121ms/step - loss: 0.3319 - val_loss: 0.4439\n",
            "Epoch 85/200\n",
            "9/9 [==============================] - 1s 121ms/step - loss: 0.3323 - val_loss: 0.4439\n",
            "Epoch 86/200\n",
            "9/9 [==============================] - 1s 121ms/step - loss: 0.3323 - val_loss: 0.4502\n",
            "Epoch 87/200\n",
            "9/9 [==============================] - 1s 121ms/step - loss: 0.3315 - val_loss: 0.4574\n",
            "Epoch 88/200\n",
            "9/9 [==============================] - 1s 120ms/step - loss: 0.3317 - val_loss: 0.4598\n",
            "Epoch 89/200\n",
            "9/9 [==============================] - 1s 121ms/step - loss: 0.3328 - val_loss: 0.4554\n",
            "Epoch 90/200\n",
            "9/9 [==============================] - 1s 122ms/step - loss: 0.3320 - val_loss: 0.4480\n",
            "Epoch 91/200\n",
            "9/9 [==============================] - 1s 121ms/step - loss: 0.3315 - val_loss: 0.4426\n",
            "Epoch 92/200\n",
            "9/9 [==============================] - 1s 121ms/step - loss: 0.3321 - val_loss: 0.4429\n",
            "Epoch 93/200\n",
            "9/9 [==============================] - 1s 121ms/step - loss: 0.3326 - val_loss: 0.4498\n",
            "Epoch 94/200\n",
            "9/9 [==============================] - 1s 121ms/step - loss: 0.3315 - val_loss: 0.4575\n",
            "Epoch 95/200\n",
            "9/9 [==============================] - 1s 121ms/step - loss: 0.3317 - val_loss: 0.4608\n",
            "Epoch 96/200\n",
            "9/9 [==============================] - 1s 120ms/step - loss: 0.3322 - val_loss: 0.4582\n",
            "Epoch 97/200\n",
            "9/9 [==============================] - 1s 121ms/step - loss: 0.3318 - val_loss: 0.4517\n",
            "Epoch 98/200\n",
            "9/9 [==============================] - 1s 121ms/step - loss: 0.3312 - val_loss: 0.4454\n",
            "Epoch 99/200\n",
            "9/9 [==============================] - 1s 121ms/step - loss: 0.3315 - val_loss: 0.4433\n",
            "Epoch 100/200\n",
            "9/9 [==============================] - 1s 121ms/step - loss: 0.3319 - val_loss: 0.4470\n",
            "Epoch 101/200\n",
            "9/9 [==============================] - 1s 121ms/step - loss: 0.3312 - val_loss: 0.4526\n",
            "Epoch 102/200\n",
            "9/9 [==============================] - 1s 121ms/step - loss: 0.3315 - val_loss: 0.4545\n",
            "Epoch 103/200\n",
            "9/9 [==============================] - 1s 121ms/step - loss: 0.3316 - val_loss: 0.4517\n",
            "Epoch 104/200\n",
            "9/9 [==============================] - 1s 121ms/step - loss: 0.3313 - val_loss: 0.4475\n",
            "Epoch 105/200\n",
            "9/9 [==============================] - 1s 120ms/step - loss: 0.3312 - val_loss: 0.4460\n",
            "Epoch 106/200\n",
            "9/9 [==============================] - 1s 120ms/step - loss: 0.3314 - val_loss: 0.4475\n",
            "Epoch 107/200\n",
            "9/9 [==============================] - 1s 121ms/step - loss: 0.3312 - val_loss: 0.4500\n",
            "Epoch 108/200\n",
            "9/9 [==============================] - 1s 120ms/step - loss: 0.3312 - val_loss: 0.4515\n",
            "Epoch 109/200\n",
            "9/9 [==============================] - 1s 121ms/step - loss: 0.3312 - val_loss: 0.4507\n",
            "Epoch 110/200\n",
            "9/9 [==============================] - 1s 120ms/step - loss: 0.3311 - val_loss: 0.4496\n",
            "Epoch 111/200\n",
            "9/9 [==============================] - 1s 120ms/step - loss: 0.3311 - val_loss: 0.4497\n",
            "Epoch 112/200\n",
            "9/9 [==============================] - 1s 120ms/step - loss: 0.3312 - val_loss: 0.4503\n",
            "Epoch 113/200\n",
            "9/9 [==============================] - 1s 121ms/step - loss: 0.3310 - val_loss: 0.4500\n",
            "Epoch 114/200\n",
            "9/9 [==============================] - 1s 121ms/step - loss: 0.3309 - val_loss: 0.4487\n",
            "Epoch 115/200\n",
            "9/9 [==============================] - 1s 120ms/step - loss: 0.3310 - val_loss: 0.4466\n",
            "Epoch 116/200\n",
            "9/9 [==============================] - 1s 122ms/step - loss: 0.3310 - val_loss: 0.4459\n",
            "Epoch 117/200\n",
            "9/9 [==============================] - 1s 121ms/step - loss: 0.3313 - val_loss: 0.4478\n",
            "Epoch 118/200\n",
            "9/9 [==============================] - 1s 120ms/step - loss: 0.3310 - val_loss: 0.4513\n",
            "Epoch 119/200\n",
            "9/9 [==============================] - 1s 120ms/step - loss: 0.3309 - val_loss: 0.4529\n",
            "Epoch 120/200\n",
            "9/9 [==============================] - 1s 120ms/step - loss: 0.3310 - val_loss: 0.4511\n",
            "Epoch 121/200\n",
            "9/9 [==============================] - 1s 121ms/step - loss: 0.3309 - val_loss: 0.4483\n",
            "Epoch 122/200\n",
            "9/9 [==============================] - 1s 121ms/step - loss: 0.3309 - val_loss: 0.4459\n",
            "Epoch 123/200\n",
            "9/9 [==============================] - 1s 120ms/step - loss: 0.3311 - val_loss: 0.4474\n",
            "Epoch 124/200\n",
            "9/9 [==============================] - 1s 121ms/step - loss: 0.3312 - val_loss: 0.4527\n",
            "Epoch 125/200\n",
            "9/9 [==============================] - 1s 120ms/step - loss: 0.3306 - val_loss: 0.4560\n",
            "Epoch 126/200\n",
            "9/9 [==============================] - 1s 120ms/step - loss: 0.3310 - val_loss: 0.4548\n",
            "Epoch 127/200\n",
            "9/9 [==============================] - 1s 121ms/step - loss: 0.3310 - val_loss: 0.4504\n",
            "Epoch 128/200\n",
            "9/9 [==============================] - 1s 121ms/step - loss: 0.3308 - val_loss: 0.4470\n",
            "Epoch 129/200\n",
            "9/9 [==============================] - 1s 121ms/step - loss: 0.3312 - val_loss: 0.4482\n",
            "Epoch 130/200\n",
            "9/9 [==============================] - 1s 121ms/step - loss: 0.3308 - val_loss: 0.4519\n",
            "Epoch 131/200\n",
            "9/9 [==============================] - 1s 121ms/step - loss: 0.3307 - val_loss: 0.4546\n",
            "Epoch 132/200\n",
            "9/9 [==============================] - 1s 121ms/step - loss: 0.3308 - val_loss: 0.4541\n",
            "Epoch 133/200\n",
            "9/9 [==============================] - 1s 120ms/step - loss: 0.3311 - val_loss: 0.4497\n",
            "Epoch 134/200\n",
            "9/9 [==============================] - 1s 120ms/step - loss: 0.3307 - val_loss: 0.4453\n",
            "Epoch 135/200\n",
            "9/9 [==============================] - 1s 120ms/step - loss: 0.3311 - val_loss: 0.4465\n",
            "Epoch 136/200\n",
            "9/9 [==============================] - 1s 120ms/step - loss: 0.3311 - val_loss: 0.4525\n",
            "Epoch 137/200\n",
            "9/9 [==============================] - 1s 120ms/step - loss: 0.3305 - val_loss: 0.4565\n",
            "Epoch 138/200\n",
            "9/9 [==============================] - 1s 120ms/step - loss: 0.3313 - val_loss: 0.4560\n",
            "Epoch 139/200\n",
            "9/9 [==============================] - 1s 120ms/step - loss: 0.3310 - val_loss: 0.4522\n",
            "Epoch 140/200\n",
            "9/9 [==============================] - 1s 120ms/step - loss: 0.3308 - val_loss: 0.4489\n",
            "Epoch 141/200\n",
            "9/9 [==============================] - 1s 121ms/step - loss: 0.3308 - val_loss: 0.4490\n",
            "Epoch 142/200\n",
            "9/9 [==============================] - 1s 120ms/step - loss: 0.3306 - val_loss: 0.4513\n",
            "Epoch 143/200\n",
            "9/9 [==============================] - 1s 120ms/step - loss: 0.3306 - val_loss: 0.4535\n",
            "Epoch 144/200\n",
            "9/9 [==============================] - 1s 120ms/step - loss: 0.3307 - val_loss: 0.4540\n",
            "Epoch 145/200\n",
            "9/9 [==============================] - 1s 120ms/step - loss: 0.3308 - val_loss: 0.4516\n",
            "Epoch 146/200\n",
            "9/9 [==============================] - 1s 120ms/step - loss: 0.3305 - val_loss: 0.4486\n",
            "Epoch 147/200\n",
            "9/9 [==============================] - 1s 120ms/step - loss: 0.3304 - val_loss: 0.4477\n",
            "Epoch 148/200\n",
            "9/9 [==============================] - 1s 121ms/step - loss: 0.3306 - val_loss: 0.4495\n",
            "Epoch 149/200\n",
            "9/9 [==============================] - 1s 120ms/step - loss: 0.3304 - val_loss: 0.4524\n",
            "Epoch 150/200\n",
            "9/9 [==============================] - 1s 120ms/step - loss: 0.3306 - val_loss: 0.4538\n",
            "Epoch 151/200\n",
            "9/9 [==============================] - 1s 120ms/step - loss: 0.3306 - val_loss: 0.4518\n",
            "Epoch 152/200\n",
            "9/9 [==============================] - 1s 120ms/step - loss: 0.3303 - val_loss: 0.4491\n",
            "Epoch 153/200\n",
            "9/9 [==============================] - 1s 121ms/step - loss: 0.3306 - val_loss: 0.4489\n",
            "Epoch 154/200\n",
            "9/9 [==============================] - 1s 120ms/step - loss: 0.3305 - val_loss: 0.4488\n",
            "Epoch 155/200\n",
            "9/9 [==============================] - 1s 120ms/step - loss: 0.3305 - val_loss: 0.4511\n",
            "Epoch 156/200\n",
            "9/9 [==============================] - 1s 121ms/step - loss: 0.3303 - val_loss: 0.4525\n",
            "Epoch 157/200\n",
            "9/9 [==============================] - 1s 121ms/step - loss: 0.3303 - val_loss: 0.4520\n",
            "Epoch 158/200\n",
            "9/9 [==============================] - 1s 121ms/step - loss: 0.3304 - val_loss: 0.4511\n",
            "Epoch 159/200\n",
            "9/9 [==============================] - 1s 120ms/step - loss: 0.3303 - val_loss: 0.4497\n",
            "Epoch 160/200\n",
            "9/9 [==============================] - 1s 120ms/step - loss: 0.3303 - val_loss: 0.4485\n",
            "Epoch 161/200\n",
            "9/9 [==============================] - 1s 121ms/step - loss: 0.3303 - val_loss: 0.4488\n",
            "Epoch 162/200\n",
            "9/9 [==============================] - 1s 120ms/step - loss: 0.3302 - val_loss: 0.4503\n",
            "Epoch 163/200\n",
            "9/9 [==============================] - 1s 121ms/step - loss: 0.3303 - val_loss: 0.4510\n",
            "Epoch 164/200\n",
            "9/9 [==============================] - 1s 120ms/step - loss: 0.3303 - val_loss: 0.4498\n",
            "Epoch 165/200\n",
            "9/9 [==============================] - 1s 121ms/step - loss: 0.3302 - val_loss: 0.4483\n",
            "Epoch 166/200\n",
            "9/9 [==============================] - 1s 121ms/step - loss: 0.3302 - val_loss: 0.4471\n",
            "Epoch 167/200\n",
            "9/9 [==============================] - 1s 121ms/step - loss: 0.3303 - val_loss: 0.4493\n",
            "Epoch 168/200\n",
            "9/9 [==============================] - 1s 121ms/step - loss: 0.3301 - val_loss: 0.4507\n",
            "Epoch 169/200\n",
            "9/9 [==============================] - 1s 120ms/step - loss: 0.3302 - val_loss: 0.4499\n",
            "Epoch 170/200\n",
            "9/9 [==============================] - 1s 121ms/step - loss: 0.3300 - val_loss: 0.4476\n",
            "Epoch 171/200\n",
            "9/9 [==============================] - 1s 120ms/step - loss: 0.3302 - val_loss: 0.4478\n",
            "Epoch 172/200\n",
            "9/9 [==============================] - 1s 120ms/step - loss: 0.3301 - val_loss: 0.4501\n",
            "Epoch 173/200\n",
            "9/9 [==============================] - 1s 120ms/step - loss: 0.3301 - val_loss: 0.4513\n",
            "Epoch 174/200\n",
            "9/9 [==============================] - 1s 120ms/step - loss: 0.3301 - val_loss: 0.4499\n",
            "Epoch 175/200\n",
            "9/9 [==============================] - 1s 120ms/step - loss: 0.3302 - val_loss: 0.4482\n",
            "Epoch 176/200\n",
            "9/9 [==============================] - 1s 121ms/step - loss: 0.3302 - val_loss: 0.4502\n",
            "Epoch 177/200\n",
            "9/9 [==============================] - 1s 120ms/step - loss: 0.3301 - val_loss: 0.4529\n",
            "Epoch 178/200\n",
            "9/9 [==============================] - 1s 121ms/step - loss: 0.3300 - val_loss: 0.4532\n",
            "Epoch 179/200\n",
            "9/9 [==============================] - 1s 120ms/step - loss: 0.3303 - val_loss: 0.4490\n",
            "Epoch 180/200\n",
            "9/9 [==============================] - 1s 121ms/step - loss: 0.3299 - val_loss: 0.4451\n",
            "Epoch 181/200\n",
            "9/9 [==============================] - 1s 120ms/step - loss: 0.3300 - val_loss: 0.4448\n",
            "Epoch 182/200\n",
            "9/9 [==============================] - 1s 121ms/step - loss: 0.3301 - val_loss: 0.4486\n",
            "Epoch 183/200\n",
            "9/9 [==============================] - 1s 120ms/step - loss: 0.3299 - val_loss: 0.4522\n",
            "Epoch 184/200\n",
            "9/9 [==============================] - 1s 121ms/step - loss: 0.3301 - val_loss: 0.4529\n",
            "Epoch 185/200\n",
            "9/9 [==============================] - 1s 120ms/step - loss: 0.3302 - val_loss: 0.4494\n",
            "Epoch 186/200\n",
            "9/9 [==============================] - 1s 120ms/step - loss: 0.3299 - val_loss: 0.4473\n",
            "Epoch 187/200\n",
            "9/9 [==============================] - 1s 120ms/step - loss: 0.3299 - val_loss: 0.4467\n",
            "Epoch 188/200\n",
            "9/9 [==============================] - 1s 120ms/step - loss: 0.3299 - val_loss: 0.4480\n",
            "Epoch 189/200\n",
            "9/9 [==============================] - 1s 120ms/step - loss: 0.3298 - val_loss: 0.4486\n",
            "Epoch 190/200\n",
            "9/9 [==============================] - 1s 120ms/step - loss: 0.3298 - val_loss: 0.4486\n",
            "Epoch 191/200\n",
            "9/9 [==============================] - 1s 120ms/step - loss: 0.3299 - val_loss: 0.4475\n",
            "Epoch 192/200\n",
            "9/9 [==============================] - 1s 120ms/step - loss: 0.3298 - val_loss: 0.4468\n",
            "Epoch 193/200\n",
            "9/9 [==============================] - 1s 120ms/step - loss: 0.3297 - val_loss: 0.4468\n",
            "Epoch 194/200\n",
            "9/9 [==============================] - 1s 119ms/step - loss: 0.3300 - val_loss: 0.4492\n",
            "Epoch 195/200\n",
            "9/9 [==============================] - 1s 120ms/step - loss: 0.3299 - val_loss: 0.4504\n",
            "Epoch 196/200\n",
            "9/9 [==============================] - 1s 120ms/step - loss: 0.3298 - val_loss: 0.4494\n",
            "Epoch 197/200\n",
            "9/9 [==============================] - 1s 121ms/step - loss: 0.3300 - val_loss: 0.4480\n",
            "Epoch 198/200\n",
            "9/9 [==============================] - 1s 119ms/step - loss: 0.3298 - val_loss: 0.4469\n",
            "Epoch 199/200\n",
            "9/9 [==============================] - 1s 120ms/step - loss: 0.3297 - val_loss: 0.4472\n",
            "Epoch 200/200\n",
            "9/9 [==============================] - 1s 120ms/step - loss: 0.3297 - val_loss: 0.4482\n"
          ],
          "name": "stdout"
        }
      ]
    }
  ]
}