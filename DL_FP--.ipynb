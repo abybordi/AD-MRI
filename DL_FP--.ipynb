{
 "cells": [
  {
   "cell_type": "code",
   "execution_count": 1,
   "metadata": {
    "colab": {},
    "colab_type": "code",
    "id": "0KHhdljls2jv"
   },
   "outputs": [
    {
     "name": "stderr",
     "output_type": "stream",
     "text": [
      "Using TensorFlow backend.\n"
     ]
    }
   ],
   "source": [
    "import pandas as pd\n",
    "import numpy as np\n",
    "import pickle\n",
    "import gzip\n",
    "import matplotlib.pyplot as plt\n",
    "from keras.models import Sequential\n",
    "from keras.layers import Dense, Conv3D, MaxPool3D, Dropout, Flatten, Conv3DTranspose, UpSampling3D, Reshape"
   ]
  },
  {
   "cell_type": "code",
   "execution_count": 2,
   "metadata": {
    "colab": {
     "base_uri": "https://localhost:8080/",
     "height": 181
    },
    "colab_type": "code",
    "id": "LZjNADAjs2jz",
    "outputId": "b6e42a3a-3217-4402-9816-e0889b45ddb9"
   },
   "outputs": [],
   "source": [
    "with open('test_subjects','rb') as f:\n",
    "               images = pickle.load(f)\n"
   ]
  },
  {
   "cell_type": "markdown",
   "metadata": {},
   "source": [
    "#### Subject IDs"
   ]
  },
  {
   "cell_type": "code",
   "execution_count": 3,
   "metadata": {},
   "outputs": [
    {
     "data": {
      "text/plain": [
       "['OAS30001',\n",
       " 'OAS30002',\n",
       " 'OAS30004',\n",
       " 'OAS30005',\n",
       " 'OAS30006',\n",
       " 'OAS30007',\n",
       " 'OAS30008',\n",
       " 'OAS30019',\n",
       " 'OAS30022',\n",
       " 'OAS30024',\n",
       " 'OAS30027']"
      ]
     },
     "execution_count": 3,
     "metadata": {},
     "output_type": "execute_result"
    }
   ],
   "source": [
    "im_name_list =[]\n",
    "\n",
    "for x1 in images:\n",
    "    im_name_list.append(x1)\n",
    "im_name_list"
   ]
  },
  {
   "cell_type": "markdown",
   "metadata": {},
   "source": [
    "#### Making training and test sets"
   ]
  },
  {
   "cell_type": "code",
   "execution_count": 4,
   "metadata": {},
   "outputs": [
    {
     "data": {
      "text/plain": [
       "(11, 120, 160, 120)"
      ]
     },
     "execution_count": 4,
     "metadata": {},
     "output_type": "execute_result"
    }
   ],
   "source": [
    "pixels=np.zeros((1, 120, 160, 120))\n",
    "for name in im_name_list:\n",
    "    pixels= np.append(pixels ,np.reshape(images[name]['image'], (1, 120, 160, 120) ), axis=0)\n",
    "\n",
    "input_ims= pixels[1:12,:,:,:] \n",
    "input_ims.shape"
   ]
  },
  {
   "cell_type": "code",
   "execution_count": 5,
   "metadata": {},
   "outputs": [
    {
     "data": {
      "text/plain": [
       "(9, 120, 160, 120)"
      ]
     },
     "execution_count": 5,
     "metadata": {},
     "output_type": "execute_result"
    }
   ],
   "source": [
    "x_train = input_ims[0:9,:,:,:]\n",
    "x_train.shape"
   ]
  },
  {
   "cell_type": "code",
   "execution_count": 6,
   "metadata": {},
   "outputs": [
    {
     "data": {
      "text/plain": [
       "(2, 120, 160, 120)"
      ]
     },
     "execution_count": 6,
     "metadata": {},
     "output_type": "execute_result"
    }
   ],
   "source": [
    "x_test=input_ims[9:12,:,:,:]\n",
    "x_test.shape"
   ]
  },
  {
   "cell_type": "markdown",
   "metadata": {},
   "source": [
    "#### Making target values"
   ]
  },
  {
   "cell_type": "code",
   "execution_count": 7,
   "metadata": {},
   "outputs": [
    {
     "data": {
      "text/plain": [
       "['AD', 'AD']"
      ]
     },
     "execution_count": 7,
     "metadata": {},
     "output_type": "execute_result"
    }
   ],
   "source": [
    "y_train= [images[key]['group'] for key in images.keys()]\n",
    "y_test = y_train[-2:]\n",
    "y_test"
   ]
  },
  {
   "cell_type": "code",
   "execution_count": 8,
   "metadata": {},
   "outputs": [
    {
     "data": {
      "text/plain": [
       "['CN', 'CN', 'CN', 'CN', 'CN', 'CN', 'CN', 'AD', 'AD']"
      ]
     },
     "execution_count": 8,
     "metadata": {},
     "output_type": "execute_result"
    }
   ],
   "source": [
    "y_train = y_train[:9]\n",
    "y_train"
   ]
  },
  {
   "cell_type": "code",
   "execution_count": 9,
   "metadata": {},
   "outputs": [
    {
     "data": {
      "text/plain": [
       "[0, 0, 0, 0, 0, 0, 0, 1, 1]"
      ]
     },
     "execution_count": 9,
     "metadata": {},
     "output_type": "execute_result"
    }
   ],
   "source": [
    "def convert_numeric(x):\n",
    "    if x == \"AD\":\n",
    "        return 1\n",
    "    elif x == \"CN\":\n",
    "        return 0\n",
    "    else:\n",
    "        return x\n",
    "    \n",
    "    \n",
    "y_train = list(map( convert_numeric, y_train))\n",
    "y_train"
   ]
  },
  {
   "cell_type": "code",
   "execution_count": 10,
   "metadata": {},
   "outputs": [
    {
     "data": {
      "text/plain": [
       "[1, 1]"
      ]
     },
     "execution_count": 10,
     "metadata": {},
     "output_type": "execute_result"
    }
   ],
   "source": [
    "y_test = list(map( convert_numeric, y_test))\n",
    "y_test"
   ]
  },
  {
   "cell_type": "code",
   "execution_count": 11,
   "metadata": {},
   "outputs": [
    {
     "data": {
      "text/plain": [
       "11"
      ]
     },
     "execution_count": 11,
     "metadata": {},
     "output_type": "execute_result"
    }
   ],
   "source": [
    "len(input_ims)"
   ]
  },
  {
   "cell_type": "code",
   "execution_count": 12,
   "metadata": {},
   "outputs": [
    {
     "data": {
      "text/plain": [
       "(120, 160, 120)"
      ]
     },
     "execution_count": 12,
     "metadata": {},
     "output_type": "execute_result"
    }
   ],
   "source": [
    "#looking into first image\n",
    "first_im=images['OAS30001']\n",
    "first = first_im['image']\n",
    "first.shape"
   ]
  },
  {
   "cell_type": "code",
   "execution_count": 13,
   "metadata": {},
   "outputs": [],
   "source": [
    "first_modified= np.reshape(first, (120, 160, 120 , 1))"
   ]
  },
  {
   "cell_type": "markdown",
   "metadata": {},
   "source": [
    "#### Building Model"
   ]
  },
  {
   "cell_type": "code",
   "execution_count": 14,
   "metadata": {},
   "outputs": [
    {
     "data": {
      "text/plain": [
       "(11, 120, 160, 120)"
      ]
     },
     "execution_count": 14,
     "metadata": {},
     "output_type": "execute_result"
    }
   ],
   "source": [
    "input_ims.shape"
   ]
  },
  {
   "cell_type": "code",
   "execution_count": 15,
   "metadata": {
    "colab": {},
    "colab_type": "code",
    "id": "be0zF5wJs2kS"
   },
   "outputs": [
    {
     "data": {
      "text/plain": [
       "(9, 120, 160, 120, 1)"
      ]
     },
     "execution_count": 15,
     "metadata": {},
     "output_type": "execute_result"
    }
   ],
   "source": [
    "model = Sequential()\n",
    "#building encoder\n",
    "reshaped = np.reshape(x_train, (9, 120, 160, 120, 1) )\n",
    "reshaped.shape"
   ]
  },
  {
   "cell_type": "code",
   "execution_count": 16,
   "metadata": {
    "colab": {},
    "colab_type": "code",
    "id": "QVbemOp2wt9Z"
   },
   "outputs": [],
   "source": [
    "model.add(Conv3D(10, kernel_size=3, activation='relu', input_shape=(120, 160, 120 , 1), padding='same'))\n",
    "model.add(MaxPool3D(2))\n"
   ]
  },
  {
   "cell_type": "code",
   "execution_count": 17,
   "metadata": {},
   "outputs": [
    {
     "name": "stdout",
     "output_type": "stream",
     "text": [
      "WARNING:tensorflow:Large dropout rate: 0.8 (>0.5). In TensorFlow 2.x, dropout() uses dropout rate instead of keep_prob. Please ensure that this is intended.\n"
     ]
    }
   ],
   "source": [
    "model.add(Dropout(0.8))"
   ]
  },
  {
   "cell_type": "code",
   "execution_count": 18,
   "metadata": {
    "colab": {},
    "colab_type": "code",
    "id": "a-2NrFaMuN3h"
   },
   "outputs": [],
   "source": [
    "model.add(Conv3D(10, kernel_size=3, activation='relu', padding='same'))"
   ]
  },
  {
   "cell_type": "code",
   "execution_count": 19,
   "metadata": {
    "colab": {},
    "colab_type": "code",
    "id": "XkP7C75Jug0F"
   },
   "outputs": [],
   "source": [
    "model.add(MaxPool3D(2))"
   ]
  },
  {
   "cell_type": "code",
   "execution_count": 20,
   "metadata": {
    "colab": {},
    "colab_type": "code",
    "id": "g8JNE8c4uhi9"
   },
   "outputs": [
    {
     "name": "stdout",
     "output_type": "stream",
     "text": [
      "WARNING:tensorflow:Large dropout rate: 0.8 (>0.5). In TensorFlow 2.x, dropout() uses dropout rate instead of keep_prob. Please ensure that this is intended.\n"
     ]
    }
   ],
   "source": [
    "model.add(Dropout(0.8))"
   ]
  },
  {
   "cell_type": "code",
   "execution_count": 21,
   "metadata": {
    "colab": {},
    "colab_type": "code",
    "id": "VI8hvpjvujav"
   },
   "outputs": [],
   "source": [
    "model.add(Conv3D(10, kernel_size=3, activation='relu', padding='same'))"
   ]
  },
  {
   "cell_type": "code",
   "execution_count": 22,
   "metadata": {
    "colab": {},
    "colab_type": "code",
    "id": "0yIhlUchumTl"
   },
   "outputs": [],
   "source": [
    "model.add(MaxPool3D(2))"
   ]
  },
  {
   "cell_type": "code",
   "execution_count": 23,
   "metadata": {
    "colab": {},
    "colab_type": "code",
    "id": "Iv5kUpHAuoC3"
   },
   "outputs": [
    {
     "name": "stdout",
     "output_type": "stream",
     "text": [
      "WARNING:tensorflow:Large dropout rate: 0.8 (>0.5). In TensorFlow 2.x, dropout() uses dropout rate instead of keep_prob. Please ensure that this is intended.\n"
     ]
    }
   ],
   "source": [
    "model.add(Dropout(0.8))"
   ]
  },
  {
   "cell_type": "code",
   "execution_count": 24,
   "metadata": {
    "colab": {},
    "colab_type": "code",
    "id": "yVPLWIQ_s2kX"
   },
   "outputs": [],
   "source": [
    "model.add(Flatten())"
   ]
  },
  {
   "cell_type": "code",
   "execution_count": 25,
   "metadata": {
    "colab": {},
    "colab_type": "code",
    "id": "V7l5wDEiuqch"
   },
   "outputs": [],
   "source": [
    "model.add(Dense(32, activation='selu'))"
   ]
  },
  {
   "cell_type": "code",
   "execution_count": 26,
   "metadata": {
    "colab": {},
    "colab_type": "code",
    "id": "PnMMtqQ3u4KU"
   },
   "outputs": [],
   "source": [
    "model.add(Dense(16, activation='selu'))"
   ]
  },
  {
   "cell_type": "code",
   "execution_count": 27,
   "metadata": {
    "colab": {},
    "colab_type": "code",
    "id": "3I2Tzqo7u6A-"
   },
   "outputs": [],
   "source": [
    "model.add(Dense(2, activation='softmax'))"
   ]
  },
  {
   "cell_type": "code",
   "execution_count": 28,
   "metadata": {
    "colab": {},
    "colab_type": "code",
    "id": "yc960MNpwHY1"
   },
   "outputs": [],
   "source": [
    "#building decoder"
   ]
  },
  {
   "cell_type": "code",
   "execution_count": 29,
   "metadata": {
    "colab": {},
    "colab_type": "code",
    "id": "GXEaiK1v95xc"
   },
   "outputs": [],
   "source": [
    "model.add(Dense(16, activation='selu'))"
   ]
  },
  {
   "cell_type": "code",
   "execution_count": 30,
   "metadata": {
    "colab": {},
    "colab_type": "code",
    "id": "mLj3UYK4-mry"
   },
   "outputs": [],
   "source": [
    "model.add(Dense(32, activation='selu'))"
   ]
  },
  {
   "cell_type": "code",
   "execution_count": 31,
   "metadata": {},
   "outputs": [],
   "source": [
    "# it may be wrong, but we add one more dense layer to make dimensions match :| (for now) !"
   ]
  },
  {
   "cell_type": "code",
   "execution_count": 32,
   "metadata": {},
   "outputs": [],
   "source": [
    "model.add(Dense(4500, activation='selu'))"
   ]
  },
  {
   "cell_type": "code",
   "execution_count": 33,
   "metadata": {},
   "outputs": [],
   "source": [
    "#maybe we need to reshape in here\n",
    "model.add(Reshape((15, 20, 15, 1)))"
   ]
  },
  {
   "cell_type": "code",
   "execution_count": 34,
   "metadata": {
    "colab": {},
    "colab_type": "code",
    "id": "TBHzF57A-sgq",
    "scrolled": true
   },
   "outputs": [],
   "source": [
    "model.add(Conv3DTranspose(10, kernel_size=3, activation='relu', padding='same'))"
   ]
  },
  {
   "cell_type": "code",
   "execution_count": 35,
   "metadata": {
    "colab": {},
    "colab_type": "code",
    "id": "pdkFVXma_8AL"
   },
   "outputs": [],
   "source": [
    "model.add(UpSampling3D(2))"
   ]
  },
  {
   "cell_type": "code",
   "execution_count": 36,
   "metadata": {
    "colab": {},
    "colab_type": "code",
    "id": "8aNj3ba4AEkR"
   },
   "outputs": [
    {
     "name": "stdout",
     "output_type": "stream",
     "text": [
      "WARNING:tensorflow:Large dropout rate: 0.8 (>0.5). In TensorFlow 2.x, dropout() uses dropout rate instead of keep_prob. Please ensure that this is intended.\n"
     ]
    }
   ],
   "source": [
    "model.add(Dropout(0.8))"
   ]
  },
  {
   "cell_type": "code",
   "execution_count": 37,
   "metadata": {
    "colab": {},
    "colab_type": "code",
    "id": "25uDFv5SAH_p"
   },
   "outputs": [],
   "source": [
    "model.add(Conv3DTranspose(10, kernel_size=3, activation='relu', padding='same'))"
   ]
  },
  {
   "cell_type": "code",
   "execution_count": 38,
   "metadata": {
    "colab": {},
    "colab_type": "code",
    "id": "vVi0tfHTAL8R"
   },
   "outputs": [],
   "source": [
    "model.add(UpSampling3D(2))"
   ]
  },
  {
   "cell_type": "code",
   "execution_count": 39,
   "metadata": {
    "colab": {},
    "colab_type": "code",
    "id": "FMe9KWE0ANyA"
   },
   "outputs": [
    {
     "name": "stdout",
     "output_type": "stream",
     "text": [
      "WARNING:tensorflow:Large dropout rate: 0.8 (>0.5). In TensorFlow 2.x, dropout() uses dropout rate instead of keep_prob. Please ensure that this is intended.\n"
     ]
    }
   ],
   "source": [
    "model.add(Dropout(0.8))"
   ]
  },
  {
   "cell_type": "code",
   "execution_count": 40,
   "metadata": {
    "colab": {},
    "colab_type": "code",
    "id": "xBpjqNLEAPog"
   },
   "outputs": [],
   "source": [
    "model.add(Conv3DTranspose(10, kernel_size=3, activation='relu', padding='same'))"
   ]
  },
  {
   "cell_type": "code",
   "execution_count": 41,
   "metadata": {
    "colab": {},
    "colab_type": "code",
    "id": "LFEqbCw5AQ3H"
   },
   "outputs": [],
   "source": [
    "model.add(UpSampling3D(2))"
   ]
  },
  {
   "cell_type": "code",
   "execution_count": 42,
   "metadata": {
    "colab": {},
    "colab_type": "code",
    "id": "Oxcdd6ABASMB"
   },
   "outputs": [],
   "source": [
    "model.add(Dropout(0.8))"
   ]
  },
  {
   "cell_type": "code",
   "execution_count": 43,
   "metadata": {},
   "outputs": [],
   "source": [
    "model.add(Flatten())"
   ]
  },
  {
   "cell_type": "code",
   "execution_count": 44,
   "metadata": {
    "colab": {},
    "colab_type": "code",
    "id": "lacvPr6rvBva"
   },
   "outputs": [],
   "source": [
    "model.compile(optimizer='adam', loss= 'binary_crossentropy')"
   ]
  },
  {
   "cell_type": "code",
   "execution_count": 45,
   "metadata": {},
   "outputs": [
    {
     "name": "stdout",
     "output_type": "stream",
     "text": [
      "Model: \"sequential_1\"\n",
      "_________________________________________________________________\n",
      "Layer (type)                 Output Shape              Param #   \n",
      "=================================================================\n",
      "conv3d_1 (Conv3D)            (None, 120, 160, 120, 10) 280       \n",
      "_________________________________________________________________\n",
      "max_pooling3d_1 (MaxPooling3 (None, 60, 80, 60, 10)    0         \n",
      "_________________________________________________________________\n",
      "dropout_1 (Dropout)          (None, 60, 80, 60, 10)    0         \n",
      "_________________________________________________________________\n",
      "conv3d_2 (Conv3D)            (None, 60, 80, 60, 10)    2710      \n",
      "_________________________________________________________________\n",
      "max_pooling3d_2 (MaxPooling3 (None, 30, 40, 30, 10)    0         \n",
      "_________________________________________________________________\n",
      "dropout_2 (Dropout)          (None, 30, 40, 30, 10)    0         \n",
      "_________________________________________________________________\n",
      "conv3d_3 (Conv3D)            (None, 30, 40, 30, 10)    2710      \n",
      "_________________________________________________________________\n",
      "max_pooling3d_3 (MaxPooling3 (None, 15, 20, 15, 10)    0         \n",
      "_________________________________________________________________\n",
      "dropout_3 (Dropout)          (None, 15, 20, 15, 10)    0         \n",
      "_________________________________________________________________\n",
      "flatten_1 (Flatten)          (None, 45000)             0         \n",
      "_________________________________________________________________\n",
      "dense_1 (Dense)              (None, 32)                1440032   \n",
      "_________________________________________________________________\n",
      "dense_2 (Dense)              (None, 16)                528       \n",
      "_________________________________________________________________\n",
      "dense_3 (Dense)              (None, 2)                 34        \n",
      "_________________________________________________________________\n",
      "dense_4 (Dense)              (None, 16)                48        \n",
      "_________________________________________________________________\n",
      "dense_5 (Dense)              (None, 32)                544       \n",
      "_________________________________________________________________\n",
      "dense_6 (Dense)              (None, 4500)              148500    \n",
      "_________________________________________________________________\n",
      "reshape_1 (Reshape)          (None, 15, 20, 15, 1)     0         \n",
      "_________________________________________________________________\n",
      "conv3d_transpose_1 (Conv3DTr (None, 15, 20, 15, 10)    280       \n",
      "_________________________________________________________________\n",
      "up_sampling3d_1 (UpSampling3 (None, 30, 40, 30, 10)    0         \n",
      "_________________________________________________________________\n",
      "dropout_4 (Dropout)          (None, 30, 40, 30, 10)    0         \n",
      "_________________________________________________________________\n",
      "conv3d_transpose_2 (Conv3DTr (None, 30, 40, 30, 10)    2710      \n",
      "_________________________________________________________________\n",
      "up_sampling3d_2 (UpSampling3 (None, 60, 80, 60, 10)    0         \n",
      "_________________________________________________________________\n",
      "dropout_5 (Dropout)          (None, 60, 80, 60, 10)    0         \n",
      "_________________________________________________________________\n",
      "conv3d_transpose_3 (Conv3DTr (None, 60, 80, 60, 10)    2710      \n",
      "_________________________________________________________________\n",
      "up_sampling3d_3 (UpSampling3 (None, 120, 160, 120, 10) 0         \n",
      "_________________________________________________________________\n",
      "dropout_6 (Dropout)          (None, 120, 160, 120, 10) 0         \n",
      "_________________________________________________________________\n",
      "flatten_2 (Flatten)          (None, 23040000)          0         \n",
      "=================================================================\n",
      "Total params: 1,601,086\n",
      "Trainable params: 1,601,086\n",
      "Non-trainable params: 0\n",
      "_________________________________________________________________\n"
     ]
    }
   ],
   "source": [
    "model.summary()"
   ]
  },
  {
   "cell_type": "code",
   "execution_count": 46,
   "metadata": {},
   "outputs": [],
   "source": [
    "#Autoencoder compiled sucessfully"
   ]
  },
  {
   "cell_type": "code",
   "execution_count": 47,
   "metadata": {},
   "outputs": [],
   "source": [
    "#Autoencoder fit the train data"
   ]
  },
  {
   "cell_type": "code",
   "execution_count": 48,
   "metadata": {},
   "outputs": [],
   "source": [
    "#Build a new model using the encoder part, put the layers in a new model"
   ]
  },
  {
   "cell_type": "code",
   "execution_count": 49,
   "metadata": {},
   "outputs": [],
   "source": [
    "#check with test data the accuracy and ..."
   ]
  },
  {
   "cell_type": "code",
   "execution_count": null,
   "metadata": {},
   "outputs": [],
   "source": []
  }
 ],
 "metadata": {
  "colab": {
   "collapsed_sections": [],
   "name": "DL-FP.ipynb",
   "provenance": []
  },
  "kernelspec": {
   "display_name": "Python 3",
   "language": "python",
   "name": "python3"
  },
  "language_info": {
   "codemirror_mode": {
    "name": "ipython",
    "version": 3
   },
   "file_extension": ".py",
   "mimetype": "text/x-python",
   "name": "python",
   "nbconvert_exporter": "python",
   "pygments_lexer": "ipython3",
   "version": "3.7.6"
  }
 },
 "nbformat": 4,
 "nbformat_minor": 1
}
