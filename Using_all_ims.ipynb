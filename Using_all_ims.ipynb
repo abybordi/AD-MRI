{
  "nbformat": 4,
  "nbformat_minor": 0,
  "metadata": {
    "colab": {
      "name": "Using_all_ims.ipynb",
      "provenance": []
    },
    "kernelspec": {
      "name": "python3",
      "display_name": "Python 3"
    }
  },
  "cells": [
    {
      "cell_type": "code",
      "metadata": {
        "id": "3Ka2uCcCSUhr",
        "colab_type": "code",
        "colab": {}
      },
      "source": [
        "import pandas as pd\n",
        "import numpy as np\n",
        "import pickle\n",
        "import gzip\n"
      ],
      "execution_count": 0,
      "outputs": []
    },
    {
      "cell_type": "code",
      "metadata": {
        "id": "4Ppu5mTaSa0i",
        "colab_type": "code",
        "colab": {}
      },
      "source": [
        "from google.colab import drive\n",
        "drive.mount('/content/drive')"
      ],
      "execution_count": 0,
      "outputs": []
    },
    {
      "cell_type": "markdown",
      "metadata": {
        "id": "P0sZr1zFSh17",
        "colab_type": "text"
      },
      "source": [
        "###Saving first half"
      ]
    },
    {
      "cell_type": "code",
      "metadata": {
        "id": "aC7GpYXbSfcW",
        "colab_type": "code",
        "colab": {}
      },
      "source": [
        "im_name_list =[]\n",
        "target_list =[]\n",
        "pixel_list=[]\n",
        "\n",
        "ctr = 0\n",
        "for im_num in range(500):\n",
        "  try:\n",
        "    path = '/content/drive/My Drive/PROCESSED/OAS3'\n",
        "    path += str(im_num).zfill(4)+'_data'\n",
        "    with open(path, 'rb') as f:\n",
        "      im= pickle.load(f)\n",
        "      im_name_list.append(im['subject'])\n",
        "      target_list.append(im['diagnosis'])\n",
        "      pixel_list.append(im['image'])\n",
        "\n",
        "    ctr += 1\n",
        "  except:\n",
        "    pass"
      ],
      "execution_count": 0,
      "outputs": []
    },
    {
      "cell_type": "code",
      "metadata": {
        "id": "6t8NKcOASkda",
        "colab_type": "code",
        "colab": {}
      },
      "source": [
        "dict_ims = { 'OAS3'+ str(j).zfill(4) : { 'group': target_list[j], 'image' : pixel_list[j]} for j in range(len(im_name_list))  }"
      ],
      "execution_count": 0,
      "outputs": []
    },
    {
      "cell_type": "code",
      "metadata": {
        "id": "3Lnz1U2ASnCS",
        "colab_type": "code",
        "colab": {}
      },
      "source": [
        "from pydrive.auth import GoogleAuth\n",
        "from pydrive.drive import GoogleDrive \n",
        "from google.colab import auth \n",
        "from oauth2client.client import GoogleCredentials\n",
        "\n",
        "auth.authenticate_user()\n",
        "gauth = GoogleAuth()\n",
        "gauth.credentials = GoogleCredentials.get_application_default()                       \n",
        "drive = GoogleDrive(gauth)"
      ],
      "execution_count": 0,
      "outputs": []
    },
    {
      "cell_type": "code",
      "metadata": {
        "id": "1drVd2lnSpz9",
        "colab_type": "code",
        "colab": {}
      },
      "source": [
        "pickle.dump(dict_ims, open('/content/drive/My Drive/all420_ims.p', \"wb\"))"
      ],
      "execution_count": 0,
      "outputs": []
    },
    {
      "cell_type": "markdown",
      "metadata": {
        "id": "4OCLil-nSuV-",
        "colab_type": "text"
      },
      "source": [
        "Now restart kernel, then save second half"
      ]
    },
    {
      "cell_type": "code",
      "metadata": {
        "id": "NlB4YhUmS04K",
        "colab_type": "code",
        "colab": {}
      },
      "source": [
        "im_name_list =[]\n",
        "target_list =[]\n",
        "pixel_list=[]\n",
        "\n",
        "ctr = 0\n",
        "for im_num in range(500,1173):\n",
        "  try:\n",
        "    path = '/content/drive/My Drive/PROCESSED/OAS3'\n",
        "    path += str(im_num).zfill(4)+'_data'\n",
        "    with open(path, 'rb') as f:\n",
        "      im= pickle.load(f)\n",
        "      im_name_list.append(im['subject'])\n",
        "      target_list.append(im['diagnosis'])\n",
        "      pixel_list.append(im['image'])\n",
        "\n",
        "    ctr += 1\n",
        "  except:\n",
        "    pass"
      ],
      "execution_count": 0,
      "outputs": []
    },
    {
      "cell_type": "code",
      "metadata": {
        "id": "DYe4ufXrS_Ic",
        "colab_type": "code",
        "colab": {}
      },
      "source": [
        "dict_ims = { 'OAS3'+ str(j).zfill(4) : { 'group': target_list[j], 'image' : pixel_list[j]} for j in range(len(im_name_list))  }"
      ],
      "execution_count": 0,
      "outputs": []
    },
    {
      "cell_type": "code",
      "metadata": {
        "id": "oCo71tK9TBzB",
        "colab_type": "code",
        "colab": {}
      },
      "source": [
        "pickle.dump(dict_ims, open('/content/drive/My Drive/allnext_ims.p', \"wb\"))"
      ],
      "execution_count": 0,
      "outputs": []
    },
    {
      "cell_type": "code",
      "metadata": {
        "id": "PGcJmYtCTEw-",
        "colab_type": "code",
        "colab": {}
      },
      "source": [
        ""
      ],
      "execution_count": 0,
      "outputs": []
    }
  ]
}