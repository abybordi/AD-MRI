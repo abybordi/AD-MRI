{
  "nbformat": 4,
  "nbformat_minor": 0,
  "metadata": {
    "colab": {
      "name": "generator_draft.ipynb",
      "provenance": [],
      "collapsed_sections": [],
      "machine_shape": "hm"
    },
    "kernelspec": {
      "display_name": "Python 3",
      "language": "python",
      "name": "python3"
    },
    "language_info": {
      "codemirror_mode": {
        "name": "ipython",
        "version": 3
      },
      "file_extension": ".py",
      "mimetype": "text/x-python",
      "name": "python",
      "nbconvert_exporter": "python",
      "pygments_lexer": "ipython3",
      "version": "3.7.6"
    },
    "accelerator": "GPU"
  },
  "cells": [
    {
      "cell_type": "code",
      "metadata": {
        "colab_type": "code",
        "id": "0KHhdljls2jv",
        "colab": {}
      },
      "source": [
        "import pandas as pd\n",
        "import numpy as np\n",
        "import pickle\n",
        "import gzip\n"
      ],
      "execution_count": 0,
      "outputs": []
    },
    {
      "cell_type": "code",
      "metadata": {
        "id": "2qmchbbyhHXg",
        "colab_type": "code",
        "colab": {
          "base_uri": "https://localhost:8080/",
          "height": 34
        },
        "outputId": "0d9bd0b4-1d40-45e3-c1ee-17aca85a11e2"
      },
      "source": [
        "import tensorflow as tf\n",
        "from tensorflow import keras\n",
        "from tensorflow.keras import backend as K\n",
        "from tensorflow.keras.callbacks import TensorBoard\n",
        "import matplotlib.pyplot as plt\n",
        "from keras.models import Sequential, Model\n",
        "from keras.layers import Dense, Conv3D, MaxPool3D, Dropout, Flatten, Conv3DTranspose, UpSampling3D, Reshape\n",
        "from keras.layers import Input\n",
        "\n"
      ],
      "execution_count": 2,
      "outputs": [
        {
          "output_type": "stream",
          "text": [
            "Using TensorFlow backend.\n"
          ],
          "name": "stderr"
        }
      ]
    },
    {
      "cell_type": "code",
      "metadata": {
        "id": "8koJOznOWvIq",
        "colab_type": "code",
        "outputId": "a72dbda5-8324-48dc-cb5d-69943b5b2b39",
        "colab": {
          "base_uri": "https://localhost:8080/",
          "height": 34
        }
      },
      "source": [
        "from google.colab import drive\n",
        "drive.mount('/content/drive')"
      ],
      "execution_count": 3,
      "outputs": [
        {
          "output_type": "stream",
          "text": [
            "Drive already mounted at /content/drive; to attempt to forcibly remount, call drive.mount(\"/content/drive\", force_remount=True).\n"
          ],
          "name": "stdout"
        }
      ]
    },
    {
      "cell_type": "markdown",
      "metadata": {
        "id": "yRG67woNDAtX",
        "colab_type": "text"
      },
      "source": [
        "###Generator with List, for CAE training"
      ]
    },
    {
      "cell_type": "code",
      "metadata": {
        "id": "SaS5Ev9kNUH7",
        "colab_type": "code",
        "colab": {}
      },
      "source": [
        "def generator_l_2():\n",
        "  \n",
        "  #pixels=[]\n",
        "  #q = 0\n",
        "  im_num = 0\n",
        "  while (im_num< 1173):\n",
        "  #for batch_num in range(1173//7):\n",
        "    #images =[]\n",
        "    #labels =[]\n",
        "    pixels=np.zeros(( 1 , 120, 160, 120))\n",
        "    while (len(pixels)<2):\n",
        "    \n",
        "    #im_num = batch_num * 10 \n",
        "    #while len(pixels) < 10:\n",
        "    #for i in range(10):       \n",
        "  #\n",
        "    #while (q<10):\n",
        "           # q +=1 \n",
        "            try:\n",
        "                path = '/content/drive/My Drive/PROCESSED/OAS3'\n",
        "                path += str(im_num).zfill(4)+'_data'\n",
        "                with open(path, 'rb') as f:\n",
        "                      im= pickle.load(f)\n",
        "                      #pixels.append(im['subject'])\n",
        "                      #x = np.reshape(im['image'], (1, 120, 160, 120) )\n",
        "                      #x = np.reshape(x, (1, 120, 160, 120, 1))\n",
        "                      \n",
        "                      \n",
        "                      pixels=np.append(pixels,np.reshape(im['image'], (1, 120, 160, 120) ), axis=0) \n",
        "                      \n",
        "                      im_num += 1\n",
        "                      #pixels=np.reshape(im['image'], (1, 120, 160, 120) )\n",
        "                      #pixels=np.reshape(pixels, (1, 120, 160, 120, 1) )\n",
        "                      #images.append(pixels)\n",
        "                      #labels.append(pixels)\n",
        "            except:\n",
        "                  im_num += 1\n",
        "                  pass\n",
        "    yield  (np.reshape(pixels[1:pixels.shape[0],:,:,:],(pixels.shape[0]-1,120,160,120,1)),\\\n",
        "            np.reshape(pixels[1:pixels.shape[0],:,:,:], (pixels.shape[0]-1,120,160,120,1)))"
      ],
      "execution_count": 0,
      "outputs": []
    },
    {
      "cell_type": "code",
      "metadata": {
        "id": "MRlcMz7RhPRH",
        "colab_type": "code",
        "colab": {}
      },
      "source": [
        "def gen_tr():\n",
        "  \n",
        "  #pixels=[]\n",
        "  #q = 0\n",
        "  im_num = 0\n",
        "  batch_num = 0\n",
        "  while True:\n",
        "  #while (im_num< 1173):\n",
        "  #for batch_num in range(1173//7):\n",
        "    #images =[]\n",
        "    #labels =[]\n",
        "    pixels=np.zeros(( 1 , 120, 160, 120))\n",
        "    while (len(pixels)<2):\n",
        "    \n",
        "    #im_num = batch_num * 10 \n",
        "    #while len(pixels) < 10:\n",
        "    #for i in range(10):       \n",
        "  #\n",
        "    #while (q<10):\n",
        "           # q +=1 \n",
        "            try:\n",
        "                path = '/content/drive/My Drive/PROCESSED/OAS3'\n",
        "                path += str(im_num).zfill(4)+'_data'\n",
        "                with open(path, 'rb') as f:\n",
        "                      im= pickle.load(f)\n",
        "                      #pixels.append(im['subject'])\n",
        "                      #x = np.reshape(im['image'], (1, 120, 160, 120) )\n",
        "                      #x = np.reshape(x, (1, 120, 160, 120, 1))\n",
        "                      \n",
        "                      \n",
        "                      pixels=np.append(pixels,np.reshape(im['image'], (1, 120, 160, 120) ), axis=0) \n",
        "                      \n",
        "                      im_num += 1\n",
        "                      #pixels=np.reshape(im['image'], (1, 120, 160, 120) )\n",
        "                      #pixels=np.reshape(pixels, (1, 120, 160, 120, 1) )\n",
        "                      #images.append(pixels)\n",
        "                      #labels.append(pixels)\n",
        "            except:\n",
        "                  im_num += 1\n",
        "    \n",
        "                  pass\n",
        "    batch_num += 1\n",
        "    yield  (np.reshape(pixels[1:pixels.shape[0],:,:,:],(pixels.shape[0]-1,120,160,120,1)),\\\n",
        "            np.reshape(pixels[1:pixels.shape[0],:,:,:], (pixels.shape[0]-1,120,160,120,1)))"
      ],
      "execution_count": 0,
      "outputs": []
    },
    {
      "cell_type": "code",
      "metadata": {
        "id": "vuk_-35mhT6W",
        "colab_type": "code",
        "colab": {}
      },
      "source": [
        "def gen_test():\n",
        "  \n",
        "  #pixels=[]\n",
        "  #q = 0\n",
        "  im_num = 0\n",
        "  batch_num = 0\n",
        "  #while (im_num< 1173):\n",
        "  while True:\n",
        "  #for batch_num in range(1173//7):\n",
        "    #images =[]\n",
        "    #labels =[]\n",
        "    pixels=np.zeros(( 1 , 120, 160, 120))\n",
        "    while (len(pixels)<2):\n",
        "    \n",
        "    #im_num = batch_num * 10 \n",
        "    #while len(pixels) < 10:\n",
        "    #for i in range(10):       \n",
        "  #\n",
        "    #while (q<10):\n",
        "           # q +=1 \n",
        "            try:\n",
        "                path = '/content/drive/My Drive/PROCESSED/OAS3'\n",
        "                im_num_inv = 1173 - im_num\n",
        "                path += str(im_num_inv).zfill(4)+'_data'\n",
        "                with open(path, 'rb') as f:\n",
        "                      im= pickle.load(f)\n",
        "                      #pixels.append(im['subject'])\n",
        "                      #x = np.reshape(im['image'], (1, 120, 160, 120) )\n",
        "                      #x = np.reshape(x, (1, 120, 160, 120, 1))\n",
        "                      \n",
        "                      \n",
        "                      pixels=np.append(pixels,np.reshape(im['image'], (1, 120, 160, 120) ), axis=0) \n",
        "                      \n",
        "                      im_num += 1\n",
        "                      #pixels=np.reshape(im['image'], (1, 120, 160, 120) )\n",
        "                      #pixels=np.reshape(pixels, (1, 120, 160, 120, 1) )\n",
        "                      #images.append(pixels)\n",
        "                      #labels.append(pixels)\n",
        "            except:\n",
        "                  im_num += 1\n",
        "                  pass\n",
        "    batch_num += 1\n",
        "    yield  (np.reshape(pixels[1:pixels.shape[0],:,:,:],(pixels.shape[0]-1,120,160,120,1)),\\\n",
        "            np.reshape(pixels[1:pixels.shape[0],:,:,:], (pixels.shape[0]-1,120,160,120,1)))"
      ],
      "execution_count": 0,
      "outputs": []
    },
    {
      "cell_type": "code",
      "metadata": {
        "id": "1B4Gv7NoSk8m",
        "colab_type": "code",
        "colab": {}
      },
      "source": [
        "train_gen = gen_tr()\n",
        "test_gen = gen_test()"
      ],
      "execution_count": 0,
      "outputs": []
    },
    {
      "cell_type": "markdown",
      "metadata": {
        "id": "ntuCGkPPUGZi",
        "colab_type": "text"
      },
      "source": [
        "#### Subject IDs"
      ]
    },
    {
      "cell_type": "code",
      "metadata": {
        "id": "fcxNfjWzUGZj",
        "colab_type": "code",
        "outputId": "8eccc596-810d-415a-936c-8e59cd864374",
        "colab": {
          "base_uri": "https://localhost:8080/",
          "height": 204
        }
      },
      "source": [
        "im_name_list =[]\n",
        "\n",
        "for x1 in images:\n",
        "    im_name_list.append(x1)\n",
        "im_name_list"
      ],
      "execution_count": 0,
      "outputs": [
        {
          "output_type": "execute_result",
          "data": {
            "text/plain": [
              "['OAS30001',\n",
              " 'OAS30002',\n",
              " 'OAS30004',\n",
              " 'OAS30005',\n",
              " 'OAS30006',\n",
              " 'OAS30007',\n",
              " 'OAS30008',\n",
              " 'OAS30019',\n",
              " 'OAS30022',\n",
              " 'OAS30024',\n",
              " 'OAS30027']"
            ]
          },
          "metadata": {
            "tags": []
          },
          "execution_count": 4
        }
      ]
    },
    {
      "cell_type": "markdown",
      "metadata": {
        "id": "7U3-dxk-UGZl",
        "colab_type": "text"
      },
      "source": [
        "#### Making training and test sets"
      ]
    },
    {
      "cell_type": "code",
      "metadata": {
        "id": "7kE0NS3tUGZm",
        "colab_type": "code",
        "outputId": "73353cb0-3191-4146-e3eb-7398d0c4c9b2",
        "colab": {
          "base_uri": "https://localhost:8080/",
          "height": 34
        }
      },
      "source": [
        "pixels=np.zeros((1, 120, 160, 120))\n",
        "for name in im_name_list:\n",
        "    pixels= np.append(pixels ,np.reshape(images[name]['image'], (1, 120, 160, 120) ), axis=0)\n",
        "\n",
        "input_ims= pixels[1:12,:,:,:] \n",
        "input_ims.shape"
      ],
      "execution_count": 0,
      "outputs": [
        {
          "output_type": "execute_result",
          "data": {
            "text/plain": [
              "(11, 120, 160, 120)"
            ]
          },
          "metadata": {
            "tags": []
          },
          "execution_count": 5
        }
      ]
    },
    {
      "cell_type": "markdown",
      "metadata": {
        "id": "vRtqcSfxoDiH",
        "colab_type": "text"
      },
      "source": [
        "do"
      ]
    },
    {
      "cell_type": "code",
      "metadata": {
        "id": "d2rMKeiKUGZo",
        "colab_type": "code",
        "outputId": "7d898a69-3191-4f8a-8f26-8b5ba382673f",
        "colab": {
          "base_uri": "https://localhost:8080/",
          "height": 34
        }
      },
      "source": [
        "x_train = input_ims[0:9,:,:,:]\n",
        "x_train.shape"
      ],
      "execution_count": 0,
      "outputs": [
        {
          "output_type": "execute_result",
          "data": {
            "text/plain": [
              "(9, 120, 160, 120)"
            ]
          },
          "metadata": {
            "tags": []
          },
          "execution_count": 6
        }
      ]
    },
    {
      "cell_type": "code",
      "metadata": {
        "id": "wRiDq0aEUGZr",
        "colab_type": "code",
        "outputId": "8f7c8580-53cd-448c-f6c7-c2a5c3926e7a",
        "colab": {
          "base_uri": "https://localhost:8080/",
          "height": 34
        }
      },
      "source": [
        "x_test=input_ims[9:12,:,:,:]\n",
        "x_test.shape"
      ],
      "execution_count": 0,
      "outputs": [
        {
          "output_type": "execute_result",
          "data": {
            "text/plain": [
              "(2, 120, 160, 120)"
            ]
          },
          "metadata": {
            "tags": []
          },
          "execution_count": 7
        }
      ]
    },
    {
      "cell_type": "code",
      "metadata": {
        "id": "p2dqArmV00R_",
        "colab_type": "code",
        "colab": {}
      },
      "source": [
        "x_test= np.reshape(x_test, (2, 120, 160, 120, 1) )"
      ],
      "execution_count": 0,
      "outputs": []
    },
    {
      "cell_type": "code",
      "metadata": {
        "id": "UBpkRIRDyCZz",
        "colab_type": "code",
        "colab": {}
      },
      "source": [
        "x_train = np.reshape(x_train, (9, 120, 160, 120, 1) )"
      ],
      "execution_count": 0,
      "outputs": []
    },
    {
      "cell_type": "markdown",
      "metadata": {
        "id": "67Ko9vksUGZu",
        "colab_type": "text"
      },
      "source": [
        "#### Don't Making target values"
      ]
    },
    {
      "cell_type": "code",
      "metadata": {
        "id": "f-EM0OscUGZ3",
        "colab_type": "code",
        "outputId": "74a9d1db-bbf8-4392-d858-51d980e88faa",
        "colab": {
          "base_uri": "https://localhost:8080/",
          "height": 34
        }
      },
      "source": [
        "len(input_ims)"
      ],
      "execution_count": 0,
      "outputs": [
        {
          "output_type": "execute_result",
          "data": {
            "text/plain": [
              "11"
            ]
          },
          "metadata": {
            "tags": []
          },
          "execution_count": 12
        }
      ]
    },
    {
      "cell_type": "code",
      "metadata": {
        "id": "Kg183FUvUGZ6",
        "colab_type": "code",
        "outputId": "f896d862-a945-4cbf-b37f-8ca0293141ed",
        "colab": {
          "base_uri": "https://localhost:8080/",
          "height": 34
        }
      },
      "source": [
        "#looking into first image\n",
        "first_im=images['OAS30001']\n",
        "first = first_im['image']\n",
        "first.shape"
      ],
      "execution_count": 0,
      "outputs": [
        {
          "output_type": "execute_result",
          "data": {
            "text/plain": [
              "(120, 160, 120)"
            ]
          },
          "metadata": {
            "tags": []
          },
          "execution_count": 50
        }
      ]
    },
    {
      "cell_type": "code",
      "metadata": {
        "id": "nCGQTwSoUGZ8",
        "colab_type": "code",
        "colab": {}
      },
      "source": [
        "first_modified= np.reshape(first, (120, 160, 120 , 1))"
      ],
      "execution_count": 0,
      "outputs": []
    },
    {
      "cell_type": "markdown",
      "metadata": {
        "id": "HkHCiPyJb3n-",
        "colab_type": "text"
      },
      "source": [
        "###To categorical"
      ]
    },
    {
      "cell_type": "code",
      "metadata": {
        "id": "0PuZnrHFb6fE",
        "colab_type": "code",
        "outputId": "a1cb9622-7547-4cce-838a-e1936d2ac47b",
        "colab": {
          "base_uri": "https://localhost:8080/",
          "height": 204
        }
      },
      "source": [
        "from keras.utils.np_utils import to_categorical\n",
        "y_train= [images[key]['group'] for key in images.keys()]\n",
        "y_train = pd.Series(y_train, dtype=\"category\")\n",
        "y_train = to_categorical(y_train.cat.codes)\n",
        "y_train"
      ],
      "execution_count": 0,
      "outputs": [
        {
          "output_type": "execute_result",
          "data": {
            "text/plain": [
              "array([[0., 1.],\n",
              "       [0., 1.],\n",
              "       [0., 1.],\n",
              "       [0., 1.],\n",
              "       [0., 1.],\n",
              "       [0., 1.],\n",
              "       [0., 1.],\n",
              "       [1., 0.],\n",
              "       [1., 0.],\n",
              "       [1., 0.],\n",
              "       [1., 0.]], dtype=float32)"
            ]
          },
          "metadata": {
            "tags": []
          },
          "execution_count": 13
        }
      ]
    },
    {
      "cell_type": "code",
      "metadata": {
        "id": "2lQn-Q1ag2eb",
        "colab_type": "code",
        "outputId": "b0c755fa-730c-4b9e-ebc8-1cd79c8d90dd",
        "colab": {
          "base_uri": "https://localhost:8080/",
          "height": 51
        }
      },
      "source": [
        "y_test = y_train[:2]\n",
        "y_test"
      ],
      "execution_count": 0,
      "outputs": [
        {
          "output_type": "execute_result",
          "data": {
            "text/plain": [
              "array([[0., 1.],\n",
              "       [0., 1.]], dtype=float32)"
            ]
          },
          "metadata": {
            "tags": []
          },
          "execution_count": 14
        }
      ]
    },
    {
      "cell_type": "code",
      "metadata": {
        "id": "1Wu7vn0IhAYW",
        "colab_type": "code",
        "outputId": "284ed820-9cb3-4f52-a18d-af0efc0c3c5e",
        "colab": {
          "base_uri": "https://localhost:8080/",
          "height": 170
        }
      },
      "source": [
        "y_train = y_train[-9:]\n",
        "y_train"
      ],
      "execution_count": 0,
      "outputs": [
        {
          "output_type": "execute_result",
          "data": {
            "text/plain": [
              "array([[0., 1.],\n",
              "       [0., 1.],\n",
              "       [0., 1.],\n",
              "       [0., 1.],\n",
              "       [0., 1.],\n",
              "       [1., 0.],\n",
              "       [1., 0.],\n",
              "       [1., 0.],\n",
              "       [1., 0.]], dtype=float32)"
            ]
          },
          "metadata": {
            "tags": []
          },
          "execution_count": 15
        }
      ]
    },
    {
      "cell_type": "markdown",
      "metadata": {
        "id": "C8kJ3DGfpK3T",
        "colab_type": "text"
      },
      "source": [
        "#### Building Encoder"
      ]
    },
    {
      "cell_type": "code",
      "metadata": {
        "id": "hNAqMSGOnNBd",
        "colab_type": "code",
        "outputId": "aef994e9-a2ec-4399-f9c4-5dcbfbc81c52",
        "colab": {
          "base_uri": "https://localhost:8080/",
          "height": 493
        }
      },
      "source": [
        "import tensorflow as tf\n",
        "from tensorflow import keras\n",
        "from tensorflow.keras import backend as K\n",
        "from tensorflow.keras.callbacks import TensorBoard\n",
        "import matplotlib.pyplot as plt\n",
        "from keras.models import Sequential, Model\n",
        "from keras.layers import Dense, Conv3D, MaxPool3D, Dropout, Flatten, Conv3DTranspose, UpSampling3D, Reshape\n",
        "from keras.layers import Input\n",
        "\n",
        "\n",
        "input_img = Input(shape= (120, 160, 120 , 1))\n",
        "x = Conv3D(10, (3,3,3), activation='relu', padding='same')(input_img)\n",
        "x = MaxPool3D((2,2,2))(x)\n",
        "x= Dropout(0.8)(x)\n",
        "\n",
        "x = Conv3D(10, (3,3,3), activation='relu', padding='same')(x)\n",
        "x = MaxPool3D((2,2,2))(x)\n",
        "x= Dropout(0.8)(x)\n",
        "\n",
        "x = Conv3D(10, (3,3,3), activation='relu', padding='same')(x)\n",
        "x = MaxPool3D((2,2,2))(x)\n",
        "encoded= Dropout(0.8)(x)\n",
        "\n",
        "encoded_shape = K.int_shape(x)\n",
        "\n",
        "#x = Flatten()(x)\n",
        "\n",
        "#x = Dense(32, activation='selu')(x)\n",
        "#x= Dense(16, activation='selu')(x)\n",
        "#encoded = Dense(2, activation='selu')(x)\n",
        "\n",
        "\n",
        "encoder=Model(input_img, encoded, name='encoder')\n",
        "encoder.summary()"
      ],
      "execution_count": 7,
      "outputs": [
        {
          "output_type": "stream",
          "text": [
            "Model: \"encoder\"\n",
            "_________________________________________________________________\n",
            "Layer (type)                 Output Shape              Param #   \n",
            "=================================================================\n",
            "input_1 (InputLayer)         (None, 120, 160, 120, 1)  0         \n",
            "_________________________________________________________________\n",
            "conv3d_1 (Conv3D)            (None, 120, 160, 120, 10) 280       \n",
            "_________________________________________________________________\n",
            "max_pooling3d_1 (MaxPooling3 (None, 60, 80, 60, 10)    0         \n",
            "_________________________________________________________________\n",
            "dropout_1 (Dropout)          (None, 60, 80, 60, 10)    0         \n",
            "_________________________________________________________________\n",
            "conv3d_2 (Conv3D)            (None, 60, 80, 60, 10)    2710      \n",
            "_________________________________________________________________\n",
            "max_pooling3d_2 (MaxPooling3 (None, 30, 40, 30, 10)    0         \n",
            "_________________________________________________________________\n",
            "dropout_2 (Dropout)          (None, 30, 40, 30, 10)    0         \n",
            "_________________________________________________________________\n",
            "conv3d_3 (Conv3D)            (None, 30, 40, 30, 10)    2710      \n",
            "_________________________________________________________________\n",
            "max_pooling3d_3 (MaxPooling3 (None, 15, 20, 15, 10)    0         \n",
            "_________________________________________________________________\n",
            "dropout_3 (Dropout)          (None, 15, 20, 15, 10)    0         \n",
            "=================================================================\n",
            "Total params: 5,700\n",
            "Trainable params: 5,700\n",
            "Non-trainable params: 0\n",
            "_________________________________________________________________\n"
          ],
          "name": "stdout"
        }
      ]
    },
    {
      "cell_type": "code",
      "metadata": {
        "id": "Are9_j90iUhh",
        "colab_type": "code",
        "outputId": "5d7fb3b4-ffa7-4a1e-de0c-ffe9d3c5c5a7",
        "colab": {
          "base_uri": "https://localhost:8080/",
          "height": 34
        }
      },
      "source": [
        "encoded_shape"
      ],
      "execution_count": 8,
      "outputs": [
        {
          "output_type": "execute_result",
          "data": {
            "text/plain": [
              "(None, 15, 20, 15, 10)"
            ]
          },
          "metadata": {
            "tags": []
          },
          "execution_count": 8
        }
      ]
    },
    {
      "cell_type": "markdown",
      "metadata": {
        "id": "IifbTxu4r7oW",
        "colab_type": "text"
      },
      "source": [
        "#### Building decoder"
      ]
    },
    {
      "cell_type": "code",
      "metadata": {
        "id": "QpOjuZZGsFUc",
        "colab_type": "code",
        "outputId": "abadd3a8-b83a-4f8c-e3c9-aefae6a4a02d",
        "colab": {
          "base_uri": "https://localhost:8080/",
          "height": 527
        }
      },
      "source": [
        "encoded_input= Input(shape=(encoded_shape[1], encoded_shape[2], encoded_shape[3], encoded_shape[4]))\n",
        "#x = Dense(16, activation='selu')(encoded_input)\n",
        "#x= Dense(32, activation='selu')(x)\n",
        "#x= Dense(np.prod(encoded_shape[1:]))(x)\n",
        "#x= Reshape((encoded_shape[1], encoded_shape[2], encoded_shape[3], encoded_shape[4]))(x)\n",
        "\n",
        "x = Conv3DTranspose(10, (3,3,3), activation='relu', padding='same')(encoded_input)\n",
        "x = UpSampling3D((2,2,2))(x)\n",
        "x= Dropout(0.8)(x)\n",
        "\n",
        "x = Conv3DTranspose(10, (3,3,3), activation='relu', padding='same')(x)\n",
        "x = UpSampling3D((2,2,2))(x)\n",
        "x= Dropout(0.8)(x)\n",
        "\n",
        "x = Conv3DTranspose(10, (3,3,3), activation='relu', padding='same')(x)\n",
        "x = UpSampling3D((2,2,2))(x)\n",
        "x= Dropout(0.8)(x)\n",
        "\n",
        "x = Conv3DTranspose(1, (3,3,3), activation='sigmoid', padding='same')(x)\n",
        "\n",
        "decoder = Model(encoded_input, x, name='decoder')\n",
        "decoder.summary()"
      ],
      "execution_count": 9,
      "outputs": [
        {
          "output_type": "stream",
          "text": [
            "Model: \"decoder\"\n",
            "_________________________________________________________________\n",
            "Layer (type)                 Output Shape              Param #   \n",
            "=================================================================\n",
            "input_2 (InputLayer)         (None, 15, 20, 15, 10)    0         \n",
            "_________________________________________________________________\n",
            "conv3d_transpose_1 (Conv3DTr (None, 15, 20, 15, 10)    2710      \n",
            "_________________________________________________________________\n",
            "up_sampling3d_1 (UpSampling3 (None, 30, 40, 30, 10)    0         \n",
            "_________________________________________________________________\n",
            "dropout_4 (Dropout)          (None, 30, 40, 30, 10)    0         \n",
            "_________________________________________________________________\n",
            "conv3d_transpose_2 (Conv3DTr (None, 30, 40, 30, 10)    2710      \n",
            "_________________________________________________________________\n",
            "up_sampling3d_2 (UpSampling3 (None, 60, 80, 60, 10)    0         \n",
            "_________________________________________________________________\n",
            "dropout_5 (Dropout)          (None, 60, 80, 60, 10)    0         \n",
            "_________________________________________________________________\n",
            "conv3d_transpose_3 (Conv3DTr (None, 60, 80, 60, 10)    2710      \n",
            "_________________________________________________________________\n",
            "up_sampling3d_3 (UpSampling3 (None, 120, 160, 120, 10) 0         \n",
            "_________________________________________________________________\n",
            "dropout_6 (Dropout)          (None, 120, 160, 120, 10) 0         \n",
            "_________________________________________________________________\n",
            "conv3d_transpose_4 (Conv3DTr (None, 120, 160, 120, 1)  271       \n",
            "=================================================================\n",
            "Total params: 8,401\n",
            "Trainable params: 8,401\n",
            "Non-trainable params: 0\n",
            "_________________________________________________________________\n"
          ],
          "name": "stdout"
        }
      ]
    },
    {
      "cell_type": "markdown",
      "metadata": {
        "id": "MTCOKfGfwTtB",
        "colab_type": "text"
      },
      "source": [
        "#### Building Autoencoder"
      ]
    },
    {
      "cell_type": "code",
      "metadata": {
        "id": "pQiTACIywYZS",
        "colab_type": "code",
        "outputId": "624491eb-5eaf-4743-85a3-289514cbfb39",
        "colab": {
          "base_uri": "https://localhost:8080/",
          "height": 255
        }
      },
      "source": [
        "autoencoder= Model(input_img, decoder(encoder(input_img)), name='autoencoder')\n",
        "autoencoder.summary()"
      ],
      "execution_count": 10,
      "outputs": [
        {
          "output_type": "stream",
          "text": [
            "Model: \"autoencoder\"\n",
            "_________________________________________________________________\n",
            "Layer (type)                 Output Shape              Param #   \n",
            "=================================================================\n",
            "input_1 (InputLayer)         (None, 120, 160, 120, 1)  0         \n",
            "_________________________________________________________________\n",
            "encoder (Model)              (None, 15, 20, 15, 10)    5700      \n",
            "_________________________________________________________________\n",
            "decoder (Model)              (None, 120, 160, 120, 1)  8401      \n",
            "=================================================================\n",
            "Total params: 14,101\n",
            "Trainable params: 14,101\n",
            "Non-trainable params: 0\n",
            "_________________________________________________________________\n"
          ],
          "name": "stdout"
        }
      ]
    },
    {
      "cell_type": "code",
      "metadata": {
        "id": "vUEuNz2fSHoc",
        "colab_type": "code",
        "colab": {}
      },
      "source": [
        "autoencoder.compile(optimizer='adam', loss='mean_squared_error')"
      ],
      "execution_count": 0,
      "outputs": []
    },
    {
      "cell_type": "code",
      "metadata": {
        "id": "Y9LBu3N3TLsA",
        "colab_type": "code",
        "colab": {
          "base_uri": "https://localhost:8080/",
          "height": 341
        },
        "outputId": "08a33489-2383-46ad-bd0c-f598891eb8a1"
      },
      "source": [
        "hist_gen= autoencoder.fit_generator(generator=train_gen, steps_per_epoch = 490, epochs=1, verbose=1 )\n"
      ],
      "execution_count": 16,
      "outputs": [
        {
          "output_type": "stream",
          "text": [
            "Epoch 1/1\n",
            " 13/490 [..............................] - ETA: 1:23 - loss: 0.0156"
          ],
          "name": "stdout"
        },
        {
          "output_type": "error",
          "ename": "KeyboardInterrupt",
          "evalue": "ignored",
          "traceback": [
            "\u001b[0;31m---------------------------------------------------------------------------\u001b[0m",
            "\u001b[0;31mKeyboardInterrupt\u001b[0m                         Traceback (most recent call last)",
            "\u001b[0;32m<ipython-input-16-6a81030d40e9>\u001b[0m in \u001b[0;36m<module>\u001b[0;34m()\u001b[0m\n\u001b[0;32m----> 1\u001b[0;31m \u001b[0mhist_gen\u001b[0m\u001b[0;34m=\u001b[0m \u001b[0mautoencoder\u001b[0m\u001b[0;34m.\u001b[0m\u001b[0mfit_generator\u001b[0m\u001b[0;34m(\u001b[0m\u001b[0mgenerator\u001b[0m\u001b[0;34m=\u001b[0m\u001b[0mtrain_gen\u001b[0m\u001b[0;34m,\u001b[0m \u001b[0msteps_per_epoch\u001b[0m \u001b[0;34m=\u001b[0m \u001b[0;36m490\u001b[0m\u001b[0;34m,\u001b[0m \u001b[0mepochs\u001b[0m\u001b[0;34m=\u001b[0m\u001b[0;36m1\u001b[0m\u001b[0;34m,\u001b[0m \u001b[0mverbose\u001b[0m\u001b[0;34m=\u001b[0m\u001b[0;36m1\u001b[0m \u001b[0;34m)\u001b[0m\u001b[0;34m\u001b[0m\u001b[0;34m\u001b[0m\u001b[0m\n\u001b[0m",
            "\u001b[0;32m/usr/local/lib/python3.6/dist-packages/keras/legacy/interfaces.py\u001b[0m in \u001b[0;36mwrapper\u001b[0;34m(*args, **kwargs)\u001b[0m\n\u001b[1;32m     89\u001b[0m                 warnings.warn('Update your `' + object_name + '` call to the ' +\n\u001b[1;32m     90\u001b[0m                               'Keras 2 API: ' + signature, stacklevel=2)\n\u001b[0;32m---> 91\u001b[0;31m             \u001b[0;32mreturn\u001b[0m \u001b[0mfunc\u001b[0m\u001b[0;34m(\u001b[0m\u001b[0;34m*\u001b[0m\u001b[0margs\u001b[0m\u001b[0;34m,\u001b[0m \u001b[0;34m**\u001b[0m\u001b[0mkwargs\u001b[0m\u001b[0;34m)\u001b[0m\u001b[0;34m\u001b[0m\u001b[0;34m\u001b[0m\u001b[0m\n\u001b[0m\u001b[1;32m     92\u001b[0m         \u001b[0mwrapper\u001b[0m\u001b[0;34m.\u001b[0m\u001b[0m_original_function\u001b[0m \u001b[0;34m=\u001b[0m \u001b[0mfunc\u001b[0m\u001b[0;34m\u001b[0m\u001b[0;34m\u001b[0m\u001b[0m\n\u001b[1;32m     93\u001b[0m         \u001b[0;32mreturn\u001b[0m \u001b[0mwrapper\u001b[0m\u001b[0;34m\u001b[0m\u001b[0;34m\u001b[0m\u001b[0m\n",
            "\u001b[0;32m/usr/local/lib/python3.6/dist-packages/keras/engine/training.py\u001b[0m in \u001b[0;36mfit_generator\u001b[0;34m(self, generator, steps_per_epoch, epochs, verbose, callbacks, validation_data, validation_steps, validation_freq, class_weight, max_queue_size, workers, use_multiprocessing, shuffle, initial_epoch)\u001b[0m\n\u001b[1;32m   1730\u001b[0m             \u001b[0muse_multiprocessing\u001b[0m\u001b[0;34m=\u001b[0m\u001b[0muse_multiprocessing\u001b[0m\u001b[0;34m,\u001b[0m\u001b[0;34m\u001b[0m\u001b[0;34m\u001b[0m\u001b[0m\n\u001b[1;32m   1731\u001b[0m             \u001b[0mshuffle\u001b[0m\u001b[0;34m=\u001b[0m\u001b[0mshuffle\u001b[0m\u001b[0;34m,\u001b[0m\u001b[0;34m\u001b[0m\u001b[0;34m\u001b[0m\u001b[0m\n\u001b[0;32m-> 1732\u001b[0;31m             initial_epoch=initial_epoch)\n\u001b[0m\u001b[1;32m   1733\u001b[0m \u001b[0;34m\u001b[0m\u001b[0m\n\u001b[1;32m   1734\u001b[0m     \u001b[0;34m@\u001b[0m\u001b[0minterfaces\u001b[0m\u001b[0;34m.\u001b[0m\u001b[0mlegacy_generator_methods_support\u001b[0m\u001b[0;34m\u001b[0m\u001b[0;34m\u001b[0m\u001b[0m\n",
            "\u001b[0;32m/usr/local/lib/python3.6/dist-packages/keras/engine/training_generator.py\u001b[0m in \u001b[0;36mfit_generator\u001b[0;34m(model, generator, steps_per_epoch, epochs, verbose, callbacks, validation_data, validation_steps, validation_freq, class_weight, max_queue_size, workers, use_multiprocessing, shuffle, initial_epoch)\u001b[0m\n\u001b[1;32m    218\u001b[0m                                             \u001b[0msample_weight\u001b[0m\u001b[0;34m=\u001b[0m\u001b[0msample_weight\u001b[0m\u001b[0;34m,\u001b[0m\u001b[0;34m\u001b[0m\u001b[0;34m\u001b[0m\u001b[0m\n\u001b[1;32m    219\u001b[0m                                             \u001b[0mclass_weight\u001b[0m\u001b[0;34m=\u001b[0m\u001b[0mclass_weight\u001b[0m\u001b[0;34m,\u001b[0m\u001b[0;34m\u001b[0m\u001b[0;34m\u001b[0m\u001b[0m\n\u001b[0;32m--> 220\u001b[0;31m                                             reset_metrics=False)\n\u001b[0m\u001b[1;32m    221\u001b[0m \u001b[0;34m\u001b[0m\u001b[0m\n\u001b[1;32m    222\u001b[0m                 \u001b[0mouts\u001b[0m \u001b[0;34m=\u001b[0m \u001b[0mto_list\u001b[0m\u001b[0;34m(\u001b[0m\u001b[0mouts\u001b[0m\u001b[0;34m)\u001b[0m\u001b[0;34m\u001b[0m\u001b[0;34m\u001b[0m\u001b[0m\n",
            "\u001b[0;32m/usr/local/lib/python3.6/dist-packages/keras/engine/training.py\u001b[0m in \u001b[0;36mtrain_on_batch\u001b[0;34m(self, x, y, sample_weight, class_weight, reset_metrics)\u001b[0m\n\u001b[1;32m   1512\u001b[0m             \u001b[0mins\u001b[0m \u001b[0;34m=\u001b[0m \u001b[0mx\u001b[0m \u001b[0;34m+\u001b[0m \u001b[0my\u001b[0m \u001b[0;34m+\u001b[0m \u001b[0msample_weights\u001b[0m\u001b[0;34m\u001b[0m\u001b[0;34m\u001b[0m\u001b[0m\n\u001b[1;32m   1513\u001b[0m         \u001b[0mself\u001b[0m\u001b[0;34m.\u001b[0m\u001b[0m_make_train_function\u001b[0m\u001b[0;34m(\u001b[0m\u001b[0;34m)\u001b[0m\u001b[0;34m\u001b[0m\u001b[0;34m\u001b[0m\u001b[0m\n\u001b[0;32m-> 1514\u001b[0;31m         \u001b[0moutputs\u001b[0m \u001b[0;34m=\u001b[0m \u001b[0mself\u001b[0m\u001b[0;34m.\u001b[0m\u001b[0mtrain_function\u001b[0m\u001b[0;34m(\u001b[0m\u001b[0mins\u001b[0m\u001b[0;34m)\u001b[0m\u001b[0;34m\u001b[0m\u001b[0;34m\u001b[0m\u001b[0m\n\u001b[0m\u001b[1;32m   1515\u001b[0m \u001b[0;34m\u001b[0m\u001b[0m\n\u001b[1;32m   1516\u001b[0m         \u001b[0;32mif\u001b[0m \u001b[0mreset_metrics\u001b[0m\u001b[0;34m:\u001b[0m\u001b[0;34m\u001b[0m\u001b[0;34m\u001b[0m\u001b[0m\n",
            "\u001b[0;32m/usr/local/lib/python3.6/dist-packages/tensorflow/python/keras/backend.py\u001b[0m in \u001b[0;36m__call__\u001b[0;34m(self, inputs)\u001b[0m\n\u001b[1;32m   3798\u001b[0m     return nest.pack_sequence_as(\n\u001b[1;32m   3799\u001b[0m         \u001b[0mself\u001b[0m\u001b[0;34m.\u001b[0m\u001b[0m_outputs_structure\u001b[0m\u001b[0;34m,\u001b[0m\u001b[0;34m\u001b[0m\u001b[0;34m\u001b[0m\u001b[0m\n\u001b[0;32m-> 3800\u001b[0;31m         \u001b[0;34m[\u001b[0m\u001b[0mx\u001b[0m\u001b[0;34m.\u001b[0m\u001b[0m_numpy\u001b[0m\u001b[0;34m(\u001b[0m\u001b[0;34m)\u001b[0m \u001b[0;32mfor\u001b[0m \u001b[0mx\u001b[0m \u001b[0;32min\u001b[0m \u001b[0moutputs\u001b[0m\u001b[0;34m]\u001b[0m\u001b[0;34m,\u001b[0m  \u001b[0;31m# pylint: disable=protected-access\u001b[0m\u001b[0;34m\u001b[0m\u001b[0;34m\u001b[0m\u001b[0m\n\u001b[0m\u001b[1;32m   3801\u001b[0m         expand_composites=True)\n\u001b[1;32m   3802\u001b[0m \u001b[0;34m\u001b[0m\u001b[0m\n",
            "\u001b[0;32m/usr/local/lib/python3.6/dist-packages/tensorflow/python/keras/backend.py\u001b[0m in \u001b[0;36m<listcomp>\u001b[0;34m(.0)\u001b[0m\n\u001b[1;32m   3798\u001b[0m     return nest.pack_sequence_as(\n\u001b[1;32m   3799\u001b[0m         \u001b[0mself\u001b[0m\u001b[0;34m.\u001b[0m\u001b[0m_outputs_structure\u001b[0m\u001b[0;34m,\u001b[0m\u001b[0;34m\u001b[0m\u001b[0;34m\u001b[0m\u001b[0m\n\u001b[0;32m-> 3800\u001b[0;31m         \u001b[0;34m[\u001b[0m\u001b[0mx\u001b[0m\u001b[0;34m.\u001b[0m\u001b[0m_numpy\u001b[0m\u001b[0;34m(\u001b[0m\u001b[0;34m)\u001b[0m \u001b[0;32mfor\u001b[0m \u001b[0mx\u001b[0m \u001b[0;32min\u001b[0m \u001b[0moutputs\u001b[0m\u001b[0;34m]\u001b[0m\u001b[0;34m,\u001b[0m  \u001b[0;31m# pylint: disable=protected-access\u001b[0m\u001b[0;34m\u001b[0m\u001b[0;34m\u001b[0m\u001b[0m\n\u001b[0m\u001b[1;32m   3801\u001b[0m         expand_composites=True)\n\u001b[1;32m   3802\u001b[0m \u001b[0;34m\u001b[0m\u001b[0m\n",
            "\u001b[0;32m/usr/local/lib/python3.6/dist-packages/tensorflow/python/framework/ops.py\u001b[0m in \u001b[0;36m_numpy\u001b[0;34m(self)\u001b[0m\n\u001b[1;32m    925\u001b[0m     \u001b[0;31m# pylint: disable=protected-access\u001b[0m\u001b[0;34m\u001b[0m\u001b[0;34m\u001b[0m\u001b[0;34m\u001b[0m\u001b[0m\n\u001b[1;32m    926\u001b[0m     \u001b[0;32mtry\u001b[0m\u001b[0;34m:\u001b[0m\u001b[0;34m\u001b[0m\u001b[0;34m\u001b[0m\u001b[0m\n\u001b[0;32m--> 927\u001b[0;31m       \u001b[0;32mreturn\u001b[0m \u001b[0mself\u001b[0m\u001b[0;34m.\u001b[0m\u001b[0m_numpy_internal\u001b[0m\u001b[0;34m(\u001b[0m\u001b[0;34m)\u001b[0m\u001b[0;34m\u001b[0m\u001b[0;34m\u001b[0m\u001b[0m\n\u001b[0m\u001b[1;32m    928\u001b[0m     \u001b[0;32mexcept\u001b[0m \u001b[0mcore\u001b[0m\u001b[0;34m.\u001b[0m\u001b[0m_NotOkStatusException\u001b[0m \u001b[0;32mas\u001b[0m \u001b[0me\u001b[0m\u001b[0;34m:\u001b[0m\u001b[0;34m\u001b[0m\u001b[0;34m\u001b[0m\u001b[0m\n\u001b[1;32m    929\u001b[0m       \u001b[0msix\u001b[0m\u001b[0;34m.\u001b[0m\u001b[0mraise_from\u001b[0m\u001b[0;34m(\u001b[0m\u001b[0mcore\u001b[0m\u001b[0;34m.\u001b[0m\u001b[0m_status_to_exception\u001b[0m\u001b[0;34m(\u001b[0m\u001b[0me\u001b[0m\u001b[0;34m.\u001b[0m\u001b[0mcode\u001b[0m\u001b[0;34m,\u001b[0m \u001b[0me\u001b[0m\u001b[0;34m.\u001b[0m\u001b[0mmessage\u001b[0m\u001b[0;34m)\u001b[0m\u001b[0;34m,\u001b[0m \u001b[0;32mNone\u001b[0m\u001b[0;34m)\u001b[0m\u001b[0;34m\u001b[0m\u001b[0;34m\u001b[0m\u001b[0m\n",
            "\u001b[0;31mKeyboardInterrupt\u001b[0m: "
          ]
        }
      ]
    },
    {
      "cell_type": "code",
      "metadata": {
        "id": "Sqt9aBPJe72Q",
        "colab_type": "code",
        "colab": {
          "base_uri": "https://localhost:8080/",
          "height": 51
        },
        "outputId": "2b40f167-6b09-4bd0-943e-9a2361e0e214"
      },
      "source": [
        "hist_gen_val= autoencoder.fit_generator(generator=train_gen, steps_per_epoch = 420, epochs=1, verbose=1 , validation_data=test_gen, validation_steps=70)"
      ],
      "execution_count": 21,
      "outputs": [
        {
          "output_type": "stream",
          "text": [
            "Epoch 1/1\n",
            "420/420 [==============================] - 100s 239ms/step - loss: 0.0118 - val_loss: 0.0436\n"
          ],
          "name": "stdout"
        }
      ]
    },
    {
      "cell_type": "code",
      "metadata": {
        "id": "PfUVmpG_fdnt",
        "colab_type": "code",
        "colab": {
          "base_uri": "https://localhost:8080/",
          "height": 34
        },
        "outputId": "a00994f4-bd6c-4f16-f0f1-933743ce09ed"
      },
      "source": [
        "980/ 70"
      ],
      "execution_count": 12,
      "outputs": [
        {
          "output_type": "execute_result",
          "data": {
            "text/plain": [
              "14.0"
            ]
          },
          "metadata": {
            "tags": []
          },
          "execution_count": 12
        }
      ]
    },
    {
      "cell_type": "code",
      "metadata": {
        "id": "3tnWtKWxfjAt",
        "colab_type": "code",
        "colab": {}
      },
      "source": [
        "# 2 ta 70 ta = test, 12 ta 70 ta train,# 140 ta test, 840 ta train, # 70 ta batch test, 420 ta batch train"
      ],
      "execution_count": 0,
      "outputs": []
    },
    {
      "cell_type": "code",
      "metadata": {
        "id": "efZbX_MSTwtw",
        "colab_type": "code",
        "colab": {}
      },
      "source": [
        "model.fit_generator(generator=train_generator,\n",
        "                    steps_per_epoch=STEP_SIZE_TRAIN,\n",
        "                    validation_data=valid_generator,\n",
        "                    validation_steps=STEP_SIZE_VALID,\n",
        "                    epochs=10)"
      ],
      "execution_count": 0,
      "outputs": []
    },
    {
      "cell_type": "code",
      "metadata": {
        "id": "czyHPguCxP_c",
        "colab_type": "code",
        "outputId": "4252beac-37f3-4d5d-9606-d1fd0536da80",
        "colab": {
          "base_uri": "https://localhost:8080/",
          "height": 1000
        }
      },
      "source": [
        "\n",
        "\n",
        "hist= autoencoder.fit(x_train, x_train, batch_size=3, epochs=30, verbose=1, validation_data=(x_test, x_test))\n"
      ],
      "execution_count": 0,
      "outputs": [
        {
          "output_type": "stream",
          "text": [
            "Train on 9 samples, validate on 2 samples\n",
            "Epoch 1/30\n",
            "9/9 [==============================] - 2s 170ms/step - loss: 0.2401 - val_loss: 0.1556\n",
            "Epoch 2/30\n",
            "9/9 [==============================] - 1s 108ms/step - loss: 0.1717 - val_loss: 0.1547\n",
            "Epoch 3/30\n",
            "9/9 [==============================] - 1s 108ms/step - loss: 0.1519 - val_loss: 0.1536\n",
            "Epoch 4/30\n",
            "9/9 [==============================] - 1s 108ms/step - loss: 0.1476 - val_loss: 0.1522\n",
            "Epoch 5/30\n",
            "9/9 [==============================] - 1s 107ms/step - loss: 0.1459 - val_loss: 0.1504\n",
            "Epoch 6/30\n",
            "9/9 [==============================] - 1s 108ms/step - loss: 0.1441 - val_loss: 0.1483\n",
            "Epoch 7/30\n",
            "9/9 [==============================] - 1s 108ms/step - loss: 0.1417 - val_loss: 0.1457\n",
            "Epoch 8/30\n",
            "9/9 [==============================] - 1s 108ms/step - loss: 0.1385 - val_loss: 0.1422\n",
            "Epoch 9/30\n",
            "9/9 [==============================] - 1s 108ms/step - loss: 0.1341 - val_loss: 0.1377\n",
            "Epoch 10/30\n",
            "9/9 [==============================] - 1s 108ms/step - loss: 0.1281 - val_loss: 0.1317\n",
            "Epoch 11/30\n",
            "9/9 [==============================] - 1s 108ms/step - loss: 0.1184 - val_loss: 0.1222\n",
            "Epoch 12/30\n",
            "9/9 [==============================] - 1s 108ms/step - loss: 0.1041 - val_loss: 0.1072\n",
            "Epoch 13/30\n",
            "9/9 [==============================] - 1s 108ms/step - loss: 0.0863 - val_loss: 0.0852\n",
            "Epoch 14/30\n",
            "9/9 [==============================] - 1s 108ms/step - loss: 0.0763 - val_loss: 0.0599\n",
            "Epoch 15/30\n",
            "9/9 [==============================] - 1s 108ms/step - loss: 0.0665 - val_loss: 0.0430\n",
            "Epoch 16/30\n",
            "9/9 [==============================] - 1s 108ms/step - loss: 0.0572 - val_loss: 0.0336\n",
            "Epoch 17/30\n",
            "9/9 [==============================] - 1s 107ms/step - loss: 0.0501 - val_loss: 0.0308\n",
            "Epoch 18/30\n",
            "9/9 [==============================] - 1s 108ms/step - loss: 0.0453 - val_loss: 0.0317\n",
            "Epoch 19/30\n",
            "9/9 [==============================] - 1s 108ms/step - loss: 0.0415 - val_loss: 0.0333\n",
            "Epoch 20/30\n",
            "9/9 [==============================] - 1s 109ms/step - loss: 0.0383 - val_loss: 0.0348\n",
            "Epoch 21/30\n",
            "9/9 [==============================] - 1s 108ms/step - loss: 0.0355 - val_loss: 0.0363\n",
            "Epoch 22/30\n",
            "9/9 [==============================] - 1s 108ms/step - loss: 0.0325 - val_loss: 0.0379\n",
            "Epoch 23/30\n",
            "9/9 [==============================] - 1s 108ms/step - loss: 0.0290 - val_loss: 0.0396\n",
            "Epoch 24/30\n",
            "9/9 [==============================] - 1s 108ms/step - loss: 0.0260 - val_loss: 0.0412\n",
            "Epoch 25/30\n",
            "9/9 [==============================] - 1s 108ms/step - loss: 0.0237 - val_loss: 0.0425\n",
            "Epoch 26/30\n",
            "9/9 [==============================] - 1s 108ms/step - loss: 0.0218 - val_loss: 0.0436\n",
            "Epoch 27/30\n",
            "9/9 [==============================] - 1s 108ms/step - loss: 0.0204 - val_loss: 0.0444\n",
            "Epoch 28/30\n",
            "9/9 [==============================] - 1s 108ms/step - loss: 0.0198 - val_loss: 0.0448\n",
            "Epoch 29/30\n",
            "9/9 [==============================] - 1s 109ms/step - loss: 0.0193 - val_loss: 0.0451\n",
            "Epoch 30/30\n",
            "9/9 [==============================] - 1s 108ms/step - loss: 0.0190 - val_loss: 0.0452\n"
          ],
          "name": "stdout"
        }
      ]
    },
    {
      "cell_type": "code",
      "metadata": {
        "id": "2NvO-dfzjA_Z",
        "colab_type": "code",
        "outputId": "de9d68b7-a0bf-4fa7-937f-5786253068a3",
        "colab": {
          "base_uri": "https://localhost:8080/",
          "height": 302
        }
      },
      "source": [
        "plt.plot(hist.history['val_loss'], 'r', hist.history['loss'], 'b')"
      ],
      "execution_count": 0,
      "outputs": [
        {
          "output_type": "execute_result",
          "data": {
            "text/plain": [
              "[<matplotlib.lines.Line2D at 0x7fa41aa2afd0>,\n",
              " <matplotlib.lines.Line2D at 0x7fa41a9ba160>]"
            ]
          },
          "metadata": {
            "tags": []
          },
          "execution_count": 23
        },
        {
          "output_type": "display_data",
          "data": {
            "image/png": "[encoded data removed]",
            "text/plain": [
              "<Figure size 432x288 with 1 Axes>"
            ]
          },
          "metadata": {
            "tags": [],
            "needs_background": "light"
          }
        }
      ]
    },
    {
      "cell_type": "markdown",
      "metadata": {
        "id": "TlwLSE72cD2u",
        "colab_type": "text"
      },
      "source": [
        "###Building Classifier"
      ]
    },
    {
      "cell_type": "code",
      "metadata": {
        "id": "wRSY3tYhcIxt",
        "colab_type": "code",
        "outputId": "5ee1b94d-9fbf-42c5-f0e3-0e4d5bac6699",
        "colab": {
          "base_uri": "https://localhost:8080/",
          "height": 255
        }
      },
      "source": [
        "autoencoder.summary()"
      ],
      "execution_count": 0,
      "outputs": [
        {
          "output_type": "stream",
          "text": [
            "Model: \"autoencoder\"\n",
            "_________________________________________________________________\n",
            "Layer (type)                 Output Shape              Param #   \n",
            "=================================================================\n",
            "input_1 (InputLayer)         (None, 120, 160, 120, 1)  0         \n",
            "_________________________________________________________________\n",
            "encoder (Model)              (None, 15, 20, 15, 10)    5700      \n",
            "_________________________________________________________________\n",
            "decoder (Model)              (None, 120, 160, 120, 1)  8401      \n",
            "=================================================================\n",
            "Total params: 14,101\n",
            "Trainable params: 14,101\n",
            "Non-trainable params: 0\n",
            "_________________________________________________________________\n"
          ],
          "name": "stdout"
        }
      ]
    },
    {
      "cell_type": "code",
      "metadata": {
        "id": "IM7_GqqLcqPx",
        "colab_type": "code",
        "colab": {}
      },
      "source": [
        "from keras.layers import Softmax"
      ],
      "execution_count": 0,
      "outputs": []
    },
    {
      "cell_type": "code",
      "metadata": {
        "id": "9LJCxSXKjd9Z",
        "colab_type": "code",
        "colab": {}
      },
      "source": [
        "encoder_c = autoencoder.layers[1]"
      ],
      "execution_count": 0,
      "outputs": []
    },
    {
      "cell_type": "code",
      "metadata": {
        "id": "MxFeZy1DjY-z",
        "colab_type": "code",
        "outputId": "576c87da-3f97-4d77-bffd-6ceb210be724",
        "colab": {
          "base_uri": "https://localhost:8080/",
          "height": 493
        }
      },
      "source": [
        "encoder_c.summary()"
      ],
      "execution_count": 0,
      "outputs": [
        {
          "output_type": "stream",
          "text": [
            "Model: \"encoder\"\n",
            "_________________________________________________________________\n",
            "Layer (type)                 Output Shape              Param #   \n",
            "=================================================================\n",
            "input_1 (InputLayer)         (None, 120, 160, 120, 1)  0         \n",
            "_________________________________________________________________\n",
            "conv3d_1 (Conv3D)            (None, 120, 160, 120, 10) 280       \n",
            "_________________________________________________________________\n",
            "max_pooling3d_1 (MaxPooling3 (None, 60, 80, 60, 10)    0         \n",
            "_________________________________________________________________\n",
            "dropout_1 (Dropout)          (None, 60, 80, 60, 10)    0         \n",
            "_________________________________________________________________\n",
            "conv3d_2 (Conv3D)            (None, 60, 80, 60, 10)    2710      \n",
            "_________________________________________________________________\n",
            "max_pooling3d_2 (MaxPooling3 (None, 30, 40, 30, 10)    0         \n",
            "_________________________________________________________________\n",
            "dropout_2 (Dropout)          (None, 30, 40, 30, 10)    0         \n",
            "_________________________________________________________________\n",
            "conv3d_3 (Conv3D)            (None, 30, 40, 30, 10)    2710      \n",
            "_________________________________________________________________\n",
            "max_pooling3d_3 (MaxPooling3 (None, 15, 20, 15, 10)    0         \n",
            "_________________________________________________________________\n",
            "dropout_3 (Dropout)          (None, 15, 20, 15, 10)    0         \n",
            "=================================================================\n",
            "Total params: 5,700\n",
            "Trainable params: 5,700\n",
            "Non-trainable params: 0\n",
            "_________________________________________________________________\n"
          ],
          "name": "stdout"
        }
      ]
    },
    {
      "cell_type": "markdown",
      "metadata": {
        "id": "tRfERhSxnt2v",
        "colab_type": "text"
      },
      "source": [
        "###New Encoder, classifier to be"
      ]
    },
    {
      "cell_type": "code",
      "metadata": {
        "id": "ccbOxTeLiy25",
        "colab_type": "code",
        "outputId": "8903ffa2-cbe1-4043-cde1-2abd639efe35",
        "colab": {
          "base_uri": "https://localhost:8080/",
          "height": 629
        }
      },
      "source": [
        "input_img = Input(shape= (120, 160, 120 , 1))\n",
        "x = Conv3D(10, (3,3,3), activation='relu', padding='same')(input_img)\n",
        "x = MaxPool3D((2,2,2))(x)\n",
        "x= Dropout(0.8)(x)\n",
        "\n",
        "x = Conv3D(10, (3,3,3), activation='relu', padding='same')(x)\n",
        "x = MaxPool3D((2,2,2))(x)\n",
        "x= Dropout(0.8)(x)\n",
        "\n",
        "x = Conv3D(10, (3,3,3), activation='relu', padding='same')(x)\n",
        "x = MaxPool3D((2,2,2))(x)\n",
        "x= Dropout(0.8)(x)\n",
        "\n",
        "encoded_shape = K.int_shape(x)\n",
        "\n",
        "x = Flatten()(x)\n",
        "\n",
        "x = Dense(32, activation='selu')(x)\n",
        "x= Dense(16, activation='selu')(x)\n",
        "new_encoded = Dense(2, activation='softmax')(x)\n",
        "\n",
        "\n",
        "classifier=Model(input_img, new_encoded, name='classifier')\n",
        "classifier.summary()"
      ],
      "execution_count": 0,
      "outputs": [
        {
          "output_type": "stream",
          "text": [
            "Model: \"classifier\"\n",
            "_________________________________________________________________\n",
            "Layer (type)                 Output Shape              Param #   \n",
            "=================================================================\n",
            "input_5 (InputLayer)         (None, 120, 160, 120, 1)  0         \n",
            "_________________________________________________________________\n",
            "conv3d_10 (Conv3D)           (None, 120, 160, 120, 10) 280       \n",
            "_________________________________________________________________\n",
            "max_pooling3d_10 (MaxPooling (None, 60, 80, 60, 10)    0         \n",
            "_________________________________________________________________\n",
            "dropout_13 (Dropout)         (None, 60, 80, 60, 10)    0         \n",
            "_________________________________________________________________\n",
            "conv3d_11 (Conv3D)           (None, 60, 80, 60, 10)    2710      \n",
            "_________________________________________________________________\n",
            "max_pooling3d_11 (MaxPooling (None, 30, 40, 30, 10)    0         \n",
            "_________________________________________________________________\n",
            "dropout_14 (Dropout)         (None, 30, 40, 30, 10)    0         \n",
            "_________________________________________________________________\n",
            "conv3d_12 (Conv3D)           (None, 30, 40, 30, 10)    2710      \n",
            "_________________________________________________________________\n",
            "max_pooling3d_12 (MaxPooling (None, 15, 20, 15, 10)    0         \n",
            "_________________________________________________________________\n",
            "dropout_15 (Dropout)         (None, 15, 20, 15, 10)    0         \n",
            "_________________________________________________________________\n",
            "flatten_3 (Flatten)          (None, 45000)             0         \n",
            "_________________________________________________________________\n",
            "dense_7 (Dense)              (None, 32)                1440032   \n",
            "_________________________________________________________________\n",
            "dense_8 (Dense)              (None, 16)                528       \n",
            "_________________________________________________________________\n",
            "dense_9 (Dense)              (None, 2)                 34        \n",
            "=================================================================\n",
            "Total params: 1,446,294\n",
            "Trainable params: 1,446,294\n",
            "Non-trainable params: 0\n",
            "_________________________________________________________________\n"
          ],
          "name": "stdout"
        }
      ]
    },
    {
      "cell_type": "markdown",
      "metadata": {
        "id": "KRuUnUgflAQy",
        "colab_type": "text"
      },
      "source": [
        "### Fitting data"
      ]
    },
    {
      "cell_type": "code",
      "metadata": {
        "id": "9sti5bIalk2O",
        "colab_type": "code",
        "outputId": "1a7b150a-cb66-475b-fec4-bb3fcf871c31",
        "colab": {
          "base_uri": "https://localhost:8080/",
          "height": 255
        }
      },
      "source": [
        "\n",
        "classifier.layers"
      ],
      "execution_count": 0,
      "outputs": [
        {
          "output_type": "execute_result",
          "data": {
            "text/plain": [
              "[<keras.engine.input_layer.InputLayer at 0x7fa41a325e10>,\n",
              " <keras.layers.convolutional.Conv3D at 0x7fa41a325dd8>,\n",
              " <keras.layers.pooling.MaxPooling3D at 0x7fa41a325e80>,\n",
              " <keras.layers.core.Dropout at 0x7fa41a30c0b8>,\n",
              " <keras.layers.convolutional.Conv3D at 0x7fa41a30c0f0>,\n",
              " <keras.layers.pooling.MaxPooling3D at 0x7fa41a30c6a0>,\n",
              " <keras.layers.core.Dropout at 0x7fa41a30c710>,\n",
              " <keras.layers.convolutional.Conv3D at 0x7fa41a310128>,\n",
              " <keras.layers.pooling.MaxPooling3D at 0x7fa41a30cfd0>,\n",
              " <keras.layers.core.Dropout at 0x7fa41a32a748>,\n",
              " <keras.layers.core.Flatten at 0x7fa41a32a710>,\n",
              " <keras.layers.core.Dense at 0x7fa41a32a4a8>,\n",
              " <keras.layers.core.Dense at 0x7fa41a2b5f28>,\n",
              " <keras.layers.core.Dense at 0x7fa41a2ca9e8>]"
            ]
          },
          "metadata": {
            "tags": []
          },
          "execution_count": 36
        }
      ]
    },
    {
      "cell_type": "code",
      "metadata": {
        "id": "2RbATVKlpqSD",
        "colab_type": "code",
        "colab": {}
      },
      "source": [
        "for layer_num in range(len(encoder_c.get_weights())):\n",
        "  classifier.layers[layer_num].set_weights(encoder_c.layers[layer_num].get_weights())"
      ],
      "execution_count": 0,
      "outputs": []
    },
    {
      "cell_type": "code",
      "metadata": {
        "id": "DNblAdMkrV5g",
        "colab_type": "code",
        "colab": {}
      },
      "source": [
        "#didn't freeze\n",
        "classifier.compile(optimizer='adam', loss='binary_crossentropy')"
      ],
      "execution_count": 0,
      "outputs": []
    },
    {
      "cell_type": "code",
      "metadata": {
        "id": "7YeHsGibrceu",
        "colab_type": "code",
        "outputId": "88e914e6-0a51-4971-c1dd-21cef920e647",
        "colab": {
          "base_uri": "https://localhost:8080/",
          "height": 629
        }
      },
      "source": [
        "classifier.summary()"
      ],
      "execution_count": 0,
      "outputs": [
        {
          "output_type": "stream",
          "text": [
            "Model: \"classifier\"\n",
            "_________________________________________________________________\n",
            "Layer (type)                 Output Shape              Param #   \n",
            "=================================================================\n",
            "input_5 (InputLayer)         (None, 120, 160, 120, 1)  0         \n",
            "_________________________________________________________________\n",
            "conv3d_10 (Conv3D)           (None, 120, 160, 120, 10) 280       \n",
            "_________________________________________________________________\n",
            "max_pooling3d_10 (MaxPooling (None, 60, 80, 60, 10)    0         \n",
            "_________________________________________________________________\n",
            "dropout_13 (Dropout)         (None, 60, 80, 60, 10)    0         \n",
            "_________________________________________________________________\n",
            "conv3d_11 (Conv3D)           (None, 60, 80, 60, 10)    2710      \n",
            "_________________________________________________________________\n",
            "max_pooling3d_11 (MaxPooling (None, 30, 40, 30, 10)    0         \n",
            "_________________________________________________________________\n",
            "dropout_14 (Dropout)         (None, 30, 40, 30, 10)    0         \n",
            "_________________________________________________________________\n",
            "conv3d_12 (Conv3D)           (None, 30, 40, 30, 10)    2710      \n",
            "_________________________________________________________________\n",
            "max_pooling3d_12 (MaxPooling (None, 15, 20, 15, 10)    0         \n",
            "_________________________________________________________________\n",
            "dropout_15 (Dropout)         (None, 15, 20, 15, 10)    0         \n",
            "_________________________________________________________________\n",
            "flatten_3 (Flatten)          (None, 45000)             0         \n",
            "_________________________________________________________________\n",
            "dense_7 (Dense)              (None, 32)                1440032   \n",
            "_________________________________________________________________\n",
            "dense_8 (Dense)              (None, 16)                528       \n",
            "_________________________________________________________________\n",
            "dense_9 (Dense)              (None, 2)                 34        \n",
            "=================================================================\n",
            "Total params: 1,446,294\n",
            "Trainable params: 1,446,294\n",
            "Non-trainable params: 0\n",
            "_________________________________________________________________\n"
          ],
          "name": "stdout"
        }
      ]
    },
    {
      "cell_type": "code",
      "metadata": {
        "id": "j1jhXX-EoRN_",
        "colab_type": "code",
        "outputId": "d066d04a-f503-493b-ce47-631edf255168",
        "colab": {
          "base_uri": "https://localhost:8080/",
          "height": 136
        }
      },
      "source": [
        "classifier_history= classifier.fit(x_train, y_train, batch_size=3, epochs=3, verbose=1, validation_data=(x_test, y_test))"
      ],
      "execution_count": 0,
      "outputs": [
        {
          "output_type": "stream",
          "text": [
            "Train on 9 samples, validate on 2 samples\n",
            "Epoch 1/3\n",
            "9/9 [==============================] - 0s 54ms/step - loss: 0.0024 - val_loss: 0.8251\n",
            "Epoch 2/3\n",
            "9/9 [==============================] - 0s 53ms/step - loss: 0.0042 - val_loss: 0.8269\n",
            "Epoch 3/3\n",
            "9/9 [==============================] - 0s 53ms/step - loss: 0.0243 - val_loss: 0.8248\n"
          ],
          "name": "stdout"
        }
      ]
    },
    {
      "cell_type": "code",
      "metadata": {
        "id": "_MFzq2l2oRUG",
        "colab_type": "code",
        "outputId": "365fc63e-a01d-48e9-933d-3709d1a4ec5e",
        "colab": {
          "base_uri": "https://localhost:8080/",
          "height": 51
        }
      },
      "source": [
        "classifier.predict(x_test)"
      ],
      "execution_count": 0,
      "outputs": [
        {
          "output_type": "execute_result",
          "data": {
            "text/plain": [
              "array([[0.5629819 , 0.43701807],\n",
              "       [0.56037897, 0.43962103]], dtype=float32)"
            ]
          },
          "metadata": {
            "tags": []
          },
          "execution_count": 48
        }
      ]
    },
    {
      "cell_type": "code",
      "metadata": {
        "id": "gXXLi9OooRW7",
        "colab_type": "code",
        "outputId": "55d5e8e5-ba65-4801-8539-d17b8f078b4e",
        "colab": {
          "base_uri": "https://localhost:8080/",
          "height": 51
        }
      },
      "source": [
        "classifier.evaluate(x_test, y_test, verbose=1)"
      ],
      "execution_count": 0,
      "outputs": [
        {
          "output_type": "stream",
          "text": [
            "\r2/2 [==============================] - 0s 18ms/step\n"
          ],
          "name": "stdout"
        },
        {
          "output_type": "execute_result",
          "data": {
            "text/plain": [
              "0.8248112201690674"
            ]
          },
          "metadata": {
            "tags": []
          },
          "execution_count": 49
        }
      ]
    }
  ]
}