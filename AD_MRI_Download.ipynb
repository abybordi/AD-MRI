{
 "cells": [
  {
   "cell_type": "code",
   "execution_count": 1,
   "metadata": {},
   "outputs": [],
   "source": [
    "import pandas as pd\n",
    "import numpy as np"
   ]
  },
  {
   "cell_type": "code",
   "execution_count": 3,
   "metadata": {
    "scrolled": true
   },
   "outputs": [
    {
     "name": "stdout",
     "output_type": "stream",
     "text": [
      "['OAS30001' 'OAS30002' 'OAS30003' ... 'OAS31170' 'OAS31171' 'OAS31172'] 1096\n"
     ]
    },
    {
     "data": {
      "text/plain": [
       "True"
      ]
     },
     "execution_count": 3,
     "metadata": {},
     "output_type": "execute_result"
    }
   ],
   "source": [
    "grand = pd.read_csv('../scans_Oasis.csv')\n",
    "g_diagnosis = pd.read_csv('../diagnosis_Oasis.csv') .dropna(subset=['dx1'])\n",
    "participants = g_diagnosis.Subject.unique()\n",
    "print(participants,len(participants))\n",
    "\n",
    "np.any('OAS30186' in participants)"
   ]
  },
  {
   "cell_type": "code",
   "execution_count": 4,
   "metadata": {},
   "outputs": [],
   "source": [
    "\n",
    "import collections\n",
    "\n",
    "def get_iterable(x):\n",
    "    if isinstance(x, collections.Iterable):\n",
    "        return x\n",
    "    else:\n",
    "        return (x,)\n",
    "\n",
    "def find_nearest(array, value):\n",
    "    array = np.asarray(array)\n",
    "    idx = np.nanargmin((np.abs(array - value)))\n",
    "    return array[idx]\n",
    "\n"
   ]
  },
  {
   "cell_type": "code",
   "execution_count": 5,
   "metadata": {},
   "outputs": [
    {
     "name": "stdout",
     "output_type": "stream",
     "text": [
      "True\n"
     ]
    }
   ],
   "source": [
    "a_string = \"A string is more than its parts!\"\n",
    "matches = [\"more\", \"wholesome\", \"milk\"]\n",
    "\n",
    "if any(x in a_string for x in matches):\n",
    "    print(True)"
   ]
  },
  {
   "cell_type": "code",
   "execution_count": 6,
   "metadata": {},
   "outputs": [
    {
     "name": "stderr",
     "output_type": "stream",
     "text": [
      "/opt/anaconda3/lib/python3.7/site-packages/ipykernel_launcher.py:4: DeprecationWarning: Using or importing the ABCs from 'collections' instead of from 'collections.abc' is deprecated since Python 3.3,and in 3.9 it will stop working\n",
      "  after removing the cwd from sys.path.\n"
     ]
    },
    {
     "name": "stdout",
     "output_type": "stream",
     "text": [
      "AD: 360 CN: 620 Other: 116\n"
     ]
    }
   ],
   "source": [
    "data = {}\n",
    "AD = 0\n",
    "CN = 0\n",
    "Other = 0\n",
    "def has_diagnosis(list_of_diag,x):\n",
    "    return [True if any(j in i for j in get_iterable(list_of_diag)) else False for i in get_iterable(temp_diagnosis.dx1.values)]\n",
    "\n",
    "scan_IDs=[]\n",
    "diag=[]\n",
    "AD_MRI_Master = {}\n",
    "\n",
    "for sub in participants:\n",
    "    \n",
    "   \n",
    "    \n",
    "    \n",
    "    temp_diagnosis=g_diagnosis.loc[g_diagnosis.Subject==sub,['dx1','ageAtEntry']]\n",
    "    \n",
    "    \n",
    "    temp_scans=grand.loc[grand.Subject==sub,['MR ID','Age','Scans']]\n",
    "    # matching AD scan, nearest diagnosis\n",
    "    #print(sub)\n",
    "    if np.any(has_diagnosis(['AD','DAT'],temp_diagnosis.dx1.values)):\n",
    "        AD+=1\n",
    "        AD_MRI_Master[sub]={}\n",
    "        \n",
    "        first=has_diagnosis(['AD','DAT'],temp_diagnosis)\n",
    "        age_diag = temp_diagnosis.loc[first,'ageAtEntry'].values[0]\n",
    "        age_scan = find_nearest(temp_scans.Age.values,age_diag)\n",
    "        scan_ID = temp_scans.loc[temp_scans.Age==age_scan,['MR ID']].values[0][0]    \n",
    "        #print(sub,scan_ID)\n",
    "        scan_IDs.append(scan_ID)\n",
    "        diag.append('AD')\n",
    "        AD_MRI_Master[sub]['subject']=sub\n",
    "        AD_MRI_Master[sub]['age'] = age_scan\n",
    "        AD_MRI_Master[sub]['diagnosis']='AD'\n",
    "        AD_MRI_Master[sub]['scan_ID'] = scan_ID\n",
    "        \n",
    "        \n",
    "    elif np.all(has_diagnosis(['normal','.'],temp_diagnosis.dx1.values)):\n",
    "        \n",
    "        CN+=1\n",
    "        AD_MRI_Master[sub]={}\n",
    "            \n",
    "        first=has_diagnosis(['normal','.'],temp_diagnosis)\n",
    "        age_diag = temp_diagnosis.loc[first,'ageAtEntry'].values[0]\n",
    "        age_scan = find_nearest(temp_scans.Age.values,age_diag)\n",
    "        scan_ID = temp_scans.loc[temp_scans.Age==age_scan,['MR ID']].values[0][0]\n",
    "        #print(sub,scan_ID)\n",
    "        scan_IDs.append(scan_ID)\n",
    "        diag.append('CN')\n",
    "        AD_MRI_Master[sub]['subject']=sub\n",
    "        AD_MRI_Master[sub]['age'] = age_scan\n",
    "        AD_MRI_Master[sub]['diagnosis']='CN'\n",
    "        AD_MRI_Master[sub]['scan_ID'] = scan_ID\n",
    "    else:\n",
    "        #print(sub,temp_diagnosis.dx1)\n",
    "        Other+=1\n",
    "        \n",
    "        \n",
    "print(\"AD:\",AD,\"CN:\",CN,\"Other:\",Other)\n",
    "    \n",
    "    \n",
    "    \n",
    "\n",
    "\n",
    "    \n"
   ]
  },
  {
   "cell_type": "code",
   "execution_count": 12,
   "metadata": {},
   "outputs": [],
   "source": [
    "AD_MRI_Master\n",
    "\n",
    "import pickle\n",
    "\n",
    "with open('AD_MRI_Master', 'wb') as f:\n",
    "    pickle.dump(AD_MRI_Master, f)\n"
   ]
  },
  {
   "cell_type": "code",
   "execution_count": 187,
   "metadata": {},
   "outputs": [
    {
     "data": {
      "text/plain": [
       "{'subject': 'OAS30001',\n",
       " 'age': 65.0,\n",
       " 'diagnosis': 'CN',\n",
       " 'scan_ID': 'OAS30001_MR_d0129'}"
      ]
     },
     "execution_count": 187,
     "metadata": {},
     "output_type": "execute_result"
    }
   ],
   "source": [
    "z"
   ]
  },
  {
   "cell_type": "code",
   "execution_count": 13,
   "metadata": {},
   "outputs": [
    {
     "name": "stdout",
     "output_type": "stream",
     "text": [
      "OAS\n"
     ]
    }
   ],
   "source": [
    "import collections\n",
    "\n",
    "def get_iterable(x):\n",
    "    if isinstance(x, collections.Iterable):\n",
    "        return x\n",
    "    else:\n",
    "        return (x,)\n",
    "    \n",
    "    \n",
    "for i in get_iterable(['OAS']):\n",
    "    print(i)"
   ]
  },
  {
   "cell_type": "code",
   "execution_count": 7,
   "metadata": {},
   "outputs": [
    {
     "name": "stdout",
     "output_type": "stream",
     "text": [
      "['OAS30001', 'OAS30002', 'OAS30003', 'OAS30004', 'OAS30005', 'OAS30006', 'OAS30008', 'OAS30009', 'OAS30010', 'OAS30011', 'OAS30014', 'OAS30015', 'OAS30017', 'OAS30018', 'OAS30020', 'OAS30021', 'OAS30026', 'OAS30028', 'OAS30030', 'OAS30032', 'OAS30033', 'OAS30034', 'OAS30036', 'OAS30037', 'OAS30038', 'OAS30039', 'OAS30042', 'OAS30044', 'OAS30046', 'OAS30048', 'OAS30049', 'OAS30050', 'OAS30053', 'OAS30059', 'OAS30060', 'OAS30062', 'OAS30065', 'OAS30066', 'OAS30067', 'OAS30071', 'OAS30073', 'OAS30074', 'OAS30075', 'OAS30077', 'OAS30079', 'OAS30080', 'OAS30082', 'OAS30083', 'OAS30086', 'OAS30088', 'OAS30089', 'OAS30090', 'OAS30092', 'OAS30093', 'OAS30096', 'OAS30097', 'OAS30099', 'OAS30101', 'OAS30102', 'OAS30103', 'OAS30105', 'OAS30106', 'OAS30107', 'OAS30108', 'OAS30109', 'OAS30112', 'OAS30113', 'OAS30115', 'OAS30121', 'OAS30122', 'OAS30123', 'OAS30125', 'OAS30126', 'OAS30127', 'OAS30129', 'OAS30131', 'OAS30134', 'OAS30135', 'OAS30137', 'OAS30140', 'OAS30141', 'OAS30142', 'OAS30143', 'OAS30146', 'OAS30149', 'OAS30154', 'OAS30155', 'OAS30160', 'OAS30161', 'OAS30163', 'OAS30164', 'OAS30167', 'OAS30168', 'OAS30169', 'OAS30174', 'OAS30175', 'OAS30176', 'OAS30178', 'OAS30180', 'OAS30182', 'OAS30183', 'OAS30184', 'OAS30187', 'OAS30188', 'OAS30189', 'OAS30191', 'OAS30192', 'OAS30193', 'OAS30195', 'OAS30197', 'OAS30200', 'OAS30204', 'OAS30207', 'OAS30211', 'OAS30213', 'OAS30216', 'OAS30219', 'OAS30220', 'OAS30221', 'OAS30222', 'OAS30225', 'OAS30227', 'OAS30228', 'OAS30229', 'OAS30230', 'OAS30231', 'OAS30232', 'OAS30235', 'OAS30236', 'OAS30242', 'OAS30245', 'OAS30246', 'OAS30247', 'OAS30248', 'OAS30249', 'OAS30251', 'OAS30253', 'OAS30256', 'OAS30258', 'OAS30264', 'OAS30266', 'OAS30268', 'OAS30269', 'OAS30270', 'OAS30272', 'OAS30274', 'OAS30275', 'OAS30276', 'OAS30277', 'OAS30278', 'OAS30280', 'OAS30283', 'OAS30284', 'OAS30285', 'OAS30288', 'OAS30289', 'OAS30290', 'OAS30291', 'OAS30293', 'OAS30294', 'OAS30296', 'OAS30297', 'OAS30299', 'OAS30300', 'OAS30302', 'OAS30303', 'OAS30304', 'OAS30306', 'OAS30307', 'OAS30308', 'OAS30309', 'OAS30310', 'OAS30317', 'OAS30318', 'OAS30319', 'OAS30320', 'OAS30321', 'OAS30324', 'OAS30327', 'OAS30328', 'OAS30333', 'OAS30335', 'OAS30336', 'OAS30337', 'OAS30339', 'OAS30341', 'OAS30343', 'OAS30346', 'OAS30348', 'OAS30349', 'OAS30351', 'OAS30352', 'OAS30353', 'OAS30356', 'OAS30357', 'OAS30359', 'OAS30360', 'OAS30361', 'OAS30362', 'OAS30363', 'OAS30364', 'OAS30367', 'OAS30368', 'OAS30371', 'OAS30372', 'OAS30374', 'OAS30376', 'OAS30378', 'OAS30382', 'OAS30384', 'OAS30385', 'OAS30386', 'OAS30387', 'OAS30390', 'OAS30392', 'OAS30395', 'OAS30400', 'OAS30402', 'OAS30405', 'OAS30406', 'OAS30407', 'OAS30411', 'OAS30413', 'OAS30414', 'OAS30417', 'OAS30419', 'OAS30422', 'OAS30423', 'OAS30429', 'OAS30430', 'OAS30431', 'OAS30432', 'OAS30434', 'OAS30438', 'OAS30441', 'OAS30443', 'OAS30444', 'OAS30449', 'OAS30454', 'OAS30455', 'OAS30456', 'OAS30458', 'OAS30459', 'OAS30461', 'OAS30462', 'OAS30464', 'OAS30465', 'OAS30468', 'OAS30469', 'OAS30470', 'OAS30476', 'OAS30482', 'OAS30483', 'OAS30484', 'OAS30485', 'OAS30486', 'OAS30487', 'OAS30489', 'OAS30490', 'OAS30491', 'OAS30492', 'OAS30494', 'OAS30496', 'OAS30499', 'OAS30500', 'OAS30502', 'OAS30503', 'OAS30507', 'OAS30508', 'OAS30509', 'OAS30512', 'OAS30513', 'OAS30514', 'OAS30516', 'OAS30517', 'OAS30523', 'OAS30524', 'OAS30525', 'OAS30529', 'OAS30531', 'OAS30534', 'OAS30535', 'OAS30537', 'OAS30538', 'OAS30540', 'OAS30542', 'OAS30543', 'OAS30546', 'OAS30547', 'OAS30550', 'OAS30551', 'OAS30552', 'OAS30555', 'OAS30558', 'OAS30559', 'OAS30561', 'OAS30562', 'OAS30564', 'OAS30566', 'OAS30567', 'OAS30568', 'OAS30569', 'OAS30570', 'OAS30571', 'OAS30572', 'OAS30574', 'OAS30579', 'OAS30580', 'OAS30581', 'OAS30584', 'OAS30586', 'OAS30588', 'OAS30589', 'OAS30590', 'OAS30592', 'OAS30594', 'OAS30595', 'OAS30598', 'OAS30600', 'OAS30601', 'OAS30602', 'OAS30603', 'OAS30606', 'OAS30607', 'OAS30615', 'OAS30620', 'OAS30621', 'OAS30623', 'OAS30624', 'OAS30625', 'OAS30626', 'OAS30628', 'OAS30631', 'OAS30632', 'OAS30633', 'OAS30634', 'OAS30635', 'OAS30636', 'OAS30637', 'OAS30638', 'OAS30642', 'OAS30643', 'OAS30644', 'OAS30647', 'OAS30651', 'OAS30652', 'OAS30656', 'OAS30657', 'OAS30658', 'OAS30660', 'OAS30663', 'OAS30664', 'OAS30666', 'OAS30668', 'OAS30671', 'OAS30673', 'OAS30674', 'OAS30676', 'OAS30677', 'OAS30679', 'OAS30680', 'OAS30681', 'OAS30683', 'OAS30685', 'OAS30688', 'OAS30689', 'OAS30690', 'OAS30691', 'OAS30693', 'OAS30694', 'OAS30695', 'OAS30698', 'OAS30699', 'OAS30701', 'OAS30703', 'OAS30706', 'OAS30708', 'OAS30709', 'OAS30710', 'OAS30711', 'OAS30715', 'OAS30716', 'OAS30722', 'OAS30723', 'OAS30725', 'OAS30726', 'OAS30727', 'OAS30728', 'OAS30729', 'OAS30730', 'OAS30731', 'OAS30735', 'OAS30737', 'OAS30739', 'OAS30742', 'OAS30743', 'OAS30746', 'OAS30747', 'OAS30749', 'OAS30750', 'OAS30754', 'OAS30755', 'OAS30756', 'OAS30757', 'OAS30759', 'OAS30762', 'OAS30764', 'OAS30765', 'OAS30766', 'OAS30767', 'OAS30768', 'OAS30769', 'OAS30770', 'OAS30772', 'OAS30776', 'OAS30777', 'OAS30778', 'OAS30780']\n"
     ]
    }
   ],
   "source": [
    "print(CN)"
   ]
  },
  {
   "cell_type": "markdown",
   "metadata": {},
   "source": [
    "# make a unix csv file\n",
    "tr -d '\\r' < ../../three_scans.csv > myfile_unix.csv"
   ]
  },
  {
   "cell_type": "code",
   "execution_count": 65,
   "metadata": {},
   "outputs": [
    {
     "name": "stdout",
     "output_type": "stream",
     "text": [
      "(2168, 8) (2168, 8)\n"
     ]
    }
   ],
   "source": [
    "criteria = ['T1w(2)' in i for i in grand['Scans']] #check if there is a T1 available.\n",
    "\n",
    "valid_scans = grand.loc[criteria,:]\n",
    "\n",
    "print(grand.shape,valid_scans.shape)"
   ]
  },
  {
   "cell_type": "code",
   "execution_count": 92,
   "metadata": {},
   "outputs": [
    {
     "data": {
      "text/plain": [
       "False"
      ]
     },
     "execution_count": 92,
     "metadata": {},
     "output_type": "execute_result"
    }
   ],
   "source": [
    "np.any(['T1w(1)' in i for i in [grand['Scans']]])"
   ]
  },
  {
   "cell_type": "code",
   "execution_count": null,
   "metadata": {},
   "outputs": [],
   "source": [
    "grand.info()"
   ]
  },
  {
   "cell_type": "code",
   "execution_count": 87,
   "metadata": {},
   "outputs": [
    {
     "data": {
      "text/plain": [
       "'0'"
      ]
     },
     "metadata": {},
     "output_type": "display_data"
    }
   ],
   "source": [
    "display(grand['Scans'][0][0])"
   ]
  },
  {
   "cell_type": "code",
   "execution_count": 140,
   "metadata": {},
   "outputs": [
    {
     "name": "stdout",
     "output_type": "stream",
     "text": [
      "<class 'pandas.core.frame.DataFrame'>\n",
      "RangeIndex: 6224 entries, 0 to 6223\n",
      "Data columns (total 25 columns):\n",
      " #   Column                    Non-Null Count  Dtype  \n",
      "---  ------                    --------------  -----  \n",
      " 0   ADRC_ADRCCLINICALDATA ID  6224 non-null   object \n",
      " 1   Subject                   6224 non-null   object \n",
      " 2   Date                      0 non-null      float64\n",
      " 3   Age                       0 non-null      float64\n",
      " 4   mmse                      6052 non-null   float64\n",
      " 5   ageAtEntry                6224 non-null   float64\n",
      " 6   cdr                       6224 non-null   float64\n",
      " 7   commun                    6216 non-null   float64\n",
      " 8   dx1                       6222 non-null   object \n",
      " 9   dx2                       6211 non-null   object \n",
      " 10  dx3                       6211 non-null   object \n",
      " 11  dx4                       6211 non-null   object \n",
      " 12  dx5                       6211 non-null   object \n",
      " 13  homehobb                  6216 non-null   float64\n",
      " 14  judgment                  6216 non-null   float64\n",
      " 15  memory                    6216 non-null   float64\n",
      " 16  orient                    6215 non-null   float64\n",
      " 17  perscare                  6216 non-null   float64\n",
      " 18  apoe                      6168 non-null   float64\n",
      " 19  sumbox                    6216 non-null   float64\n",
      " 20  acsparnt                  0 non-null      float64\n",
      " 21  height                    4965 non-null   float64\n",
      " 22  weight                    5745 non-null   float64\n",
      " 23  primStudy                 0 non-null      float64\n",
      " 24  acsStudy                  0 non-null      float64\n",
      "dtypes: float64(18), object(7)\n",
      "memory usage: 1.2+ MB\n"
     ]
    }
   ],
   "source": [
    "g_diagnosis.info()"
   ]
  },
  {
   "cell_type": "code",
   "execution_count": 8,
   "metadata": {},
   "outputs": [
    {
     "ename": "NameError",
     "evalue": "name 'scans' is not defined",
     "output_type": "error",
     "traceback": [
      "\u001b[0;31m---------------------------------------------------------------------------\u001b[0m",
      "\u001b[0;31mNameError\u001b[0m                                 Traceback (most recent call last)",
      "\u001b[0;32m<ipython-input-8-3f8a830d3875>\u001b[0m in \u001b[0;36m<module>\u001b[0;34m\u001b[0m\n\u001b[0;32m----> 1\u001b[0;31m \u001b[0mscans\u001b[0m\u001b[0;34m[\u001b[0m\u001b[0;36m0\u001b[0m\u001b[0;34m]\u001b[0m\u001b[0;34m\u001b[0m\u001b[0;34m\u001b[0m\u001b[0m\n\u001b[0m",
      "\u001b[0;31mNameError\u001b[0m: name 'scans' is not defined"
     ]
    }
   ],
   "source": [
    "scans[0]"
   ]
  },
  {
   "cell_type": "code",
   "execution_count": 14,
   "metadata": {},
   "outputs": [],
   "source": [
    "sids= pd.DataFrame(scan_IDs)\n",
    "sids.to_csv(\"scan_IDs20.csv\",header=False,index=False)"
   ]
  },
  {
   "cell_type": "code",
   "execution_count": 16,
   "metadata": {},
   "outputs": [],
   "source": [
    "!tr -d '\\r' < scan_IDs20.csv > scan_IDs20_unix.csv"
   ]
  },
  {
   "cell_type": "code",
   "execution_count": 17,
   "metadata": {},
   "outputs": [
    {
     "data": {
      "text/plain": [
       "'OAS31172_MR_d0407'"
      ]
     },
     "execution_count": 17,
     "metadata": {},
     "output_type": "execute_result"
    }
   ],
   "source": [
    "scan_IDs[-1]"
   ]
  },
  {
   "cell_type": "code",
   "execution_count": 32,
   "metadata": {},
   "outputs": [
    {
     "ename": "NameError",
     "evalue": "name 'pwd' is not defined",
     "output_type": "error",
     "traceback": [
      "\u001b[0;31m---------------------------------------------------------------------------\u001b[0m",
      "\u001b[0;31mNameError\u001b[0m                                 Traceback (most recent call last)",
      "\u001b[0;32m<ipython-input-32-e1cd3521b20a>\u001b[0m in \u001b[0;36m<module>\u001b[0;34m\u001b[0m\n\u001b[1;32m      3\u001b[0m \u001b[0mpaths\u001b[0m \u001b[0;34m=\u001b[0m \u001b[0mglob\u001b[0m\u001b[0;34m.\u001b[0m\u001b[0mglob\u001b[0m\u001b[0;34m(\u001b[0m\u001b[0mraw_data_dir\u001b[0m\u001b[0;34m+\u001b[0m\u001b[0;34m'/**/'\u001b[0m\u001b[0;34m)\u001b[0m\u001b[0;31m#*.nii*',recursive=True)\u001b[0m\u001b[0;34m\u001b[0m\u001b[0;34m\u001b[0m\u001b[0m\n\u001b[1;32m      4\u001b[0m \u001b[0;34m\u001b[0m\u001b[0m\n\u001b[0;32m----> 5\u001b[0;31m \u001b[0mpwd\u001b[0m\u001b[0;34m(\u001b[0m\u001b[0;34m)\u001b[0m\u001b[0;34m\u001b[0m\u001b[0;34m\u001b[0m\u001b[0m\n\u001b[0m",
      "\u001b[0;31mNameError\u001b[0m: name 'pwd' is not defined"
     ]
    }
   ],
   "source": [
    "import glob\n",
    "raw_data_dir = '/Users/daniel/.CMVolumes/Daniel\\ Brennan/AD_MRI_DATA'\n",
    "paths = glob.glob(raw_data_dir+'/**/')#*.nii*',recursive=True)\n",
    "\n"
   ]
  },
  {
   "cell_type": "code",
   "execution_count": 33,
   "metadata": {},
   "outputs": [
    {
     "name": "stdout",
     "output_type": "stream",
     "text": [
      "/Users/daniel/Downloads/AD_MRI\n"
     ]
    }
   ],
   "source": [
    "!pwd"
   ]
  },
  {
   "cell_type": "code",
   "execution_count": null,
   "metadata": {},
   "outputs": [],
   "source": []
  }
 ],
 "metadata": {
  "kernelspec": {
   "display_name": "Python 3",
   "language": "python",
   "name": "python3"
  },
  "language_info": {
   "codemirror_mode": {
    "name": "ipython",
    "version": 3
   },
   "file_extension": ".py",
   "mimetype": "text/x-python",
   "name": "python",
   "nbconvert_exporter": "python",
   "pygments_lexer": "ipython3",
   "version": "3.7.6"
  }
 },
 "nbformat": 4,
 "nbformat_minor": 4
}
