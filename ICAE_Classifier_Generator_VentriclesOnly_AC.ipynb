{
  "nbformat": 4,
  "nbformat_minor": 0,
  "metadata": {
    "kernelspec": {
      "display_name": "Python 3",
      "language": "python",
      "name": "python3"
    },
    "language_info": {
      "codemirror_mode": {
        "name": "ipython",
        "version": 3
      },
      "file_extension": ".py",
      "mimetype": "text/x-python",
      "name": "python",
      "nbconvert_exporter": "python",
      "pygments_lexer": "ipython3",
      "version": "3.7.6"
    },
    "colab": {
      "name": "_ICAE_Classifier_Generator_VentriclesOnly_AC.ipynb",
      "provenance": [],
      "collapsed_sections": []
    },
    "accelerator": "GPU"
  },
  "cells": [
    {
      "cell_type": "code",
      "metadata": {
        "id": "Xt2onyB1zQ9Z",
        "colab_type": "code",
        "colab": {}
      },
      "source": [
        "%matplotlib inline \n",
        "from matplotlib import pyplot as plt\n",
        "import numpy as np\n",
        "import pandas as pd\n",
        "import pickle\n",
        "import warnings\n",
        "import tensorflow as tf\n",
        "import random\n",
        "import scipy\n",
        "import cv2\n",
        "from tensorflow.keras.utils import Sequence\n",
        "from tensorflow.keras.utils import to_categorical\n",
        "from sklearn.model_selection import train_test_split\n",
        "from sklearn.preprocessing import LabelEncoder\n",
        "from sklearn.utils import class_weight\n",
        "from tensorflow import keras\n",
        "from tensorflow.keras import backend as K\n",
        "from tensorflow.keras.callbacks import TensorBoard\n",
        "from tensorflow.keras.models import Sequential, Model\n",
        "from tensorflow.keras.layers import Dense, Conv3D, MaxPool3D, Dropout, \\\n",
        "        Flatten, Conv3DTranspose, UpSampling3D, Reshape, Input, concatenate\n",
        "from tensorflow.keras.regularizers import l1_l2\n",
        "from google.colab import drive"
      ],
      "execution_count": 0,
      "outputs": []
    },
    {
      "cell_type": "code",
      "metadata": {
        "id": "QxqOEiKNDLLy",
        "colab_type": "code",
        "colab": {
          "base_uri": "https://localhost:8080/",
          "height": 34
        },
        "outputId": "06ee3057-0dbc-440a-9f5b-1a1bbaf2a25d"
      },
      "source": [
        "warnings.filterwarnings('ignore')\n",
        "print('Tensorflow version:', tf.__version__)"
      ],
      "execution_count": 75,
      "outputs": [
        {
          "output_type": "stream",
          "text": [
            "Tensorflow version: 2.2.0\n"
          ],
          "name": "stdout"
        }
      ]
    },
    {
      "cell_type": "code",
      "metadata": {
        "id": "I8ug2tfPzWqa",
        "colab_type": "code",
        "outputId": "4d517099-3217-435b-e2bb-c230b42b5057",
        "colab": {
          "base_uri": "https://localhost:8080/",
          "height": 54
        }
      },
      "source": [
        "drive.mount('/content/drive')"
      ],
      "execution_count": 76,
      "outputs": [
        {
          "output_type": "stream",
          "text": [
            "Drive already mounted at /content/drive; to attempt to forcibly remount, call drive.mount(\"/content/drive\", force_remount=True).\n"
          ],
          "name": "stdout"
        }
      ]
    },
    {
      "cell_type": "markdown",
      "metadata": {
        "id": "nPFgeYTuzQ9k",
        "colab_type": "text"
      },
      "source": [
        "#### Create Train/Test Subset"
      ]
    },
    {
      "cell_type": "code",
      "metadata": {
        "id": "qYrPlrRqzQ9k",
        "colab_type": "code",
        "outputId": "f82f7c5f-76ab-4ed6-a962-d4371f920066",
        "colab": {
          "base_uri": "https://localhost:8080/",
          "height": 374
        }
      },
      "source": [
        "%cd /content/drive/My Drive/AD_MRI\n",
        "\n",
        "# Load list of records\n",
        "with open('AD_MRI_Master', 'rb') as f:\n",
        "    master_list = pickle.load(f)\n",
        "    \n",
        "master_sheet = pd.DataFrame.from_dict(master_list, orient='index')\n",
        "display(master_sheet.head())\n",
        "print()\n",
        "\n",
        "# Split: 60% train, 20% validation, 20% test\n",
        "train_list, test_list, train_label, test_label = \\\n",
        "        train_test_split(master_sheet.subject.values, \n",
        "                         master_sheet.diagnosis.values, \n",
        "                         random_state = 1337, \n",
        "                         test_size=0.2)\n",
        "        \n",
        "train_list, val_list, train_label, val_label = \\\n",
        "        train_test_split(master_sheet.subject.values, \n",
        "                         master_sheet.diagnosis.values, \n",
        "                         random_state = 1337, \n",
        "                         test_size=0.25)\n",
        "\n",
        "# Check for ratios of AD to NC to be consistent among sets\n",
        "AD_count = 0\n",
        "for lab in train_label:\n",
        "    if lab == 'AD':\n",
        "        AD_count +=1\n",
        "print('train_ratio AD: ', round(AD_count/len(train_label), 3))\n",
        "\n",
        "AD_count = 0\n",
        "for lab in val_label:\n",
        "    if lab == 'AD':\n",
        "        AD_count +=1\n",
        "print('val_ratio AD: ', round(AD_count/len(val_label), 3))\n",
        "\n",
        "AD_count = 0\n",
        "for lab in test_label:\n",
        "    if lab == 'AD':\n",
        "        AD_count +=1\n",
        "print('test_ratio AD: ', round(AD_count/len(test_label), 3))\n",
        "\n",
        "print('\\nNumber of records\\ntrain:', len(train_list), \n",
        "      '\\nvalidation:', len(val_list), '\\ntest:', len(test_list))\n"
      ],
      "execution_count": 77,
      "outputs": [
        {
          "output_type": "stream",
          "text": [
            "/content/drive/.shortcut-targets-by-id/1oU0ruELKPJf457X2y4uyGIpFkyyxaQyv/AD_MRI\n"
          ],
          "name": "stdout"
        },
        {
          "output_type": "display_data",
          "data": {
            "text/html": [
              "<div>\n",
              "<style scoped>\n",
              "    .dataframe tbody tr th:only-of-type {\n",
              "        vertical-align: middle;\n",
              "    }\n",
              "\n",
              "    .dataframe tbody tr th {\n",
              "        vertical-align: top;\n",
              "    }\n",
              "\n",
              "    .dataframe thead th {\n",
              "        text-align: right;\n",
              "    }\n",
              "</style>\n",
              "<table border=\"1\" class=\"dataframe\">\n",
              "  <thead>\n",
              "    <tr style=\"text-align: right;\">\n",
              "      <th></th>\n",
              "      <th>subject</th>\n",
              "      <th>age</th>\n",
              "      <th>diagnosis</th>\n",
              "      <th>scan_ID</th>\n",
              "    </tr>\n",
              "  </thead>\n",
              "  <tbody>\n",
              "    <tr>\n",
              "      <th>OAS30001</th>\n",
              "      <td>OAS30001</td>\n",
              "      <td>65.0</td>\n",
              "      <td>CN</td>\n",
              "      <td>OAS30001_MR_d0129</td>\n",
              "    </tr>\n",
              "    <tr>\n",
              "      <th>OAS30002</th>\n",
              "      <td>OAS30002</td>\n",
              "      <td>68.0</td>\n",
              "      <td>CN</td>\n",
              "      <td>OAS30002_MR_d0371</td>\n",
              "    </tr>\n",
              "    <tr>\n",
              "      <th>OAS30003</th>\n",
              "      <td>OAS30003</td>\n",
              "      <td>60.0</td>\n",
              "      <td>CN</td>\n",
              "      <td>OAS30003_MR_d0558</td>\n",
              "    </tr>\n",
              "    <tr>\n",
              "      <th>OAS30004</th>\n",
              "      <td>OAS30004</td>\n",
              "      <td>58.0</td>\n",
              "      <td>CN</td>\n",
              "      <td>OAS30004_MR_d1101</td>\n",
              "    </tr>\n",
              "    <tr>\n",
              "      <th>OAS30005</th>\n",
              "      <td>OAS30005</td>\n",
              "      <td>48.0</td>\n",
              "      <td>CN</td>\n",
              "      <td>OAS30005_MR_d0143</td>\n",
              "    </tr>\n",
              "  </tbody>\n",
              "</table>\n",
              "</div>"
            ],
            "text/plain": [
              "           subject   age diagnosis            scan_ID\n",
              "OAS30001  OAS30001  65.0        CN  OAS30001_MR_d0129\n",
              "OAS30002  OAS30002  68.0        CN  OAS30002_MR_d0371\n",
              "OAS30003  OAS30003  60.0        CN  OAS30003_MR_d0558\n",
              "OAS30004  OAS30004  58.0        CN  OAS30004_MR_d1101\n",
              "OAS30005  OAS30005  48.0        CN  OAS30005_MR_d0143"
            ]
          },
          "metadata": {
            "tags": []
          }
        },
        {
          "output_type": "stream",
          "text": [
            "\n",
            "train_ratio AD:  0.365\n",
            "val_ratio AD:  0.376\n",
            "test_ratio AD:  0.362\n",
            "\n",
            "Number of records\n",
            "train: 735 \n",
            "validation: 245 \n",
            "test: 196\n"
          ],
          "name": "stdout"
        }
      ]
    },
    {
      "cell_type": "markdown",
      "metadata": {
        "id": "BWz1F457zQ9r",
        "colab_type": "text"
      },
      "source": [
        "### Create Generator"
      ]
    },
    {
      "cell_type": "code",
      "metadata": {
        "id": "Q3IK5qfYzQ9r",
        "colab_type": "code",
        "colab": {}
      },
      "source": [
        "processed_dir = '/content/drive/My Drive/AD_MRI/PROCESSED/'\n",
        "\n",
        "# Convert categorical labels\n",
        "# CN: 0, AD: 1\n",
        "def labels_to_categorical(labels):\n",
        "    le = LabelEncoder()\n",
        "    le.fit([\"CN\", \"AD\"])\n",
        "    num_labels = to_categorical(le.transform(labels), num_classes=2)\n",
        "    return num_labels\n",
        "\n",
        "\n",
        "# Custom data generator\n",
        "class MyDataGenerator(Sequence):\n",
        "    \"\"\"Generates data for Keras Sequence based data generator. \n",
        "    Suitable for building data generator for training and prediction.\n",
        "    \"\"\"\n",
        "    def __init__(self, list_IDs, processed_dir, augment=False, \n",
        "                 to_fit=True, batch_size=32, dim=(120, 160, 120, 1),\n",
        "                 n_classes=2, shuffle=True, ventricles_only=True, \n",
        "                 slice_start=50, slice_end=66, sample_weight=None):\n",
        "        \"\"\"Initialization\n",
        "        :param list_IDs: list of all 'label' PATHS\n",
        "        :param processed_dir: path to directory of processed images\n",
        "        :param augment\n",
        "        :param to_fit: True to return X and y, False to return X only\n",
        "        :param batch_size: batch size at each iteration\n",
        "        :param dim: tuple indicating image dimension\n",
        "        :param n_classes: number of output masks\n",
        "        :param shuffle: True to shuffle label indexes after every epoch\n",
        "        :param ventricles_only: reduce dimensions to relevant slice\n",
        "        \"\"\"\n",
        "        self.list_IDs = list_IDs\n",
        "        self.processed_dir = processed_dir\n",
        "        self.augment = augment\n",
        "        self.to_fit = to_fit\n",
        "        self.batch_size = batch_size\n",
        "        self.dim = dim\n",
        "        self.n_classes = n_classes\n",
        "        self.shuffle = shuffle\n",
        "        self.ventricles_only = ventricles_only\n",
        "        self.on_epoch_end()\n",
        "        self.slice_start = slice_start\n",
        "        self.slice_end = slice_end\n",
        "        if self.ventricles_only == False:\n",
        "            self.slice_size = 120\n",
        "        else:\n",
        "            self.slice_size = slice_end - slice_start\n",
        "        self.sample_weight = sample_weight\n",
        "        # sample_weight needs to be provided if to_fit=True\n",
        "\n",
        "\n",
        "    def __len__(self):\n",
        "        \"\"\"Denotes the number of batches per epoch\n",
        "        :return: number of batches per epoch\n",
        "        \"\"\"\n",
        "        return int(np.floor(len(self.list_IDs) / self.batch_size))\n",
        "\n",
        "\n",
        "    def __getitem__(self, index):\n",
        "        \"\"\"Generate one batch of data\n",
        "        :param index: index of the batch\n",
        "        :return: X and y when fitting. X only when predicting\n",
        "        \"\"\"\n",
        "        # Generate indexes of the batch\n",
        "        indexes = self.indexes[index \n",
        "                               * self.batch_size:(index + 1) \n",
        "                               * self.batch_size]\n",
        "\n",
        "        # Find list of IDs\n",
        "        list_IDs_temp = [self.list_IDs[k] for k in indexes]\n",
        "        \n",
        "        # Generate data\n",
        "        X, y = self._load_data(list_IDs_temp)\n",
        "        X = np.float32(X)\n",
        "        if self.ventricles_only == True:\n",
        "          X = X[:, :, :, self.slice_start:self.slice_end, :]\n",
        "        if self.to_fit:\n",
        "            y = {'ICAE_classifier': y, 'ICAE_decoder': X}\n",
        "            return X, y, self.sample_weight\n",
        "        else:\n",
        "            return X\n",
        "\n",
        "\n",
        "    def on_epoch_end(self):\n",
        "        \"\"\"Updates indexes after each epoch\n",
        "        \"\"\"\n",
        "        self.indexes = np.arange(len(self.list_IDs))\n",
        "        if self.shuffle == True:\n",
        "            np.random.shuffle(self.indexes)\n",
        "\n",
        "\n",
        "    def _load_data(self, list_IDs_temp):\n",
        "        \"\"\"Generates data containing batch_size images\n",
        "        :param list_IDs_temp: list of label ids to load\n",
        "        :return: batch of images\n",
        "        \"\"\"\n",
        "        # Initialization\n",
        "        X = np.empty((self.batch_size, *self.dim))\n",
        "        y = np.empty((self.batch_size, self.n_classes), dtype=int)\n",
        "        \n",
        "        # Generate data\n",
        "        for i, ID in enumerate(list_IDs_temp):\n",
        "            \n",
        "            # start X\n",
        "            with open(self.processed_dir+ID+'_data','rb') as f:\n",
        "                data = pickle.load(f)\n",
        "                \n",
        "            # third dimension = 120, error using self.slice_size for value 16\n",
        "            x_reshape= np.reshape(data['image'], (120, 160, 120, 1))\n",
        "            if self.augment == True:\n",
        "                x_reshape = scipy.ndimage.rotate(x_reshape, \n",
        "                                axes=random.choice([(0, 1), (0, 2), (1, 2)]), \n",
        "                                angle=random.choice([360-15, 15]), \n",
        "                                reshape=False)\n",
        "            X[i,] = x_reshape\n",
        "            \n",
        "            #start y\n",
        "            y[i,] = labels_to_categorical([data['diagnosis']])\n",
        "\n",
        "        return X, y\n",
        "\n",
        "    "
      ],
      "execution_count": 0,
      "outputs": []
    },
    {
      "cell_type": "code",
      "metadata": {
        "id": "FGs1K35WzMxP",
        "colab_type": "code",
        "colab": {
          "base_uri": "https://localhost:8080/",
          "height": 34
        },
        "outputId": "45e6f11a-31c2-495e-8a31-865cb0789557"
      },
      "source": [
        "# Class imbalance handling\n",
        "balancing_weights = class_weight.compute_sample_weight('balanced', train_label)\n",
        "len(balancing_weights)"
      ],
      "execution_count": 115,
      "outputs": [
        {
          "output_type": "execute_result",
          "data": {
            "text/plain": [
              "735"
            ]
          },
          "metadata": {
            "tags": []
          },
          "execution_count": 115
        }
      ]
    },
    {
      "cell_type": "code",
      "metadata": {
        "id": "YpzZF63uzQ9w",
        "colab_type": "code",
        "colab": {}
      },
      "source": [
        "mdg = MyDataGenerator(test_list, processed_dir, to_fit=True, augment=True, \n",
        "                      sample_weight=balancing_weights)\n",
        "\n",
        "X, pred, weights = mdg.__getitem__(0)"
      ],
      "execution_count": 0,
      "outputs": []
    },
    {
      "cell_type": "code",
      "metadata": {
        "id": "uUEOTwa87Kwl",
        "colab_type": "code",
        "outputId": "7f5e4d7f-3f2d-4d97-f091-d32540a087f4",
        "colab": {
          "base_uri": "https://localhost:8080/",
          "height": 34
        }
      },
      "source": [
        "X.shape"
      ],
      "execution_count": 118,
      "outputs": [
        {
          "output_type": "execute_result",
          "data": {
            "text/plain": [
              "(32, 120, 160, 16, 1)"
            ]
          },
          "metadata": {
            "tags": []
          },
          "execution_count": 118
        }
      ]
    },
    {
      "cell_type": "code",
      "metadata": {
        "id": "-vb0PH-hz348",
        "colab_type": "code",
        "colab": {
          "base_uri": "https://localhost:8080/",
          "height": 34
        },
        "outputId": "e7e468ba-e6a9-42fb-8ea1-d45ec744058d"
      },
      "source": [
        "len(weights)"
      ],
      "execution_count": 120,
      "outputs": [
        {
          "output_type": "execute_result",
          "data": {
            "text/plain": [
              "735"
            ]
          },
          "metadata": {
            "tags": []
          },
          "execution_count": 120
        }
      ]
    },
    {
      "cell_type": "markdown",
      "metadata": {
        "id": "pf0QJqFOzQ-a",
        "colab_type": "text"
      },
      "source": [
        "#### Building CAE Encoder"
      ]
    },
    {
      "cell_type": "code",
      "metadata": {
        "id": "Ayyv4uXRzQ-d",
        "colab_type": "code",
        "outputId": "f0f6ee72-fefc-4aeb-848d-b4efc70af3fb",
        "colab": {
          "base_uri": "https://localhost:8080/",
          "height": 561
        }
      },
      "source": [
        "input_img = Input(shape=(120, 160, 16, 1), name='Input')\n",
        "print('\\ninput shape:', input_img.shape)\n",
        "\n",
        "x = Conv3D(10, (3, 3, 3), activation='relu', padding='same', \n",
        "           name='Convolution_1')(input_img)\n",
        "x = MaxPool3D((2, 2, 2), name='MaxPooling_1')(x)\n",
        "x = Dropout(0.8, name='DropOut_1')(x)\n",
        "\n",
        "x = Conv3D(10, (3, 3, 3), activation='relu', padding='same', \n",
        "           name='Convolution_2')(x)\n",
        "x = MaxPool3D((2, 2, 2), name='MaxPooling_2')(x)\n",
        "x = Dropout(0.8, name='DropOut_2')(x)\n",
        "\n",
        "x = Conv3D(10, (3, 3, 3), activation='relu', padding='same', \n",
        "           name='Convolution_3')(x)\n",
        "x = MaxPool3D((2, 2, 2), name='MaxPooling_3')(x)\n",
        "x = Dropout(0.8, name='DropOut_3')(x)\n",
        "\n",
        "encoded = x\n",
        "encoded_shape = K.int_shape(encoded)\n",
        "print('output shape:', encoded_shape, '\\n')\n",
        "\n",
        "CAE_encoder = Model(input_img, encoded, name='CAE_encoder')\n",
        "CAE_encoder.summary()\n"
      ],
      "execution_count": 81,
      "outputs": [
        {
          "output_type": "stream",
          "text": [
            "\n",
            "input shape: (None, 120, 160, 16, 1)\n",
            "output shape: (None, 15, 20, 2, 10) \n",
            "\n",
            "Model: \"CAE_encoder\"\n",
            "_________________________________________________________________\n",
            "Layer (type)                 Output Shape              Param #   \n",
            "=================================================================\n",
            "Input (InputLayer)           [(None, 120, 160, 16, 1)] 0         \n",
            "_________________________________________________________________\n",
            "Convolution_1 (Conv3D)       (None, 120, 160, 16, 10)  280       \n",
            "_________________________________________________________________\n",
            "MaxPooling_1 (MaxPooling3D)  (None, 60, 80, 8, 10)     0         \n",
            "_________________________________________________________________\n",
            "DropOut_1 (Dropout)          (None, 60, 80, 8, 10)     0         \n",
            "_________________________________________________________________\n",
            "Convolution_2 (Conv3D)       (None, 60, 80, 8, 10)     2710      \n",
            "_________________________________________________________________\n",
            "MaxPooling_2 (MaxPooling3D)  (None, 30, 40, 4, 10)     0         \n",
            "_________________________________________________________________\n",
            "DropOut_2 (Dropout)          (None, 30, 40, 4, 10)     0         \n",
            "_________________________________________________________________\n",
            "Convolution_3 (Conv3D)       (None, 30, 40, 4, 10)     2710      \n",
            "_________________________________________________________________\n",
            "MaxPooling_3 (MaxPooling3D)  (None, 15, 20, 2, 10)     0         \n",
            "_________________________________________________________________\n",
            "DropOut_3 (Dropout)          (None, 15, 20, 2, 10)     0         \n",
            "=================================================================\n",
            "Total params: 5,700\n",
            "Trainable params: 5,700\n",
            "Non-trainable params: 0\n",
            "_________________________________________________________________\n"
          ],
          "name": "stdout"
        }
      ]
    },
    {
      "cell_type": "markdown",
      "metadata": {
        "id": "b1o-Xo2SzQ-h",
        "colab_type": "text"
      },
      "source": [
        "#### Building CAE Decoder"
      ]
    },
    {
      "cell_type": "code",
      "metadata": {
        "id": "KiVNE5H4yPaU",
        "colab_type": "code",
        "outputId": "06ce396e-72fb-44af-8e95-ec7072c5bd89",
        "colab": {
          "base_uri": "https://localhost:8080/",
          "height": 34
        }
      },
      "source": [
        "encoded_shape"
      ],
      "execution_count": 82,
      "outputs": [
        {
          "output_type": "execute_result",
          "data": {
            "text/plain": [
              "(None, 15, 20, 2, 10)"
            ]
          },
          "metadata": {
            "tags": []
          },
          "execution_count": 82
        }
      ]
    },
    {
      "cell_type": "code",
      "metadata": {
        "id": "NnPBrgD6zQ-i",
        "colab_type": "code",
        "outputId": "5e3efcc1-36a4-464d-e25f-121bbaaccf11",
        "colab": {
          "base_uri": "https://localhost:8080/",
          "height": 595
        }
      },
      "source": [
        "encoded_input = Input(shape=(encoded_shape[1],encoded_shape[2], \n",
        "                             encoded_shape[3], encoded_shape[4],), \n",
        "                      name='Encoded')\n",
        "\n",
        "print('\\ninput shape:', encoded_input.shape)\n",
        "x = encoded_input\n",
        "\n",
        "x = Conv3DTranspose(10, (3, 3, 3), activation='relu', padding='same', \n",
        "                    name='Convolution_3')(x)\n",
        "x = UpSampling3D((2, 2, 2), name='UpSampling_3')(x)\n",
        "x = Dropout(0.8, name='DropOut_3')(x)\n",
        "\n",
        "x = Conv3DTranspose(10, (3, 3, 3), activation='relu', padding='same', \n",
        "                    name='Convolution_2')(x)\n",
        "x = UpSampling3D((2, 2, 2), name='UpSampling_2')(x)\n",
        "x = Dropout(0.8, name='DropOut_2')(x)\n",
        "\n",
        "x = Conv3DTranspose(10, (3, 3, 3), activation='relu', padding='same', \n",
        "                    name='Convolution_1')(x)\n",
        "x = UpSampling3D((2, 2, 2), name='UpSampling_1')(x)\n",
        "x = Dropout(0.8, name='DropOut_1')(x)\n",
        "\n",
        "decoded = Conv3DTranspose(1, (3, 3, 3), activation='sigmoid', padding='same', \n",
        "                          name='Output')(x)\n",
        "\n",
        "print('output shape:', K.int_shape(decoded), '\\n')\n",
        "\n",
        "CAE_decoder = Model(encoded_input, decoded, name='CAE_decoder')\n",
        "CAE_decoder.summary()"
      ],
      "execution_count": 83,
      "outputs": [
        {
          "output_type": "stream",
          "text": [
            "\n",
            "input shape: (None, 15, 20, 2, 10)\n",
            "output shape: (None, 120, 160, 16, 1) \n",
            "\n",
            "Model: \"CAE_decoder\"\n",
            "_________________________________________________________________\n",
            "Layer (type)                 Output Shape              Param #   \n",
            "=================================================================\n",
            "Encoded (InputLayer)         [(None, 15, 20, 2, 10)]   0         \n",
            "_________________________________________________________________\n",
            "Convolution_3 (Conv3DTranspo (None, 15, 20, 2, 10)     2710      \n",
            "_________________________________________________________________\n",
            "UpSampling_3 (UpSampling3D)  (None, 30, 40, 4, 10)     0         \n",
            "_________________________________________________________________\n",
            "DropOut_3 (Dropout)          (None, 30, 40, 4, 10)     0         \n",
            "_________________________________________________________________\n",
            "Convolution_2 (Conv3DTranspo (None, 30, 40, 4, 10)     2710      \n",
            "_________________________________________________________________\n",
            "UpSampling_2 (UpSampling3D)  (None, 60, 80, 8, 10)     0         \n",
            "_________________________________________________________________\n",
            "DropOut_2 (Dropout)          (None, 60, 80, 8, 10)     0         \n",
            "_________________________________________________________________\n",
            "Convolution_1 (Conv3DTranspo (None, 60, 80, 8, 10)     2710      \n",
            "_________________________________________________________________\n",
            "UpSampling_1 (UpSampling3D)  (None, 120, 160, 16, 10)  0         \n",
            "_________________________________________________________________\n",
            "DropOut_1 (Dropout)          (None, 120, 160, 16, 10)  0         \n",
            "_________________________________________________________________\n",
            "Output (Conv3DTranspose)     (None, 120, 160, 16, 1)   271       \n",
            "=================================================================\n",
            "Total params: 8,401\n",
            "Trainable params: 8,401\n",
            "Non-trainable params: 0\n",
            "_________________________________________________________________\n"
          ],
          "name": "stdout"
        }
      ]
    },
    {
      "cell_type": "markdown",
      "metadata": {
        "id": "V3szdqC1zQ-k",
        "colab_type": "text"
      },
      "source": [
        "#### Building CAE Autoencoder"
      ]
    },
    {
      "cell_type": "code",
      "metadata": {
        "id": "QKb0jdkXzQ-m",
        "colab_type": "code",
        "outputId": "3ea8e318-10ea-46d5-dc2b-0e0436ef434a",
        "colab": {
          "base_uri": "https://localhost:8080/",
          "height": 255
        }
      },
      "source": [
        "CAE_autoencoder = Model(input_img, CAE_decoder(CAE_encoder(input_img)), \n",
        "                        name='CAE_autoencoder')\n",
        "CAE_autoencoder.summary()"
      ],
      "execution_count": 84,
      "outputs": [
        {
          "output_type": "stream",
          "text": [
            "Model: \"CAE_autoencoder\"\n",
            "_________________________________________________________________\n",
            "Layer (type)                 Output Shape              Param #   \n",
            "=================================================================\n",
            "Input (InputLayer)           [(None, 120, 160, 16, 1)] 0         \n",
            "_________________________________________________________________\n",
            "CAE_encoder (Model)          (None, 15, 20, 2, 10)     5700      \n",
            "_________________________________________________________________\n",
            "CAE_decoder (Model)          (None, 120, 160, 16, 1)   8401      \n",
            "=================================================================\n",
            "Total params: 14,101\n",
            "Trainable params: 14,101\n",
            "Non-trainable params: 0\n",
            "_________________________________________________________________\n"
          ],
          "name": "stdout"
        }
      ]
    },
    {
      "cell_type": "code",
      "metadata": {
        "id": "wKlx4vFKzQ-o",
        "colab_type": "code",
        "colab": {}
      },
      "source": [
        "CAE_autoencoder.compile(optimizer='adam', loss='binary_crossentropy')\n",
        "\n",
        "# hist = autoencoder.fit(x_train, x_train, epochs=1, verbose=1, \n",
        "#                        validation_data=(x_test, x_test)) # epochs=200"
      ],
      "execution_count": 0,
      "outputs": []
    },
    {
      "cell_type": "markdown",
      "metadata": {
        "id": "ZpFLNADNzQ-r",
        "colab_type": "text"
      },
      "source": [
        "### ICAE Inception Model"
      ]
    },
    {
      "cell_type": "markdown",
      "metadata": {
        "id": "I9if6blZzQ-s",
        "colab_type": "text"
      },
      "source": [
        "#### Building ICAE Encoder"
      ]
    },
    {
      "cell_type": "code",
      "metadata": {
        "id": "vGFALorfzQ-v",
        "colab_type": "code",
        "colab": {}
      },
      "source": [
        "def inception_module(input, filter_operation):\n",
        "    \"\"\"\n",
        "    filter_operation is a list of inception operations for:\n",
        "        1x1x1 kernel, \n",
        "        1x1x1 then 3x3x3 kernels, \n",
        "        1x1x1 then 3x3x3 then 3x3x3 kernels, \n",
        "        and 3x3x3 maxpooling then 1x1x1 kernels, \n",
        "            respectively.\n",
        "    \"\"\"\n",
        "    \n",
        "    # According to Nature paper (Oh et. al.), l1 and l2 values of 10e-4 \n",
        "    # performed the best from experimentation with 0.01, 0.001, 0.0001, 0.00001 \n",
        "    # values.\n",
        "    l1_value = 10e-4\n",
        "    l2_value = 10e-4\n",
        "\n",
        "    # Branch A\n",
        "    branch_1x1x1 = Conv3D(filter_operation[0], kernel_size=(1, 1, 1), \n",
        "                          activation='relu', padding='same', \n",
        "                          kernel_regularizer=l1_l2(l1_value, l2_value), \n",
        "                          name='Branch_A_1x1x1')(input)\n",
        "\n",
        "    # Branch B\n",
        "    branch_3x3x3_initial = Conv3D(filter_operation[1], kernel_size=(1, 1, 1), \n",
        "                                  activation='relu', padding='same', \n",
        "                                  kernel_regularizer=l1_l2(l1_value, l2_value), \n",
        "                                  name='Branch_B_1x1x1')(input)\n",
        "    branch_3x3x3 = Conv3D(filter_operation[1], kernel_size=(3, 3, 3), \n",
        "                          activation='relu', padding='same', \n",
        "                          kernel_regularizer=l1_l2(l1_value, l2_value), \n",
        "                          name='Branch_B_3x3x3')(branch_3x3x3_initial)\n",
        "\n",
        "    # Branch C\n",
        "    branch_double_3x3x3_initial = Conv3D(filter_operation[2], \n",
        "                                         kernel_size=(1, 1, 1), \n",
        "                                         activation='relu', padding='same', \n",
        "                                         kernel_regularizer=l1_l2(l1_value, \n",
        "                                                                  l2_value), \n",
        "                                         name='Branch_C_1x1x1')(input)\n",
        "    branch_double_3x3x3_middle = Conv3D(filter_operation[2], \n",
        "                                        kernel_size=(3, 3, 3), \n",
        "                                        activation='relu', padding='same', \n",
        "                                        kernel_regularizer=l1_l2(l1_value, \n",
        "                                                                 l2_value), \n",
        "                                        name='Branch_C_1st_3x3x3')\\\n",
        "                                        (branch_double_3x3x3_initial)\n",
        "    branch_double_3x3x3 = Conv3D(filter_operation[2], kernel_size=(3, 3, 3), \n",
        "                                 activation='relu', padding='same', \n",
        "                                 kernel_regularizer=l1_l2(l1_value, l2_value), \n",
        "                                 name='Branch_C_2nd_3x3x3')\\\n",
        "                                 (branch_double_3x3x3_middle)\n",
        "\n",
        "    # Branch D\n",
        "    branch_maxpool_3x3x3_initial = MaxPool3D(pool_size=(3, 3, 3), \n",
        "                                             strides=(1, 1, 1), padding='same', \n",
        "                                             name='Branch_D_3x3x3_maxpool')\\\n",
        "                                             (input)\n",
        "    branch_maxpool_3x3x3 = Conv3D(filter_operation[3], kernel_size=(1, 1, 1), \n",
        "                                  activation='relu', padding='same', \n",
        "                                  kernel_regularizer=l1_l2(l1_value, l2_value), \n",
        "                                  name='Branch_D_1x1x1')\\\n",
        "                                  (branch_maxpool_3x3x3_initial)\n",
        "    \n",
        "    # Merge branches\n",
        "    modules = [branch_1x1x1, branch_3x3x3, branch_double_3x3x3, \n",
        "               branch_maxpool_3x3x3]\n",
        "    merged_module = concatenate(modules, name='Inception_Merged')\n",
        "    \n",
        "    return merged_module\n",
        "    \n"
      ],
      "execution_count": 0,
      "outputs": []
    },
    {
      "cell_type": "code",
      "metadata": {
        "id": "HX5sfPuTzQ-x",
        "colab_type": "code",
        "outputId": "c90c80e6-9629-4d22-d4f2-b7dcd481378b",
        "colab": {
          "base_uri": "https://localhost:8080/",
          "height": 884
        }
      },
      "source": [
        "input_img = Input(shape= (120, 160, 16, 1), name='Input')\n",
        "print('\\ninput shape:', input_img.shape)\n",
        "\n",
        "x = Conv3D(10, (3, 3, 3), activation='relu', padding='same', \n",
        "           name='Convolution_1')(input_img)\n",
        "x = MaxPool3D((2, 2, 2), name='MaxPooling_1')(x)\n",
        "x = Dropout(0.8, name='DropOut_1')(x)\n",
        "\n",
        "x = Conv3D(10, (3, 3, 3), activation='relu', padding='same', \n",
        "           name='Convolution_2')(x)\n",
        "x = MaxPool3D((2, 2, 2), name='MaxPooling_2')(x)\n",
        "x = Dropout(0.8, name='DropOut_2')(x)\n",
        "\n",
        "filter_operations = [10, 10, 10, 10]\n",
        "\n",
        "x = inception_module(x, filter_operations)\n",
        "x = MaxPool3D((2, 2, 2), name='Inception_MaxPooling')(x)\n",
        "x = Dropout(0.8, name='DropOut_3')(x)\n",
        "\n",
        "encoded = x\n",
        "encoded_shape = K.int_shape(encoded)\n",
        "print('output shape:', encoded_shape, '\\n')\n",
        "\n",
        "ICAE_encoder = Model(input_img, encoded, name='ICAE_encoder')\n",
        "ICAE_encoder.summary(positions=[.35, .64, .71, 1.]) \n",
        "# `positions` adjusts print settings to minimize truncation"
      ],
      "execution_count": 87,
      "outputs": [
        {
          "output_type": "stream",
          "text": [
            "\n",
            "input shape: (None, 120, 160, 16, 1)\n",
            "output shape: (None, 15, 20, 2, 40) \n",
            "\n",
            "Model: \"ICAE_encoder\"\n",
            "__________________________________________________________________________________________________\n",
            "Layer (type)                      Output Shape                Param  Connected to                 \n",
            "==================================================================================================\n",
            "Input (InputLayer)                [(None, 120, 160, 16, 1)]   0                                   \n",
            "__________________________________________________________________________________________________\n",
            "Convolution_1 (Conv3D)            (None, 120, 160, 16, 10)    280    Input[0][0]                  \n",
            "__________________________________________________________________________________________________\n",
            "MaxPooling_1 (MaxPooling3D)       (None, 60, 80, 8, 10)       0      Convolution_1[0][0]          \n",
            "__________________________________________________________________________________________________\n",
            "DropOut_1 (Dropout)               (None, 60, 80, 8, 10)       0      MaxPooling_1[0][0]           \n",
            "__________________________________________________________________________________________________\n",
            "Convolution_2 (Conv3D)            (None, 60, 80, 8, 10)       2710   DropOut_1[0][0]              \n",
            "__________________________________________________________________________________________________\n",
            "MaxPooling_2 (MaxPooling3D)       (None, 30, 40, 4, 10)       0      Convolution_2[0][0]          \n",
            "__________________________________________________________________________________________________\n",
            "DropOut_2 (Dropout)               (None, 30, 40, 4, 10)       0      MaxPooling_2[0][0]           \n",
            "__________________________________________________________________________________________________\n",
            "Branch_C_1x1x1 (Conv3D)           (None, 30, 40, 4, 10)       110    DropOut_2[0][0]              \n",
            "__________________________________________________________________________________________________\n",
            "Branch_B_1x1x1 (Conv3D)           (None, 30, 40, 4, 10)       110    DropOut_2[0][0]              \n",
            "__________________________________________________________________________________________________\n",
            "Branch_C_1st_3x3x3 (Conv3D)       (None, 30, 40, 4, 10)       2710   Branch_C_1x1x1[0][0]         \n",
            "__________________________________________________________________________________________________\n",
            "Branch_D_3x3x3_maxpool (MaxPoolin (None, 30, 40, 4, 10)       0      DropOut_2[0][0]              \n",
            "__________________________________________________________________________________________________\n",
            "Branch_A_1x1x1 (Conv3D)           (None, 30, 40, 4, 10)       110    DropOut_2[0][0]              \n",
            "__________________________________________________________________________________________________\n",
            "Branch_B_3x3x3 (Conv3D)           (None, 30, 40, 4, 10)       2710   Branch_B_1x1x1[0][0]         \n",
            "__________________________________________________________________________________________________\n",
            "Branch_C_2nd_3x3x3 (Conv3D)       (None, 30, 40, 4, 10)       2710   Branch_C_1st_3x3x3[0][0]     \n",
            "__________________________________________________________________________________________________\n",
            "Branch_D_1x1x1 (Conv3D)           (None, 30, 40, 4, 10)       110    Branch_D_3x3x3_maxpool[0][0] \n",
            "__________________________________________________________________________________________________\n",
            "Inception_Merged (Concatenate)    (None, 30, 40, 4, 40)       0      Branch_A_1x1x1[0][0]         \n",
            "                                                                     Branch_B_3x3x3[0][0]         \n",
            "                                                                     Branch_C_2nd_3x3x3[0][0]     \n",
            "                                                                     Branch_D_1x1x1[0][0]         \n",
            "__________________________________________________________________________________________________\n",
            "Inception_MaxPooling (MaxPooling3 (None, 15, 20, 2, 40)       0      Inception_Merged[0][0]       \n",
            "__________________________________________________________________________________________________\n",
            "DropOut_3 (Dropout)               (None, 15, 20, 2, 40)       0      Inception_MaxPooling[0][0]   \n",
            "==================================================================================================\n",
            "Total params: 11,560\n",
            "Trainable params: 11,560\n",
            "Non-trainable params: 0\n",
            "__________________________________________________________________________________________________\n"
          ],
          "name": "stdout"
        }
      ]
    },
    {
      "cell_type": "markdown",
      "metadata": {
        "id": "KsOlxg4vzQ-z",
        "colab_type": "text"
      },
      "source": [
        "#### Building ICAE Decoder"
      ]
    },
    {
      "cell_type": "code",
      "metadata": {
        "id": "AyLnMo4szQ-0",
        "colab_type": "code",
        "outputId": "e4e67764-65c5-4bf9-eec2-91a2afa1c34d",
        "colab": {
          "base_uri": "https://localhost:8080/",
          "height": 918
        }
      },
      "source": [
        "encoded_input= Input(shape=(encoded_shape[1],encoded_shape[2], \n",
        "                            encoded_shape[3], encoded_shape[4],), \n",
        "                     name='Encoded')\n",
        "print('\\ninput shape:', encoded_input.shape)\n",
        "\n",
        "combined_dim = sum(filter_operations) \n",
        "# `filter_operations` taken from ICAE encoder\n",
        "\n",
        "x = encoded_input\n",
        "\n",
        "x = inception_module(x, filter_operations)\n",
        "x = UpSampling3D((2, 2, 2), name='Inception_Upsampling')(x)\n",
        "x = Dropout(0.8, name='DropOut_3')(x)\n",
        "\n",
        "x = Conv3DTranspose(10, (3, 3, 3), activation='relu', padding='same', \n",
        "                    name='Convolution_2')(x)\n",
        "x = UpSampling3D((2, 2, 2), name='Upsampling_2')(x)\n",
        "x = Dropout(0.8, name='DropOut_2')(x)\n",
        "\n",
        "x = Conv3DTranspose(10, (3, 3, 3), activation='relu', padding='same', \n",
        "                    name='Convolution_1')(x)\n",
        "x = UpSampling3D((2, 2, 2), name='Upsampling_1')(x)\n",
        "x = Dropout(0.8, name='DropOut_1')(x)\n",
        "\n",
        "decoded = Conv3DTranspose(1, (3, 3, 3), activation='sigmoid', padding='same', \n",
        "                          name='Output')(x)\n",
        "\n",
        "print('output shape:', K.int_shape(decoded), '\\n')\n",
        "\n",
        "ICAE_decoder = Model(encoded_input, decoded, name='ICAE_decoder')\n",
        "ICAE_decoder.summary(positions=[.35, .64, .71, 1.])\n"
      ],
      "execution_count": 88,
      "outputs": [
        {
          "output_type": "stream",
          "text": [
            "\n",
            "input shape: (None, 15, 20, 2, 40)\n",
            "output shape: (None, 120, 160, 16, 1) \n",
            "\n",
            "Model: \"ICAE_decoder\"\n",
            "__________________________________________________________________________________________________\n",
            "Layer (type)                      Output Shape                Param  Connected to                 \n",
            "==================================================================================================\n",
            "Encoded (InputLayer)              [(None, 15, 20, 2, 40)]     0                                   \n",
            "__________________________________________________________________________________________________\n",
            "Branch_C_1x1x1 (Conv3D)           (None, 15, 20, 2, 10)       410    Encoded[0][0]                \n",
            "__________________________________________________________________________________________________\n",
            "Branch_B_1x1x1 (Conv3D)           (None, 15, 20, 2, 10)       410    Encoded[0][0]                \n",
            "__________________________________________________________________________________________________\n",
            "Branch_C_1st_3x3x3 (Conv3D)       (None, 15, 20, 2, 10)       2710   Branch_C_1x1x1[0][0]         \n",
            "__________________________________________________________________________________________________\n",
            "Branch_D_3x3x3_maxpool (MaxPoolin (None, 15, 20, 2, 40)       0      Encoded[0][0]                \n",
            "__________________________________________________________________________________________________\n",
            "Branch_A_1x1x1 (Conv3D)           (None, 15, 20, 2, 10)       410    Encoded[0][0]                \n",
            "__________________________________________________________________________________________________\n",
            "Branch_B_3x3x3 (Conv3D)           (None, 15, 20, 2, 10)       2710   Branch_B_1x1x1[0][0]         \n",
            "__________________________________________________________________________________________________\n",
            "Branch_C_2nd_3x3x3 (Conv3D)       (None, 15, 20, 2, 10)       2710   Branch_C_1st_3x3x3[0][0]     \n",
            "__________________________________________________________________________________________________\n",
            "Branch_D_1x1x1 (Conv3D)           (None, 15, 20, 2, 10)       410    Branch_D_3x3x3_maxpool[0][0] \n",
            "__________________________________________________________________________________________________\n",
            "Inception_Merged (Concatenate)    (None, 15, 20, 2, 40)       0      Branch_A_1x1x1[0][0]         \n",
            "                                                                     Branch_B_3x3x3[0][0]         \n",
            "                                                                     Branch_C_2nd_3x3x3[0][0]     \n",
            "                                                                     Branch_D_1x1x1[0][0]         \n",
            "__________________________________________________________________________________________________\n",
            "Inception_Upsampling (UpSampling3 (None, 30, 40, 4, 40)       0      Inception_Merged[0][0]       \n",
            "__________________________________________________________________________________________________\n",
            "DropOut_3 (Dropout)               (None, 30, 40, 4, 40)       0      Inception_Upsampling[0][0]   \n",
            "__________________________________________________________________________________________________\n",
            "Convolution_2 (Conv3DTranspose)   (None, 30, 40, 4, 10)       10810  DropOut_3[0][0]              \n",
            "__________________________________________________________________________________________________\n",
            "Upsampling_2 (UpSampling3D)       (None, 60, 80, 8, 10)       0      Convolution_2[0][0]          \n",
            "__________________________________________________________________________________________________\n",
            "DropOut_2 (Dropout)               (None, 60, 80, 8, 10)       0      Upsampling_2[0][0]           \n",
            "__________________________________________________________________________________________________\n",
            "Convolution_1 (Conv3DTranspose)   (None, 60, 80, 8, 10)       2710   DropOut_2[0][0]              \n",
            "__________________________________________________________________________________________________\n",
            "Upsampling_1 (UpSampling3D)       (None, 120, 160, 16, 10)    0      Convolution_1[0][0]          \n",
            "__________________________________________________________________________________________________\n",
            "DropOut_1 (Dropout)               (None, 120, 160, 16, 10)    0      Upsampling_1[0][0]           \n",
            "__________________________________________________________________________________________________\n",
            "Output (Conv3DTranspose)          (None, 120, 160, 16, 1)     271    DropOut_1[0][0]              \n",
            "==================================================================================================\n",
            "Total params: 23,561\n",
            "Trainable params: 23,561\n",
            "Non-trainable params: 0\n",
            "__________________________________________________________________________________________________\n"
          ],
          "name": "stdout"
        }
      ]
    },
    {
      "cell_type": "markdown",
      "metadata": {
        "id": "ol-4Dt7WzQ-4",
        "colab_type": "text"
      },
      "source": [
        "#### Building ICAE Classifier and Autoencoder"
      ]
    },
    {
      "cell_type": "code",
      "metadata": {
        "id": "5xQYaVA2ssdV",
        "colab_type": "code",
        "outputId": "6d2fe244-993c-4c14-81d1-23bb60807ae1",
        "colab": {
          "base_uri": "https://localhost:8080/",
          "height": 323
        }
      },
      "source": [
        "# ICAE Classifier\n",
        "\n",
        "encoded_input = Input(shape=(encoded_shape[1], encoded_shape[2], \n",
        "                             encoded_shape[3], encoded_shape[4],), \n",
        "                      name='Encoded')\n",
        "\n",
        "y = encoded_input\n",
        "\n",
        "y = Flatten(name='Flatten')(y)\n",
        "y = Dense(32, activation='selu', name='SELU_1')(y)\n",
        "y = Dense(16, activation='selu', name='SELU_2')(y)\n",
        "y = Dense(2, activation='softmax', name='Prediction')(y)\n",
        "\n",
        "ICAE_pred = y\n",
        "\n",
        "ICAE_classifier = Model(encoded_input, ICAE_pred, name='ICAE_classifier')\n",
        "ICAE_classifier.summary()"
      ],
      "execution_count": 89,
      "outputs": [
        {
          "output_type": "stream",
          "text": [
            "Model: \"ICAE_classifier\"\n",
            "_________________________________________________________________\n",
            "Layer (type)                 Output Shape              Param #   \n",
            "=================================================================\n",
            "Encoded (InputLayer)         [(None, 15, 20, 2, 40)]   0         \n",
            "_________________________________________________________________\n",
            "Flatten (Flatten)            (None, 24000)             0         \n",
            "_________________________________________________________________\n",
            "SELU_1 (Dense)               (None, 32)                768032    \n",
            "_________________________________________________________________\n",
            "SELU_2 (Dense)               (None, 16)                528       \n",
            "_________________________________________________________________\n",
            "Prediction (Dense)           (None, 2)                 34        \n",
            "=================================================================\n",
            "Total params: 768,594\n",
            "Trainable params: 768,594\n",
            "Non-trainable params: 0\n",
            "_________________________________________________________________\n"
          ],
          "name": "stdout"
        }
      ]
    },
    {
      "cell_type": "code",
      "metadata": {
        "id": "kjQVyVdYzQ-4",
        "colab_type": "code",
        "outputId": "c97472f3-175d-4323-fbe5-1f95791e60b2",
        "colab": {
          "base_uri": "https://localhost:8080/",
          "height": 306
        }
      },
      "source": [
        "ICAE_autoencoder = Model(inputs=input_img, \n",
        "                         outputs=[ICAE_decoder(ICAE_encoder(input_img)), \n",
        "                                  ICAE_classifier(ICAE_encoder(input_img))],\n",
        "                   name='ICAE_autoencoder')\n",
        "ICAE_autoencoder.summary()"
      ],
      "execution_count": 90,
      "outputs": [
        {
          "output_type": "stream",
          "text": [
            "Model: \"ICAE_autoencoder\"\n",
            "__________________________________________________________________________________________________\n",
            "Layer (type)                    Output Shape         Param #     Connected to                     \n",
            "==================================================================================================\n",
            "Input (InputLayer)              [(None, 120, 160, 16 0                                            \n",
            "__________________________________________________________________________________________________\n",
            "ICAE_encoder (Model)            (None, 15, 20, 2, 40 11560       Input[0][0]                      \n",
            "                                                                 Input[0][0]                      \n",
            "__________________________________________________________________________________________________\n",
            "ICAE_decoder (Model)            (None, 120, 160, 16, 23561       ICAE_encoder[1][0]               \n",
            "__________________________________________________________________________________________________\n",
            "ICAE_classifier (Model)         (None, 2)            768594      ICAE_encoder[2][0]               \n",
            "==================================================================================================\n",
            "Total params: 803,715\n",
            "Trainable params: 803,715\n",
            "Non-trainable params: 0\n",
            "__________________________________________________________________________________________________\n"
          ],
          "name": "stdout"
        }
      ]
    },
    {
      "cell_type": "code",
      "metadata": {
        "id": "WzIAsNitzQ-7",
        "colab_type": "code",
        "colab": {}
      },
      "source": [
        "losses = {'ICAE_decoder':'mse', 'ICAE_classifier':'categorical_crossentropy'}\n",
        "metrics= {'ICAE_decoder':'mae', 'ICAE_classifier':[ \\\n",
        "                                            tf.keras.metrics.Accuracy()\n",
        "                                            tf.keras.metrics.Precision(), \n",
        "                                            tf.keras.metrics.Recall(),\n",
        "                                            tf.keras.metrics.FalseNegatives(), \n",
        "                                            tf.keras.metrics.FalsePositives()]}\n",
        "loss_weights={'ICAE_decoder':0.5, 'ICAE_classifier':0.5}\n",
        "\n",
        "ICAE_autoencoder.compile(optimizer='sgd', \n",
        "                         loss=losses,\n",
        "                         loss_weights = loss_weights,\n",
        "                         metrics=metrics)\n",
        "\n",
        "# ICAE_hist = ICAE_autoencoder.fit(x_train, x_train, epochs=1, verbose=1, \n",
        "#                                 validation_data=(x_test, x_test)) # epochs=200\n",
        "\n",
        "\n",
        "\n"
      ],
      "execution_count": 0,
      "outputs": []
    },
    {
      "cell_type": "code",
      "metadata": {
        "id": "aonFiMErCkN3",
        "colab_type": "code",
        "colab": {}
      },
      "source": [
        "train_generator = MyDataGenerator(train_list, processed_dir, to_fit=True, \n",
        "                                  augment=False, batch_size=32)\n",
        "test_generator = MyDataGenerator(test_list, processed_dir, batch_size=32)"
      ],
      "execution_count": 0,
      "outputs": []
    },
    {
      "cell_type": "code",
      "metadata": {
        "id": "tCHdEEUHpLlz",
        "colab_type": "code",
        "colab": {
          "base_uri": "https://localhost:8080/",
          "height": 446
        },
        "outputId": "8cafcd4c-edea-468d-b3ec-30b06c734616"
      },
      "source": [
        "history = ICAE_autoencoder.fit(train_generator, epochs=3, \n",
        "                               validation_data=test_generator, \n",
        "                               shuffle=True, use_multiprocessing=False)\n",
        "# given the warning, if this hangs, try default use_multiprocessing=False"
      ],
      "execution_count": 146,
      "outputs": [
        {
          "output_type": "stream",
          "text": [
            "Epoch 1/3\n",
            "22/22 [==============================] - 443s 20s/step - loss: 1.7810 - ICAE_decoder_loss: 0.1134 - ICAE_classifier_loss: 0.6548 - ICAE_decoder_mae: 0.2886 - ICAE_classifier_precision_9: 0.6392 - ICAE_classifier_false_negatives_4: 254.0000 - ICAE_classifier_false_positives_4: 254.0000 - val_loss: 1.7793 - val_ICAE_decoder_loss: 0.1064 - val_ICAE_classifier_loss: 0.6639 - val_ICAE_decoder_mae: 0.2807 - val_ICAE_classifier_precision_9: 0.6406 - val_ICAE_classifier_false_negatives_4: 69.0000 - val_ICAE_classifier_false_positives_4: 69.0000\n",
            "Epoch 2/3\n",
            " 6/22 [=======>......................] - ETA: 2:38 - loss: 1.7836 - ICAE_decoder_loss: 0.1100 - ICAE_classifier_loss: 0.6701 - ICAE_decoder_mae: 0.2839 - ICAE_classifier_precision_9: 0.6094 - ICAE_classifier_false_negatives_4: 75.0000 - ICAE_classifier_false_positives_4: 75.0000"
          ],
          "name": "stdout"
        },
        {
          "output_type": "error",
          "ename": "KeyboardInterrupt",
          "evalue": "ignored",
          "traceback": [
            "\u001b[0;31m---------------------------------------------------------------------------\u001b[0m",
            "\u001b[0;31mKeyboardInterrupt\u001b[0m                         Traceback (most recent call last)",
            "\u001b[0;32m<ipython-input-146-f34fe9e68005>\u001b[0m in \u001b[0;36m<module>\u001b[0;34m()\u001b[0m\n\u001b[1;32m      1\u001b[0m history = ICAE_autoencoder.fit(train_generator, epochs=3, \n\u001b[1;32m      2\u001b[0m                                \u001b[0mvalidation_data\u001b[0m\u001b[0;34m=\u001b[0m\u001b[0mtest_generator\u001b[0m\u001b[0;34m,\u001b[0m\u001b[0;34m\u001b[0m\u001b[0;34m\u001b[0m\u001b[0m\n\u001b[0;32m----> 3\u001b[0;31m                                shuffle=True, use_multiprocessing=False)\n\u001b[0m\u001b[1;32m      4\u001b[0m \u001b[0;31m# given the warning, if this hangs, try default use_multiprocessing=False\u001b[0m\u001b[0;34m\u001b[0m\u001b[0;34m\u001b[0m\u001b[0;34m\u001b[0m\u001b[0m\n",
            "\u001b[0;32m/usr/local/lib/python3.6/dist-packages/tensorflow/python/keras/engine/training.py\u001b[0m in \u001b[0;36m_method_wrapper\u001b[0;34m(self, *args, **kwargs)\u001b[0m\n\u001b[1;32m     64\u001b[0m   \u001b[0;32mdef\u001b[0m \u001b[0m_method_wrapper\u001b[0m\u001b[0;34m(\u001b[0m\u001b[0mself\u001b[0m\u001b[0;34m,\u001b[0m \u001b[0;34m*\u001b[0m\u001b[0margs\u001b[0m\u001b[0;34m,\u001b[0m \u001b[0;34m**\u001b[0m\u001b[0mkwargs\u001b[0m\u001b[0;34m)\u001b[0m\u001b[0;34m:\u001b[0m\u001b[0;34m\u001b[0m\u001b[0;34m\u001b[0m\u001b[0m\n\u001b[1;32m     65\u001b[0m     \u001b[0;32mif\u001b[0m \u001b[0;32mnot\u001b[0m \u001b[0mself\u001b[0m\u001b[0;34m.\u001b[0m\u001b[0m_in_multi_worker_mode\u001b[0m\u001b[0;34m(\u001b[0m\u001b[0;34m)\u001b[0m\u001b[0;34m:\u001b[0m  \u001b[0;31m# pylint: disable=protected-access\u001b[0m\u001b[0;34m\u001b[0m\u001b[0;34m\u001b[0m\u001b[0m\n\u001b[0;32m---> 66\u001b[0;31m       \u001b[0;32mreturn\u001b[0m \u001b[0mmethod\u001b[0m\u001b[0;34m(\u001b[0m\u001b[0mself\u001b[0m\u001b[0;34m,\u001b[0m \u001b[0;34m*\u001b[0m\u001b[0margs\u001b[0m\u001b[0;34m,\u001b[0m \u001b[0;34m**\u001b[0m\u001b[0mkwargs\u001b[0m\u001b[0;34m)\u001b[0m\u001b[0;34m\u001b[0m\u001b[0;34m\u001b[0m\u001b[0m\n\u001b[0m\u001b[1;32m     67\u001b[0m \u001b[0;34m\u001b[0m\u001b[0m\n\u001b[1;32m     68\u001b[0m     \u001b[0;31m# Running inside `run_distribute_coordinator` already.\u001b[0m\u001b[0;34m\u001b[0m\u001b[0;34m\u001b[0m\u001b[0;34m\u001b[0m\u001b[0m\n",
            "\u001b[0;32m/usr/local/lib/python3.6/dist-packages/tensorflow/python/keras/engine/training.py\u001b[0m in \u001b[0;36mfit\u001b[0;34m(self, x, y, batch_size, epochs, verbose, callbacks, validation_split, validation_data, shuffle, class_weight, sample_weight, initial_epoch, steps_per_epoch, validation_steps, validation_batch_size, validation_freq, max_queue_size, workers, use_multiprocessing)\u001b[0m\n\u001b[1;32m    846\u001b[0m                 batch_size=batch_size):\n\u001b[1;32m    847\u001b[0m               \u001b[0mcallbacks\u001b[0m\u001b[0;34m.\u001b[0m\u001b[0mon_train_batch_begin\u001b[0m\u001b[0;34m(\u001b[0m\u001b[0mstep\u001b[0m\u001b[0;34m)\u001b[0m\u001b[0;34m\u001b[0m\u001b[0;34m\u001b[0m\u001b[0m\n\u001b[0;32m--> 848\u001b[0;31m               \u001b[0mtmp_logs\u001b[0m \u001b[0;34m=\u001b[0m \u001b[0mtrain_function\u001b[0m\u001b[0;34m(\u001b[0m\u001b[0miterator\u001b[0m\u001b[0;34m)\u001b[0m\u001b[0;34m\u001b[0m\u001b[0;34m\u001b[0m\u001b[0m\n\u001b[0m\u001b[1;32m    849\u001b[0m               \u001b[0;31m# Catch OutOfRangeError for Datasets of unknown size.\u001b[0m\u001b[0;34m\u001b[0m\u001b[0;34m\u001b[0m\u001b[0;34m\u001b[0m\u001b[0m\n\u001b[1;32m    850\u001b[0m               \u001b[0;31m# This blocks until the batch has finished executing.\u001b[0m\u001b[0;34m\u001b[0m\u001b[0;34m\u001b[0m\u001b[0;34m\u001b[0m\u001b[0m\n",
            "\u001b[0;32m/usr/local/lib/python3.6/dist-packages/tensorflow/python/eager/def_function.py\u001b[0m in \u001b[0;36m__call__\u001b[0;34m(self, *args, **kwds)\u001b[0m\n\u001b[1;32m    578\u001b[0m         \u001b[0mxla_context\u001b[0m\u001b[0;34m.\u001b[0m\u001b[0mExit\u001b[0m\u001b[0;34m(\u001b[0m\u001b[0;34m)\u001b[0m\u001b[0;34m\u001b[0m\u001b[0;34m\u001b[0m\u001b[0m\n\u001b[1;32m    579\u001b[0m     \u001b[0;32melse\u001b[0m\u001b[0;34m:\u001b[0m\u001b[0;34m\u001b[0m\u001b[0;34m\u001b[0m\u001b[0m\n\u001b[0;32m--> 580\u001b[0;31m       \u001b[0mresult\u001b[0m \u001b[0;34m=\u001b[0m \u001b[0mself\u001b[0m\u001b[0;34m.\u001b[0m\u001b[0m_call\u001b[0m\u001b[0;34m(\u001b[0m\u001b[0;34m*\u001b[0m\u001b[0margs\u001b[0m\u001b[0;34m,\u001b[0m \u001b[0;34m**\u001b[0m\u001b[0mkwds\u001b[0m\u001b[0;34m)\u001b[0m\u001b[0;34m\u001b[0m\u001b[0;34m\u001b[0m\u001b[0m\n\u001b[0m\u001b[1;32m    581\u001b[0m \u001b[0;34m\u001b[0m\u001b[0m\n\u001b[1;32m    582\u001b[0m     \u001b[0;32mif\u001b[0m \u001b[0mtracing_count\u001b[0m \u001b[0;34m==\u001b[0m \u001b[0mself\u001b[0m\u001b[0;34m.\u001b[0m\u001b[0m_get_tracing_count\u001b[0m\u001b[0;34m(\u001b[0m\u001b[0;34m)\u001b[0m\u001b[0;34m:\u001b[0m\u001b[0;34m\u001b[0m\u001b[0;34m\u001b[0m\u001b[0m\n",
            "\u001b[0;32m/usr/local/lib/python3.6/dist-packages/tensorflow/python/eager/def_function.py\u001b[0m in \u001b[0;36m_call\u001b[0;34m(self, *args, **kwds)\u001b[0m\n\u001b[1;32m    609\u001b[0m       \u001b[0;31m# In this case we have created variables on the first call, so we run the\u001b[0m\u001b[0;34m\u001b[0m\u001b[0;34m\u001b[0m\u001b[0;34m\u001b[0m\u001b[0m\n\u001b[1;32m    610\u001b[0m       \u001b[0;31m# defunned version which is guaranteed to never create variables.\u001b[0m\u001b[0;34m\u001b[0m\u001b[0;34m\u001b[0m\u001b[0;34m\u001b[0m\u001b[0m\n\u001b[0;32m--> 611\u001b[0;31m       \u001b[0;32mreturn\u001b[0m \u001b[0mself\u001b[0m\u001b[0;34m.\u001b[0m\u001b[0m_stateless_fn\u001b[0m\u001b[0;34m(\u001b[0m\u001b[0;34m*\u001b[0m\u001b[0margs\u001b[0m\u001b[0;34m,\u001b[0m \u001b[0;34m**\u001b[0m\u001b[0mkwds\u001b[0m\u001b[0;34m)\u001b[0m  \u001b[0;31m# pylint: disable=not-callable\u001b[0m\u001b[0;34m\u001b[0m\u001b[0;34m\u001b[0m\u001b[0m\n\u001b[0m\u001b[1;32m    612\u001b[0m     \u001b[0;32melif\u001b[0m \u001b[0mself\u001b[0m\u001b[0;34m.\u001b[0m\u001b[0m_stateful_fn\u001b[0m \u001b[0;32mis\u001b[0m \u001b[0;32mnot\u001b[0m \u001b[0;32mNone\u001b[0m\u001b[0;34m:\u001b[0m\u001b[0;34m\u001b[0m\u001b[0;34m\u001b[0m\u001b[0m\n\u001b[1;32m    613\u001b[0m       \u001b[0;31m# Release the lock early so that multiple threads can perform the call\u001b[0m\u001b[0;34m\u001b[0m\u001b[0;34m\u001b[0m\u001b[0;34m\u001b[0m\u001b[0m\n",
            "\u001b[0;32m/usr/local/lib/python3.6/dist-packages/tensorflow/python/eager/function.py\u001b[0m in \u001b[0;36m__call__\u001b[0;34m(self, *args, **kwargs)\u001b[0m\n\u001b[1;32m   2418\u001b[0m     \u001b[0;32mwith\u001b[0m \u001b[0mself\u001b[0m\u001b[0;34m.\u001b[0m\u001b[0m_lock\u001b[0m\u001b[0;34m:\u001b[0m\u001b[0;34m\u001b[0m\u001b[0;34m\u001b[0m\u001b[0m\n\u001b[1;32m   2419\u001b[0m       \u001b[0mgraph_function\u001b[0m\u001b[0;34m,\u001b[0m \u001b[0margs\u001b[0m\u001b[0;34m,\u001b[0m \u001b[0mkwargs\u001b[0m \u001b[0;34m=\u001b[0m \u001b[0mself\u001b[0m\u001b[0;34m.\u001b[0m\u001b[0m_maybe_define_function\u001b[0m\u001b[0;34m(\u001b[0m\u001b[0margs\u001b[0m\u001b[0;34m,\u001b[0m \u001b[0mkwargs\u001b[0m\u001b[0;34m)\u001b[0m\u001b[0;34m\u001b[0m\u001b[0;34m\u001b[0m\u001b[0m\n\u001b[0;32m-> 2420\u001b[0;31m     \u001b[0;32mreturn\u001b[0m \u001b[0mgraph_function\u001b[0m\u001b[0;34m.\u001b[0m\u001b[0m_filtered_call\u001b[0m\u001b[0;34m(\u001b[0m\u001b[0margs\u001b[0m\u001b[0;34m,\u001b[0m \u001b[0mkwargs\u001b[0m\u001b[0;34m)\u001b[0m  \u001b[0;31m# pylint: disable=protected-access\u001b[0m\u001b[0;34m\u001b[0m\u001b[0;34m\u001b[0m\u001b[0m\n\u001b[0m\u001b[1;32m   2421\u001b[0m \u001b[0;34m\u001b[0m\u001b[0m\n\u001b[1;32m   2422\u001b[0m   \u001b[0;34m@\u001b[0m\u001b[0mproperty\u001b[0m\u001b[0;34m\u001b[0m\u001b[0;34m\u001b[0m\u001b[0m\n",
            "\u001b[0;32m/usr/local/lib/python3.6/dist-packages/tensorflow/python/eager/function.py\u001b[0m in \u001b[0;36m_filtered_call\u001b[0;34m(self, args, kwargs)\u001b[0m\n\u001b[1;32m   1663\u001b[0m          if isinstance(t, (ops.Tensor,\n\u001b[1;32m   1664\u001b[0m                            resource_variable_ops.BaseResourceVariable))),\n\u001b[0;32m-> 1665\u001b[0;31m         self.captured_inputs)\n\u001b[0m\u001b[1;32m   1666\u001b[0m \u001b[0;34m\u001b[0m\u001b[0m\n\u001b[1;32m   1667\u001b[0m   \u001b[0;32mdef\u001b[0m \u001b[0m_call_flat\u001b[0m\u001b[0;34m(\u001b[0m\u001b[0mself\u001b[0m\u001b[0;34m,\u001b[0m \u001b[0margs\u001b[0m\u001b[0;34m,\u001b[0m \u001b[0mcaptured_inputs\u001b[0m\u001b[0;34m,\u001b[0m \u001b[0mcancellation_manager\u001b[0m\u001b[0;34m=\u001b[0m\u001b[0;32mNone\u001b[0m\u001b[0;34m)\u001b[0m\u001b[0;34m:\u001b[0m\u001b[0;34m\u001b[0m\u001b[0;34m\u001b[0m\u001b[0m\n",
            "\u001b[0;32m/usr/local/lib/python3.6/dist-packages/tensorflow/python/eager/function.py\u001b[0m in \u001b[0;36m_call_flat\u001b[0;34m(self, args, captured_inputs, cancellation_manager)\u001b[0m\n\u001b[1;32m   1744\u001b[0m       \u001b[0;31m# No tape is watching; skip to running the function.\u001b[0m\u001b[0;34m\u001b[0m\u001b[0;34m\u001b[0m\u001b[0;34m\u001b[0m\u001b[0m\n\u001b[1;32m   1745\u001b[0m       return self._build_call_outputs(self._inference_function.call(\n\u001b[0;32m-> 1746\u001b[0;31m           ctx, args, cancellation_manager=cancellation_manager))\n\u001b[0m\u001b[1;32m   1747\u001b[0m     forward_backward = self._select_forward_and_backward_functions(\n\u001b[1;32m   1748\u001b[0m         \u001b[0margs\u001b[0m\u001b[0;34m,\u001b[0m\u001b[0;34m\u001b[0m\u001b[0;34m\u001b[0m\u001b[0m\n",
            "\u001b[0;32m/usr/local/lib/python3.6/dist-packages/tensorflow/python/eager/function.py\u001b[0m in \u001b[0;36mcall\u001b[0;34m(self, ctx, args, cancellation_manager)\u001b[0m\n\u001b[1;32m    596\u001b[0m               \u001b[0minputs\u001b[0m\u001b[0;34m=\u001b[0m\u001b[0margs\u001b[0m\u001b[0;34m,\u001b[0m\u001b[0;34m\u001b[0m\u001b[0;34m\u001b[0m\u001b[0m\n\u001b[1;32m    597\u001b[0m               \u001b[0mattrs\u001b[0m\u001b[0;34m=\u001b[0m\u001b[0mattrs\u001b[0m\u001b[0;34m,\u001b[0m\u001b[0;34m\u001b[0m\u001b[0;34m\u001b[0m\u001b[0m\n\u001b[0;32m--> 598\u001b[0;31m               ctx=ctx)\n\u001b[0m\u001b[1;32m    599\u001b[0m         \u001b[0;32melse\u001b[0m\u001b[0;34m:\u001b[0m\u001b[0;34m\u001b[0m\u001b[0;34m\u001b[0m\u001b[0m\n\u001b[1;32m    600\u001b[0m           outputs = execute.execute_with_cancellation(\n",
            "\u001b[0;32m/usr/local/lib/python3.6/dist-packages/tensorflow/python/eager/execute.py\u001b[0m in \u001b[0;36mquick_execute\u001b[0;34m(op_name, num_outputs, inputs, attrs, ctx, name)\u001b[0m\n\u001b[1;32m     58\u001b[0m     \u001b[0mctx\u001b[0m\u001b[0;34m.\u001b[0m\u001b[0mensure_initialized\u001b[0m\u001b[0;34m(\u001b[0m\u001b[0;34m)\u001b[0m\u001b[0;34m\u001b[0m\u001b[0;34m\u001b[0m\u001b[0m\n\u001b[1;32m     59\u001b[0m     tensors = pywrap_tfe.TFE_Py_Execute(ctx._handle, device_name, op_name,\n\u001b[0;32m---> 60\u001b[0;31m                                         inputs, attrs, num_outputs)\n\u001b[0m\u001b[1;32m     61\u001b[0m   \u001b[0;32mexcept\u001b[0m \u001b[0mcore\u001b[0m\u001b[0;34m.\u001b[0m\u001b[0m_NotOkStatusException\u001b[0m \u001b[0;32mas\u001b[0m \u001b[0me\u001b[0m\u001b[0;34m:\u001b[0m\u001b[0;34m\u001b[0m\u001b[0;34m\u001b[0m\u001b[0m\n\u001b[1;32m     62\u001b[0m     \u001b[0;32mif\u001b[0m \u001b[0mname\u001b[0m \u001b[0;32mis\u001b[0m \u001b[0;32mnot\u001b[0m \u001b[0;32mNone\u001b[0m\u001b[0;34m:\u001b[0m\u001b[0;34m\u001b[0m\u001b[0;34m\u001b[0m\u001b[0m\n",
            "\u001b[0;31mKeyboardInterrupt\u001b[0m: "
          ]
        }
      ]
    },
    {
      "cell_type": "code",
      "metadata": {
        "id": "ppgSLdmM89c3",
        "colab_type": "code",
        "colab": {}
      },
      "source": [
        "test_generator = MyDataGenerator(test_list, processed_dir, batch_size=16, \n",
        "                                 to_fit=False)"
      ],
      "execution_count": 0,
      "outputs": []
    },
    {
      "cell_type": "code",
      "metadata": {
        "id": "wXko1wgZ20mm",
        "colab_type": "code",
        "colab": {}
      },
      "source": [
        "pred = ICAE_autoencoder.predict(test_generator)"
      ],
      "execution_count": 0,
      "outputs": []
    },
    {
      "cell_type": "code",
      "metadata": {
        "id": "mDeDerZN9IC-",
        "colab_type": "code",
        "colab": {
          "base_uri": "https://localhost:8080/",
          "height": 34
        },
        "outputId": "d2c451e6-8980-47e8-bf2b-e42937bfb5ff"
      },
      "source": [
        "np.sum(np.round(pred[1]),axis=0)"
      ],
      "execution_count": 130,
      "outputs": [
        {
          "output_type": "execute_result",
          "data": {
            "text/plain": [
              "array([  0., 192.], dtype=float32)"
            ]
          },
          "metadata": {
            "tags": []
          },
          "execution_count": 130
        }
      ]
    },
    {
      "cell_type": "code",
      "metadata": {
        "id": "cBUHEbZI3KDo",
        "colab_type": "code",
        "colab": {}
      },
      "source": [
        ""
      ],
      "execution_count": 0,
      "outputs": []
    }
  ]
}