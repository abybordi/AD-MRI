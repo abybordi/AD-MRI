{
  "nbformat": 4,
  "nbformat_minor": 0,
  "metadata": {
    "colab": {
      "name": "AD-MRI_Final_Report.ipynb",
      "provenance": [],
      "collapsed_sections": [],
      "authorship_tag": "ABX9TyOTEGH1LJoE3lFR2XDyTOr1"
    },
    "kernelspec": {
      "name": "python3",
      "display_name": "Python 3"
    }
  },
  "cells": [
    {
      "cell_type": "markdown",
      "metadata": {
        "id": "RsJNvJxs2nmv",
        "colab_type": "text"
      },
      "source": [
        "# Classification and Visualization of Alzheimer’s Disease using Volumetric Convolutional Neural Network"
      ]
    },
    {
      "cell_type": "markdown",
      "metadata": {
        "id": "H5TQr7rA2rZH",
        "colab_type": "text"
      },
      "source": [
        "Final Report, Spring 2020<br>\n",
        "CSc 84200 Deep Neural Networks and Applications with TensorFlow<br>\n",
        "CUNY Graduate Center<br>\n",
        "</p>\n",
        "Daniel Brennan, Neuroscience PhD student<br>\n",
        "Arezoo Bybordi, Computer Science PhD student<br>\n",
        "Andrea Ceres, Data Science MS student<br>\n"
      ]
    },
    {
      "cell_type": "markdown",
      "metadata": {
        "id": "6dxxVx8O2rcr",
        "colab_type": "text"
      },
      "source": [
        "## Problem Description"
      ]
    },
    {
      "cell_type": "markdown",
      "metadata": {
        "id": "_xN_0tOh2riv",
        "colab_type": "text"
      },
      "source": [
        "## Approach"
      ]
    },
    {
      "cell_type": "markdown",
      "metadata": {
        "id": "eOVogdxc2rmt",
        "colab_type": "text"
      },
      "source": [
        "### Data Processing"
      ]
    },
    {
      "cell_type": "markdown",
      "metadata": {
        "id": "e4Q8IgcV2rrn",
        "colab_type": "text"
      },
      "source": [
        "### Data Augmentation"
      ]
    },
    {
      "cell_type": "markdown",
      "metadata": {
        "id": "qlvh4-fZ5Gyy",
        "colab_type": "text"
      },
      "source": [
        "### Model Building"
      ]
    },
    {
      "cell_type": "markdown",
      "metadata": {
        "id": "QLGeWaT66HXp",
        "colab_type": "text"
      },
      "source": [
        "#### CAE: Classifier with Autoencoder"
      ]
    },
    {
      "cell_type": "markdown",
      "metadata": {
        "id": "N19X6uH66QBB",
        "colab_type": "text"
      },
      "source": [
        "#### ICAE: Classifier with Inception Block and without Autoencoder"
      ]
    },
    {
      "cell_type": "markdown",
      "metadata": {
        "id": "huz3-Ik46UvQ",
        "colab_type": "text"
      },
      "source": [
        "#### CnoAE: Classifier without Autoencoder"
      ]
    },
    {
      "cell_type": "markdown",
      "metadata": {
        "id": "Pgegz8GC6Uzp",
        "colab_type": "text"
      },
      "source": [
        "#### ICnoAE: Classifier with Inception Block and without Autoencoder"
      ]
    },
    {
      "cell_type": "markdown",
      "metadata": {
        "id": "F-wVYD7z5QGr",
        "colab_type": "text"
      },
      "source": [
        "## Results"
      ]
    },
    {
      "cell_type": "markdown",
      "metadata": {
        "id": "ipdcwlX75QJj",
        "colab_type": "text"
      },
      "source": [
        "### Latent Images"
      ]
    },
    {
      "cell_type": "markdown",
      "metadata": {
        "id": "17lSNx1i5QMF",
        "colab_type": "text"
      },
      "source": [
        "### Loss and Accuracy"
      ]
    },
    {
      "cell_type": "markdown",
      "metadata": {
        "id": "d-DHbXWB5QOv",
        "colab_type": "text"
      },
      "source": [
        "### Experiments\n"
      ]
    },
    {
      "cell_type": "markdown",
      "metadata": {
        "id": "DTnanLrW5rs4",
        "colab_type": "text"
      },
      "source": [
        "## Contributions"
      ]
    },
    {
      "cell_type": "markdown",
      "metadata": {
        "id": "x7j7LUrm5rxI",
        "colab_type": "text"
      },
      "source": [
        ""
      ]
    },
    {
      "cell_type": "markdown",
      "metadata": {
        "id": "uzJXW12W54f9",
        "colab_type": "text"
      },
      "source": [
        "## References"
      ]
    },
    {
      "cell_type": "markdown",
      "metadata": {
        "id": "4njD6rny5r0e",
        "colab_type": "text"
      },
      "source": [
        ""
      ]
    },
    {
      "cell_type": "code",
      "metadata": {
        "id": "orMRQiiV5pBW",
        "colab_type": "code",
        "colab": {}
      },
      "source": [
        ""
      ],
      "execution_count": 0,
      "outputs": []
    }
  ]
}