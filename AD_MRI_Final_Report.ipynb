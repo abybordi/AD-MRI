{
  "nbformat": 4,
  "nbformat_minor": 0,
  "metadata": {
    "colab": {
      "name": "AD-MRI_Final_Report.ipynb",
      "provenance": [],
      "collapsed_sections": [],
      "authorship_tag": "ABX9TyMFtfrrX4KKjobJbptijV5K"
    },
    "kernelspec": {
      "name": "python3",
      "display_name": "Python 3"
    }
  },
  "cells": [
    {
      "cell_type": "markdown",
      "metadata": {
        "id": "RsJNvJxs2nmv",
        "colab_type": "text"
      },
      "source": [
        "# Classification and Visualization of Alzheimer’s Disease using Volumetric Convolutional Neural Network"
      ]
    },
    {
      "cell_type": "markdown",
      "metadata": {
        "id": "H5TQr7rA2rZH",
        "colab_type": "text"
      },
      "source": [
        "Final Report, Spring 2020<br>\n",
        "CSc 84200 Deep Neural Networks and Applications with TensorFlow<br>\n",
        "CUNY Graduate Center<br>\n",
        "<br>\n",
        "<br>\n",
        "Daniel Brennan, Neuroscience PhD student<br>\n",
        "Arezoo Bybordi, Computer Science PhD student<br>\n",
        "Andrea Ceres, Data Science MS student<br>\n"
      ]
    },
    {
      "cell_type": "markdown",
      "metadata": {
        "id": "6dxxVx8O2rcr",
        "colab_type": "text"
      },
      "source": [
        "## Problem Description"
      ]
    },
    {
      "cell_type": "markdown",
      "metadata": {
        "id": "ayBp1iABUCYJ",
        "colab_type": "text"
      },
      "source": [
        "Using a dataset of 980 labeled brain MRI images <sup>1</sup>, we model a deep neural network to classify brain scans as cognitively normal (CN) or indicative of Alzheimer's disease (AD). "
      ]
    },
    {
      "cell_type": "markdown",
      "metadata": {
        "id": "_xN_0tOh2riv",
        "colab_type": "text"
      },
      "source": [
        "## Approach"
      ]
    },
    {
      "cell_type": "markdown",
      "metadata": {
        "id": "sK-OOuqYYpnY",
        "colab_type": "text"
      },
      "source": [
        "The model presented incorporates a volumetric convolutional autoencoder to learn features that are useful in classifying images as either CN or AD. Furthermore, an alternative model is presented with similar 3D convolutional autoencoder design, whereby one convolutional layer is replaced by a custom inception block. The architectures for each autoencoder are loosely based on prior work done by Oh et. al. <sup>2</sup> As a point of comparison, two other models (with and without an inception block) are built without the autoencoder component. Tuning of hyperparameters primarily involved adjusting the rate of dropout to 0%, 20%, 50%, and 80%."
      ]
    },
    {
      "cell_type": "markdown",
      "metadata": {
        "id": "eOVogdxc2rmt",
        "colab_type": "text"
      },
      "source": [
        "### Data Processing"
      ]
    },
    {
      "cell_type": "markdown",
      "metadata": {
        "id": "e4Q8IgcV2rrn",
        "colab_type": "text"
      },
      "source": [
        "### Data Augmentation"
      ]
    },
    {
      "cell_type": "markdown",
      "metadata": {
        "id": "qlvh4-fZ5Gyy",
        "colab_type": "text"
      },
      "source": [
        "### Model Building"
      ]
    },
    {
      "cell_type": "markdown",
      "metadata": {
        "id": "QLGeWaT66HXp",
        "colab_type": "text"
      },
      "source": [
        "#### CAE: Classifier with Autoencoder"
      ]
    },
    {
      "cell_type": "markdown",
      "metadata": {
        "id": "N19X6uH66QBB",
        "colab_type": "text"
      },
      "source": [
        "#### ICAE: Classifier with Inception Block and without Autoencoder"
      ]
    },
    {
      "cell_type": "markdown",
      "metadata": {
        "id": "huz3-Ik46UvQ",
        "colab_type": "text"
      },
      "source": [
        "#### CnoAE: Classifier without Autoencoder"
      ]
    },
    {
      "cell_type": "markdown",
      "metadata": {
        "id": "Pgegz8GC6Uzp",
        "colab_type": "text"
      },
      "source": [
        "#### ICnoAE: Classifier with Inception Block and without Autoencoder"
      ]
    },
    {
      "cell_type": "markdown",
      "metadata": {
        "id": "F-wVYD7z5QGr",
        "colab_type": "text"
      },
      "source": [
        "## Results"
      ]
    },
    {
      "cell_type": "markdown",
      "metadata": {
        "id": "ipdcwlX75QJj",
        "colab_type": "text"
      },
      "source": [
        "### Latent Images"
      ]
    },
    {
      "cell_type": "markdown",
      "metadata": {
        "id": "17lSNx1i5QMF",
        "colab_type": "text"
      },
      "source": [
        "### Loss and Accuracy"
      ]
    },
    {
      "cell_type": "markdown",
      "metadata": {
        "id": "d-DHbXWB5QOv",
        "colab_type": "text"
      },
      "source": [
        "### Experiments\n"
      ]
    },
    {
      "cell_type": "markdown",
      "metadata": {
        "id": "AlkkNa5JcQRm",
        "colab_type": "text"
      },
      "source": [
        ""
      ]
    },
    {
      "cell_type": "markdown",
      "metadata": {
        "id": "DTnanLrW5rs4",
        "colab_type": "text"
      },
      "source": [
        "## Contributions\n",
        "\n",
        "Below is a list of contributions by team members:\n",
        "\n",
        "* Data preprocessing (Daniel)\n",
        "* Creating Convolutional Autoencoder (Arezoo)\n",
        "* Creating Convolutional Autoencoder with Inception module (Andrea)\n",
        "* Creating a classifier using CAE (Arezoo)\n",
        "* Creating a generator to solve the big data issues (Batch size 2, non stratified train and test data, non-augmented data) (Arezoo)\n",
        "* New generator with increase in batch size, stratified train and test data and augmented training data by rotation (Daniel)\n",
        "* Creating end-to-end architecture (having the autoencoder and  classifier in one architecture) (Daniel)\n",
        "* Dealing with class imbalance with further assigning weights to different classes (Andrea)\n",
        "* Experiments done by changing the input size (16 slices), increasing batch size (Daniel)\n",
        "* Experiments done by changing the architecture (increasing number of neurons in the dense layer), etc. (Daniel)\n",
        "* Experiments done on training model (Andrea)\n",
        "* Making architecture plots (Andrea)\n",
        "* Visualization of the convolutional layers (Arezoo)\n",
        "* GitHub wiki initialization (Andrea)\n",
        "* Presentation initialization (Arezoo)\n",
        "* Add model functionality without autoencoder for comparison (Andrea)\n",
        "* Experiments done with and without autoencoder (Andrea)\n",
        "* Clean up and functionalize final code and create pipeline (Andrea)\n",
        "* Add preprocessing to final code (Daniel)\n",
        "* Final report initialization (Andrea)\n"
      ]
    },
    {
      "cell_type": "markdown",
      "metadata": {
        "id": "x7j7LUrm5rxI",
        "colab_type": "text"
      },
      "source": [
        ""
      ]
    },
    {
      "cell_type": "markdown",
      "metadata": {
        "id": "uzJXW12W54f9",
        "colab_type": "text"
      },
      "source": [
        "## References"
      ]
    },
    {
      "cell_type": "markdown",
      "metadata": {
        "id": "4njD6rny5r0e",
        "colab_type": "text"
      },
      "source": [
        "<sup>1</sup>https://www.oasis-brains.org<br>\n",
        "<sup>2</sup>Oh, K., Chung, Y., Kim, K.W. et al. Classification and Visualization of Alzheimer’s Disease using Volumetric Convolutional Neural Network and Transfer Learning. Sci Rep 9, 18150 (2019). https://doi.org/10.1038/s41598-019-54548-6<br>\n"
      ]
    },
    {
      "cell_type": "code",
      "metadata": {
        "id": "orMRQiiV5pBW",
        "colab_type": "code",
        "colab": {}
      },
      "source": [
        ""
      ],
      "execution_count": 0,
      "outputs": []
    }
  ]
}