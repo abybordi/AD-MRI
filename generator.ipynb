{
  "nbformat": 4,
  "nbformat_minor": 0,
  "metadata": {
    "colab": {
      "name": "generator_draft.ipynb",
      "provenance": [],
      "collapsed_sections": [],
      "machine_shape": "hm"
    },
    "kernelspec": {
      "display_name": "Python 3",
      "language": "python",
      "name": "python3"
    },
    "language_info": {
      "codemirror_mode": {
        "name": "ipython",
        "version": 3
      },
      "file_extension": ".py",
      "mimetype": "text/x-python",
      "name": "python",
      "nbconvert_exporter": "python",
      "pygments_lexer": "ipython3",
      "version": "3.7.6"
    },
    "accelerator": "GPU"
  },
  "cells": [
    {
      "cell_type": "code",
      "metadata": {
        "colab_type": "code",
        "id": "0KHhdljls2jv",
        "colab": {}
      },
      "source": [
        "import pandas as pd\n",
        "import numpy as np\n",
        "import pickle\n",
        "import gzip\n"
      ],
      "execution_count": 0,
      "outputs": []
    },
    {
      "cell_type": "code",
      "metadata": {
        "id": "2qmchbbyhHXg",
        "colab_type": "code",
        "colab": {
          "base_uri": "https://localhost:8080/",
          "height": 34
        },
        "outputId": "7da0604b-8e22-41bb-ebe7-e31635301cf3"
      },
      "source": [
        "import tensorflow as tf\n",
        "from tensorflow import keras\n",
        "from tensorflow.keras import backend as K\n",
        "from tensorflow.keras.callbacks import TensorBoard\n",
        "import matplotlib.pyplot as plt\n",
        "from keras.models import Sequential, Model\n",
        "from keras.layers import Dense, Conv3D, MaxPool3D, Dropout, Flatten, Conv3DTranspose, UpSampling3D, Reshape\n",
        "from keras.layers import Input\n",
        "\n"
      ],
      "execution_count": 2,
      "outputs": [
        {
          "output_type": "stream",
          "text": [
            "Using TensorFlow backend.\n"
          ],
          "name": "stderr"
        }
      ]
    },
    {
      "cell_type": "code",
      "metadata": {
        "id": "8koJOznOWvIq",
        "colab_type": "code",
        "outputId": "105c918d-f9f7-4f6b-80a7-529875ac4a52",
        "colab": {
          "base_uri": "https://localhost:8080/",
          "height": 34
        }
      },
      "source": [
        "from google.colab import drive\n",
        "drive.mount('/content/drive')"
      ],
      "execution_count": 3,
      "outputs": [
        {
          "output_type": "stream",
          "text": [
            "Drive already mounted at /content/drive; to attempt to forcibly remount, call drive.mount(\"/content/drive\", force_remount=True).\n"
          ],
          "name": "stdout"
        }
      ]
    },
    {
      "cell_type": "markdown",
      "metadata": {
        "id": "yRG67woNDAtX",
        "colab_type": "text"
      },
      "source": [
        "###Generator with List, for CAE training"
      ]
    },
    {
      "cell_type": "code",
      "metadata": {
        "id": "Lh9w6cwT87yV",
        "colab_type": "code",
        "colab": {}
      },
      "source": [
        "def gen_tr_1():\n",
        "  while True: # each time will be one round going through all images\n",
        "    im_num = 0\n",
        "    batch_num = 0\n",
        "      \n",
        "    while True: #for one round through all images\n",
        "      \n",
        "      pixels=np.zeros(( 1 , 120, 160, 120))\n",
        "      while (len(pixels)<3): \n",
        "              try:\n",
        "                  path = '/content/drive/My Drive/PROCESSED/OAS3'\n",
        "                  path += str(im_num).zfill(4)+'_data'\n",
        "                  with open(path, 'rb') as f:\n",
        "                        im= pickle.load(f)\n",
        "                        pixels=np.append(pixels,np.reshape(im['image'], (1, 120, 160, 120) ), axis=0) \n",
        "                        im_num = im_num%1173\n",
        "                        im_num += 1\n",
        "              except:\n",
        "                    im_num = im_num%1173\n",
        "                    im_num += 1\n",
        "    \n",
        "                    pass\n",
        "      batch_num += 1\n",
        "      yield  (np.reshape(pixels[1:pixels.shape[0],:,:,:],(pixels.shape[0]-1,120,160,120,1)),\\\n",
        "              np.reshape(pixels[1:pixels.shape[0],:,:,:], (pixels.shape[0]-1,120,160,120,1)))"
      ],
      "execution_count": 0,
      "outputs": []
    },
    {
      "cell_type": "code",
      "metadata": {
        "id": "QNYJIZ4E9M4q",
        "colab_type": "code",
        "colab": {}
      },
      "source": [
        "def gen_test_1():\n",
        "  while True:\n",
        "    im_num = 0\n",
        "    batch_num = 0\n",
        "    while True:\n",
        "      pixels=np.zeros(( 1 , 120, 160, 120))\n",
        "      while (len(pixels)<3): \n",
        "              try:\n",
        "                  path = '/content/drive/My Drive/PROCESSED/OAS3'\n",
        "                  im_num_inv = 1173 - im_num\n",
        "                  path += str(im_num_inv).zfill(4)+'_data'\n",
        "                  with open(path, 'rb') as f:\n",
        "                        im= pickle.load(f)\n",
        "                        pixels=np.append(pixels,np.reshape(im['image'], (1, 120, 160, 120) ), axis=0) \n",
        "                        im_num = im_num%1173\n",
        "                        im_num += 1\n",
        "              except:\n",
        "                    im_num = im_num%1173\n",
        "                    im_num += 1\n",
        "                    pass\n",
        "      batch_num += 1\n",
        "      yield  (np.reshape(pixels[1:pixels.shape[0],:,:,:],(pixels.shape[0]-1,120,160,120,1)),\\\n",
        "              np.reshape(pixels[1:pixels.shape[0],:,:,:], (pixels.shape[0]-1,120,160,120,1)))"
      ],
      "execution_count": 0,
      "outputs": []
    },
    {
      "cell_type": "code",
      "metadata": {
        "id": "_P3na1Jb9aye",
        "colab_type": "code",
        "colab": {}
      },
      "source": [
        "train_gen_1 = gen_tr_1()\n",
        "test_gen_1 = gen_test_1()"
      ],
      "execution_count": 0,
      "outputs": []
    },
    {
      "cell_type": "markdown",
      "metadata": {
        "id": "eVJNXBm8nCg4",
        "colab_type": "text"
      },
      "source": [
        "\n",
        "### Generator for classifier"
      ]
    },
    {
      "cell_type": "code",
      "metadata": {
        "id": "WGHN-OBkxdBq",
        "colab_type": "code",
        "colab": {}
      },
      "source": [
        "def convert_array(x):\n",
        "    if x == \"AD\":\n",
        "        return [1., 0.]\n",
        "    elif x == \"CN\":\n",
        "        return [0., 1.]\n",
        "    else:\n",
        "        return x"
      ],
      "execution_count": 0,
      "outputs": []
    },
    {
      "cell_type": "code",
      "metadata": {
        "id": "8DtyYmYBnH3g",
        "colab_type": "code",
        "colab": {}
      },
      "source": [
        "def gen_tr_c():\n",
        " while True:\n",
        "  im_num = 0\n",
        "  batch_num = 0\n",
        "  while True:\n",
        "    b_labels =[]\n",
        "    pixels=np.zeros(( 1 , 120, 160, 120))\n",
        "    while (len(pixels)<2): \n",
        "            try:\n",
        "                path = '/content/drive/My Drive/PROCESSED/OAS3'\n",
        "                path += str(im_num).zfill(4)+'_data'\n",
        "                with open(path, 'rb') as f:\n",
        "                      im= pickle.load(f)\n",
        "                      pixels=np.append(pixels,np.reshape(im['image'], (1, 120, 160, 120) ), axis=0) \n",
        "                      if (im_num>1172): im_num = im_num%1173\n",
        "                      im_num += 1\n",
        "                      b_labels.append(im['diagnosis'])\n",
        "            except:\n",
        "                  if (im_num>1172): im_num = im_num%1173\n",
        "                  im_num += 1\n",
        "                  pass   \n",
        "    batch_num += 1\n",
        "    b_l = list(map( convert_array, b_labels))\n",
        "    b_l = np.reshape(b_l, (len(b_l),2))\n",
        "    b_l = b_l.astype('float32')\n",
        "    yield  (np.reshape(pixels[1:pixels.shape[0],:,:,:],(pixels.shape[0]-1,120,160,120,1)),\\\n",
        "            b_l)"
      ],
      "execution_count": 0,
      "outputs": []
    },
    {
      "cell_type": "code",
      "metadata": {
        "id": "P0fIT2EUtavQ",
        "colab_type": "code",
        "colab": {}
      },
      "source": [
        "def gen_test_c():\n",
        " while True:\n",
        "  im_num = 0\n",
        "  batch_num = 0\n",
        "  while True:\n",
        "    b_labels =[]\n",
        "    pixels=np.zeros(( 1 , 120, 160, 120))\n",
        "    while (len(pixels)<2): \n",
        "            try:\n",
        "                path = '/content/drive/My Drive/PROCESSED/OAS3'\n",
        "                im_num_inv = 1173 - im_num\n",
        "                path += str(im_num_inv).zfill(4)+'_data'\n",
        "                with open(path, 'rb') as f:\n",
        "                      im= pickle.load(f)\n",
        "                      pixels=np.append(pixels,np.reshape(im['image'], (1, 120, 160, 120) ), axis=0) \n",
        "                      if (im_num>1172): im_num = im_num%1173\n",
        "                      im_num += 1\n",
        "                      b_labels.append(im['diagnosis'])\n",
        "            except:\n",
        "                  if (im_num>1172): im_num = im_num%1173\n",
        "                  im_num += 1\n",
        "                  pass\n",
        "    batch_num += 1\n",
        "    b_l = list(map( convert_array, b_labels))\n",
        "    b_l = np.reshape(b_l, (len(b_l),2))\n",
        "    b_l = b_l.astype('float32')\n",
        "    yield  (np.reshape(pixels[1:pixels.shape[0],:,:,:],(pixels.shape[0]-1,120,160,120,1)),\\\n",
        "            b_l)"
      ],
      "execution_count": 0,
      "outputs": []
    },
    {
      "cell_type": "code",
      "metadata": {
        "id": "_S-sRDo8tr4I",
        "colab_type": "code",
        "colab": {}
      },
      "source": [
        "class_tr_gen = gen_tr_c()\n",
        "class_test_gen = gen_test_c()"
      ],
      "execution_count": 0,
      "outputs": []
    },
    {
      "cell_type": "markdown",
      "metadata": {
        "id": "C8kJ3DGfpK3T",
        "colab_type": "text"
      },
      "source": [
        "#### Building Encoder"
      ]
    },
    {
      "cell_type": "code",
      "metadata": {
        "id": "hNAqMSGOnNBd",
        "colab_type": "code",
        "outputId": "5132eb89-5ee6-450f-dedf-e218e9ee2634",
        "colab": {
          "base_uri": "https://localhost:8080/",
          "height": 493
        }
      },
      "source": [
        "import tensorflow as tf\n",
        "from tensorflow import keras\n",
        "from tensorflow.keras import backend as K\n",
        "from tensorflow.keras.callbacks import TensorBoard\n",
        "import matplotlib.pyplot as plt\n",
        "from keras.models import Sequential, Model\n",
        "from keras.layers import Dense, Conv3D, MaxPool3D, Dropout, Flatten, Conv3DTranspose, UpSampling3D, Reshape\n",
        "from keras.layers import Input\n",
        "\n",
        "\n",
        "input_img = Input(shape= (120, 160, 120 , 1))\n",
        "x = Conv3D(10, (3,3,3), activation='relu', padding='same')(input_img)\n",
        "x = MaxPool3D((2,2,2))(x)\n",
        "x= Dropout(0.8)(x)\n",
        "\n",
        "x = Conv3D(10, (3,3,3), activation='relu', padding='same')(x)\n",
        "x = MaxPool3D((2,2,2))(x)\n",
        "x= Dropout(0.8)(x)\n",
        "\n",
        "x = Conv3D(10, (3,3,3), activation='relu', padding='same')(x)\n",
        "x = MaxPool3D((2,2,2))(x)\n",
        "encoded= Dropout(0.8)(x)\n",
        "\n",
        "encoded_shape = K.int_shape(x)\n",
        "\n",
        "#x = Flatten()(x)\n",
        "\n",
        "#x = Dense(32, activation='selu')(x)\n",
        "#x= Dense(16, activation='selu')(x)\n",
        "#encoded = Dense(2, activation='selu')(x)\n",
        "\n",
        "\n",
        "encoder=Model(input_img, encoded, name='encoder')\n",
        "encoder.summary()"
      ],
      "execution_count": 11,
      "outputs": [
        {
          "output_type": "stream",
          "text": [
            "Model: \"encoder\"\n",
            "_________________________________________________________________\n",
            "Layer (type)                 Output Shape              Param #   \n",
            "=================================================================\n",
            "input_1 (InputLayer)         (None, 120, 160, 120, 1)  0         \n",
            "_________________________________________________________________\n",
            "conv3d_1 (Conv3D)            (None, 120, 160, 120, 10) 280       \n",
            "_________________________________________________________________\n",
            "max_pooling3d_1 (MaxPooling3 (None, 60, 80, 60, 10)    0         \n",
            "_________________________________________________________________\n",
            "dropout_1 (Dropout)          (None, 60, 80, 60, 10)    0         \n",
            "_________________________________________________________________\n",
            "conv3d_2 (Conv3D)            (None, 60, 80, 60, 10)    2710      \n",
            "_________________________________________________________________\n",
            "max_pooling3d_2 (MaxPooling3 (None, 30, 40, 30, 10)    0         \n",
            "_________________________________________________________________\n",
            "dropout_2 (Dropout)          (None, 30, 40, 30, 10)    0         \n",
            "_________________________________________________________________\n",
            "conv3d_3 (Conv3D)            (None, 30, 40, 30, 10)    2710      \n",
            "_________________________________________________________________\n",
            "max_pooling3d_3 (MaxPooling3 (None, 15, 20, 15, 10)    0         \n",
            "_________________________________________________________________\n",
            "dropout_3 (Dropout)          (None, 15, 20, 15, 10)    0         \n",
            "=================================================================\n",
            "Total params: 5,700\n",
            "Trainable params: 5,700\n",
            "Non-trainable params: 0\n",
            "_________________________________________________________________\n"
          ],
          "name": "stdout"
        }
      ]
    },
    {
      "cell_type": "code",
      "metadata": {
        "id": "Are9_j90iUhh",
        "colab_type": "code",
        "outputId": "790dabd6-bdf4-4c44-ce9b-93af2917dbac",
        "colab": {
          "base_uri": "https://localhost:8080/",
          "height": 34
        }
      },
      "source": [
        "encoded_shape"
      ],
      "execution_count": 12,
      "outputs": [
        {
          "output_type": "execute_result",
          "data": {
            "text/plain": [
              "(None, 15, 20, 15, 10)"
            ]
          },
          "metadata": {
            "tags": []
          },
          "execution_count": 12
        }
      ]
    },
    {
      "cell_type": "markdown",
      "metadata": {
        "id": "IifbTxu4r7oW",
        "colab_type": "text"
      },
      "source": [
        "#### Building decoder"
      ]
    },
    {
      "cell_type": "code",
      "metadata": {
        "id": "QpOjuZZGsFUc",
        "colab_type": "code",
        "outputId": "8c35b265-bd09-43ae-e69d-a8cda47c8bbb",
        "colab": {
          "base_uri": "https://localhost:8080/",
          "height": 527
        }
      },
      "source": [
        "encoded_input= Input(shape=(encoded_shape[1], encoded_shape[2], encoded_shape[3], encoded_shape[4]))\n",
        "#x = Dense(16, activation='selu')(encoded_input)\n",
        "#x= Dense(32, activation='selu')(x)\n",
        "#x= Dense(np.prod(encoded_shape[1:]))(x)\n",
        "#x= Reshape((encoded_shape[1], encoded_shape[2], encoded_shape[3], encoded_shape[4]))(x)\n",
        "\n",
        "x = Conv3DTranspose(10, (3,3,3), activation='relu', padding='same')(encoded_input)\n",
        "x = UpSampling3D((2,2,2))(x)\n",
        "x= Dropout(0.8)(x)\n",
        "\n",
        "x = Conv3DTranspose(10, (3,3,3), activation='relu', padding='same')(x)\n",
        "x = UpSampling3D((2,2,2))(x)\n",
        "x= Dropout(0.8)(x)\n",
        "\n",
        "x = Conv3DTranspose(10, (3,3,3), activation='relu', padding='same')(x)\n",
        "x = UpSampling3D((2,2,2))(x)\n",
        "x= Dropout(0.8)(x)\n",
        "\n",
        "x = Conv3DTranspose(1, (3,3,3), activation='sigmoid', padding='same')(x)\n",
        "\n",
        "decoder = Model(encoded_input, x, name='decoder')\n",
        "decoder.summary()"
      ],
      "execution_count": 13,
      "outputs": [
        {
          "output_type": "stream",
          "text": [
            "Model: \"decoder\"\n",
            "_________________________________________________________________\n",
            "Layer (type)                 Output Shape              Param #   \n",
            "=================================================================\n",
            "input_2 (InputLayer)         (None, 15, 20, 15, 10)    0         \n",
            "_________________________________________________________________\n",
            "conv3d_transpose_1 (Conv3DTr (None, 15, 20, 15, 10)    2710      \n",
            "_________________________________________________________________\n",
            "up_sampling3d_1 (UpSampling3 (None, 30, 40, 30, 10)    0         \n",
            "_________________________________________________________________\n",
            "dropout_4 (Dropout)          (None, 30, 40, 30, 10)    0         \n",
            "_________________________________________________________________\n",
            "conv3d_transpose_2 (Conv3DTr (None, 30, 40, 30, 10)    2710      \n",
            "_________________________________________________________________\n",
            "up_sampling3d_2 (UpSampling3 (None, 60, 80, 60, 10)    0         \n",
            "_________________________________________________________________\n",
            "dropout_5 (Dropout)          (None, 60, 80, 60, 10)    0         \n",
            "_________________________________________________________________\n",
            "conv3d_transpose_3 (Conv3DTr (None, 60, 80, 60, 10)    2710      \n",
            "_________________________________________________________________\n",
            "up_sampling3d_3 (UpSampling3 (None, 120, 160, 120, 10) 0         \n",
            "_________________________________________________________________\n",
            "dropout_6 (Dropout)          (None, 120, 160, 120, 10) 0         \n",
            "_________________________________________________________________\n",
            "conv3d_transpose_4 (Conv3DTr (None, 120, 160, 120, 1)  271       \n",
            "=================================================================\n",
            "Total params: 8,401\n",
            "Trainable params: 8,401\n",
            "Non-trainable params: 0\n",
            "_________________________________________________________________\n"
          ],
          "name": "stdout"
        }
      ]
    },
    {
      "cell_type": "markdown",
      "metadata": {
        "id": "MTCOKfGfwTtB",
        "colab_type": "text"
      },
      "source": [
        "#### Building Autoencoder"
      ]
    },
    {
      "cell_type": "code",
      "metadata": {
        "id": "pQiTACIywYZS",
        "colab_type": "code",
        "outputId": "77878388-6c29-453d-d7ad-bd4b896bd9d4",
        "colab": {
          "base_uri": "https://localhost:8080/",
          "height": 255
        }
      },
      "source": [
        "autoencoder= Model(input_img, decoder(encoder(input_img)), name='autoencoder')\n",
        "autoencoder.summary()"
      ],
      "execution_count": 14,
      "outputs": [
        {
          "output_type": "stream",
          "text": [
            "Model: \"autoencoder\"\n",
            "_________________________________________________________________\n",
            "Layer (type)                 Output Shape              Param #   \n",
            "=================================================================\n",
            "input_1 (InputLayer)         (None, 120, 160, 120, 1)  0         \n",
            "_________________________________________________________________\n",
            "encoder (Model)              (None, 15, 20, 15, 10)    5700      \n",
            "_________________________________________________________________\n",
            "decoder (Model)              (None, 120, 160, 120, 1)  8401      \n",
            "=================================================================\n",
            "Total params: 14,101\n",
            "Trainable params: 14,101\n",
            "Non-trainable params: 0\n",
            "_________________________________________________________________\n"
          ],
          "name": "stdout"
        }
      ]
    },
    {
      "cell_type": "code",
      "metadata": {
        "id": "vUEuNz2fSHoc",
        "colab_type": "code",
        "colab": {}
      },
      "source": [
        "autoencoder.compile(optimizer='adam', loss='mean_squared_error')"
      ],
      "execution_count": 0,
      "outputs": []
    },
    {
      "cell_type": "code",
      "metadata": {
        "id": "BbfMv7xe-DRP",
        "colab_type": "code",
        "colab": {}
      },
      "source": [
        "from keras.callbacks import ModelCheckpoint, EarlyStopping\n",
        "e_s= EarlyStopping(monitor='val_loss', mode='min', patience=20)\n"
      ],
      "execution_count": 0,
      "outputs": []
    },
    {
      "cell_type": "code",
      "metadata": {
        "id": "_iwfuRyFLY3B",
        "colab_type": "code",
        "colab": {}
      },
      "source": [
        "mcp_save = ModelCheckpoint('best_cae.h5', save_best_only=True, monitor='val_loss', mode='min')"
      ],
      "execution_count": 0,
      "outputs": []
    },
    {
      "cell_type": "code",
      "metadata": {
        "id": "DPysfQ684Stm",
        "colab_type": "code",
        "colab": {
          "base_uri": "https://localhost:8080/",
          "height": 1000
        },
        "outputId": "5df9dc14-79f8-48b9-e785-edd42cc05a79"
      },
      "source": [
        "cae_hist= autoencoder.fit_generator(generator=train_gen_1, steps_per_epoch = 420, epochs=200, verbose=1 ,callbacks=[mcp_save, e_s], validation_data=test_gen_1, validation_steps=70, use_multiprocessing=True)\n"
      ],
      "execution_count": 18,
      "outputs": [
        {
          "output_type": "stream",
          "text": [
            "Epoch 1/200\n",
            "420/420 [==============================] - 648s 2s/step - loss: 0.0263 - val_loss: 0.0321\n",
            "Epoch 2/200\n",
            "420/420 [==============================] - 569s 1s/step - loss: 0.0126 - val_loss: 0.0194\n",
            "Epoch 3/200\n",
            "420/420 [==============================] - 567s 1s/step - loss: 0.0113 - val_loss: 0.0161\n",
            "Epoch 4/200\n",
            "420/420 [==============================] - 565s 1s/step - loss: 0.0108 - val_loss: 0.0144\n",
            "Epoch 5/200\n",
            "420/420 [==============================] - 564s 1s/step - loss: 0.0105 - val_loss: 0.0167\n",
            "Epoch 6/200\n",
            "420/420 [==============================] - 565s 1s/step - loss: 0.0102 - val_loss: 0.0166\n",
            "Epoch 7/200\n",
            "420/420 [==============================] - 577s 1s/step - loss: 0.0100 - val_loss: 0.0127\n",
            "Epoch 8/200\n",
            "420/420 [==============================] - 570s 1s/step - loss: 0.0099 - val_loss: 0.0126\n",
            "Epoch 9/200\n",
            "420/420 [==============================] - 568s 1s/step - loss: 0.0097 - val_loss: 0.0155\n",
            "Epoch 10/200\n",
            "420/420 [==============================] - 576s 1s/step - loss: 0.0097 - val_loss: 0.0125\n",
            "Epoch 11/200\n",
            "420/420 [==============================] - 573s 1s/step - loss: 0.0096 - val_loss: 0.0129\n",
            "Epoch 12/200\n",
            "420/420 [==============================] - 573s 1s/step - loss: 0.0095 - val_loss: 0.0136\n",
            "Epoch 13/200\n",
            "420/420 [==============================] - 589s 1s/step - loss: 0.0095 - val_loss: 0.0143\n",
            "Epoch 14/200\n",
            "420/420 [==============================] - 569s 1s/step - loss: 0.0094 - val_loss: 0.0112\n",
            "Epoch 15/200\n",
            "420/420 [==============================] - 562s 1s/step - loss: 0.0094 - val_loss: 0.0139\n",
            "Epoch 16/200\n",
            "420/420 [==============================] - 566s 1s/step - loss: 0.0093 - val_loss: 0.0138\n",
            "Epoch 17/200\n",
            "420/420 [==============================] - 584s 1s/step - loss: 0.0093 - val_loss: 0.0127\n",
            "Epoch 18/200\n",
            "420/420 [==============================] - 567s 1s/step - loss: 0.0093 - val_loss: 0.0109\n",
            "Epoch 19/200\n",
            "420/420 [==============================] - 581s 1s/step - loss: 0.0092 - val_loss: 0.0103\n",
            "Epoch 20/200\n",
            "420/420 [==============================] - 621s 1s/step - loss: 0.0092 - val_loss: 0.0114\n",
            "Epoch 21/200\n",
            "420/420 [==============================] - 573s 1s/step - loss: 0.0092 - val_loss: 0.0096\n",
            "Epoch 22/200\n",
            "420/420 [==============================] - 568s 1s/step - loss: 0.0092 - val_loss: 0.0100\n",
            "Epoch 23/200\n",
            "420/420 [==============================] - 582s 1s/step - loss: 0.0091 - val_loss: 0.0132\n",
            "Epoch 24/200\n",
            "420/420 [==============================] - 579s 1s/step - loss: 0.0091 - val_loss: 0.0108\n",
            "Epoch 25/200\n",
            "243/420 [================>.............] - ETA: 3:17 - loss: 0.0091"
          ],
          "name": "stdout"
        },
        {
          "output_type": "stream",
          "text": [
            "Process ForkPoolWorker-1:\n",
            "Traceback (most recent call last):\n",
            "  File \"/usr/lib/python3.6/multiprocessing/process.py\", line 258, in _bootstrap\n",
            "    self.run()\n",
            "  File \"/usr/lib/python3.6/multiprocessing/process.py\", line 93, in run\n",
            "    self._target(*self._args, **self._kwargs)\n",
            "  File \"/usr/lib/python3.6/multiprocessing/pool.py\", line 108, in worker\n",
            "    task = get()\n",
            "  File \"/usr/lib/python3.6/multiprocessing/queues.py\", line 335, in get\n",
            "    res = self._reader.recv_bytes()\n",
            "  File \"/usr/lib/python3.6/multiprocessing/connection.py\", line 216, in recv_bytes\n",
            "    buf = self._recv_bytes(maxlength)\n",
            "  File \"/usr/lib/python3.6/multiprocessing/connection.py\", line 407, in _recv_bytes\n",
            "    buf = self._recv(4)\n",
            "  File \"/usr/lib/python3.6/multiprocessing/connection.py\", line 379, in _recv\n",
            "    chunk = read(handle, remaining)\n",
            "KeyboardInterrupt\n"
          ],
          "name": "stderr"
        },
        {
          "output_type": "error",
          "ename": "KeyboardInterrupt",
          "evalue": "ignored",
          "traceback": [
            "\u001b[0;31m---------------------------------------------------------------------------\u001b[0m",
            "\u001b[0;31mKeyboardInterrupt\u001b[0m                         Traceback (most recent call last)",
            "\u001b[0;32m<ipython-input-18-cb9e0e422566>\u001b[0m in \u001b[0;36m<module>\u001b[0;34m()\u001b[0m\n\u001b[0;32m----> 1\u001b[0;31m \u001b[0mcae_hist\u001b[0m\u001b[0;34m=\u001b[0m \u001b[0mautoencoder\u001b[0m\u001b[0;34m.\u001b[0m\u001b[0mfit_generator\u001b[0m\u001b[0;34m(\u001b[0m\u001b[0mgenerator\u001b[0m\u001b[0;34m=\u001b[0m\u001b[0mtrain_gen_1\u001b[0m\u001b[0;34m,\u001b[0m \u001b[0msteps_per_epoch\u001b[0m \u001b[0;34m=\u001b[0m \u001b[0;36m420\u001b[0m\u001b[0;34m,\u001b[0m \u001b[0mepochs\u001b[0m\u001b[0;34m=\u001b[0m\u001b[0;36m200\u001b[0m\u001b[0;34m,\u001b[0m \u001b[0mverbose\u001b[0m\u001b[0;34m=\u001b[0m\u001b[0;36m1\u001b[0m \u001b[0;34m,\u001b[0m\u001b[0mcallbacks\u001b[0m\u001b[0;34m=\u001b[0m\u001b[0;34m[\u001b[0m\u001b[0mmcp_save\u001b[0m\u001b[0;34m,\u001b[0m \u001b[0me_s\u001b[0m\u001b[0;34m]\u001b[0m\u001b[0;34m,\u001b[0m \u001b[0mvalidation_data\u001b[0m\u001b[0;34m=\u001b[0m\u001b[0mtest_gen_1\u001b[0m\u001b[0;34m,\u001b[0m \u001b[0mvalidation_steps\u001b[0m\u001b[0;34m=\u001b[0m\u001b[0;36m70\u001b[0m\u001b[0;34m,\u001b[0m \u001b[0muse_multiprocessing\u001b[0m\u001b[0;34m=\u001b[0m\u001b[0;32mTrue\u001b[0m\u001b[0;34m)\u001b[0m\u001b[0;34m\u001b[0m\u001b[0;34m\u001b[0m\u001b[0m\n\u001b[0m",
            "\u001b[0;32m/usr/local/lib/python3.6/dist-packages/keras/legacy/interfaces.py\u001b[0m in \u001b[0;36mwrapper\u001b[0;34m(*args, **kwargs)\u001b[0m\n\u001b[1;32m     89\u001b[0m                 warnings.warn('Update your `' + object_name + '` call to the ' +\n\u001b[1;32m     90\u001b[0m                               'Keras 2 API: ' + signature, stacklevel=2)\n\u001b[0;32m---> 91\u001b[0;31m             \u001b[0;32mreturn\u001b[0m \u001b[0mfunc\u001b[0m\u001b[0;34m(\u001b[0m\u001b[0;34m*\u001b[0m\u001b[0margs\u001b[0m\u001b[0;34m,\u001b[0m \u001b[0;34m**\u001b[0m\u001b[0mkwargs\u001b[0m\u001b[0;34m)\u001b[0m\u001b[0;34m\u001b[0m\u001b[0;34m\u001b[0m\u001b[0m\n\u001b[0m\u001b[1;32m     92\u001b[0m         \u001b[0mwrapper\u001b[0m\u001b[0;34m.\u001b[0m\u001b[0m_original_function\u001b[0m \u001b[0;34m=\u001b[0m \u001b[0mfunc\u001b[0m\u001b[0;34m\u001b[0m\u001b[0;34m\u001b[0m\u001b[0m\n\u001b[1;32m     93\u001b[0m         \u001b[0;32mreturn\u001b[0m \u001b[0mwrapper\u001b[0m\u001b[0;34m\u001b[0m\u001b[0;34m\u001b[0m\u001b[0m\n",
            "\u001b[0;32m/usr/local/lib/python3.6/dist-packages/keras/engine/training.py\u001b[0m in \u001b[0;36mfit_generator\u001b[0;34m(self, generator, steps_per_epoch, epochs, verbose, callbacks, validation_data, validation_steps, validation_freq, class_weight, max_queue_size, workers, use_multiprocessing, shuffle, initial_epoch)\u001b[0m\n\u001b[1;32m   1730\u001b[0m             \u001b[0muse_multiprocessing\u001b[0m\u001b[0;34m=\u001b[0m\u001b[0muse_multiprocessing\u001b[0m\u001b[0;34m,\u001b[0m\u001b[0;34m\u001b[0m\u001b[0;34m\u001b[0m\u001b[0m\n\u001b[1;32m   1731\u001b[0m             \u001b[0mshuffle\u001b[0m\u001b[0;34m=\u001b[0m\u001b[0mshuffle\u001b[0m\u001b[0;34m,\u001b[0m\u001b[0;34m\u001b[0m\u001b[0;34m\u001b[0m\u001b[0m\n\u001b[0;32m-> 1732\u001b[0;31m             initial_epoch=initial_epoch)\n\u001b[0m\u001b[1;32m   1733\u001b[0m \u001b[0;34m\u001b[0m\u001b[0m\n\u001b[1;32m   1734\u001b[0m     \u001b[0;34m@\u001b[0m\u001b[0minterfaces\u001b[0m\u001b[0;34m.\u001b[0m\u001b[0mlegacy_generator_methods_support\u001b[0m\u001b[0;34m\u001b[0m\u001b[0;34m\u001b[0m\u001b[0m\n",
            "\u001b[0;32m/usr/local/lib/python3.6/dist-packages/keras/engine/training_generator.py\u001b[0m in \u001b[0;36mfit_generator\u001b[0;34m(model, generator, steps_per_epoch, epochs, verbose, callbacks, validation_data, validation_steps, validation_freq, class_weight, max_queue_size, workers, use_multiprocessing, shuffle, initial_epoch)\u001b[0m\n\u001b[1;32m    218\u001b[0m                                             \u001b[0msample_weight\u001b[0m\u001b[0;34m=\u001b[0m\u001b[0msample_weight\u001b[0m\u001b[0;34m,\u001b[0m\u001b[0;34m\u001b[0m\u001b[0;34m\u001b[0m\u001b[0m\n\u001b[1;32m    219\u001b[0m                                             \u001b[0mclass_weight\u001b[0m\u001b[0;34m=\u001b[0m\u001b[0mclass_weight\u001b[0m\u001b[0;34m,\u001b[0m\u001b[0;34m\u001b[0m\u001b[0;34m\u001b[0m\u001b[0m\n\u001b[0;32m--> 220\u001b[0;31m                                             reset_metrics=False)\n\u001b[0m\u001b[1;32m    221\u001b[0m \u001b[0;34m\u001b[0m\u001b[0m\n\u001b[1;32m    222\u001b[0m                 \u001b[0mouts\u001b[0m \u001b[0;34m=\u001b[0m \u001b[0mto_list\u001b[0m\u001b[0;34m(\u001b[0m\u001b[0mouts\u001b[0m\u001b[0;34m)\u001b[0m\u001b[0;34m\u001b[0m\u001b[0;34m\u001b[0m\u001b[0m\n",
            "\u001b[0;32m/usr/local/lib/python3.6/dist-packages/keras/engine/training.py\u001b[0m in \u001b[0;36mtrain_on_batch\u001b[0;34m(self, x, y, sample_weight, class_weight, reset_metrics)\u001b[0m\n\u001b[1;32m   1512\u001b[0m             \u001b[0mins\u001b[0m \u001b[0;34m=\u001b[0m \u001b[0mx\u001b[0m \u001b[0;34m+\u001b[0m \u001b[0my\u001b[0m \u001b[0;34m+\u001b[0m \u001b[0msample_weights\u001b[0m\u001b[0;34m\u001b[0m\u001b[0;34m\u001b[0m\u001b[0m\n\u001b[1;32m   1513\u001b[0m         \u001b[0mself\u001b[0m\u001b[0;34m.\u001b[0m\u001b[0m_make_train_function\u001b[0m\u001b[0;34m(\u001b[0m\u001b[0;34m)\u001b[0m\u001b[0;34m\u001b[0m\u001b[0;34m\u001b[0m\u001b[0m\n\u001b[0;32m-> 1514\u001b[0;31m         \u001b[0moutputs\u001b[0m \u001b[0;34m=\u001b[0m \u001b[0mself\u001b[0m\u001b[0;34m.\u001b[0m\u001b[0mtrain_function\u001b[0m\u001b[0;34m(\u001b[0m\u001b[0mins\u001b[0m\u001b[0;34m)\u001b[0m\u001b[0;34m\u001b[0m\u001b[0;34m\u001b[0m\u001b[0m\n\u001b[0m\u001b[1;32m   1515\u001b[0m \u001b[0;34m\u001b[0m\u001b[0m\n\u001b[1;32m   1516\u001b[0m         \u001b[0;32mif\u001b[0m \u001b[0mreset_metrics\u001b[0m\u001b[0;34m:\u001b[0m\u001b[0;34m\u001b[0m\u001b[0;34m\u001b[0m\u001b[0m\n",
            "\u001b[0;32m/usr/local/lib/python3.6/dist-packages/tensorflow/python/keras/backend.py\u001b[0m in \u001b[0;36m__call__\u001b[0;34m(self, inputs)\u001b[0m\n\u001b[1;32m   3798\u001b[0m     return nest.pack_sequence_as(\n\u001b[1;32m   3799\u001b[0m         \u001b[0mself\u001b[0m\u001b[0;34m.\u001b[0m\u001b[0m_outputs_structure\u001b[0m\u001b[0;34m,\u001b[0m\u001b[0;34m\u001b[0m\u001b[0;34m\u001b[0m\u001b[0m\n\u001b[0;32m-> 3800\u001b[0;31m         \u001b[0;34m[\u001b[0m\u001b[0mx\u001b[0m\u001b[0;34m.\u001b[0m\u001b[0m_numpy\u001b[0m\u001b[0;34m(\u001b[0m\u001b[0;34m)\u001b[0m \u001b[0;32mfor\u001b[0m \u001b[0mx\u001b[0m \u001b[0;32min\u001b[0m \u001b[0moutputs\u001b[0m\u001b[0;34m]\u001b[0m\u001b[0;34m,\u001b[0m  \u001b[0;31m# pylint: disable=protected-access\u001b[0m\u001b[0;34m\u001b[0m\u001b[0;34m\u001b[0m\u001b[0m\n\u001b[0m\u001b[1;32m   3801\u001b[0m         expand_composites=True)\n\u001b[1;32m   3802\u001b[0m \u001b[0;34m\u001b[0m\u001b[0m\n",
            "\u001b[0;32m/usr/local/lib/python3.6/dist-packages/tensorflow/python/keras/backend.py\u001b[0m in \u001b[0;36m<listcomp>\u001b[0;34m(.0)\u001b[0m\n\u001b[1;32m   3798\u001b[0m     return nest.pack_sequence_as(\n\u001b[1;32m   3799\u001b[0m         \u001b[0mself\u001b[0m\u001b[0;34m.\u001b[0m\u001b[0m_outputs_structure\u001b[0m\u001b[0;34m,\u001b[0m\u001b[0;34m\u001b[0m\u001b[0;34m\u001b[0m\u001b[0m\n\u001b[0;32m-> 3800\u001b[0;31m         \u001b[0;34m[\u001b[0m\u001b[0mx\u001b[0m\u001b[0;34m.\u001b[0m\u001b[0m_numpy\u001b[0m\u001b[0;34m(\u001b[0m\u001b[0;34m)\u001b[0m \u001b[0;32mfor\u001b[0m \u001b[0mx\u001b[0m \u001b[0;32min\u001b[0m \u001b[0moutputs\u001b[0m\u001b[0;34m]\u001b[0m\u001b[0;34m,\u001b[0m  \u001b[0;31m# pylint: disable=protected-access\u001b[0m\u001b[0;34m\u001b[0m\u001b[0;34m\u001b[0m\u001b[0m\n\u001b[0m\u001b[1;32m   3801\u001b[0m         expand_composites=True)\n\u001b[1;32m   3802\u001b[0m \u001b[0;34m\u001b[0m\u001b[0m\n",
            "\u001b[0;32m/usr/local/lib/python3.6/dist-packages/tensorflow/python/framework/ops.py\u001b[0m in \u001b[0;36m_numpy\u001b[0;34m(self)\u001b[0m\n\u001b[1;32m    925\u001b[0m     \u001b[0;31m# pylint: disable=protected-access\u001b[0m\u001b[0;34m\u001b[0m\u001b[0;34m\u001b[0m\u001b[0;34m\u001b[0m\u001b[0m\n\u001b[1;32m    926\u001b[0m     \u001b[0;32mtry\u001b[0m\u001b[0;34m:\u001b[0m\u001b[0;34m\u001b[0m\u001b[0;34m\u001b[0m\u001b[0m\n\u001b[0;32m--> 927\u001b[0;31m       \u001b[0;32mreturn\u001b[0m \u001b[0mself\u001b[0m\u001b[0;34m.\u001b[0m\u001b[0m_numpy_internal\u001b[0m\u001b[0;34m(\u001b[0m\u001b[0;34m)\u001b[0m\u001b[0;34m\u001b[0m\u001b[0;34m\u001b[0m\u001b[0m\n\u001b[0m\u001b[1;32m    928\u001b[0m     \u001b[0;32mexcept\u001b[0m \u001b[0mcore\u001b[0m\u001b[0;34m.\u001b[0m\u001b[0m_NotOkStatusException\u001b[0m \u001b[0;32mas\u001b[0m \u001b[0me\u001b[0m\u001b[0;34m:\u001b[0m\u001b[0;34m\u001b[0m\u001b[0;34m\u001b[0m\u001b[0m\n\u001b[1;32m    929\u001b[0m       \u001b[0msix\u001b[0m\u001b[0;34m.\u001b[0m\u001b[0mraise_from\u001b[0m\u001b[0;34m(\u001b[0m\u001b[0mcore\u001b[0m\u001b[0;34m.\u001b[0m\u001b[0m_status_to_exception\u001b[0m\u001b[0;34m(\u001b[0m\u001b[0me\u001b[0m\u001b[0;34m.\u001b[0m\u001b[0mcode\u001b[0m\u001b[0;34m,\u001b[0m \u001b[0me\u001b[0m\u001b[0;34m.\u001b[0m\u001b[0mmessage\u001b[0m\u001b[0;34m)\u001b[0m\u001b[0;34m,\u001b[0m \u001b[0;32mNone\u001b[0m\u001b[0;34m)\u001b[0m\u001b[0;34m\u001b[0m\u001b[0;34m\u001b[0m\u001b[0m\n",
            "\u001b[0;31mKeyboardInterrupt\u001b[0m: "
          ]
        }
      ]
    },
    {
      "cell_type": "code",
      "metadata": {
        "id": "2NvO-dfzjA_Z",
        "colab_type": "code",
        "outputId": "be6ce94a-25e9-4382-9ca7-73a43adf2c06",
        "colab": {
          "base_uri": "https://localhost:8080/",
          "height": 164
        }
      },
      "source": [
        "plt.plot(cae_hist.history['val_loss'], 'r', cae_hist.history['loss'], 'b')"
      ],
      "execution_count": 19,
      "outputs": [
        {
          "output_type": "error",
          "ename": "NameError",
          "evalue": "ignored",
          "traceback": [
            "\u001b[0;31m---------------------------------------------------------------------------\u001b[0m",
            "\u001b[0;31mNameError\u001b[0m                                 Traceback (most recent call last)",
            "\u001b[0;32m<ipython-input-19-f2c364be5f97>\u001b[0m in \u001b[0;36m<module>\u001b[0;34m()\u001b[0m\n\u001b[0;32m----> 1\u001b[0;31m \u001b[0mplt\u001b[0m\u001b[0;34m.\u001b[0m\u001b[0mplot\u001b[0m\u001b[0;34m(\u001b[0m\u001b[0mcae_hist\u001b[0m\u001b[0;34m.\u001b[0m\u001b[0mhistory\u001b[0m\u001b[0;34m[\u001b[0m\u001b[0;34m'val_loss'\u001b[0m\u001b[0;34m]\u001b[0m\u001b[0;34m,\u001b[0m \u001b[0;34m'r'\u001b[0m\u001b[0;34m,\u001b[0m \u001b[0mcae_hist\u001b[0m\u001b[0;34m.\u001b[0m\u001b[0mhistory\u001b[0m\u001b[0;34m[\u001b[0m\u001b[0;34m'loss'\u001b[0m\u001b[0;34m]\u001b[0m\u001b[0;34m,\u001b[0m \u001b[0;34m'b'\u001b[0m\u001b[0;34m)\u001b[0m\u001b[0;34m\u001b[0m\u001b[0;34m\u001b[0m\u001b[0m\n\u001b[0m",
            "\u001b[0;31mNameError\u001b[0m: name 'cae_hist' is not defined"
          ]
        }
      ]
    },
    {
      "cell_type": "code",
      "metadata": {
        "id": "4d7YKwkNayC0",
        "colab_type": "code",
        "colab": {}
      },
      "source": [
        "from pydrive.auth import GoogleAuth\n",
        "from pydrive.drive import GoogleDrive \n",
        "from google.colab import auth \n",
        "from oauth2client.client import GoogleCredentials\n",
        "\n",
        "auth.authenticate_user()\n",
        "gauth = GoogleAuth()\n",
        "gauth.credentials = GoogleCredentials.get_application_default()                       \n",
        "drive = GoogleDrive(gauth)"
      ],
      "execution_count": 0,
      "outputs": []
    },
    {
      "cell_type": "code",
      "metadata": {
        "id": "pdOTcX3ya79v",
        "colab_type": "code",
        "colab": {}
      },
      "source": [
        "#just to save the model. Don't run again\n",
        "autoencoder.save('cae_1.h5')\n",
        "model_file = drive.CreateFile({'title' : 'cae_1.h5'})                       \n",
        "model_file.SetContentFile('cae_1.h5')                       \n",
        "model_file.Upload()"
      ],
      "execution_count": 0,
      "outputs": []
    },
    {
      "cell_type": "code",
      "metadata": {
        "id": "56CYmFd4bP-O",
        "colab_type": "code",
        "colab": {
          "base_uri": "https://localhost:8080/",
          "height": 34
        },
        "outputId": "49cf998b-9298-426c-b23d-4914b20e8b56"
      },
      "source": [
        "\n",
        "# Don't run again. download to google drive                       \n",
        "drive.CreateFile({'id': model_file.get('id')})"
      ],
      "execution_count": 17,
      "outputs": [
        {
          "output_type": "execute_result",
          "data": {
            "text/plain": [
              "GoogleDriveFile({'id': '1oEctU2Uvk0OJXArdDScsx4ougN4p-uQL'})"
            ]
          },
          "metadata": {
            "tags": []
          },
          "execution_count": 17
        }
      ]
    },
    {
      "cell_type": "code",
      "metadata": {
        "id": "eLd4SQy1bRcv",
        "colab_type": "code",
        "colab": {}
      },
      "source": [
        "#Loading models from Google Drive into Colab, Don't run\n",
        "\n",
        "file_obj = drive.CreateFile({'id': '1oEctU2Uvk0OJXArdDScsx4ougN4p-uQL'})                       \n",
        "file_obj.GetContentFile('cae_1.h5')\n"
      ],
      "execution_count": 0,
      "outputs": []
    },
    {
      "cell_type": "code",
      "metadata": {
        "id": "NRdqK0TMbVBi",
        "colab_type": "code",
        "colab": {}
      },
      "source": [
        "from keras.models import load_model\n",
        "cae=load_model('/content/drive/My Drive/cae_1.h5')"
      ],
      "execution_count": 0,
      "outputs": []
    },
    {
      "cell_type": "code",
      "metadata": {
        "id": "3tnWtKWxfjAt",
        "colab_type": "code",
        "colab": {}
      },
      "source": [
        "# 2 ta 70 ta = test, 12 ta 70 ta train,# 140 ta test, 840 ta train, # 70 ta batch test, 420 ta batch train"
      ],
      "execution_count": 0,
      "outputs": []
    },
    {
      "cell_type": "markdown",
      "metadata": {
        "id": "TlwLSE72cD2u",
        "colab_type": "text"
      },
      "source": [
        "###Building Classifier"
      ]
    },
    {
      "cell_type": "code",
      "metadata": {
        "id": "wRSY3tYhcIxt",
        "colab_type": "code",
        "outputId": "672cf36a-1fae-4db0-89d8-a93ac25bd930",
        "colab": {
          "base_uri": "https://localhost:8080/",
          "height": 255
        }
      },
      "source": [
        "autoencoder.summary()"
      ],
      "execution_count": 21,
      "outputs": [
        {
          "output_type": "stream",
          "text": [
            "Model: \"autoencoder\"\n",
            "_________________________________________________________________\n",
            "Layer (type)                 Output Shape              Param #   \n",
            "=================================================================\n",
            "input_1 (InputLayer)         (None, 120, 160, 120, 1)  0         \n",
            "_________________________________________________________________\n",
            "encoder (Model)              (None, 15, 20, 15, 10)    5700      \n",
            "_________________________________________________________________\n",
            "decoder (Model)              (None, 120, 160, 120, 1)  8401      \n",
            "=================================================================\n",
            "Total params: 14,101\n",
            "Trainable params: 14,101\n",
            "Non-trainable params: 0\n",
            "_________________________________________________________________\n"
          ],
          "name": "stdout"
        }
      ]
    },
    {
      "cell_type": "code",
      "metadata": {
        "id": "IM7_GqqLcqPx",
        "colab_type": "code",
        "colab": {}
      },
      "source": [
        "from keras.layers import Softmax"
      ],
      "execution_count": 0,
      "outputs": []
    },
    {
      "cell_type": "code",
      "metadata": {
        "id": "9LJCxSXKjd9Z",
        "colab_type": "code",
        "colab": {}
      },
      "source": [
        "encoder_c = autoencoder.layers[1]"
      ],
      "execution_count": 0,
      "outputs": []
    },
    {
      "cell_type": "code",
      "metadata": {
        "id": "MxFeZy1DjY-z",
        "colab_type": "code",
        "outputId": "c2541e30-03a0-4d8f-e746-8166d6be87d5",
        "colab": {
          "base_uri": "https://localhost:8080/",
          "height": 493
        }
      },
      "source": [
        "encoder_c.summary()"
      ],
      "execution_count": 24,
      "outputs": [
        {
          "output_type": "stream",
          "text": [
            "Model: \"encoder\"\n",
            "_________________________________________________________________\n",
            "Layer (type)                 Output Shape              Param #   \n",
            "=================================================================\n",
            "input_1 (InputLayer)         (None, 120, 160, 120, 1)  0         \n",
            "_________________________________________________________________\n",
            "conv3d_1 (Conv3D)            (None, 120, 160, 120, 10) 280       \n",
            "_________________________________________________________________\n",
            "max_pooling3d_1 (MaxPooling3 (None, 60, 80, 60, 10)    0         \n",
            "_________________________________________________________________\n",
            "dropout_1 (Dropout)          (None, 60, 80, 60, 10)    0         \n",
            "_________________________________________________________________\n",
            "conv3d_2 (Conv3D)            (None, 60, 80, 60, 10)    2710      \n",
            "_________________________________________________________________\n",
            "max_pooling3d_2 (MaxPooling3 (None, 30, 40, 30, 10)    0         \n",
            "_________________________________________________________________\n",
            "dropout_2 (Dropout)          (None, 30, 40, 30, 10)    0         \n",
            "_________________________________________________________________\n",
            "conv3d_3 (Conv3D)            (None, 30, 40, 30, 10)    2710      \n",
            "_________________________________________________________________\n",
            "max_pooling3d_3 (MaxPooling3 (None, 15, 20, 15, 10)    0         \n",
            "_________________________________________________________________\n",
            "dropout_3 (Dropout)          (None, 15, 20, 15, 10)    0         \n",
            "=================================================================\n",
            "Total params: 5,700\n",
            "Trainable params: 5,700\n",
            "Non-trainable params: 0\n",
            "_________________________________________________________________\n"
          ],
          "name": "stdout"
        }
      ]
    },
    {
      "cell_type": "markdown",
      "metadata": {
        "id": "tRfERhSxnt2v",
        "colab_type": "text"
      },
      "source": [
        "###New Encoder, classifier to be"
      ]
    },
    {
      "cell_type": "code",
      "metadata": {
        "id": "ccbOxTeLiy25",
        "colab_type": "code",
        "outputId": "aa81b10e-f35c-4583-c03d-5294364ab87d",
        "colab": {
          "base_uri": "https://localhost:8080/",
          "height": 629
        }
      },
      "source": [
        "input_img = Input(shape= (120, 160, 120 , 1))\n",
        "x = Conv3D(10, (3,3,3), activation='relu', padding='same')(input_img)\n",
        "x = MaxPool3D((2,2,2))(x)\n",
        "x= Dropout(0.8)(x)\n",
        "\n",
        "x = Conv3D(10, (3,3,3), activation='relu', padding='same')(x)\n",
        "x = MaxPool3D((2,2,2))(x)\n",
        "x= Dropout(0.8)(x)\n",
        "\n",
        "x = Conv3D(10, (3,3,3), activation='relu', padding='same')(x)\n",
        "x = MaxPool3D((2,2,2))(x)\n",
        "x= Dropout(0.8)(x)\n",
        "\n",
        "encoded_shape = K.int_shape(x)\n",
        "\n",
        "x = Flatten()(x)\n",
        "\n",
        "x = Dense(32, activation='selu')(x)\n",
        "x= Dense(16, activation='selu')(x)\n",
        "new_encoded = Dense(2, activation='softmax')(x)\n",
        "\n",
        "\n",
        "classifier=Model(input_img, new_encoded, name='classifier')\n",
        "classifier.summary()"
      ],
      "execution_count": 25,
      "outputs": [
        {
          "output_type": "stream",
          "text": [
            "Model: \"classifier\"\n",
            "_________________________________________________________________\n",
            "Layer (type)                 Output Shape              Param #   \n",
            "=================================================================\n",
            "input_3 (InputLayer)         (None, 120, 160, 120, 1)  0         \n",
            "_________________________________________________________________\n",
            "conv3d_4 (Conv3D)            (None, 120, 160, 120, 10) 280       \n",
            "_________________________________________________________________\n",
            "max_pooling3d_4 (MaxPooling3 (None, 60, 80, 60, 10)    0         \n",
            "_________________________________________________________________\n",
            "dropout_7 (Dropout)          (None, 60, 80, 60, 10)    0         \n",
            "_________________________________________________________________\n",
            "conv3d_5 (Conv3D)            (None, 60, 80, 60, 10)    2710      \n",
            "_________________________________________________________________\n",
            "max_pooling3d_5 (MaxPooling3 (None, 30, 40, 30, 10)    0         \n",
            "_________________________________________________________________\n",
            "dropout_8 (Dropout)          (None, 30, 40, 30, 10)    0         \n",
            "_________________________________________________________________\n",
            "conv3d_6 (Conv3D)            (None, 30, 40, 30, 10)    2710      \n",
            "_________________________________________________________________\n",
            "max_pooling3d_6 (MaxPooling3 (None, 15, 20, 15, 10)    0         \n",
            "_________________________________________________________________\n",
            "dropout_9 (Dropout)          (None, 15, 20, 15, 10)    0         \n",
            "_________________________________________________________________\n",
            "flatten_1 (Flatten)          (None, 45000)             0         \n",
            "_________________________________________________________________\n",
            "dense_1 (Dense)              (None, 32)                1440032   \n",
            "_________________________________________________________________\n",
            "dense_2 (Dense)              (None, 16)                528       \n",
            "_________________________________________________________________\n",
            "dense_3 (Dense)              (None, 2)                 34        \n",
            "=================================================================\n",
            "Total params: 1,446,294\n",
            "Trainable params: 1,446,294\n",
            "Non-trainable params: 0\n",
            "_________________________________________________________________\n"
          ],
          "name": "stdout"
        }
      ]
    },
    {
      "cell_type": "markdown",
      "metadata": {
        "id": "KRuUnUgflAQy",
        "colab_type": "text"
      },
      "source": [
        "### Fitting data"
      ]
    },
    {
      "cell_type": "code",
      "metadata": {
        "id": "9sti5bIalk2O",
        "colab_type": "code",
        "outputId": "471825db-c34d-447c-b66a-6bc29b22caa6",
        "colab": {
          "base_uri": "https://localhost:8080/",
          "height": 255
        }
      },
      "source": [
        "\n",
        "classifier.layers"
      ],
      "execution_count": 26,
      "outputs": [
        {
          "output_type": "execute_result",
          "data": {
            "text/plain": [
              "[<keras.engine.input_layer.InputLayer at 0x7f58b397c8d0>,\n",
              " <keras.layers.convolutional.Conv3D at 0x7f58b397c898>,\n",
              " <keras.layers.pooling.MaxPooling3D at 0x7f58b397c940>,\n",
              " <keras.layers.core.Dropout at 0x7f58b397c978>,\n",
              " <keras.layers.convolutional.Conv3D at 0x7f58b397cb00>,\n",
              " <keras.layers.pooling.MaxPooling3D at 0x7f58b397cd30>,\n",
              " <keras.layers.core.Dropout at 0x7f58b39b4c88>,\n",
              " <keras.layers.convolutional.Conv3D at 0x7f58b39b4b70>,\n",
              " <keras.layers.pooling.MaxPooling3D at 0x7f58b39b4c50>,\n",
              " <keras.layers.core.Dropout at 0x7f58b39b3f60>,\n",
              " <keras.layers.core.Flatten at 0x7f58b39b3f98>,\n",
              " <keras.layers.core.Dense at 0x7f58b397e208>,\n",
              " <keras.layers.core.Dense at 0x7f58b39bb898>,\n",
              " <keras.layers.core.Dense at 0x7f58b39bb8d0>]"
            ]
          },
          "metadata": {
            "tags": []
          },
          "execution_count": 26
        }
      ]
    },
    {
      "cell_type": "code",
      "metadata": {
        "id": "2RbATVKlpqSD",
        "colab_type": "code",
        "colab": {}
      },
      "source": [
        "for layer_num in range(len(encoder_c.get_weights())):\n",
        "  classifier.layers[layer_num].set_weights(encoder_c.layers[layer_num].get_weights())"
      ],
      "execution_count": 0,
      "outputs": []
    },
    {
      "cell_type": "code",
      "metadata": {
        "id": "IWfaKRKFj1xf",
        "colab_type": "code",
        "colab": {}
      },
      "source": [
        "opt = keras.optimizers.Adam(learning_rate=0.0001, beta_1=0.9, beta_2=0.9)"
      ],
      "execution_count": 0,
      "outputs": []
    },
    {
      "cell_type": "code",
      "metadata": {
        "id": "DNblAdMkrV5g",
        "colab_type": "code",
        "colab": {}
      },
      "source": [
        "#didn't freeze\n",
        "classifier.compile(optimizer=opt, loss='binary_crossentropy', metrics=['accuracy',keras.metrics.Precision(), keras.metrics.Recall(),keras.metrics.AUC()])"
      ],
      "execution_count": 0,
      "outputs": []
    },
    {
      "cell_type": "code",
      "metadata": {
        "id": "7YeHsGibrceu",
        "colab_type": "code",
        "outputId": "43b87fe2-351e-4458-d36a-6ae8e1b7221d",
        "colab": {
          "base_uri": "https://localhost:8080/",
          "height": 629
        }
      },
      "source": [
        "classifier.summary()"
      ],
      "execution_count": 30,
      "outputs": [
        {
          "output_type": "stream",
          "text": [
            "Model: \"classifier\"\n",
            "_________________________________________________________________\n",
            "Layer (type)                 Output Shape              Param #   \n",
            "=================================================================\n",
            "input_3 (InputLayer)         (None, 120, 160, 120, 1)  0         \n",
            "_________________________________________________________________\n",
            "conv3d_4 (Conv3D)            (None, 120, 160, 120, 10) 280       \n",
            "_________________________________________________________________\n",
            "max_pooling3d_4 (MaxPooling3 (None, 60, 80, 60, 10)    0         \n",
            "_________________________________________________________________\n",
            "dropout_7 (Dropout)          (None, 60, 80, 60, 10)    0         \n",
            "_________________________________________________________________\n",
            "conv3d_5 (Conv3D)            (None, 60, 80, 60, 10)    2710      \n",
            "_________________________________________________________________\n",
            "max_pooling3d_5 (MaxPooling3 (None, 30, 40, 30, 10)    0         \n",
            "_________________________________________________________________\n",
            "dropout_8 (Dropout)          (None, 30, 40, 30, 10)    0         \n",
            "_________________________________________________________________\n",
            "conv3d_6 (Conv3D)            (None, 30, 40, 30, 10)    2710      \n",
            "_________________________________________________________________\n",
            "max_pooling3d_6 (MaxPooling3 (None, 15, 20, 15, 10)    0         \n",
            "_________________________________________________________________\n",
            "dropout_9 (Dropout)          (None, 15, 20, 15, 10)    0         \n",
            "_________________________________________________________________\n",
            "flatten_1 (Flatten)          (None, 45000)             0         \n",
            "_________________________________________________________________\n",
            "dense_1 (Dense)              (None, 32)                1440032   \n",
            "_________________________________________________________________\n",
            "dense_2 (Dense)              (None, 16)                528       \n",
            "_________________________________________________________________\n",
            "dense_3 (Dense)              (None, 2)                 34        \n",
            "=================================================================\n",
            "Total params: 1,446,294\n",
            "Trainable params: 1,446,294\n",
            "Non-trainable params: 0\n",
            "_________________________________________________________________\n"
          ],
          "name": "stdout"
        }
      ]
    },
    {
      "cell_type": "code",
      "metadata": {
        "id": "FTwgCtDPdJok",
        "colab_type": "code",
        "colab": {
          "base_uri": "https://localhost:8080/",
          "height": 139
        },
        "outputId": "a3409f10-1bba-412f-d109-eb80c277cdc8"
      },
      "source": [
        "all_class_hist= classifier.fit_generator(generator=class_tr_gen, steps_per_epoch = 420, epochs=3, verbose=1 , validation_data=class_test_gen, validation_steps=70)"
      ],
      "execution_count": 61,
      "outputs": [
        {
          "output_type": "stream",
          "text": [
            "Epoch 1/3\n",
            "420/420 [==============================] - 216s 514ms/step - loss: 0.6547 - accuracy: 0.6500 - precision_2: 0.6314 - recall_2: 0.6314 - auc_1: 0.6226 - val_loss: 0.5165 - val_accuracy: 0.6714 - val_precision_2: 0.6514 - val_recall_2: 0.6514 - val_auc_1: 0.6495\n",
            "Epoch 2/3\n",
            "420/420 [==============================] - 275s 654ms/step - loss: 0.6472 - accuracy: 0.6357 - precision_2: 0.6526 - recall_2: 0.6526 - auc_1: 0.6549 - val_loss: 0.5680 - val_accuracy: 0.7143 - val_precision_2: 0.6475 - val_recall_2: 0.6475 - val_auc_1: 0.6606\n",
            "Epoch 3/3\n",
            "420/420 [==============================] - 203s 484ms/step - loss: 0.6670 - accuracy: 0.6286 - precision_2: 0.6415 - recall_2: 0.6415 - auc_1: 0.6557 - val_loss: 0.9121 - val_accuracy: 0.6000 - val_precision_2: 0.6426 - val_recall_2: 0.6426 - val_auc_1: 0.6534\n"
          ],
          "name": "stdout"
        }
      ]
    },
    {
      "cell_type": "code",
      "metadata": {
        "id": "pbXUhnwGyCTg",
        "colab_type": "code",
        "colab": {
          "base_uri": "https://localhost:8080/",
          "height": 299
        },
        "outputId": "e0e02c68-8508-4c1a-be2f-b24e5f5603b3"
      },
      "source": [
        "plt.plot(all_class_hist.history['val_loss'], 'r', all_class_hist.history['loss'], 'b')"
      ],
      "execution_count": 62,
      "outputs": [
        {
          "output_type": "execute_result",
          "data": {
            "text/plain": [
              "[<matplotlib.lines.Line2D at 0x7fbfae2cd710>,\n",
              " <matplotlib.lines.Line2D at 0x7fbfae2cd5c0>]"
            ]
          },
          "metadata": {
            "tags": []
          },
          "execution_count": 62
        },
        {
          "output_type": "display_data",
          "data": {
            "image/png": "[encoded data removed]",
            "text/plain": [
              "<Figure size 432x288 with 1 Axes>"
            ]
          },
          "metadata": {
            "tags": [],
            "needs_background": "light"
          }
        }
      ]
    },
    {
      "cell_type": "code",
      "metadata": {
        "id": "jdIyGgxo6SLp",
        "colab_type": "code",
        "colab": {
          "base_uri": "https://localhost:8080/",
          "height": 139
        },
        "outputId": "d3500d70-b814-4e15-85a3-358df9f7d36f"
      },
      "source": [
        "opt_all_class_hist= classifier.fit_generator(generator=class_tr_gen, steps_per_epoch = 420, epochs=3, verbose=1 , validation_data=class_test_gen, validation_steps=70)"
      ],
      "execution_count": 70,
      "outputs": [
        {
          "output_type": "stream",
          "text": [
            "Epoch 1/3\n",
            "420/420 [==============================] - 279s 665ms/step - loss: 0.6430 - accuracy: 0.6500 - precision_3: 0.6369 - recall_3: 0.6369 - auc_2: 0.6738 - val_loss: 0.5226 - val_accuracy: 0.6571 - val_precision_3: 0.6498 - val_recall_3: 0.6498 - val_auc_2: 0.6763\n",
            "Epoch 2/3\n",
            "420/420 [==============================] - 182s 432ms/step - loss: 0.6672 - accuracy: 0.6071 - precision_3: 0.6352 - recall_3: 0.6352 - auc_2: 0.6608 - val_loss: 0.5374 - val_accuracy: 0.5286 - val_precision_3: 0.6266 - val_recall_3: 0.6266 - val_auc_2: 0.6552\n",
            "Epoch 3/3\n",
            "420/420 [==============================] - 259s 616ms/step - loss: 0.6423 - accuracy: 0.6500 - precision_3: 0.6283 - recall_3: 0.6283 - auc_2: 0.6588 - val_loss: 0.5361 - val_accuracy: 0.5000 - val_precision_3: 0.6269 - val_recall_3: 0.6269 - val_auc_2: 0.6592\n"
          ],
          "name": "stdout"
        }
      ]
    },
    {
      "cell_type": "code",
      "metadata": {
        "id": "S2bwWvKF9BTr",
        "colab_type": "code",
        "colab": {}
      },
      "source": [
        "from keras.callbacks import ModelCheckpoint\n",
        "mcp1_save = ModelCheckpoint('best_classif.h5', save_best_only=True, monitor='val_accuracy', mode='max')\n",
        "e_s_1= EarlyStopping(monitor='val_loss', mode='min', patience=30)"
      ],
      "execution_count": 0,
      "outputs": []
    },
    {
      "cell_type": "code",
      "metadata": {
        "id": "YF_VRRUA8wum",
        "colab_type": "code",
        "colab": {
          "base_uri": "https://localhost:8080/",
          "height": 1000
        },
        "outputId": "d2340253-a281-4708-b1d5-81bd78132cdc"
      },
      "source": [
        "classif_hist= classifier.fit_generator(generator=class_tr_gen, steps_per_epoch = 420, epochs=50, verbose=1 , callbacks=[mcp1_save,e_s_1], validation_data=class_test_gen, validation_steps=70)"
      ],
      "execution_count": 33,
      "outputs": [
        {
          "output_type": "stream",
          "text": [
            "Epoch 1/50\n",
            "420/420 [==============================] - 217s 518ms/step - loss: 0.9480 - accuracy: 0.6500 - precision: 0.6669 - recall: 0.6669 - auc: 0.6911 - val_loss: 0.7270 - val_accuracy: 0.3714 - val_precision: 0.6286 - val_recall: 0.6286 - val_auc: 0.6509\n",
            "Epoch 2/50\n",
            "  2/420 [..............................] - ETA: 36s - loss: 0.2209 - accuracy: 1.0000 - precision: 0.6114 - recall: 0.6114 - auc: 0.6485"
          ],
          "name": "stdout"
        },
        {
          "output_type": "stream",
          "text": [
            "/usr/local/lib/python3.6/dist-packages/keras/engine/saving.py:165: UserWarning: TensorFlow optimizers do not make it possible to access optimizer attributes or optimizer state after instantiation. As a result, we cannot save the optimizer as part of the model save file.You will have to compile your model again after loading it. Prefer using a Keras optimizer instead (see keras.io/optimizers).\n",
            "  'TensorFlow optimizers do not '\n"
          ],
          "name": "stderr"
        },
        {
          "output_type": "stream",
          "text": [
            "420/420 [==============================] - 292s 695ms/step - loss: 0.6777 - accuracy: 0.6143 - precision: 0.6145 - recall: 0.6145 - auc: 0.6515 - val_loss: 0.7760 - val_accuracy: 0.3571 - val_precision: 0.6032 - val_recall: 0.6032 - val_auc: 0.6427\n",
            "Epoch 3/50\n",
            "420/420 [==============================] - 200s 475ms/step - loss: 0.6569 - accuracy: 0.6524 - precision: 0.6041 - recall: 0.6041 - auc: 0.6460 - val_loss: 0.5863 - val_accuracy: 0.4429 - val_precision: 0.6067 - val_recall: 0.6067 - val_auc: 0.6492\n",
            "Epoch 4/50\n",
            "420/420 [==============================] - 301s 717ms/step - loss: 0.6384 - accuracy: 0.6595 - precision: 0.6100 - recall: 0.6100 - auc: 0.6525 - val_loss: 0.5536 - val_accuracy: 0.5000 - val_precision: 0.6134 - val_recall: 0.6134 - val_auc: 0.6560\n",
            "Epoch 5/50\n",
            "420/420 [==============================] - 217s 517ms/step - loss: 0.6713 - accuracy: 0.6333 - precision: 0.6118 - recall: 0.6118 - auc: 0.6523 - val_loss: 0.8626 - val_accuracy: 0.4143 - val_precision: 0.6130 - val_recall: 0.6130 - val_auc: 0.6529\n",
            "Epoch 6/50\n",
            "420/420 [==============================] - 301s 717ms/step - loss: 0.6383 - accuracy: 0.6500 - precision: 0.6129 - recall: 0.6129 - auc: 0.6535 - val_loss: 0.8868 - val_accuracy: 0.2857 - val_precision: 0.6118 - val_recall: 0.6118 - val_auc: 0.6541\n",
            "Epoch 7/50\n",
            "420/420 [==============================] - 197s 469ms/step - loss: 0.6764 - accuracy: 0.5976 - precision: 0.6078 - recall: 0.6078 - auc: 0.6515 - val_loss: 0.8839 - val_accuracy: 0.3571 - val_precision: 0.6039 - val_recall: 0.6039 - val_auc: 0.6474\n",
            "Epoch 8/50\n",
            "420/420 [==============================] - 292s 695ms/step - loss: 0.6299 - accuracy: 0.6762 - precision: 0.6062 - recall: 0.6062 - auc: 0.6500 - val_loss: 0.8986 - val_accuracy: 0.3714 - val_precision: 0.6074 - val_recall: 0.6074 - val_auc: 0.6511\n",
            "Epoch 9/50\n",
            "420/420 [==============================] - 194s 463ms/step - loss: 0.6527 - accuracy: 0.5905 - precision: 0.6072 - recall: 0.6072 - auc: 0.6525 - val_loss: 0.8967 - val_accuracy: 0.3143 - val_precision: 0.6015 - val_recall: 0.6015 - val_auc: 0.6483\n",
            "Epoch 10/50\n",
            "420/420 [==============================] - 288s 686ms/step - loss: 0.6279 - accuracy: 0.6548 - precision: 0.6018 - recall: 0.6018 - auc: 0.6494 - val_loss: 0.9187 - val_accuracy: 0.3857 - val_precision: 0.6027 - val_recall: 0.6027 - val_auc: 0.6510\n",
            "Epoch 11/50\n",
            "420/420 [==============================] - 193s 460ms/step - loss: 0.6344 - accuracy: 0.6381 - precision: 0.6026 - recall: 0.6026 - auc: 0.6518 - val_loss: 0.9279 - val_accuracy: 0.3429 - val_precision: 0.6023 - val_recall: 0.6023 - val_auc: 0.6523\n",
            "Epoch 12/50\n",
            "420/420 [==============================] - 291s 692ms/step - loss: 0.6514 - accuracy: 0.6190 - precision: 0.6003 - recall: 0.6003 - auc: 0.6504 - val_loss: 0.9398 - val_accuracy: 0.3429 - val_precision: 0.6004 - val_recall: 0.6004 - val_auc: 0.6508\n",
            "Epoch 13/50\n",
            "420/420 [==============================] - 193s 459ms/step - loss: 0.6195 - accuracy: 0.6643 - precision: 0.6011 - recall: 0.6011 - auc: 0.6517 - val_loss: 0.4826 - val_accuracy: 0.3857 - val_precision: 0.6021 - val_recall: 0.6021 - val_auc: 0.6532\n",
            "Epoch 14/50\n",
            "420/420 [==============================] - 294s 699ms/step - loss: 0.6627 - accuracy: 0.5976 - precision: 0.6010 - recall: 0.6010 - auc: 0.6524 - val_loss: 0.9532 - val_accuracy: 0.2714 - val_precision: 0.5990 - val_recall: 0.5990 - val_auc: 0.6502\n",
            "Epoch 15/50\n",
            "420/420 [==============================] - 201s 479ms/step - loss: 0.6274 - accuracy: 0.6524 - precision: 0.5991 - recall: 0.5991 - auc: 0.6509 - val_loss: 0.9572 - val_accuracy: 0.3714 - val_precision: 0.5993 - val_recall: 0.5993 - val_auc: 0.6518\n",
            "Epoch 16/50\n",
            "420/420 [==============================] - 305s 726ms/step - loss: 0.6458 - accuracy: 0.6286 - precision: 0.5995 - recall: 0.5995 - auc: 0.6524 - val_loss: 0.9664 - val_accuracy: 0.3571 - val_precision: 0.5988 - val_recall: 0.5988 - val_auc: 0.6512\n",
            "Epoch 17/50\n",
            "420/420 [==============================] - 205s 487ms/step - loss: 0.6236 - accuracy: 0.6548 - precision: 0.5991 - recall: 0.5991 - auc: 0.6520 - val_loss: 0.4681 - val_accuracy: 0.4429 - val_precision: 0.5998 - val_recall: 0.5998 - val_auc: 0.6531\n",
            "Epoch 18/50\n",
            "420/420 [==============================] - 294s 699ms/step - loss: 0.6181 - accuracy: 0.6786 - precision: 0.6012 - recall: 0.6012 - auc: 0.6543 - val_loss: 0.4544 - val_accuracy: 0.5000 - val_precision: 0.6026 - val_recall: 0.6026 - val_auc: 0.6555\n",
            "Epoch 19/50\n",
            "420/420 [==============================] - 197s 469ms/step - loss: 0.6686 - accuracy: 0.5976 - precision: 0.6013 - recall: 0.6013 - auc: 0.6541 - val_loss: 0.9922 - val_accuracy: 0.4143 - val_precision: 0.6014 - val_recall: 0.6014 - val_auc: 0.6542\n",
            "Epoch 20/50\n",
            "420/420 [==============================] - 306s 728ms/step - loss: 0.6090 - accuracy: 0.6595 - precision: 0.6020 - recall: 0.6020 - auc: 0.6553 - val_loss: 1.0137 - val_accuracy: 0.2857 - val_precision: 0.6021 - val_recall: 0.6021 - val_auc: 0.6559\n",
            "Epoch 21/50\n",
            "420/420 [==============================] - 198s 470ms/step - loss: 0.6552 - accuracy: 0.6238 - precision: 0.6017 - recall: 0.6017 - auc: 0.6553 - val_loss: 1.0165 - val_accuracy: 0.3571 - val_precision: 0.6010 - val_recall: 0.6010 - val_auc: 0.6544\n",
            "Epoch 22/50\n",
            "420/420 [==============================] - 304s 724ms/step - loss: 0.6161 - accuracy: 0.6714 - precision: 0.6018 - recall: 0.6018 - auc: 0.6556 - val_loss: 1.0345 - val_accuracy: 0.3714 - val_precision: 0.6022 - val_recall: 0.6022 - val_auc: 0.6562\n",
            "Epoch 23/50\n",
            "420/420 [==============================] - 207s 492ms/step - loss: 0.6472 - accuracy: 0.6024 - precision: 0.6020 - recall: 0.6020 - auc: 0.6567 - val_loss: 1.0286 - val_accuracy: 0.3143 - val_precision: 0.6006 - val_recall: 0.6006 - val_auc: 0.6552\n",
            "Epoch 24/50\n",
            "420/420 [==============================] - 303s 721ms/step - loss: 0.6227 - accuracy: 0.6714 - precision: 0.6011 - recall: 0.6011 - auc: 0.6556 - val_loss: 1.0417 - val_accuracy: 0.3857 - val_precision: 0.6017 - val_recall: 0.6017 - val_auc: 0.6562\n",
            "Epoch 25/50\n",
            "420/420 [==============================] - 197s 469ms/step - loss: 0.6130 - accuracy: 0.6643 - precision: 0.6022 - recall: 0.6022 - auc: 0.6569 - val_loss: 1.0572 - val_accuracy: 0.3429 - val_precision: 0.6025 - val_recall: 0.6025 - val_auc: 0.6574\n",
            "Epoch 26/50\n",
            "420/420 [==============================] - 308s 734ms/step - loss: 0.6572 - accuracy: 0.6214 - precision: 0.6016 - recall: 0.6016 - auc: 0.6561 - val_loss: 1.0498 - val_accuracy: 0.3429 - val_precision: 0.6017 - val_recall: 0.6017 - val_auc: 0.6562\n",
            "Epoch 27/50\n",
            "420/420 [==============================] - 207s 493ms/step - loss: 0.6240 - accuracy: 0.6595 - precision: 0.6018 - recall: 0.6018 - auc: 0.6562 - val_loss: 0.4255 - val_accuracy: 0.3857 - val_precision: 0.6023 - val_recall: 0.6023 - val_auc: 0.6567\n",
            "Epoch 28/50\n",
            "420/420 [==============================] - 293s 697ms/step - loss: 0.6571 - accuracy: 0.6143 - precision: 0.6021 - recall: 0.6021 - auc: 0.6563 - val_loss: 1.0484 - val_accuracy: 0.2714 - val_precision: 0.6013 - val_recall: 0.6013 - val_auc: 0.6553\n",
            "Epoch 29/50\n",
            "420/420 [==============================] - 201s 478ms/step - loss: 0.6219 - accuracy: 0.6833 - precision: 0.6017 - recall: 0.6017 - auc: 0.6557 - val_loss: 1.0545 - val_accuracy: 0.3714 - val_precision: 0.6022 - val_recall: 0.6022 - val_auc: 0.6559\n",
            "Epoch 30/50\n",
            "420/420 [==============================] - 311s 740ms/step - loss: 0.6439 - accuracy: 0.6262 - precision: 0.6027 - recall: 0.6027 - auc: 0.6565 - val_loss: 1.0388 - val_accuracy: 0.3571 - val_precision: 0.6018 - val_recall: 0.6018 - val_auc: 0.6553\n",
            "Epoch 31/50\n",
            "420/420 [==============================] - 201s 477ms/step - loss: 0.6419 - accuracy: 0.6524 - precision: 0.6019 - recall: 0.6019 - auc: 0.6553 - val_loss: 0.4409 - val_accuracy: 0.4429 - val_precision: 0.6022 - val_recall: 0.6022 - val_auc: 0.6556\n",
            "Epoch 32/50\n",
            "420/420 [==============================] - 302s 718ms/step - loss: 0.6196 - accuracy: 0.6667 - precision: 0.6029 - recall: 0.6029 - auc: 0.6563 - val_loss: 0.4381 - val_accuracy: 0.5000 - val_precision: 0.6034 - val_recall: 0.6034 - val_auc: 0.6569\n",
            "Epoch 33/50\n",
            "420/420 [==============================] - 208s 494ms/step - loss: 0.6467 - accuracy: 0.6214 - precision: 0.6030 - recall: 0.6030 - auc: 0.6565 - val_loss: 1.0308 - val_accuracy: 0.4143 - val_precision: 0.6033 - val_recall: 0.6033 - val_auc: 0.6570\n",
            "Epoch 34/50\n",
            "420/420 [==============================] - 330s 785ms/step - loss: 0.6128 - accuracy: 0.6810 - precision: 0.6039 - recall: 0.6039 - auc: 0.6574 - val_loss: 1.0497 - val_accuracy: 0.2857 - val_precision: 0.6042 - val_recall: 0.6042 - val_auc: 0.6577\n",
            "Epoch 35/50\n",
            "369/420 [=========================>....] - ETA: 22s - loss: 0.6438 - accuracy: 0.6585 - precision: 0.6042 - recall: 0.6042 - auc: 0.6574"
          ],
          "name": "stdout"
        },
        {
          "output_type": "stream",
          "text": [
            "/usr/local/lib/python3.6/dist-packages/keras/utils/data_utils.py:718: UserWarning: An input could not be retrieved. It could be because a worker has died.We do not have any information on the lost sample.\n",
            "  UserWarning)\n"
          ],
          "name": "stderr"
        },
        {
          "output_type": "stream",
          "text": [
            "420/420 [==============================] - 232s 552ms/step - loss: 0.6416 - accuracy: 0.6595 - precision: 0.6043 - recall: 0.6043 - auc: 0.6574 - val_loss: 1.0535 - val_accuracy: 0.3571 - val_precision: 0.6043 - val_recall: 0.6043 - val_auc: 0.6570\n",
            "Epoch 36/50\n",
            "420/420 [==============================] - 306s 728ms/step - loss: 0.6189 - accuracy: 0.6786 - precision: 0.6048 - recall: 0.6048 - auc: 0.6576 - val_loss: 1.0575 - val_accuracy: 0.3714 - val_precision: 0.6052 - val_recall: 0.6052 - val_auc: 0.6577\n",
            "Epoch 37/50\n",
            "420/420 [==============================] - 199s 474ms/step - loss: 0.6452 - accuracy: 0.6262 - precision: 0.6054 - recall: 0.6054 - auc: 0.6580 - val_loss: 1.0503 - val_accuracy: 0.3143 - val_precision: 0.6046 - val_recall: 0.6046 - val_auc: 0.6571\n",
            "Epoch 38/50\n",
            "420/420 [==============================] - 300s 714ms/step - loss: 0.6249 - accuracy: 0.6548 - precision: 0.6047 - recall: 0.6047 - auc: 0.6573 - val_loss: 1.0545 - val_accuracy: 0.3857 - val_precision: 0.6049 - val_recall: 0.6049 - val_auc: 0.6575\n",
            "Epoch 39/50\n",
            "420/420 [==============================] - 199s 475ms/step - loss: 0.6174 - accuracy: 0.6833 - precision: 0.6052 - recall: 0.6052 - auc: 0.6577 - val_loss: 1.0604 - val_accuracy: 0.3429 - val_precision: 0.6057 - val_recall: 0.6057 - val_auc: 0.6579\n",
            "Epoch 40/50\n",
            "420/420 [==============================] - 301s 716ms/step - loss: 0.6311 - accuracy: 0.6333 - precision: 0.6054 - recall: 0.6054 - auc: 0.6576 - val_loss: 1.0698 - val_accuracy: 0.3429 - val_precision: 0.6053 - val_recall: 0.6053 - val_auc: 0.6578\n",
            "Epoch 41/50\n",
            "420/420 [==============================] - 201s 477ms/step - loss: 0.6180 - accuracy: 0.6762 - precision: 0.6056 - recall: 0.6056 - auc: 0.6580 - val_loss: 0.4159 - val_accuracy: 0.3857 - val_precision: 0.6060 - val_recall: 0.6060 - val_auc: 0.6584\n",
            "Epoch 42/50\n",
            "420/420 [==============================] - 297s 708ms/step - loss: 0.6336 - accuracy: 0.6357 - precision: 0.6061 - recall: 0.6061 - auc: 0.6584 - val_loss: 1.0855 - val_accuracy: 0.2714 - val_precision: 0.6057 - val_recall: 0.6057 - val_auc: 0.6580\n",
            "Epoch 43/50\n",
            "420/420 [==============================] - 212s 506ms/step - loss: 0.6133 - accuracy: 0.6738 - precision: 0.6058 - recall: 0.6058 - auc: 0.6582 - val_loss: 1.0888 - val_accuracy: 0.3714 - val_precision: 0.6060 - val_recall: 0.6060 - val_auc: 0.6585\n",
            "Epoch 44/50\n",
            "420/420 [==============================] - 306s 729ms/step - loss: 0.6267 - accuracy: 0.6429 - precision: 0.6062 - recall: 0.6062 - auc: 0.6589 - val_loss: 1.0989 - val_accuracy: 0.3571 - val_precision: 0.6060 - val_recall: 0.6060 - val_auc: 0.6587\n",
            "Epoch 45/50\n",
            "420/420 [==============================] - 201s 478ms/step - loss: 0.6227 - accuracy: 0.6619 - precision: 0.6059 - recall: 0.6059 - auc: 0.6587 - val_loss: 0.4049 - val_accuracy: 0.4429 - val_precision: 0.6063 - val_recall: 0.6063 - val_auc: 0.6591\n",
            "Epoch 46/50\n",
            "420/420 [==============================] - 299s 713ms/step - loss: 0.5954 - accuracy: 0.6762 - precision: 0.6067 - recall: 0.6067 - auc: 0.6597 - val_loss: 0.3953 - val_accuracy: 0.5000 - val_precision: 0.6072 - val_recall: 0.6072 - val_auc: 0.6603\n",
            "Epoch 47/50\n",
            "420/420 [==============================] - 200s 477ms/step - loss: 0.6423 - accuracy: 0.6405 - precision: 0.6073 - recall: 0.6073 - auc: 0.6601 - val_loss: 1.1187 - val_accuracy: 0.4143 - val_precision: 0.6074 - val_recall: 0.6074 - val_auc: 0.6604\n",
            "Epoch 48/50\n",
            "420/420 [==============================] - 313s 745ms/step - loss: 0.6101 - accuracy: 0.6833 - precision: 0.6078 - recall: 0.6078 - auc: 0.6607 - val_loss: 1.1284 - val_accuracy: 0.2857 - val_precision: 0.6080 - val_recall: 0.6080 - val_auc: 0.6609\n",
            "Epoch 49/50\n",
            "420/420 [==============================] - 204s 486ms/step - loss: 0.6345 - accuracy: 0.6381 - precision: 0.6078 - recall: 0.6078 - auc: 0.6607 - val_loss: 1.1340 - val_accuracy: 0.3571 - val_precision: 0.6077 - val_recall: 0.6077 - val_auc: 0.6605\n",
            "Epoch 50/50\n",
            "420/420 [==============================] - 303s 720ms/step - loss: 0.6206 - accuracy: 0.6786 - precision: 0.6080 - recall: 0.6080 - auc: 0.6609 - val_loss: 1.1303 - val_accuracy: 0.3714 - val_precision: 0.6082 - val_recall: 0.6082 - val_auc: 0.6609\n"
          ],
          "name": "stdout"
        }
      ]
    },
    {
      "cell_type": "code",
      "metadata": {
        "id": "dDUNLXNS5PAZ",
        "colab_type": "code",
        "colab": {}
      },
      "source": [
        "from pydrive.auth import GoogleAuth\n",
        "from pydrive.drive import GoogleDrive \n",
        "from google.colab import auth \n",
        "from oauth2client.client import GoogleCredentials\n",
        "\n",
        "auth.authenticate_user()\n",
        "gauth = GoogleAuth()\n",
        "gauth.credentials = GoogleCredentials.get_application_default()                       \n",
        "drive = GoogleDrive(gauth)"
      ],
      "execution_count": 0,
      "outputs": []
    },
    {
      "cell_type": "code",
      "metadata": {
        "id": "YrR38pLxyJhE",
        "colab_type": "code",
        "colab": {}
      },
      "source": [
        "#just to save the model. Don't run again\n",
        "classifier.save('classifier_1.h5')\n",
        "model_file = drive.CreateFile({'title' : 'classifier_1.h5'})                       \n",
        "model_file.SetContentFile('classifier_1.h5')                       \n",
        "model_file.Upload()"
      ],
      "execution_count": 0,
      "outputs": []
    },
    {
      "cell_type": "code",
      "metadata": {
        "id": "fKQWzk4P4p2x",
        "colab_type": "code",
        "colab": {
          "base_uri": "https://localhost:8080/",
          "height": 34
        },
        "outputId": "6da245b5-f8ab-4ec3-91c1-f0de3a174c8f"
      },
      "source": [
        "\n",
        "# Don't run again. download to google drive                       \n",
        "drive.CreateFile({'id': model_file.get('id')})"
      ],
      "execution_count": 66,
      "outputs": [
        {
          "output_type": "execute_result",
          "data": {
            "text/plain": [
              "GoogleDriveFile({'id': '1HrFpLn6v4ws4xYU8DgYR2XvEk74_xuFp'})"
            ]
          },
          "metadata": {
            "tags": []
          },
          "execution_count": 66
        }
      ]
    },
    {
      "cell_type": "code",
      "metadata": {
        "id": "2bEt7xPF4t0i",
        "colab_type": "code",
        "colab": {}
      },
      "source": [
        "#Loading models from Google Drive into Colab, Don't run\n",
        "\n",
        "file_obj = drive.CreateFile({'id': '1HrFpLn6v4ws4xYU8DgYR2XvEk74_xuFp'})                       \n",
        "file_obj.GetContentFile('classifier_1.h5')\n"
      ],
      "execution_count": 0,
      "outputs": []
    },
    {
      "cell_type": "code",
      "metadata": {
        "id": "fFsGT2mw41id",
        "colab_type": "code",
        "colab": {}
      },
      "source": [
        "from keras.models import load_model\n",
        "cae=load_model('/content/drive/My Drive/classifier_1.h5')"
      ],
      "execution_count": 0,
      "outputs": []
    },
    {
      "cell_type": "code",
      "metadata": {
        "id": "Aj7ceo5a5j37",
        "colab_type": "code",
        "colab": {}
      },
      "source": [
        ""
      ],
      "execution_count": 0,
      "outputs": []
    }
  ]
}