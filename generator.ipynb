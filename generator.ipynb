{
  "nbformat": 4,
  "nbformat_minor": 0,
  "metadata": {
    "colab": {
      "name": "generator_draft.ipynb",
      "provenance": [],
      "collapsed_sections": [],
      "machine_shape": "hm"
    },
    "kernelspec": {
      "display_name": "Python 3",
      "language": "python",
      "name": "python3"
    },
    "language_info": {
      "codemirror_mode": {
        "name": "ipython",
        "version": 3
      },
      "file_extension": ".py",
      "mimetype": "text/x-python",
      "name": "python",
      "nbconvert_exporter": "python",
      "pygments_lexer": "ipython3",
      "version": "3.7.6"
    },
    "accelerator": "GPU"
  },
  "cells": [
    {
      "cell_type": "code",
      "metadata": {
        "colab_type": "code",
        "id": "0KHhdljls2jv",
        "colab": {}
      },
      "source": [
        "import pandas as pd\n",
        "import numpy as np\n",
        "import pickle\n",
        "import gzip\n"
      ],
      "execution_count": 0,
      "outputs": []
    },
    {
      "cell_type": "code",
      "metadata": {
        "id": "2qmchbbyhHXg",
        "colab_type": "code",
        "colab": {
          "base_uri": "https://localhost:8080/",
          "height": 34
        },
        "outputId": "c40e78d9-750b-4f96-fc5b-e6ae77282897"
      },
      "source": [
        "import tensorflow as tf\n",
        "from tensorflow import keras\n",
        "from tensorflow.keras import backend as K\n",
        "from tensorflow.keras.callbacks import TensorBoard\n",
        "import matplotlib.pyplot as plt\n",
        "from keras.models import Sequential, Model\n",
        "from keras.layers import Dense, Conv3D, MaxPool3D, Dropout, Flatten, Conv3DTranspose, UpSampling3D, Reshape\n",
        "from keras.layers import Input\n",
        "\n"
      ],
      "execution_count": 3,
      "outputs": [
        {
          "output_type": "stream",
          "text": [
            "Using TensorFlow backend.\n"
          ],
          "name": "stderr"
        }
      ]
    },
    {
      "cell_type": "code",
      "metadata": {
        "id": "8koJOznOWvIq",
        "colab_type": "code",
        "outputId": "db218749-ef1f-42f8-975c-547c09e0f0a7",
        "colab": {
          "base_uri": "https://localhost:8080/",
          "height": 122
        }
      },
      "source": [
        "from google.colab import drive\n",
        "drive.mount('/content/drive')"
      ],
      "execution_count": 4,
      "outputs": [
        {
          "output_type": "stream",
          "text": [
            "Go to this URL in a browser: https://accounts.google.com/o/oauth2/auth?client_id=947318989803-6bn6qk8qdgf4n4g3pfee6491hc0brc4i.apps.googleusercontent.com&redirect_uri=urn%3aietf%3awg%3aoauth%3a2.0%3aoob&response_type=code&scope=email%20https%3a%2f%2fwww.googleapis.com%2fauth%2fdocs.test%20https%3a%2f%2fwww.googleapis.com%2fauth%2fdrive%20https%3a%2f%2fwww.googleapis.com%2fauth%2fdrive.photos.readonly%20https%3a%2f%2fwww.googleapis.com%2fauth%2fpeopleapi.readonly\n",
            "\n",
            "Enter your authorization code:\n",
            "··········\n",
            "Mounted at /content/drive\n"
          ],
          "name": "stdout"
        }
      ]
    },
    {
      "cell_type": "markdown",
      "metadata": {
        "id": "yRG67woNDAtX",
        "colab_type": "text"
      },
      "source": [
        "###Generator with List, for CAE training"
      ]
    },
    {
      "cell_type": "code",
      "metadata": {
        "id": "Lh9w6cwT87yV",
        "colab_type": "code",
        "colab": {}
      },
      "source": [
        "def gen_tr_1():\n",
        "  while True: # each time will be one round going through all images\n",
        "    im_num = 0\n",
        "    batch_num = 0\n",
        "      \n",
        "    while True: #for one round through all images\n",
        "      \n",
        "      pixels=np.zeros(( 1 , 120, 160, 120))\n",
        "      while (len(pixels)<3): \n",
        "              try:\n",
        "                  path = '/content/drive/My Drive/PROCESSED/OAS3'\n",
        "                  path += str(im_num).zfill(4)+'_data'\n",
        "                  with open(path, 'rb') as f:\n",
        "                        im= pickle.load(f)\n",
        "                        pixels=np.append(pixels,np.reshape(im['image'], (1, 120, 160, 120) ), axis=0) \n",
        "                        im_num = im_num%1173\n",
        "                        im_num += 1\n",
        "              except:\n",
        "                    im_num = im_num%1173\n",
        "                    im_num += 1\n",
        "    \n",
        "                    pass\n",
        "      batch_num += 1\n",
        "      yield  (np.reshape(pixels[1:pixels.shape[0],:,:,:],(pixels.shape[0]-1,120,160,120,1)),\\\n",
        "              np.reshape(pixels[1:pixels.shape[0],:,:,:], (pixels.shape[0]-1,120,160,120,1)))"
      ],
      "execution_count": 0,
      "outputs": []
    },
    {
      "cell_type": "code",
      "metadata": {
        "id": "QNYJIZ4E9M4q",
        "colab_type": "code",
        "colab": {}
      },
      "source": [
        "def gen_test_1():\n",
        "  while True:\n",
        "    im_num = 0\n",
        "    batch_num = 0\n",
        "    while True:\n",
        "      pixels=np.zeros(( 1 , 120, 160, 120))\n",
        "      while (len(pixels)<3): \n",
        "              try:\n",
        "                  path = '/content/drive/My Drive/PROCESSED/OAS3'\n",
        "                  im_num_inv = 1173 - im_num\n",
        "                  path += str(im_num_inv).zfill(4)+'_data'\n",
        "                  with open(path, 'rb') as f:\n",
        "                        im= pickle.load(f)\n",
        "                        pixels=np.append(pixels,np.reshape(im['image'], (1, 120, 160, 120) ), axis=0) \n",
        "                        im_num = im_num%1173\n",
        "                        im_num += 1\n",
        "              except:\n",
        "                    im_num = im_num%1173\n",
        "                    im_num += 1\n",
        "                    pass\n",
        "      batch_num += 1\n",
        "      yield  (np.reshape(pixels[1:pixels.shape[0],:,:,:],(pixels.shape[0]-1,120,160,120,1)),\\\n",
        "              np.reshape(pixels[1:pixels.shape[0],:,:,:], (pixels.shape[0]-1,120,160,120,1)))"
      ],
      "execution_count": 0,
      "outputs": []
    },
    {
      "cell_type": "code",
      "metadata": {
        "id": "_P3na1Jb9aye",
        "colab_type": "code",
        "colab": {}
      },
      "source": [
        "train_gen_1 = gen_tr_1()\n",
        "test_gen_1 = gen_test_1()"
      ],
      "execution_count": 0,
      "outputs": []
    },
    {
      "cell_type": "markdown",
      "metadata": {
        "id": "eVJNXBm8nCg4",
        "colab_type": "text"
      },
      "source": [
        "\n",
        "### Generator for classifier"
      ]
    },
    {
      "cell_type": "code",
      "metadata": {
        "id": "WGHN-OBkxdBq",
        "colab_type": "code",
        "colab": {}
      },
      "source": [
        "def convert_array(x):\n",
        "    if x == \"AD\":\n",
        "        return [1., 0.]\n",
        "    elif x == \"CN\":\n",
        "        return [0., 1.]\n",
        "    else:\n",
        "        return x"
      ],
      "execution_count": 0,
      "outputs": []
    },
    {
      "cell_type": "code",
      "metadata": {
        "id": "8DtyYmYBnH3g",
        "colab_type": "code",
        "colab": {}
      },
      "source": [
        "def gen_tr_c():\n",
        " while True:\n",
        "  im_num = 0\n",
        "  batch_num = 0\n",
        "  while True:\n",
        "    b_labels =[]\n",
        "    pixels=np.zeros(( 1 , 120, 160, 120))\n",
        "    while (len(pixels)<2): \n",
        "            try:\n",
        "                path = '/content/drive/My Drive/PROCESSED/OAS3'\n",
        "                path += str(im_num).zfill(4)+'_data'\n",
        "                with open(path, 'rb') as f:\n",
        "                      im= pickle.load(f)\n",
        "                      pixels=np.append(pixels,np.reshape(im['image'], (1, 120, 160, 120) ), axis=0) \n",
        "                      if (im_num>1172): im_num = im_num%1173\n",
        "                      im_num += 1\n",
        "                      b_labels.append(im['diagnosis'])\n",
        "            except:\n",
        "                  if (im_num>1172): im_num = im_num%1173\n",
        "                  im_num += 1\n",
        "                  pass   \n",
        "    batch_num += 1\n",
        "    b_l = list(map( convert_array, b_labels))\n",
        "    b_l = np.reshape(b_l, (len(b_l),2))\n",
        "    b_l = b_l.astype('float32')\n",
        "    yield  (np.reshape(pixels[1:pixels.shape[0],:,:,:],(pixels.shape[0]-1,120,160,120,1)),\\\n",
        "            b_l)"
      ],
      "execution_count": 0,
      "outputs": []
    },
    {
      "cell_type": "code",
      "metadata": {
        "id": "P0fIT2EUtavQ",
        "colab_type": "code",
        "colab": {}
      },
      "source": [
        "def gen_test_c():\n",
        " while True:\n",
        "  im_num = 0\n",
        "  batch_num = 0\n",
        "  while True:\n",
        "    b_labels =[]\n",
        "    pixels=np.zeros(( 1 , 120, 160, 120))\n",
        "    while (len(pixels)<2): \n",
        "            try:\n",
        "                path = '/content/drive/My Drive/PROCESSED/OAS3'\n",
        "                im_num_inv = 1173 - im_num\n",
        "                path += str(im_num_inv).zfill(4)+'_data'\n",
        "                with open(path, 'rb') as f:\n",
        "                      im= pickle.load(f)\n",
        "                      pixels=np.append(pixels,np.reshape(im['image'], (1, 120, 160, 120) ), axis=0) \n",
        "                      if (im_num>1172): im_num = im_num%1173\n",
        "                      im_num += 1\n",
        "                      b_labels.append(im['diagnosis'])\n",
        "            except:\n",
        "                  if (im_num>1172): im_num = im_num%1173\n",
        "                  im_num += 1\n",
        "                  pass\n",
        "    batch_num += 1\n",
        "    b_l = list(map( convert_array, b_labels))\n",
        "    b_l = np.reshape(b_l, (len(b_l),2))\n",
        "    b_l = b_l.astype('float32')\n",
        "    yield  (np.reshape(pixels[1:pixels.shape[0],:,:,:],(pixels.shape[0]-1,120,160,120,1)),\\\n",
        "            b_l)"
      ],
      "execution_count": 0,
      "outputs": []
    },
    {
      "cell_type": "code",
      "metadata": {
        "id": "_S-sRDo8tr4I",
        "colab_type": "code",
        "colab": {}
      },
      "source": [
        "class_tr_gen = gen_tr_c()\n",
        "class_test_gen = gen_test_c()"
      ],
      "execution_count": 0,
      "outputs": []
    },
    {
      "cell_type": "markdown",
      "metadata": {
        "id": "C8kJ3DGfpK3T",
        "colab_type": "text"
      },
      "source": [
        "#### Building Encoder"
      ]
    },
    {
      "cell_type": "code",
      "metadata": {
        "id": "hNAqMSGOnNBd",
        "colab_type": "code",
        "outputId": "3a67a598-6460-4b60-c0b8-9584ebca3e58",
        "colab": {
          "base_uri": "https://localhost:8080/",
          "height": 493
        }
      },
      "source": [
        "import tensorflow as tf\n",
        "from tensorflow import keras\n",
        "from tensorflow.keras import backend as K\n",
        "from tensorflow.keras.callbacks import TensorBoard\n",
        "import matplotlib.pyplot as plt\n",
        "from keras.models import Sequential, Model\n",
        "from keras.layers import Dense, Conv3D, MaxPool3D, Dropout, Flatten, Conv3DTranspose, UpSampling3D, Reshape\n",
        "from keras.layers import Input\n",
        "\n",
        "\n",
        "input_img = Input(shape= (120, 160, 120 , 1))\n",
        "x = Conv3D(10, (3,3,3), activation='relu', padding='same')(input_img)\n",
        "x = MaxPool3D((2,2,2))(x)\n",
        "x= Dropout(0.8)(x)\n",
        "\n",
        "x = Conv3D(10, (3,3,3), activation='relu', padding='same')(x)\n",
        "x = MaxPool3D((2,2,2))(x)\n",
        "x= Dropout(0.8)(x)\n",
        "\n",
        "x = Conv3D(10, (3,3,3), activation='relu', padding='same')(x)\n",
        "x = MaxPool3D((2,2,2))(x)\n",
        "encoded= Dropout(0.8)(x)\n",
        "\n",
        "encoded_shape = K.int_shape(x)\n",
        "\n",
        "#x = Flatten()(x)\n",
        "\n",
        "#x = Dense(32, activation='selu')(x)\n",
        "#x= Dense(16, activation='selu')(x)\n",
        "#encoded = Dense(2, activation='selu')(x)\n",
        "\n",
        "\n",
        "encoder=Model(input_img, encoded, name='encoder')\n",
        "encoder.summary()"
      ],
      "execution_count": 9,
      "outputs": [
        {
          "output_type": "stream",
          "text": [
            "Model: \"encoder\"\n",
            "_________________________________________________________________\n",
            "Layer (type)                 Output Shape              Param #   \n",
            "=================================================================\n",
            "input_1 (InputLayer)         (None, 120, 160, 120, 1)  0         \n",
            "_________________________________________________________________\n",
            "conv3d_1 (Conv3D)            (None, 120, 160, 120, 10) 280       \n",
            "_________________________________________________________________\n",
            "max_pooling3d_1 (MaxPooling3 (None, 60, 80, 60, 10)    0         \n",
            "_________________________________________________________________\n",
            "dropout_1 (Dropout)          (None, 60, 80, 60, 10)    0         \n",
            "_________________________________________________________________\n",
            "conv3d_2 (Conv3D)            (None, 60, 80, 60, 10)    2710      \n",
            "_________________________________________________________________\n",
            "max_pooling3d_2 (MaxPooling3 (None, 30, 40, 30, 10)    0         \n",
            "_________________________________________________________________\n",
            "dropout_2 (Dropout)          (None, 30, 40, 30, 10)    0         \n",
            "_________________________________________________________________\n",
            "conv3d_3 (Conv3D)            (None, 30, 40, 30, 10)    2710      \n",
            "_________________________________________________________________\n",
            "max_pooling3d_3 (MaxPooling3 (None, 15, 20, 15, 10)    0         \n",
            "_________________________________________________________________\n",
            "dropout_3 (Dropout)          (None, 15, 20, 15, 10)    0         \n",
            "=================================================================\n",
            "Total params: 5,700\n",
            "Trainable params: 5,700\n",
            "Non-trainable params: 0\n",
            "_________________________________________________________________\n"
          ],
          "name": "stdout"
        }
      ]
    },
    {
      "cell_type": "code",
      "metadata": {
        "id": "Are9_j90iUhh",
        "colab_type": "code",
        "outputId": "259e40df-c112-499e-b178-e43e901b5938",
        "colab": {
          "base_uri": "https://localhost:8080/",
          "height": 34
        }
      },
      "source": [
        "encoded_shape"
      ],
      "execution_count": 10,
      "outputs": [
        {
          "output_type": "execute_result",
          "data": {
            "text/plain": [
              "(None, 15, 20, 15, 10)"
            ]
          },
          "metadata": {
            "tags": []
          },
          "execution_count": 10
        }
      ]
    },
    {
      "cell_type": "markdown",
      "metadata": {
        "id": "IifbTxu4r7oW",
        "colab_type": "text"
      },
      "source": [
        "#### Building decoder"
      ]
    },
    {
      "cell_type": "code",
      "metadata": {
        "id": "QpOjuZZGsFUc",
        "colab_type": "code",
        "outputId": "0d05877c-f05b-473a-e847-006e59cb7735",
        "colab": {
          "base_uri": "https://localhost:8080/",
          "height": 527
        }
      },
      "source": [
        "encoded_input= Input(shape=(encoded_shape[1], encoded_shape[2], encoded_shape[3], encoded_shape[4]))\n",
        "#x = Dense(16, activation='selu')(encoded_input)\n",
        "#x= Dense(32, activation='selu')(x)\n",
        "#x= Dense(np.prod(encoded_shape[1:]))(x)\n",
        "#x= Reshape((encoded_shape[1], encoded_shape[2], encoded_shape[3], encoded_shape[4]))(x)\n",
        "\n",
        "x = Conv3DTranspose(10, (3,3,3), activation='relu', padding='same')(encoded_input)\n",
        "x = UpSampling3D((2,2,2))(x)\n",
        "x= Dropout(0.8)(x)\n",
        "\n",
        "x = Conv3DTranspose(10, (3,3,3), activation='relu', padding='same')(x)\n",
        "x = UpSampling3D((2,2,2))(x)\n",
        "x= Dropout(0.8)(x)\n",
        "\n",
        "x = Conv3DTranspose(10, (3,3,3), activation='relu', padding='same')(x)\n",
        "x = UpSampling3D((2,2,2))(x)\n",
        "x= Dropout(0.8)(x)\n",
        "\n",
        "x = Conv3DTranspose(1, (3,3,3), activation='sigmoid', padding='same')(x)\n",
        "\n",
        "decoder = Model(encoded_input, x, name='decoder')\n",
        "decoder.summary()"
      ],
      "execution_count": 11,
      "outputs": [
        {
          "output_type": "stream",
          "text": [
            "Model: \"decoder\"\n",
            "_________________________________________________________________\n",
            "Layer (type)                 Output Shape              Param #   \n",
            "=================================================================\n",
            "input_2 (InputLayer)         (None, 15, 20, 15, 10)    0         \n",
            "_________________________________________________________________\n",
            "conv3d_transpose_1 (Conv3DTr (None, 15, 20, 15, 10)    2710      \n",
            "_________________________________________________________________\n",
            "up_sampling3d_1 (UpSampling3 (None, 30, 40, 30, 10)    0         \n",
            "_________________________________________________________________\n",
            "dropout_4 (Dropout)          (None, 30, 40, 30, 10)    0         \n",
            "_________________________________________________________________\n",
            "conv3d_transpose_2 (Conv3DTr (None, 30, 40, 30, 10)    2710      \n",
            "_________________________________________________________________\n",
            "up_sampling3d_2 (UpSampling3 (None, 60, 80, 60, 10)    0         \n",
            "_________________________________________________________________\n",
            "dropout_5 (Dropout)          (None, 60, 80, 60, 10)    0         \n",
            "_________________________________________________________________\n",
            "conv3d_transpose_3 (Conv3DTr (None, 60, 80, 60, 10)    2710      \n",
            "_________________________________________________________________\n",
            "up_sampling3d_3 (UpSampling3 (None, 120, 160, 120, 10) 0         \n",
            "_________________________________________________________________\n",
            "dropout_6 (Dropout)          (None, 120, 160, 120, 10) 0         \n",
            "_________________________________________________________________\n",
            "conv3d_transpose_4 (Conv3DTr (None, 120, 160, 120, 1)  271       \n",
            "=================================================================\n",
            "Total params: 8,401\n",
            "Trainable params: 8,401\n",
            "Non-trainable params: 0\n",
            "_________________________________________________________________\n"
          ],
          "name": "stdout"
        }
      ]
    },
    {
      "cell_type": "markdown",
      "metadata": {
        "id": "MTCOKfGfwTtB",
        "colab_type": "text"
      },
      "source": [
        "#### Building Autoencoder"
      ]
    },
    {
      "cell_type": "code",
      "metadata": {
        "id": "pQiTACIywYZS",
        "colab_type": "code",
        "outputId": "e63cc3dc-5933-4972-d15e-36ef6a596a4b",
        "colab": {
          "base_uri": "https://localhost:8080/",
          "height": 255
        }
      },
      "source": [
        "autoencoder= Model(input_img, decoder(encoder(input_img)), name='autoencoder')\n",
        "autoencoder.summary()"
      ],
      "execution_count": 12,
      "outputs": [
        {
          "output_type": "stream",
          "text": [
            "Model: \"autoencoder\"\n",
            "_________________________________________________________________\n",
            "Layer (type)                 Output Shape              Param #   \n",
            "=================================================================\n",
            "input_1 (InputLayer)         (None, 120, 160, 120, 1)  0         \n",
            "_________________________________________________________________\n",
            "encoder (Model)              (None, 15, 20, 15, 10)    5700      \n",
            "_________________________________________________________________\n",
            "decoder (Model)              (None, 120, 160, 120, 1)  8401      \n",
            "=================================================================\n",
            "Total params: 14,101\n",
            "Trainable params: 14,101\n",
            "Non-trainable params: 0\n",
            "_________________________________________________________________\n"
          ],
          "name": "stdout"
        }
      ]
    },
    {
      "cell_type": "code",
      "metadata": {
        "id": "vUEuNz2fSHoc",
        "colab_type": "code",
        "colab": {}
      },
      "source": [
        "autoencoder.compile(optimizer='adam', loss='mean_squared_error')"
      ],
      "execution_count": 0,
      "outputs": []
    },
    {
      "cell_type": "code",
      "metadata": {
        "id": "DPysfQ684Stm",
        "colab_type": "code",
        "colab": {
          "base_uri": "https://localhost:8080/",
          "height": 139
        },
        "outputId": "1363550e-bc14-4880-d3e4-c202bdd451a6"
      },
      "source": [
        "cae_hist= autoencoder.fit_generator(generator=train_gen_1, steps_per_epoch = 420, epochs=3, verbose=1 , validation_data=test_gen_1, validation_steps=70, use_multiprocessing=True)\n"
      ],
      "execution_count": 14,
      "outputs": [
        {
          "output_type": "stream",
          "text": [
            "Epoch 1/3\n",
            "420/420 [==============================] - 1212s 3s/step - loss: 0.0242 - val_loss: 0.0307\n",
            "Epoch 2/3\n",
            "420/420 [==============================] - 632s 2s/step - loss: 0.0130 - val_loss: 0.0127\n",
            "Epoch 3/3\n",
            "420/420 [==============================] - 581s 1s/step - loss: 0.0115 - val_loss: 0.0166\n"
          ],
          "name": "stdout"
        }
      ]
    },
    {
      "cell_type": "code",
      "metadata": {
        "id": "2NvO-dfzjA_Z",
        "colab_type": "code",
        "outputId": "de9d68b7-a0bf-4fa7-937f-5786253068a3",
        "colab": {
          "base_uri": "https://localhost:8080/",
          "height": 302
        }
      },
      "source": [
        "plt.plot(cae_hist.history['val_loss'], 'r', cae_hist.history['loss'], 'b')"
      ],
      "execution_count": 0,
      "outputs": [
        {
          "output_type": "execute_result",
          "data": {
            "text/plain": [
              "[<matplotlib.lines.Line2D at 0x7fa41aa2afd0>,\n",
              " <matplotlib.lines.Line2D at 0x7fa41a9ba160>]"
            ]
          },
          "metadata": {
            "tags": []
          },
          "execution_count": 23
        },
        {
          "output_type": "display_data",
          "data": {
            "image/png": "[encoded data removed]",
            "text/plain": [
              "<Figure size 432x288 with 1 Axes>"
            ]
          },
          "metadata": {
            "tags": [],
            "needs_background": "light"
          }
        }
      ]
    },
    {
      "cell_type": "code",
      "metadata": {
        "id": "4d7YKwkNayC0",
        "colab_type": "code",
        "colab": {}
      },
      "source": [
        "from pydrive.auth import GoogleAuth\n",
        "from pydrive.drive import GoogleDrive \n",
        "from google.colab import auth \n",
        "from oauth2client.client import GoogleCredentials\n",
        "\n",
        "auth.authenticate_user()\n",
        "gauth = GoogleAuth()\n",
        "gauth.credentials = GoogleCredentials.get_application_default()                       \n",
        "drive = GoogleDrive(gauth)"
      ],
      "execution_count": 0,
      "outputs": []
    },
    {
      "cell_type": "code",
      "metadata": {
        "id": "pdOTcX3ya79v",
        "colab_type": "code",
        "colab": {}
      },
      "source": [
        "#just to save the model. Don't run again\n",
        "autoencoder.save('cae_1.h5')\n",
        "model_file = drive.CreateFile({'title' : 'cae_1.h5'})                       \n",
        "model_file.SetContentFile('cae_1.h5')                       \n",
        "model_file.Upload()"
      ],
      "execution_count": 0,
      "outputs": []
    },
    {
      "cell_type": "code",
      "metadata": {
        "id": "56CYmFd4bP-O",
        "colab_type": "code",
        "colab": {
          "base_uri": "https://localhost:8080/",
          "height": 34
        },
        "outputId": "49cf998b-9298-426c-b23d-4914b20e8b56"
      },
      "source": [
        "\n",
        "# Don't run again. download to google drive                       \n",
        "drive.CreateFile({'id': model_file.get('id')})"
      ],
      "execution_count": 17,
      "outputs": [
        {
          "output_type": "execute_result",
          "data": {
            "text/plain": [
              "GoogleDriveFile({'id': '1oEctU2Uvk0OJXArdDScsx4ougN4p-uQL'})"
            ]
          },
          "metadata": {
            "tags": []
          },
          "execution_count": 17
        }
      ]
    },
    {
      "cell_type": "code",
      "metadata": {
        "id": "eLd4SQy1bRcv",
        "colab_type": "code",
        "colab": {}
      },
      "source": [
        "#Loading models from Google Drive into Colab, Don't run\n",
        "\n",
        "file_obj = drive.CreateFile({'id': '1oEctU2Uvk0OJXArdDScsx4ougN4p-uQL'})                       \n",
        "file_obj.GetContentFile('cae_1.h5')\n"
      ],
      "execution_count": 0,
      "outputs": []
    },
    {
      "cell_type": "code",
      "metadata": {
        "id": "NRdqK0TMbVBi",
        "colab_type": "code",
        "colab": {}
      },
      "source": [
        "from keras.models import load_model\n",
        "cae=load_model('/content/drive/My Drive/cae_1.h5')"
      ],
      "execution_count": 0,
      "outputs": []
    },
    {
      "cell_type": "code",
      "metadata": {
        "id": "3tnWtKWxfjAt",
        "colab_type": "code",
        "colab": {}
      },
      "source": [
        "# 2 ta 70 ta = test, 12 ta 70 ta train,# 140 ta test, 840 ta train, # 70 ta batch test, 420 ta batch train"
      ],
      "execution_count": 0,
      "outputs": []
    },
    {
      "cell_type": "markdown",
      "metadata": {
        "id": "TlwLSE72cD2u",
        "colab_type": "text"
      },
      "source": [
        "###Building Classifier"
      ]
    },
    {
      "cell_type": "code",
      "metadata": {
        "id": "wRSY3tYhcIxt",
        "colab_type": "code",
        "outputId": "fee83bb1-5ac7-434d-c9ba-2ad7e5314257",
        "colab": {
          "base_uri": "https://localhost:8080/",
          "height": 255
        }
      },
      "source": [
        "autoencoder.summary()"
      ],
      "execution_count": 35,
      "outputs": [
        {
          "output_type": "stream",
          "text": [
            "Model: \"autoencoder\"\n",
            "_________________________________________________________________\n",
            "Layer (type)                 Output Shape              Param #   \n",
            "=================================================================\n",
            "input_1 (InputLayer)         (None, 120, 160, 120, 1)  0         \n",
            "_________________________________________________________________\n",
            "encoder (Model)              (None, 15, 20, 15, 10)    5700      \n",
            "_________________________________________________________________\n",
            "decoder (Model)              (None, 120, 160, 120, 1)  8401      \n",
            "=================================================================\n",
            "Total params: 14,101\n",
            "Trainable params: 14,101\n",
            "Non-trainable params: 0\n",
            "_________________________________________________________________\n"
          ],
          "name": "stdout"
        }
      ]
    },
    {
      "cell_type": "code",
      "metadata": {
        "id": "IM7_GqqLcqPx",
        "colab_type": "code",
        "colab": {}
      },
      "source": [
        "from keras.layers import Softmax"
      ],
      "execution_count": 0,
      "outputs": []
    },
    {
      "cell_type": "code",
      "metadata": {
        "id": "9LJCxSXKjd9Z",
        "colab_type": "code",
        "colab": {}
      },
      "source": [
        "encoder_c = autoencoder.layers[1]"
      ],
      "execution_count": 0,
      "outputs": []
    },
    {
      "cell_type": "code",
      "metadata": {
        "id": "MxFeZy1DjY-z",
        "colab_type": "code",
        "outputId": "3fe3bd6d-fd27-453a-c985-41409d3be275",
        "colab": {
          "base_uri": "https://localhost:8080/",
          "height": 493
        }
      },
      "source": [
        "encoder_c.summary()"
      ],
      "execution_count": 37,
      "outputs": [
        {
          "output_type": "stream",
          "text": [
            "Model: \"encoder\"\n",
            "_________________________________________________________________\n",
            "Layer (type)                 Output Shape              Param #   \n",
            "=================================================================\n",
            "input_1 (InputLayer)         (None, 120, 160, 120, 1)  0         \n",
            "_________________________________________________________________\n",
            "conv3d_1 (Conv3D)            (None, 120, 160, 120, 10) 280       \n",
            "_________________________________________________________________\n",
            "max_pooling3d_1 (MaxPooling3 (None, 60, 80, 60, 10)    0         \n",
            "_________________________________________________________________\n",
            "dropout_1 (Dropout)          (None, 60, 80, 60, 10)    0         \n",
            "_________________________________________________________________\n",
            "conv3d_2 (Conv3D)            (None, 60, 80, 60, 10)    2710      \n",
            "_________________________________________________________________\n",
            "max_pooling3d_2 (MaxPooling3 (None, 30, 40, 30, 10)    0         \n",
            "_________________________________________________________________\n",
            "dropout_2 (Dropout)          (None, 30, 40, 30, 10)    0         \n",
            "_________________________________________________________________\n",
            "conv3d_3 (Conv3D)            (None, 30, 40, 30, 10)    2710      \n",
            "_________________________________________________________________\n",
            "max_pooling3d_3 (MaxPooling3 (None, 15, 20, 15, 10)    0         \n",
            "_________________________________________________________________\n",
            "dropout_3 (Dropout)          (None, 15, 20, 15, 10)    0         \n",
            "=================================================================\n",
            "Total params: 5,700\n",
            "Trainable params: 5,700\n",
            "Non-trainable params: 0\n",
            "_________________________________________________________________\n"
          ],
          "name": "stdout"
        }
      ]
    },
    {
      "cell_type": "markdown",
      "metadata": {
        "id": "tRfERhSxnt2v",
        "colab_type": "text"
      },
      "source": [
        "###New Encoder, classifier to be"
      ]
    },
    {
      "cell_type": "code",
      "metadata": {
        "id": "ccbOxTeLiy25",
        "colab_type": "code",
        "outputId": "2b0dafbb-ecf1-4e22-ea86-37e2aa1b5756",
        "colab": {
          "base_uri": "https://localhost:8080/",
          "height": 629
        }
      },
      "source": [
        "input_img = Input(shape= (120, 160, 120 , 1))\n",
        "x = Conv3D(10, (3,3,3), activation='relu', padding='same')(input_img)\n",
        "x = MaxPool3D((2,2,2))(x)\n",
        "x= Dropout(0.8)(x)\n",
        "\n",
        "x = Conv3D(10, (3,3,3), activation='relu', padding='same')(x)\n",
        "x = MaxPool3D((2,2,2))(x)\n",
        "x= Dropout(0.8)(x)\n",
        "\n",
        "x = Conv3D(10, (3,3,3), activation='relu', padding='same')(x)\n",
        "x = MaxPool3D((2,2,2))(x)\n",
        "x= Dropout(0.8)(x)\n",
        "\n",
        "encoded_shape = K.int_shape(x)\n",
        "\n",
        "x = Flatten()(x)\n",
        "\n",
        "x = Dense(32, activation='selu')(x)\n",
        "x= Dense(16, activation='selu')(x)\n",
        "new_encoded = Dense(2, activation='softmax')(x)\n",
        "\n",
        "\n",
        "classifier=Model(input_img, new_encoded, name='classifier')\n",
        "classifier.summary()"
      ],
      "execution_count": 38,
      "outputs": [
        {
          "output_type": "stream",
          "text": [
            "Model: \"classifier\"\n",
            "_________________________________________________________________\n",
            "Layer (type)                 Output Shape              Param #   \n",
            "=================================================================\n",
            "input_4 (InputLayer)         (None, 120, 160, 120, 1)  0         \n",
            "_________________________________________________________________\n",
            "conv3d_7 (Conv3D)            (None, 120, 160, 120, 10) 280       \n",
            "_________________________________________________________________\n",
            "max_pooling3d_7 (MaxPooling3 (None, 60, 80, 60, 10)    0         \n",
            "_________________________________________________________________\n",
            "dropout_10 (Dropout)         (None, 60, 80, 60, 10)    0         \n",
            "_________________________________________________________________\n",
            "conv3d_8 (Conv3D)            (None, 60, 80, 60, 10)    2710      \n",
            "_________________________________________________________________\n",
            "max_pooling3d_8 (MaxPooling3 (None, 30, 40, 30, 10)    0         \n",
            "_________________________________________________________________\n",
            "dropout_11 (Dropout)         (None, 30, 40, 30, 10)    0         \n",
            "_________________________________________________________________\n",
            "conv3d_9 (Conv3D)            (None, 30, 40, 30, 10)    2710      \n",
            "_________________________________________________________________\n",
            "max_pooling3d_9 (MaxPooling3 (None, 15, 20, 15, 10)    0         \n",
            "_________________________________________________________________\n",
            "dropout_12 (Dropout)         (None, 15, 20, 15, 10)    0         \n",
            "_________________________________________________________________\n",
            "flatten_2 (Flatten)          (None, 45000)             0         \n",
            "_________________________________________________________________\n",
            "dense_4 (Dense)              (None, 32)                1440032   \n",
            "_________________________________________________________________\n",
            "dense_5 (Dense)              (None, 16)                528       \n",
            "_________________________________________________________________\n",
            "dense_6 (Dense)              (None, 2)                 34        \n",
            "=================================================================\n",
            "Total params: 1,446,294\n",
            "Trainable params: 1,446,294\n",
            "Non-trainable params: 0\n",
            "_________________________________________________________________\n"
          ],
          "name": "stdout"
        }
      ]
    },
    {
      "cell_type": "markdown",
      "metadata": {
        "id": "KRuUnUgflAQy",
        "colab_type": "text"
      },
      "source": [
        "### Fitting data"
      ]
    },
    {
      "cell_type": "code",
      "metadata": {
        "id": "9sti5bIalk2O",
        "colab_type": "code",
        "outputId": "ab5ea16d-29f6-41e1-8012-c1357c2a9fa7",
        "colab": {
          "base_uri": "https://localhost:8080/",
          "height": 255
        }
      },
      "source": [
        "\n",
        "classifier.layers"
      ],
      "execution_count": 39,
      "outputs": [
        {
          "output_type": "execute_result",
          "data": {
            "text/plain": [
              "[<keras.engine.input_layer.InputLayer at 0x7fbfaf1b4978>,\n",
              " <keras.layers.convolutional.Conv3D at 0x7fbfaf1b4940>,\n",
              " <keras.layers.pooling.MaxPooling3D at 0x7fbfaf1b49e8>,\n",
              " <keras.layers.core.Dropout at 0x7fbfaf1b4be0>,\n",
              " <keras.layers.convolutional.Conv3D at 0x7fbfaf1b4c18>,\n",
              " <keras.layers.pooling.MaxPooling3D at 0x7fbfaf1b4d68>,\n",
              " <keras.layers.core.Dropout at 0x7fbfaf1a6da0>,\n",
              " <keras.layers.convolutional.Conv3D at 0x7fbfaf1a2f98>,\n",
              " <keras.layers.pooling.MaxPooling3D at 0x7fbfaf1a6c50>,\n",
              " <keras.layers.core.Dropout at 0x7fbfaf1aaf98>,\n",
              " <keras.layers.core.Flatten at 0x7fbfaf1bb278>,\n",
              " <keras.layers.core.Dense at 0x7fbfaf1bb048>,\n",
              " <keras.layers.core.Dense at 0x7fbfaf1c6940>,\n",
              " <keras.layers.core.Dense at 0x7fbfaf15d588>]"
            ]
          },
          "metadata": {
            "tags": []
          },
          "execution_count": 39
        }
      ]
    },
    {
      "cell_type": "code",
      "metadata": {
        "id": "2RbATVKlpqSD",
        "colab_type": "code",
        "colab": {}
      },
      "source": [
        "for layer_num in range(len(encoder_c.get_weights())):\n",
        "  classifier.layers[layer_num].set_weights(encoder_c.layers[layer_num].get_weights())"
      ],
      "execution_count": 0,
      "outputs": []
    },
    {
      "cell_type": "code",
      "metadata": {
        "id": "IWfaKRKFj1xf",
        "colab_type": "code",
        "colab": {}
      },
      "source": [
        "opt = keras.optimizers.Adam(learning_rate=0.0001, beta_1=0.9, beta_2=0.9)"
      ],
      "execution_count": 0,
      "outputs": []
    },
    {
      "cell_type": "code",
      "metadata": {
        "id": "DNblAdMkrV5g",
        "colab_type": "code",
        "colab": {}
      },
      "source": [
        "#didn't freeze\n",
        "classifier.compile(optimizer='adam', loss='binary_crossentropy', metrics=['accuracy',keras.metrics.Precision(), keras.metrics.Recall(),keras.metrics.AUC()])"
      ],
      "execution_count": 0,
      "outputs": []
    },
    {
      "cell_type": "code",
      "metadata": {
        "id": "7YeHsGibrceu",
        "colab_type": "code",
        "outputId": "422a8b9b-eb5b-4e6d-b08f-c07e2eebf147",
        "colab": {
          "base_uri": "https://localhost:8080/",
          "height": 629
        }
      },
      "source": [
        "classifier.summary()"
      ],
      "execution_count": 60,
      "outputs": [
        {
          "output_type": "stream",
          "text": [
            "Model: \"classifier\"\n",
            "_________________________________________________________________\n",
            "Layer (type)                 Output Shape              Param #   \n",
            "=================================================================\n",
            "input_4 (InputLayer)         (None, 120, 160, 120, 1)  0         \n",
            "_________________________________________________________________\n",
            "conv3d_7 (Conv3D)            (None, 120, 160, 120, 10) 280       \n",
            "_________________________________________________________________\n",
            "max_pooling3d_7 (MaxPooling3 (None, 60, 80, 60, 10)    0         \n",
            "_________________________________________________________________\n",
            "dropout_10 (Dropout)         (None, 60, 80, 60, 10)    0         \n",
            "_________________________________________________________________\n",
            "conv3d_8 (Conv3D)            (None, 60, 80, 60, 10)    2710      \n",
            "_________________________________________________________________\n",
            "max_pooling3d_8 (MaxPooling3 (None, 30, 40, 30, 10)    0         \n",
            "_________________________________________________________________\n",
            "dropout_11 (Dropout)         (None, 30, 40, 30, 10)    0         \n",
            "_________________________________________________________________\n",
            "conv3d_9 (Conv3D)            (None, 30, 40, 30, 10)    2710      \n",
            "_________________________________________________________________\n",
            "max_pooling3d_9 (MaxPooling3 (None, 15, 20, 15, 10)    0         \n",
            "_________________________________________________________________\n",
            "dropout_12 (Dropout)         (None, 15, 20, 15, 10)    0         \n",
            "_________________________________________________________________\n",
            "flatten_2 (Flatten)          (None, 45000)             0         \n",
            "_________________________________________________________________\n",
            "dense_4 (Dense)              (None, 32)                1440032   \n",
            "_________________________________________________________________\n",
            "dense_5 (Dense)              (None, 16)                528       \n",
            "_________________________________________________________________\n",
            "dense_6 (Dense)              (None, 2)                 34        \n",
            "=================================================================\n",
            "Total params: 1,446,294\n",
            "Trainable params: 1,446,294\n",
            "Non-trainable params: 0\n",
            "_________________________________________________________________\n"
          ],
          "name": "stdout"
        }
      ]
    },
    {
      "cell_type": "code",
      "metadata": {
        "id": "FTwgCtDPdJok",
        "colab_type": "code",
        "colab": {
          "base_uri": "https://localhost:8080/",
          "height": 139
        },
        "outputId": "a3409f10-1bba-412f-d109-eb80c277cdc8"
      },
      "source": [
        "all_class_hist= classifier.fit_generator(generator=class_tr_gen, steps_per_epoch = 420, epochs=3, verbose=1 , validation_data=class_test_gen, validation_steps=70)"
      ],
      "execution_count": 61,
      "outputs": [
        {
          "output_type": "stream",
          "text": [
            "Epoch 1/3\n",
            "420/420 [==============================] - 216s 514ms/step - loss: 0.6547 - accuracy: 0.6500 - precision_2: 0.6314 - recall_2: 0.6314 - auc_1: 0.6226 - val_loss: 0.5165 - val_accuracy: 0.6714 - val_precision_2: 0.6514 - val_recall_2: 0.6514 - val_auc_1: 0.6495\n",
            "Epoch 2/3\n",
            "420/420 [==============================] - 275s 654ms/step - loss: 0.6472 - accuracy: 0.6357 - precision_2: 0.6526 - recall_2: 0.6526 - auc_1: 0.6549 - val_loss: 0.5680 - val_accuracy: 0.7143 - val_precision_2: 0.6475 - val_recall_2: 0.6475 - val_auc_1: 0.6606\n",
            "Epoch 3/3\n",
            "420/420 [==============================] - 203s 484ms/step - loss: 0.6670 - accuracy: 0.6286 - precision_2: 0.6415 - recall_2: 0.6415 - auc_1: 0.6557 - val_loss: 0.9121 - val_accuracy: 0.6000 - val_precision_2: 0.6426 - val_recall_2: 0.6426 - val_auc_1: 0.6534\n"
          ],
          "name": "stdout"
        }
      ]
    },
    {
      "cell_type": "code",
      "metadata": {
        "id": "pbXUhnwGyCTg",
        "colab_type": "code",
        "colab": {
          "base_uri": "https://localhost:8080/",
          "height": 299
        },
        "outputId": "e0e02c68-8508-4c1a-be2f-b24e5f5603b3"
      },
      "source": [
        "plt.plot(all_class_hist.history['val_loss'], 'r', all_class_hist.history['loss'], 'b')"
      ],
      "execution_count": 62,
      "outputs": [
        {
          "output_type": "execute_result",
          "data": {
            "text/plain": [
              "[<matplotlib.lines.Line2D at 0x7fbfae2cd710>,\n",
              " <matplotlib.lines.Line2D at 0x7fbfae2cd5c0>]"
            ]
          },
          "metadata": {
            "tags": []
          },
          "execution_count": 62
        },
        {
          "output_type": "display_data",
          "data": {
            "image/png": "[encoded data removed]",
            "text/plain": [
              "<Figure size 432x288 with 1 Axes>"
            ]
          },
          "metadata": {
            "tags": [],
            "needs_background": "light"
          }
        }
      ]
    },
    {
      "cell_type": "code",
      "metadata": {
        "id": "YrR38pLxyJhE",
        "colab_type": "code",
        "colab": {}
      },
      "source": [
        ""
      ],
      "execution_count": 0,
      "outputs": []
    }
  ]
}