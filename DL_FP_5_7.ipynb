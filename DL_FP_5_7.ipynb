{
  "nbformat": 4,
  "nbformat_minor": 0,
  "metadata": {
    "colab": {
      "name": "DL_FP-5-7.ipynb",
      "provenance": [],
      "collapsed_sections": []
    },
    "kernelspec": {
      "display_name": "Python 3",
      "language": "python",
      "name": "python3"
    },
    "language_info": {
      "codemirror_mode": {
        "name": "ipython",
        "version": 3
      },
      "file_extension": ".py",
      "mimetype": "text/x-python",
      "name": "python",
      "nbconvert_exporter": "python",
      "pygments_lexer": "ipython3",
      "version": "3.7.6"
    },
    "accelerator": "GPU"
  },
  "cells": [
    {
      "cell_type": "code",
      "metadata": {
        "colab_type": "code",
        "id": "0KHhdljls2jv",
        "colab": {}
      },
      "source": [
        "import pandas as pd\n",
        "import numpy as np\n",
        "import pickle\n",
        "import gzip\n"
      ],
      "execution_count": 0,
      "outputs": []
    },
    {
      "cell_type": "code",
      "metadata": {
        "id": "8koJOznOWvIq",
        "colab_type": "code",
        "outputId": "66e81bc5-966a-4d38-8cbb-21e569096e35",
        "colab": {
          "base_uri": "https://localhost:8080/",
          "height": 122
        }
      },
      "source": [
        "from google.colab import drive\n",
        "drive.mount('/content/drive')"
      ],
      "execution_count": 2,
      "outputs": [
        {
          "output_type": "stream",
          "text": [
            "Go to this URL in a browser: https://accounts.google.com/o/oauth2/auth?client_id=947318989803-6bn6qk8qdgf4n4g3pfee6491hc0brc4i.apps.googleusercontent.com&redirect_uri=urn%3aietf%3awg%3aoauth%3a2.0%3aoob&response_type=code&scope=email%20https%3a%2f%2fwww.googleapis.com%2fauth%2fdocs.test%20https%3a%2f%2fwww.googleapis.com%2fauth%2fdrive%20https%3a%2f%2fwww.googleapis.com%2fauth%2fdrive.photos.readonly%20https%3a%2f%2fwww.googleapis.com%2fauth%2fpeopleapi.readonly\n",
            "\n",
            "Enter your authorization code:\n",
            "··········\n",
            "Mounted at /content/drive\n"
          ],
          "name": "stdout"
        }
      ]
    },
    {
      "cell_type": "code",
      "metadata": {
        "colab_type": "code",
        "id": "LZjNADAjs2jz",
        "colab": {}
      },
      "source": [
        "with open('/content/drive/My Drive/dl-ims/test_subjects','rb') as f:\n",
        "               images = pickle.load(f)\n"
      ],
      "execution_count": 0,
      "outputs": []
    },
    {
      "cell_type": "markdown",
      "metadata": {
        "id": "ntuCGkPPUGZi",
        "colab_type": "text"
      },
      "source": [
        "#### Subject IDs"
      ]
    },
    {
      "cell_type": "code",
      "metadata": {
        "id": "fcxNfjWzUGZj",
        "colab_type": "code",
        "outputId": "3e7484e2-c65c-4bc4-98f7-2cf6d3712ed5",
        "colab": {
          "base_uri": "https://localhost:8080/",
          "height": 204
        }
      },
      "source": [
        "im_name_list =[]\n",
        "\n",
        "for x1 in images:\n",
        "    im_name_list.append(x1)\n",
        "im_name_list"
      ],
      "execution_count": 5,
      "outputs": [
        {
          "output_type": "execute_result",
          "data": {
            "text/plain": [
              "['OAS30001',\n",
              " 'OAS30002',\n",
              " 'OAS30004',\n",
              " 'OAS30005',\n",
              " 'OAS30006',\n",
              " 'OAS30007',\n",
              " 'OAS30008',\n",
              " 'OAS30019',\n",
              " 'OAS30022',\n",
              " 'OAS30024',\n",
              " 'OAS30027']"
            ]
          },
          "metadata": {
            "tags": []
          },
          "execution_count": 5
        }
      ]
    },
    {
      "cell_type": "markdown",
      "metadata": {
        "id": "7U3-dxk-UGZl",
        "colab_type": "text"
      },
      "source": [
        "#### Making training and test sets"
      ]
    },
    {
      "cell_type": "code",
      "metadata": {
        "id": "7kE0NS3tUGZm",
        "colab_type": "code",
        "outputId": "b65c2fa4-30cc-461a-93ca-8a9866d9776c",
        "colab": {
          "base_uri": "https://localhost:8080/",
          "height": 34
        }
      },
      "source": [
        "pixels=np.zeros((1, 120, 160, 120))\n",
        "for name in im_name_list:\n",
        "    pixels= np.append(pixels ,np.reshape(images[name]['image'], (1, 120, 160, 120) ), axis=0)\n",
        "\n",
        "input_ims= pixels[1:12,:,:,:] \n",
        "input_ims.shape"
      ],
      "execution_count": 6,
      "outputs": [
        {
          "output_type": "execute_result",
          "data": {
            "text/plain": [
              "(11, 120, 160, 120)"
            ]
          },
          "metadata": {
            "tags": []
          },
          "execution_count": 6
        }
      ]
    },
    {
      "cell_type": "code",
      "metadata": {
        "id": "d2rMKeiKUGZo",
        "colab_type": "code",
        "outputId": "4376a9cf-6fa7-4098-b519-eebcbd8c9028",
        "colab": {
          "base_uri": "https://localhost:8080/",
          "height": 34
        }
      },
      "source": [
        "x_train = input_ims[0:9,:,:,:]\n",
        "x_train.shape"
      ],
      "execution_count": 7,
      "outputs": [
        {
          "output_type": "execute_result",
          "data": {
            "text/plain": [
              "(9, 120, 160, 120)"
            ]
          },
          "metadata": {
            "tags": []
          },
          "execution_count": 7
        }
      ]
    },
    {
      "cell_type": "code",
      "metadata": {
        "id": "wRiDq0aEUGZr",
        "colab_type": "code",
        "outputId": "b09c4dcf-39d7-4339-9f83-1abf99e5ab49",
        "colab": {
          "base_uri": "https://localhost:8080/",
          "height": 34
        }
      },
      "source": [
        "x_test=input_ims[9:12,:,:,:]\n",
        "x_test.shape"
      ],
      "execution_count": 8,
      "outputs": [
        {
          "output_type": "execute_result",
          "data": {
            "text/plain": [
              "(2, 120, 160, 120)"
            ]
          },
          "metadata": {
            "tags": []
          },
          "execution_count": 8
        }
      ]
    },
    {
      "cell_type": "code",
      "metadata": {
        "id": "p2dqArmV00R_",
        "colab_type": "code",
        "colab": {}
      },
      "source": [
        "x_test= np.reshape(x_test, (2, 120, 160, 120, 1) )"
      ],
      "execution_count": 0,
      "outputs": []
    },
    {
      "cell_type": "markdown",
      "metadata": {
        "id": "67Ko9vksUGZu",
        "colab_type": "text"
      },
      "source": [
        "#### Making target values"
      ]
    },
    {
      "cell_type": "code",
      "metadata": {
        "id": "QJIbKq4mUGZu",
        "colab_type": "code",
        "outputId": "46b04cb2-27ca-4b22-e705-71d3b72327c8",
        "colab": {
          "base_uri": "https://localhost:8080/",
          "height": 34
        }
      },
      "source": [
        "y_train= [images[key]['group'] for key in images.keys()]\n",
        "y_test = y_train[-2:]\n",
        "y_test"
      ],
      "execution_count": 10,
      "outputs": [
        {
          "output_type": "execute_result",
          "data": {
            "text/plain": [
              "['AD', 'AD']"
            ]
          },
          "metadata": {
            "tags": []
          },
          "execution_count": 10
        }
      ]
    },
    {
      "cell_type": "code",
      "metadata": {
        "id": "3JMDvjDIUGZx",
        "colab_type": "code",
        "outputId": "9a788adb-5c92-4b63-f5fc-69042095a900",
        "colab": {
          "base_uri": "https://localhost:8080/",
          "height": 34
        }
      },
      "source": [
        "y_train = y_train[:9]\n",
        "y_train"
      ],
      "execution_count": 11,
      "outputs": [
        {
          "output_type": "execute_result",
          "data": {
            "text/plain": [
              "['CN', 'CN', 'CN', 'CN', 'CN', 'CN', 'CN', 'AD', 'AD']"
            ]
          },
          "metadata": {
            "tags": []
          },
          "execution_count": 11
        }
      ]
    },
    {
      "cell_type": "code",
      "metadata": {
        "id": "VvH5WXTrUGZz",
        "colab_type": "code",
        "outputId": "63b686b5-2026-41b0-88cd-6a27a5efb0ec",
        "colab": {
          "base_uri": "https://localhost:8080/",
          "height": 34
        }
      },
      "source": [
        "def convert_numeric(x):\n",
        "    if x == \"AD\":\n",
        "        return 1\n",
        "    elif x == \"CN\":\n",
        "        return 0\n",
        "    else:\n",
        "        return x\n",
        "    \n",
        "    \n",
        "y_train = list(map( convert_numeric, y_train))\n",
        "y_train"
      ],
      "execution_count": 12,
      "outputs": [
        {
          "output_type": "execute_result",
          "data": {
            "text/plain": [
              "[0, 0, 0, 0, 0, 0, 0, 1, 1]"
            ]
          },
          "metadata": {
            "tags": []
          },
          "execution_count": 12
        }
      ]
    },
    {
      "cell_type": "code",
      "metadata": {
        "id": "UTEBBiJ2UGZ1",
        "colab_type": "code",
        "outputId": "4604cfe6-7333-42ea-89c2-0b4b00c9b65b",
        "colab": {
          "base_uri": "https://localhost:8080/",
          "height": 34
        }
      },
      "source": [
        "y_test = list(map( convert_numeric, y_test))\n",
        "y_test"
      ],
      "execution_count": 13,
      "outputs": [
        {
          "output_type": "execute_result",
          "data": {
            "text/plain": [
              "[1, 1]"
            ]
          },
          "metadata": {
            "tags": []
          },
          "execution_count": 13
        }
      ]
    },
    {
      "cell_type": "code",
      "metadata": {
        "id": "f-EM0OscUGZ3",
        "colab_type": "code",
        "outputId": "6b523f31-9ead-4299-895d-4eb04bc7c107",
        "colab": {
          "base_uri": "https://localhost:8080/",
          "height": 34
        }
      },
      "source": [
        "len(input_ims)"
      ],
      "execution_count": 14,
      "outputs": [
        {
          "output_type": "execute_result",
          "data": {
            "text/plain": [
              "11"
            ]
          },
          "metadata": {
            "tags": []
          },
          "execution_count": 14
        }
      ]
    },
    {
      "cell_type": "code",
      "metadata": {
        "id": "Kg183FUvUGZ6",
        "colab_type": "code",
        "outputId": "1f117494-2efb-47af-9271-3b66c9b5abfe",
        "colab": {
          "base_uri": "https://localhost:8080/",
          "height": 34
        }
      },
      "source": [
        "#looking into first image\n",
        "first_im=images['OAS30001']\n",
        "first = first_im['image']\n",
        "first.shape"
      ],
      "execution_count": 15,
      "outputs": [
        {
          "output_type": "execute_result",
          "data": {
            "text/plain": [
              "(120, 160, 120)"
            ]
          },
          "metadata": {
            "tags": []
          },
          "execution_count": 15
        }
      ]
    },
    {
      "cell_type": "code",
      "metadata": {
        "id": "nCGQTwSoUGZ8",
        "colab_type": "code",
        "colab": {}
      },
      "source": [
        "first_modified= np.reshape(first, (120, 160, 120 , 1))"
      ],
      "execution_count": 0,
      "outputs": []
    },
    {
      "cell_type": "code",
      "metadata": {
        "id": "UBpkRIRDyCZz",
        "colab_type": "code",
        "colab": {}
      },
      "source": [
        "x_train = np.reshape(x_train, (9, 120, 160, 120, 1) )"
      ],
      "execution_count": 0,
      "outputs": []
    },
    {
      "cell_type": "markdown",
      "metadata": {
        "id": "C8kJ3DGfpK3T",
        "colab_type": "text"
      },
      "source": [
        "#### Building Encoder"
      ]
    },
    {
      "cell_type": "code",
      "metadata": {
        "id": "hNAqMSGOnNBd",
        "colab_type": "code",
        "outputId": "1b30effc-6717-46c5-f14e-2640913e66fb",
        "colab": {
          "base_uri": "https://localhost:8080/",
          "height": 629
        }
      },
      "source": [
        "import tensorflow as tf\n",
        "from tensorflow import keras\n",
        "from tensorflow.keras import backend as K\n",
        "from tensorflow.keras.callbacks import TensorBoard\n",
        "import matplotlib.pyplot as plt\n",
        "from keras.models import Sequential, Model\n",
        "from keras.layers import Dense, Conv3D, MaxPool3D, Dropout, Flatten, Conv3DTranspose, UpSampling3D, Reshape\n",
        "from keras.layers import Input\n",
        "\n",
        "\n",
        "input_img = Input(shape= (120, 160, 120 , 1))\n",
        "x = Conv3D(10, (3,3,3), activation='relu', padding='same')(input_img)\n",
        "x = MaxPool3D((2,2,2))(x)\n",
        "x= Dropout(0.8)(x)\n",
        "\n",
        "x = Conv3D(10, (3,3,3), activation='relu', padding='same')(x)\n",
        "x = MaxPool3D((2,2,2))(x)\n",
        "x= Dropout(0.8)(x)\n",
        "\n",
        "x = Conv3D(10, (3,3,3), activation='relu', padding='same')(x)\n",
        "x = MaxPool3D((2,2,2))(x)\n",
        "x= Dropout(0.8)(x)\n",
        "\n",
        "encoded_shape = K.int_shape(x)\n",
        "\n",
        "x = Flatten()(x)\n",
        "\n",
        "x = Dense(32, activation='selu')(x)\n",
        "x= Dense(16, activation='selu')(x)\n",
        "encoded = Dense(2, activation='selu')(x)\n",
        "\n",
        "\n",
        "encoder=Model(input_img, encoded, name='encoder')\n",
        "encoder.summary()"
      ],
      "execution_count": 23,
      "outputs": [
        {
          "output_type": "stream",
          "text": [
            "Model: \"encoder\"\n",
            "_________________________________________________________________\n",
            "Layer (type)                 Output Shape              Param #   \n",
            "=================================================================\n",
            "input_4 (InputLayer)         (None, 120, 160, 120, 1)  0         \n",
            "_________________________________________________________________\n",
            "conv3d_5 (Conv3D)            (None, 120, 160, 120, 10) 280       \n",
            "_________________________________________________________________\n",
            "max_pooling3d_4 (MaxPooling3 (None, 60, 80, 60, 10)    0         \n",
            "_________________________________________________________________\n",
            "dropout_7 (Dropout)          (None, 60, 80, 60, 10)    0         \n",
            "_________________________________________________________________\n",
            "conv3d_6 (Conv3D)            (None, 60, 80, 60, 10)    2710      \n",
            "_________________________________________________________________\n",
            "max_pooling3d_5 (MaxPooling3 (None, 30, 40, 30, 10)    0         \n",
            "_________________________________________________________________\n",
            "dropout_8 (Dropout)          (None, 30, 40, 30, 10)    0         \n",
            "_________________________________________________________________\n",
            "conv3d_7 (Conv3D)            (None, 30, 40, 30, 10)    2710      \n",
            "_________________________________________________________________\n",
            "max_pooling3d_6 (MaxPooling3 (None, 15, 20, 15, 10)    0         \n",
            "_________________________________________________________________\n",
            "dropout_9 (Dropout)          (None, 15, 20, 15, 10)    0         \n",
            "_________________________________________________________________\n",
            "flatten_2 (Flatten)          (None, 45000)             0         \n",
            "_________________________________________________________________\n",
            "dense_7 (Dense)              (None, 32)                1440032   \n",
            "_________________________________________________________________\n",
            "dense_8 (Dense)              (None, 16)                528       \n",
            "_________________________________________________________________\n",
            "dense_9 (Dense)              (None, 2)                 34        \n",
            "=================================================================\n",
            "Total params: 1,446,294\n",
            "Trainable params: 1,446,294\n",
            "Non-trainable params: 0\n",
            "_________________________________________________________________\n"
          ],
          "name": "stdout"
        }
      ]
    },
    {
      "cell_type": "markdown",
      "metadata": {
        "id": "IifbTxu4r7oW",
        "colab_type": "text"
      },
      "source": [
        "#### Building decoder"
      ]
    },
    {
      "cell_type": "code",
      "metadata": {
        "id": "QpOjuZZGsFUc",
        "colab_type": "code",
        "outputId": "0f531e98-5dcd-460f-ee2f-f68eb729c209",
        "colab": {
          "base_uri": "https://localhost:8080/",
          "height": 663
        }
      },
      "source": [
        "encoded_input= Input(shape=(2,))\n",
        "x = Dense(16, activation='selu')(encoded_input)\n",
        "x= Dense(32, activation='selu')(x)\n",
        "x= Dense(np.prod(encoded_shape[1:]))(x)\n",
        "x= Reshape((encoded_shape[1], encoded_shape[2], encoded_shape[3], encoded_shape[4]))(x)\n",
        "\n",
        "x = Conv3DTranspose(10, (3,3,3), activation='relu', padding='same')(x)\n",
        "x = UpSampling3D((2,2,2))(x)\n",
        "x= Dropout(0.8)(x)\n",
        "\n",
        "x = Conv3DTranspose(10, (3,3,3), activation='relu', padding='same')(x)\n",
        "x = UpSampling3D((2,2,2))(x)\n",
        "x= Dropout(0.8)(x)\n",
        "\n",
        "x = Conv3DTranspose(10, (3,3,3), activation='relu', padding='same')(x)\n",
        "x = UpSampling3D((2,2,2))(x)\n",
        "x= Dropout(0.8)(x)\n",
        "\n",
        "x = Conv3DTranspose(1, (3,3,3), activation='sigmoid', padding='same')(x)\n",
        "\n",
        "decoder = Model(encoded_input, x, name='decoder')\n",
        "decoder.summary()"
      ],
      "execution_count": 24,
      "outputs": [
        {
          "output_type": "stream",
          "text": [
            "Model: \"decoder\"\n",
            "_________________________________________________________________\n",
            "Layer (type)                 Output Shape              Param #   \n",
            "=================================================================\n",
            "input_5 (InputLayer)         (None, 2)                 0         \n",
            "_________________________________________________________________\n",
            "dense_10 (Dense)             (None, 16)                48        \n",
            "_________________________________________________________________\n",
            "dense_11 (Dense)             (None, 32)                544       \n",
            "_________________________________________________________________\n",
            "dense_12 (Dense)             (None, 45000)             1485000   \n",
            "_________________________________________________________________\n",
            "reshape_2 (Reshape)          (None, 15, 20, 15, 10)    0         \n",
            "_________________________________________________________________\n",
            "conv3d_transpose_5 (Conv3DTr (None, 15, 20, 15, 10)    2710      \n",
            "_________________________________________________________________\n",
            "up_sampling3d_4 (UpSampling3 (None, 30, 40, 30, 10)    0         \n",
            "_________________________________________________________________\n",
            "dropout_10 (Dropout)         (None, 30, 40, 30, 10)    0         \n",
            "_________________________________________________________________\n",
            "conv3d_transpose_6 (Conv3DTr (None, 30, 40, 30, 10)    2710      \n",
            "_________________________________________________________________\n",
            "up_sampling3d_5 (UpSampling3 (None, 60, 80, 60, 10)    0         \n",
            "_________________________________________________________________\n",
            "dropout_11 (Dropout)         (None, 60, 80, 60, 10)    0         \n",
            "_________________________________________________________________\n",
            "conv3d_transpose_7 (Conv3DTr (None, 60, 80, 60, 10)    2710      \n",
            "_________________________________________________________________\n",
            "up_sampling3d_6 (UpSampling3 (None, 120, 160, 120, 10) 0         \n",
            "_________________________________________________________________\n",
            "dropout_12 (Dropout)         (None, 120, 160, 120, 10) 0         \n",
            "_________________________________________________________________\n",
            "conv3d_transpose_8 (Conv3DTr (None, 120, 160, 120, 1)  271       \n",
            "=================================================================\n",
            "Total params: 1,493,993\n",
            "Trainable params: 1,493,993\n",
            "Non-trainable params: 0\n",
            "_________________________________________________________________\n"
          ],
          "name": "stdout"
        }
      ]
    },
    {
      "cell_type": "markdown",
      "metadata": {
        "id": "MTCOKfGfwTtB",
        "colab_type": "text"
      },
      "source": [
        "#### Building Autoencoder"
      ]
    },
    {
      "cell_type": "code",
      "metadata": {
        "id": "pQiTACIywYZS",
        "colab_type": "code",
        "outputId": "c1c1eab1-86dd-4254-9bf7-429dc89a8e4f",
        "colab": {
          "base_uri": "https://localhost:8080/",
          "height": 255
        }
      },
      "source": [
        "autoencoder= Model(input_img, decoder(encoder(input_img)), name='autoencoder')\n",
        "autoencoder.summary()"
      ],
      "execution_count": 25,
      "outputs": [
        {
          "output_type": "stream",
          "text": [
            "Model: \"autoencoder\"\n",
            "_________________________________________________________________\n",
            "Layer (type)                 Output Shape              Param #   \n",
            "=================================================================\n",
            "input_4 (InputLayer)         (None, 120, 160, 120, 1)  0         \n",
            "_________________________________________________________________\n",
            "encoder (Model)              (None, 2)                 1446294   \n",
            "_________________________________________________________________\n",
            "decoder (Model)              (None, 120, 160, 120, 1)  1493993   \n",
            "=================================================================\n",
            "Total params: 2,940,287\n",
            "Trainable params: 2,940,287\n",
            "Non-trainable params: 0\n",
            "_________________________________________________________________\n"
          ],
          "name": "stdout"
        }
      ]
    },
    {
      "cell_type": "code",
      "metadata": {
        "id": "czyHPguCxP_c",
        "colab_type": "code",
        "outputId": "9740260f-a26c-4fc1-b067-949df410567d",
        "colab": {
          "base_uri": "https://localhost:8080/",
          "height": 1000
        }
      },
      "source": [
        "autoencoder.compile(optimizer='adam', loss='binary_crossentropy')\n",
        "\n",
        "hist= autoencoder.fit(x_train, x_train, epochs=200, verbose=1, validation_data=(x_test, x_test))\n"
      ],
      "execution_count": 26,
      "outputs": [
        {
          "output_type": "stream",
          "text": [
            "Train on 9 samples, validate on 2 samples\n",
            "Epoch 1/200\n",
            "9/9 [==============================] - 2s 188ms/step - loss: 0.6974 - val_loss: 0.6910\n",
            "Epoch 2/200\n",
            "9/9 [==============================] - 1s 120ms/step - loss: 0.6901 - val_loss: 0.6875\n",
            "Epoch 3/200\n",
            "9/9 [==============================] - 1s 115ms/step - loss: 0.6831 - val_loss: 0.6790\n",
            "Epoch 4/200\n",
            "9/9 [==============================] - 1s 115ms/step - loss: 0.6691 - val_loss: 0.6608\n",
            "Epoch 5/200\n",
            "9/9 [==============================] - 1s 116ms/step - loss: 0.6465 - val_loss: 0.6277\n",
            "Epoch 6/200\n",
            "9/9 [==============================] - 1s 116ms/step - loss: 0.6187 - val_loss: 0.5788\n",
            "Epoch 7/200\n",
            "9/9 [==============================] - 1s 116ms/step - loss: 0.5912 - val_loss: 0.5242\n",
            "Epoch 8/200\n",
            "9/9 [==============================] - 1s 117ms/step - loss: 0.5644 - val_loss: 0.4787\n",
            "Epoch 9/200\n",
            "9/9 [==============================] - 1s 116ms/step - loss: 0.5374 - val_loss: 0.4454\n",
            "Epoch 10/200\n",
            "9/9 [==============================] - 1s 116ms/step - loss: 0.5115 - val_loss: 0.4206\n",
            "Epoch 11/200\n",
            "9/9 [==============================] - 1s 117ms/step - loss: 0.4885 - val_loss: 0.4001\n",
            "Epoch 12/200\n",
            "9/9 [==============================] - 1s 116ms/step - loss: 0.4681 - val_loss: 0.3819\n",
            "Epoch 13/200\n",
            "9/9 [==============================] - 1s 117ms/step - loss: 0.4506 - val_loss: 0.3665\n",
            "Epoch 14/200\n",
            "9/9 [==============================] - 1s 116ms/step - loss: 0.4356 - val_loss: 0.3552\n",
            "Epoch 15/200\n",
            "9/9 [==============================] - 1s 117ms/step - loss: 0.4240 - val_loss: 0.3482\n",
            "Epoch 16/200\n",
            "9/9 [==============================] - 1s 117ms/step - loss: 0.4140 - val_loss: 0.3448\n",
            "Epoch 17/200\n",
            "9/9 [==============================] - 1s 117ms/step - loss: 0.4050 - val_loss: 0.3432\n",
            "Epoch 18/200\n",
            "9/9 [==============================] - 1s 117ms/step - loss: 0.3978 - val_loss: 0.3418\n",
            "Epoch 19/200\n",
            "9/9 [==============================] - 1s 117ms/step - loss: 0.3919 - val_loss: 0.3397\n",
            "Epoch 20/200\n",
            "9/9 [==============================] - 1s 117ms/step - loss: 0.3870 - val_loss: 0.3372\n",
            "Epoch 21/200\n",
            "9/9 [==============================] - 1s 117ms/step - loss: 0.3826 - val_loss: 0.3351\n",
            "Epoch 22/200\n",
            "9/9 [==============================] - 1s 117ms/step - loss: 0.3793 - val_loss: 0.3337\n",
            "Epoch 23/200\n",
            "9/9 [==============================] - 1s 117ms/step - loss: 0.3760 - val_loss: 0.3328\n",
            "Epoch 24/200\n",
            "9/9 [==============================] - 1s 117ms/step - loss: 0.3733 - val_loss: 0.3322\n",
            "Epoch 25/200\n",
            "9/9 [==============================] - 1s 118ms/step - loss: 0.3711 - val_loss: 0.3312\n",
            "Epoch 26/200\n",
            "9/9 [==============================] - 1s 118ms/step - loss: 0.3692 - val_loss: 0.3297\n",
            "Epoch 27/200\n",
            "9/9 [==============================] - 1s 117ms/step - loss: 0.3676 - val_loss: 0.3289\n",
            "Epoch 28/200\n",
            "9/9 [==============================] - 1s 117ms/step - loss: 0.3663 - val_loss: 0.3287\n",
            "Epoch 29/200\n",
            "9/9 [==============================] - 1s 118ms/step - loss: 0.3649 - val_loss: 0.3282\n",
            "Epoch 30/200\n",
            "9/9 [==============================] - 1s 117ms/step - loss: 0.3635 - val_loss: 0.3272\n",
            "Epoch 31/200\n",
            "9/9 [==============================] - 1s 117ms/step - loss: 0.3626 - val_loss: 0.3268\n",
            "Epoch 32/200\n",
            "9/9 [==============================] - 1s 117ms/step - loss: 0.3615 - val_loss: 0.3271\n",
            "Epoch 33/200\n",
            "9/9 [==============================] - 1s 117ms/step - loss: 0.3609 - val_loss: 0.3269\n",
            "Epoch 34/200\n",
            "9/9 [==============================] - 1s 117ms/step - loss: 0.3601 - val_loss: 0.3264\n",
            "Epoch 35/200\n",
            "9/9 [==============================] - 1s 118ms/step - loss: 0.3594 - val_loss: 0.3264\n",
            "Epoch 36/200\n",
            "9/9 [==============================] - 1s 117ms/step - loss: 0.3585 - val_loss: 0.3262\n",
            "Epoch 37/200\n",
            "9/9 [==============================] - 1s 117ms/step - loss: 0.3581 - val_loss: 0.3261\n",
            "Epoch 38/200\n",
            "9/9 [==============================] - 1s 116ms/step - loss: 0.3576 - val_loss: 0.3259\n",
            "Epoch 39/200\n",
            "9/9 [==============================] - 1s 116ms/step - loss: 0.3570 - val_loss: 0.3257\n",
            "Epoch 40/200\n",
            "9/9 [==============================] - 1s 116ms/step - loss: 0.3566 - val_loss: 0.3254\n",
            "Epoch 41/200\n",
            "9/9 [==============================] - 1s 116ms/step - loss: 0.3563 - val_loss: 0.3254\n",
            "Epoch 42/200\n",
            "9/9 [==============================] - 1s 116ms/step - loss: 0.3557 - val_loss: 0.3253\n",
            "Epoch 43/200\n",
            "9/9 [==============================] - 1s 116ms/step - loss: 0.3554 - val_loss: 0.3250\n",
            "Epoch 44/200\n",
            "9/9 [==============================] - 1s 115ms/step - loss: 0.3549 - val_loss: 0.3251\n",
            "Epoch 45/200\n",
            "9/9 [==============================] - 1s 116ms/step - loss: 0.3548 - val_loss: 0.3253\n",
            "Epoch 46/200\n",
            "9/9 [==============================] - 1s 116ms/step - loss: 0.3543 - val_loss: 0.3251\n",
            "Epoch 47/200\n",
            "9/9 [==============================] - 1s 115ms/step - loss: 0.3541 - val_loss: 0.3246\n",
            "Epoch 48/200\n",
            "9/9 [==============================] - 1s 115ms/step - loss: 0.3538 - val_loss: 0.3246\n",
            "Epoch 49/200\n",
            "9/9 [==============================] - 1s 115ms/step - loss: 0.3536 - val_loss: 0.3249\n",
            "Epoch 50/200\n",
            "9/9 [==============================] - 1s 115ms/step - loss: 0.3534 - val_loss: 0.3252\n",
            "Epoch 51/200\n",
            "9/9 [==============================] - 1s 115ms/step - loss: 0.3530 - val_loss: 0.3250\n",
            "Epoch 52/200\n",
            "9/9 [==============================] - 1s 115ms/step - loss: 0.3529 - val_loss: 0.3248\n",
            "Epoch 53/200\n",
            "9/9 [==============================] - 1s 115ms/step - loss: 0.3524 - val_loss: 0.3246\n",
            "Epoch 54/200\n",
            "9/9 [==============================] - 1s 115ms/step - loss: 0.3522 - val_loss: 0.3246\n",
            "Epoch 55/200\n",
            "9/9 [==============================] - 1s 115ms/step - loss: 0.3520 - val_loss: 0.3245\n",
            "Epoch 56/200\n",
            "9/9 [==============================] - 1s 114ms/step - loss: 0.3520 - val_loss: 0.3243\n",
            "Epoch 57/200\n",
            "9/9 [==============================] - 1s 115ms/step - loss: 0.3517 - val_loss: 0.3244\n",
            "Epoch 58/200\n",
            "9/9 [==============================] - 1s 114ms/step - loss: 0.3513 - val_loss: 0.3246\n",
            "Epoch 59/200\n",
            "9/9 [==============================] - 1s 115ms/step - loss: 0.3513 - val_loss: 0.3244\n",
            "Epoch 60/200\n",
            "9/9 [==============================] - 1s 114ms/step - loss: 0.3513 - val_loss: 0.3240\n",
            "Epoch 61/200\n",
            "9/9 [==============================] - 1s 114ms/step - loss: 0.3511 - val_loss: 0.3241\n",
            "Epoch 62/200\n",
            "9/9 [==============================] - 1s 114ms/step - loss: 0.3508 - val_loss: 0.3243\n",
            "Epoch 63/200\n",
            "9/9 [==============================] - 1s 114ms/step - loss: 0.3507 - val_loss: 0.3244\n",
            "Epoch 64/200\n",
            "9/9 [==============================] - 1s 114ms/step - loss: 0.3505 - val_loss: 0.3240\n",
            "Epoch 65/200\n",
            "9/9 [==============================] - 1s 115ms/step - loss: 0.3505 - val_loss: 0.3239\n",
            "Epoch 66/200\n",
            "9/9 [==============================] - 1s 115ms/step - loss: 0.3502 - val_loss: 0.3241\n",
            "Epoch 67/200\n",
            "9/9 [==============================] - 1s 115ms/step - loss: 0.3500 - val_loss: 0.3242\n",
            "Epoch 68/200\n",
            "9/9 [==============================] - 1s 114ms/step - loss: 0.3499 - val_loss: 0.3245\n",
            "Epoch 69/200\n",
            "9/9 [==============================] - 1s 114ms/step - loss: 0.3498 - val_loss: 0.3242\n",
            "Epoch 70/200\n",
            "9/9 [==============================] - 1s 114ms/step - loss: 0.3500 - val_loss: 0.3238\n",
            "Epoch 71/200\n",
            "9/9 [==============================] - 1s 114ms/step - loss: 0.3498 - val_loss: 0.3241\n",
            "Epoch 72/200\n",
            "9/9 [==============================] - 1s 114ms/step - loss: 0.3494 - val_loss: 0.3243\n",
            "Epoch 73/200\n",
            "9/9 [==============================] - 1s 115ms/step - loss: 0.3494 - val_loss: 0.3243\n",
            "Epoch 74/200\n",
            "9/9 [==============================] - 1s 114ms/step - loss: 0.3493 - val_loss: 0.3242\n",
            "Epoch 75/200\n",
            "9/9 [==============================] - 1s 115ms/step - loss: 0.3493 - val_loss: 0.3239\n",
            "Epoch 76/200\n",
            "9/9 [==============================] - 1s 114ms/step - loss: 0.3493 - val_loss: 0.3241\n",
            "Epoch 77/200\n",
            "9/9 [==============================] - 1s 114ms/step - loss: 0.3489 - val_loss: 0.3240\n",
            "Epoch 78/200\n",
            "9/9 [==============================] - 1s 114ms/step - loss: 0.3488 - val_loss: 0.3240\n",
            "Epoch 79/200\n",
            "9/9 [==============================] - 1s 114ms/step - loss: 0.3489 - val_loss: 0.3239\n",
            "Epoch 80/200\n",
            "9/9 [==============================] - 1s 115ms/step - loss: 0.3488 - val_loss: 0.3240\n",
            "Epoch 81/200\n",
            "9/9 [==============================] - 1s 115ms/step - loss: 0.3489 - val_loss: 0.3244\n",
            "Epoch 82/200\n",
            "9/9 [==============================] - 1s 115ms/step - loss: 0.3485 - val_loss: 0.3243\n",
            "Epoch 83/200\n",
            "9/9 [==============================] - 1s 115ms/step - loss: 0.3484 - val_loss: 0.3236\n",
            "Epoch 84/200\n",
            "9/9 [==============================] - 1s 115ms/step - loss: 0.3483 - val_loss: 0.3233\n",
            "Epoch 85/200\n",
            "9/9 [==============================] - 1s 115ms/step - loss: 0.3483 - val_loss: 0.3236\n",
            "Epoch 86/200\n",
            "9/9 [==============================] - 1s 115ms/step - loss: 0.3481 - val_loss: 0.3240\n",
            "Epoch 87/200\n",
            "9/9 [==============================] - 1s 115ms/step - loss: 0.3481 - val_loss: 0.3241\n",
            "Epoch 88/200\n",
            "9/9 [==============================] - 1s 115ms/step - loss: 0.3478 - val_loss: 0.3237\n",
            "Epoch 89/200\n",
            "9/9 [==============================] - 1s 115ms/step - loss: 0.3480 - val_loss: 0.3232\n",
            "Epoch 90/200\n",
            "9/9 [==============================] - 1s 115ms/step - loss: 0.3479 - val_loss: 0.3232\n",
            "Epoch 91/200\n",
            "9/9 [==============================] - 1s 114ms/step - loss: 0.3479 - val_loss: 0.3234\n",
            "Epoch 92/200\n",
            "9/9 [==============================] - 1s 115ms/step - loss: 0.3477 - val_loss: 0.3238\n",
            "Epoch 93/200\n",
            "9/9 [==============================] - 1s 115ms/step - loss: 0.3474 - val_loss: 0.3236\n",
            "Epoch 94/200\n",
            "9/9 [==============================] - 1s 115ms/step - loss: 0.3475 - val_loss: 0.3232\n",
            "Epoch 95/200\n",
            "9/9 [==============================] - 1s 115ms/step - loss: 0.3473 - val_loss: 0.3231\n",
            "Epoch 96/200\n",
            "9/9 [==============================] - 1s 116ms/step - loss: 0.3475 - val_loss: 0.3233\n",
            "Epoch 97/200\n",
            "9/9 [==============================] - 1s 116ms/step - loss: 0.3471 - val_loss: 0.3236\n",
            "Epoch 98/200\n",
            "9/9 [==============================] - 1s 116ms/step - loss: 0.3474 - val_loss: 0.3236\n",
            "Epoch 99/200\n",
            "9/9 [==============================] - 1s 116ms/step - loss: 0.3471 - val_loss: 0.3233\n",
            "Epoch 100/200\n",
            "9/9 [==============================] - 1s 115ms/step - loss: 0.3471 - val_loss: 0.3228\n",
            "Epoch 101/200\n",
            "9/9 [==============================] - 1s 116ms/step - loss: 0.3470 - val_loss: 0.3227\n",
            "Epoch 102/200\n",
            "9/9 [==============================] - 1s 115ms/step - loss: 0.3468 - val_loss: 0.3229\n",
            "Epoch 103/200\n",
            "9/9 [==============================] - 1s 116ms/step - loss: 0.3469 - val_loss: 0.3232\n",
            "Epoch 104/200\n",
            "9/9 [==============================] - 1s 116ms/step - loss: 0.3471 - val_loss: 0.3232\n",
            "Epoch 105/200\n",
            "9/9 [==============================] - 1s 116ms/step - loss: 0.3469 - val_loss: 0.3230\n",
            "Epoch 106/200\n",
            "9/9 [==============================] - 1s 116ms/step - loss: 0.3467 - val_loss: 0.3227\n",
            "Epoch 107/200\n",
            "9/9 [==============================] - 1s 116ms/step - loss: 0.3466 - val_loss: 0.3228\n",
            "Epoch 108/200\n",
            "9/9 [==============================] - 1s 116ms/step - loss: 0.3466 - val_loss: 0.3229\n",
            "Epoch 109/200\n",
            "9/9 [==============================] - 1s 116ms/step - loss: 0.3463 - val_loss: 0.3230\n",
            "Epoch 110/200\n",
            "9/9 [==============================] - 1s 115ms/step - loss: 0.3461 - val_loss: 0.3229\n",
            "Epoch 111/200\n",
            "9/9 [==============================] - 1s 116ms/step - loss: 0.3463 - val_loss: 0.3230\n",
            "Epoch 112/200\n",
            "9/9 [==============================] - 1s 116ms/step - loss: 0.3460 - val_loss: 0.3228\n",
            "Epoch 113/200\n",
            "9/9 [==============================] - 1s 115ms/step - loss: 0.3462 - val_loss: 0.3227\n",
            "Epoch 114/200\n",
            "9/9 [==============================] - 1s 116ms/step - loss: 0.3462 - val_loss: 0.3228\n",
            "Epoch 115/200\n",
            "9/9 [==============================] - 1s 116ms/step - loss: 0.3458 - val_loss: 0.3228\n",
            "Epoch 116/200\n",
            "9/9 [==============================] - 1s 116ms/step - loss: 0.3458 - val_loss: 0.3228\n",
            "Epoch 117/200\n",
            "9/9 [==============================] - 1s 116ms/step - loss: 0.3459 - val_loss: 0.3227\n",
            "Epoch 118/200\n",
            "9/9 [==============================] - 1s 115ms/step - loss: 0.3459 - val_loss: 0.3227\n",
            "Epoch 119/200\n",
            "9/9 [==============================] - 1s 116ms/step - loss: 0.3457 - val_loss: 0.3227\n",
            "Epoch 120/200\n",
            "9/9 [==============================] - 1s 116ms/step - loss: 0.3455 - val_loss: 0.3225\n",
            "Epoch 121/200\n",
            "9/9 [==============================] - 1s 115ms/step - loss: 0.3458 - val_loss: 0.3225\n",
            "Epoch 122/200\n",
            "9/9 [==============================] - 1s 116ms/step - loss: 0.3456 - val_loss: 0.3227\n",
            "Epoch 123/200\n",
            "9/9 [==============================] - 1s 115ms/step - loss: 0.3457 - val_loss: 0.3226\n",
            "Epoch 124/200\n",
            "9/9 [==============================] - 1s 115ms/step - loss: 0.3454 - val_loss: 0.3226\n",
            "Epoch 125/200\n",
            "9/9 [==============================] - 1s 116ms/step - loss: 0.3455 - val_loss: 0.3225\n",
            "Epoch 126/200\n",
            "9/9 [==============================] - 1s 116ms/step - loss: 0.3454 - val_loss: 0.3225\n",
            "Epoch 127/200\n",
            "9/9 [==============================] - 1s 115ms/step - loss: 0.3453 - val_loss: 0.3226\n",
            "Epoch 128/200\n",
            "9/9 [==============================] - 1s 116ms/step - loss: 0.3451 - val_loss: 0.3226\n",
            "Epoch 129/200\n",
            "9/9 [==============================] - 1s 115ms/step - loss: 0.3451 - val_loss: 0.3223\n",
            "Epoch 130/200\n",
            "9/9 [==============================] - 1s 115ms/step - loss: 0.3451 - val_loss: 0.3222\n",
            "Epoch 131/200\n",
            "9/9 [==============================] - 1s 116ms/step - loss: 0.3454 - val_loss: 0.3224\n",
            "Epoch 132/200\n",
            "9/9 [==============================] - 1s 115ms/step - loss: 0.3449 - val_loss: 0.3227\n",
            "Epoch 133/200\n",
            "9/9 [==============================] - 1s 115ms/step - loss: 0.3451 - val_loss: 0.3226\n",
            "Epoch 134/200\n",
            "9/9 [==============================] - 1s 115ms/step - loss: 0.3449 - val_loss: 0.3225\n",
            "Epoch 135/200\n",
            "9/9 [==============================] - 1s 115ms/step - loss: 0.3448 - val_loss: 0.3223\n",
            "Epoch 136/200\n",
            "9/9 [==============================] - 1s 115ms/step - loss: 0.3449 - val_loss: 0.3224\n",
            "Epoch 137/200\n",
            "9/9 [==============================] - 1s 115ms/step - loss: 0.3449 - val_loss: 0.3224\n",
            "Epoch 138/200\n",
            "9/9 [==============================] - 1s 115ms/step - loss: 0.3448 - val_loss: 0.3224\n",
            "Epoch 139/200\n",
            "9/9 [==============================] - 1s 115ms/step - loss: 0.3447 - val_loss: 0.3224\n",
            "Epoch 140/200\n",
            "9/9 [==============================] - 1s 115ms/step - loss: 0.3445 - val_loss: 0.3224\n",
            "Epoch 141/200\n",
            "9/9 [==============================] - 1s 115ms/step - loss: 0.3444 - val_loss: 0.3223\n",
            "Epoch 142/200\n",
            "9/9 [==============================] - 1s 115ms/step - loss: 0.3444 - val_loss: 0.3225\n",
            "Epoch 143/200\n",
            "9/9 [==============================] - 1s 115ms/step - loss: 0.3444 - val_loss: 0.3226\n",
            "Epoch 144/200\n",
            "9/9 [==============================] - 1s 115ms/step - loss: 0.3443 - val_loss: 0.3224\n",
            "Epoch 145/200\n",
            "9/9 [==============================] - 1s 115ms/step - loss: 0.3441 - val_loss: 0.3221\n",
            "Epoch 146/200\n",
            "9/9 [==============================] - 1s 115ms/step - loss: 0.3443 - val_loss: 0.3220\n",
            "Epoch 147/200\n",
            "9/9 [==============================] - 1s 115ms/step - loss: 0.3441 - val_loss: 0.3222\n",
            "Epoch 148/200\n",
            "9/9 [==============================] - 1s 116ms/step - loss: 0.3440 - val_loss: 0.3224\n",
            "Epoch 149/200\n",
            "9/9 [==============================] - 1s 116ms/step - loss: 0.3441 - val_loss: 0.3223\n",
            "Epoch 150/200\n",
            "9/9 [==============================] - 1s 115ms/step - loss: 0.3441 - val_loss: 0.3220\n",
            "Epoch 151/200\n",
            "9/9 [==============================] - 1s 115ms/step - loss: 0.3440 - val_loss: 0.3218\n",
            "Epoch 152/200\n",
            "9/9 [==============================] - 1s 116ms/step - loss: 0.3440 - val_loss: 0.3220\n",
            "Epoch 153/200\n",
            "9/9 [==============================] - 1s 115ms/step - loss: 0.3441 - val_loss: 0.3225\n",
            "Epoch 154/200\n",
            "9/9 [==============================] - 1s 115ms/step - loss: 0.3438 - val_loss: 0.3223\n",
            "Epoch 155/200\n",
            "9/9 [==============================] - 1s 116ms/step - loss: 0.3436 - val_loss: 0.3217\n",
            "Epoch 156/200\n",
            "9/9 [==============================] - 1s 115ms/step - loss: 0.3436 - val_loss: 0.3218\n",
            "Epoch 157/200\n",
            "9/9 [==============================] - 1s 115ms/step - loss: 0.3438 - val_loss: 0.3225\n",
            "Epoch 158/200\n",
            "9/9 [==============================] - 1s 115ms/step - loss: 0.3436 - val_loss: 0.3225\n",
            "Epoch 159/200\n",
            "9/9 [==============================] - 1s 116ms/step - loss: 0.3436 - val_loss: 0.3216\n",
            "Epoch 160/200\n",
            "9/9 [==============================] - 1s 115ms/step - loss: 0.3435 - val_loss: 0.3215\n",
            "Epoch 161/200\n",
            "9/9 [==============================] - 1s 115ms/step - loss: 0.3436 - val_loss: 0.3221\n",
            "Epoch 162/200\n",
            "9/9 [==============================] - 1s 115ms/step - loss: 0.3435 - val_loss: 0.3225\n",
            "Epoch 163/200\n",
            "9/9 [==============================] - 1s 115ms/step - loss: 0.3435 - val_loss: 0.3221\n",
            "Epoch 164/200\n",
            "9/9 [==============================] - 1s 116ms/step - loss: 0.3435 - val_loss: 0.3215\n",
            "Epoch 165/200\n",
            "9/9 [==============================] - 1s 115ms/step - loss: 0.3433 - val_loss: 0.3217\n",
            "Epoch 166/200\n",
            "9/9 [==============================] - 1s 115ms/step - loss: 0.3432 - val_loss: 0.3222\n",
            "Epoch 167/200\n",
            "9/9 [==============================] - 1s 115ms/step - loss: 0.3433 - val_loss: 0.3225\n",
            "Epoch 168/200\n",
            "9/9 [==============================] - 1s 115ms/step - loss: 0.3430 - val_loss: 0.3220\n",
            "Epoch 169/200\n",
            "9/9 [==============================] - 1s 115ms/step - loss: 0.3431 - val_loss: 0.3214\n",
            "Epoch 170/200\n",
            "9/9 [==============================] - 1s 115ms/step - loss: 0.3432 - val_loss: 0.3217\n",
            "Epoch 171/200\n",
            "9/9 [==============================] - 1s 115ms/step - loss: 0.3432 - val_loss: 0.3223\n",
            "Epoch 172/200\n",
            "9/9 [==============================] - 1s 115ms/step - loss: 0.3430 - val_loss: 0.3223\n",
            "Epoch 173/200\n",
            "9/9 [==============================] - 1s 114ms/step - loss: 0.3430 - val_loss: 0.3217\n",
            "Epoch 174/200\n",
            "9/9 [==============================] - 1s 115ms/step - loss: 0.3429 - val_loss: 0.3213\n",
            "Epoch 175/200\n",
            "9/9 [==============================] - 1s 115ms/step - loss: 0.3429 - val_loss: 0.3219\n",
            "Epoch 176/200\n",
            "9/9 [==============================] - 1s 115ms/step - loss: 0.3429 - val_loss: 0.3225\n",
            "Epoch 177/200\n",
            "9/9 [==============================] - 1s 115ms/step - loss: 0.3430 - val_loss: 0.3220\n",
            "Epoch 178/200\n",
            "9/9 [==============================] - 1s 114ms/step - loss: 0.3426 - val_loss: 0.3214\n",
            "Epoch 179/200\n",
            "9/9 [==============================] - 1s 115ms/step - loss: 0.3427 - val_loss: 0.3216\n",
            "Epoch 180/200\n",
            "9/9 [==============================] - 1s 115ms/step - loss: 0.3428 - val_loss: 0.3222\n",
            "Epoch 181/200\n",
            "9/9 [==============================] - 1s 115ms/step - loss: 0.3424 - val_loss: 0.3220\n",
            "Epoch 182/200\n",
            "9/9 [==============================] - 1s 114ms/step - loss: 0.3427 - val_loss: 0.3212\n",
            "Epoch 183/200\n",
            "9/9 [==============================] - 1s 115ms/step - loss: 0.3426 - val_loss: 0.3212\n",
            "Epoch 184/200\n",
            "9/9 [==============================] - 1s 115ms/step - loss: 0.3425 - val_loss: 0.3215\n",
            "Epoch 185/200\n",
            "9/9 [==============================] - 1s 115ms/step - loss: 0.3425 - val_loss: 0.3219\n",
            "Epoch 186/200\n",
            "9/9 [==============================] - 1s 115ms/step - loss: 0.3426 - val_loss: 0.3216\n",
            "Epoch 187/200\n",
            "9/9 [==============================] - 1s 115ms/step - loss: 0.3425 - val_loss: 0.3214\n",
            "Epoch 188/200\n",
            "9/9 [==============================] - 1s 115ms/step - loss: 0.3423 - val_loss: 0.3216\n",
            "Epoch 189/200\n",
            "9/9 [==============================] - 1s 115ms/step - loss: 0.3423 - val_loss: 0.3217\n",
            "Epoch 190/200\n",
            "9/9 [==============================] - 1s 116ms/step - loss: 0.3423 - val_loss: 0.3214\n",
            "Epoch 191/200\n",
            "9/9 [==============================] - 1s 115ms/step - loss: 0.3423 - val_loss: 0.3211\n",
            "Epoch 192/200\n",
            "9/9 [==============================] - 1s 115ms/step - loss: 0.3422 - val_loss: 0.3214\n",
            "Epoch 193/200\n",
            "9/9 [==============================] - 1s 115ms/step - loss: 0.3423 - val_loss: 0.3218\n",
            "Epoch 194/200\n",
            "9/9 [==============================] - 1s 116ms/step - loss: 0.3424 - val_loss: 0.3217\n",
            "Epoch 195/200\n",
            "9/9 [==============================] - 1s 115ms/step - loss: 0.3421 - val_loss: 0.3212\n",
            "Epoch 196/200\n",
            "9/9 [==============================] - 1s 115ms/step - loss: 0.3423 - val_loss: 0.3210\n",
            "Epoch 197/200\n",
            "9/9 [==============================] - 1s 116ms/step - loss: 0.3421 - val_loss: 0.3213\n",
            "Epoch 198/200\n",
            "9/9 [==============================] - 1s 116ms/step - loss: 0.3422 - val_loss: 0.3217\n",
            "Epoch 199/200\n",
            "9/9 [==============================] - 1s 116ms/step - loss: 0.3422 - val_loss: 0.3213\n",
            "Epoch 200/200\n",
            "9/9 [==============================] - 1s 115ms/step - loss: 0.3421 - val_loss: 0.3212\n"
          ],
          "name": "stdout"
        }
      ]
    },
    {
      "cell_type": "code",
      "metadata": {
        "id": "pwnqTNfRVUvX",
        "colab_type": "code",
        "colab": {
          "base_uri": "https://localhost:8080/",
          "height": 299
        },
        "outputId": "4861ef7c-3a46-441c-80ce-1ef0a4e9ecc6"
      },
      "source": [
        "plt.plot(hist.history['val_loss'], 'r', hist.history['loss'], 'b')"
      ],
      "execution_count": 29,
      "outputs": [
        {
          "output_type": "execute_result",
          "data": {
            "text/plain": [
              "[<matplotlib.lines.Line2D at 0x7f6cc9657e80>,\n",
              " <matplotlib.lines.Line2D at 0x7f6cc9657f98>]"
            ]
          },
          "metadata": {
            "tags": []
          },
          "execution_count": 29
        },
        {
          "output_type": "display_data",
          "data": {
            "image/png": "[encoded data removed]",
            "text/plain": [
              "<Figure size 432x288 with 1 Axes>"
            ]
          },
          "metadata": {
            "tags": [],
            "needs_background": "light"
          }
        }
      ]
    },
    {
      "cell_type": "code",
      "metadata": {
        "id": "_IYrL6REVmK6",
        "colab_type": "code",
        "colab": {}
      },
      "source": [
        ""
      ],
      "execution_count": 0,
      "outputs": []
    }
  ]
}