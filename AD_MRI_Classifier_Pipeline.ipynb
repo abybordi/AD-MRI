{
  "nbformat": 4,
  "nbformat_minor": 0,
  "metadata": {
    "kernelspec": {
      "display_name": "Python 3",
      "language": "python",
      "name": "python3"
    },
    "language_info": {
      "codemirror_mode": {
        "name": "ipython",
        "version": 3
      },
      "file_extension": ".py",
      "mimetype": "text/x-python",
      "name": "python",
      "nbconvert_exporter": "python",
      "pygments_lexer": "ipython3",
      "version": "3.7.6"
    },
    "colab": {
      "name": "AD-MRI_Classifier Pipeline.ipynb",
      "provenance": [],
      "collapsed_sections": [
        "dmBIOR_Imh2S"
      ],
      "machine_shape": "hm"
    },
    "accelerator": "GPU"
  },
  "cells": [
    {
      "cell_type": "markdown",
      "metadata": {
        "id": "vTngGXkhvhH3",
        "colab_type": "text"
      },
      "source": [
        "#### Import Libraries and Mount Data"
      ]
    },
    {
      "cell_type": "code",
      "metadata": {
        "id": "Xt2onyB1zQ9Z",
        "colab_type": "code",
        "colab": {}
      },
      "source": [
        "%matplotlib inline \n",
        "from matplotlib import pyplot as plt\n",
        "import numpy as np\n",
        "import pandas as pd\n",
        "import pickle\n",
        "import warnings\n",
        "import tensorflow as tf\n",
        "import random\n",
        "import scipy\n",
        "import cv2\n",
        "from tensorflow.keras.utils import Sequence\n",
        "from tensorflow.keras.utils import to_categorical\n",
        "from sklearn.model_selection import train_test_split\n",
        "from sklearn.preprocessing import LabelEncoder\n",
        "from sklearn.utils import class_weight\n",
        "from tensorflow import keras\n",
        "from tensorflow.keras import backend as K\n",
        "from tensorflow.keras.callbacks import TensorBoard\n",
        "from tensorflow.keras.models import Sequential, Model\n",
        "from tensorflow.keras.layers import Dense, Conv3D, MaxPool3D, Dropout, \\\n",
        "        Flatten, Conv3DTranspose, UpSampling3D, Reshape, Input, concatenate\n",
        "from tensorflow.keras.regularizers import l1_l2\n",
        "from google.colab import drive\n"
      ],
      "execution_count": 0,
      "outputs": []
    },
    {
      "cell_type": "code",
      "metadata": {
        "id": "I8ug2tfPzWqa",
        "colab_type": "code",
        "outputId": "867c6974-8ebd-45fe-c4f0-234b0116151e",
        "colab": {
          "base_uri": "https://localhost:8080/",
          "height": 34
        }
      },
      "source": [
        "drive.mount('/content/drive')"
      ],
      "execution_count": 9,
      "outputs": [
        {
          "output_type": "stream",
          "text": [
            "Drive already mounted at /content/drive; to attempt to forcibly remount, call drive.mount(\"/content/drive\", force_remount=True).\n"
          ],
          "name": "stdout"
        }
      ]
    },
    {
      "cell_type": "code",
      "metadata": {
        "id": "vXKe3JlXzQ9d",
        "colab_type": "code",
        "colab": {}
      },
      "source": [
        "warnings.filterwarnings('ignore')"
      ],
      "execution_count": 0,
      "outputs": []
    },
    {
      "cell_type": "code",
      "metadata": {
        "id": "IT-I0pU4zQ9g",
        "colab_type": "code",
        "outputId": "b1d1a5d4-8cb3-4ad6-be76-630fcaff5187",
        "colab": {
          "base_uri": "https://localhost:8080/",
          "height": 34
        }
      },
      "source": [
        "print('Tensorflow version:', tf.__version__)"
      ],
      "execution_count": 11,
      "outputs": [
        {
          "output_type": "stream",
          "text": [
            "Tensorflow version: 2.2.0\n"
          ],
          "name": "stdout"
        }
      ]
    },
    {
      "cell_type": "markdown",
      "metadata": {
        "id": "KA4HQ31xqss0",
        "colab_type": "text"
      },
      "source": [
        "#### Set Options"
      ]
    },
    {
      "cell_type": "code",
      "metadata": {
        "id": "GBOAiHg0qrLZ",
        "colab_type": "code",
        "colab": {}
      },
      "source": [
        "#-- Experimental options --#\n",
        "\n",
        "#-- Dropout; values tested: 0.0, 0.5, 0.8\n",
        "dropout_rate = 0.8\n",
        "\n",
        "#-- With or without inception block \n",
        "with_ib = False\n",
        "\n",
        "#-- With or without an autoencoder\n",
        "with_ae = True\n",
        "\n",
        "#-- Number of Epochs\n",
        "n_epochs = 2 #50\n",
        "\n",
        "#-- Number of nodes in first dense layer of classifier; values tested: 1024, 256\n",
        "n_nodes_1st = 1024\n",
        "\n",
        "#-- Number of nodes in second dense layer of classifier; values tested: 64, 128\n",
        "n_nodes_2nd = 64\n",
        "\n",
        "#-- Classifier output layer activation; values tested: softmax, sigmoid\n",
        "output_act = 'softmax'\n",
        "\n",
        "# According to Nature paper (Oh et. al.), l1 and l2 values of 10e-4 \n",
        "#   performed the best from experimentation with 0.01, 0.001, 0.0001, 0.00001 \n",
        "#   values.\n",
        "#-- L1 regularization option in inception block; off at 0\n",
        "l1_value = 0\n",
        "\n",
        "#-- L2 regularization option in inception block; off at 0\n",
        "l2_value = 0\n",
        "\n",
        "\n",
        "\n",
        "#-- Fairly static options for consistent experimentation --#\n",
        "\n",
        "#-- File path to pickled master sheet\n",
        "master_file = '/content/drive/My Drive/AD_MRI/AD_MRI_Master'\n",
        "\n",
        "#-- Directory path to preprocessed images\n",
        "processed_dir = '/content/drive/My Drive/AD_MRI/PROCESSED/'\n",
        "\n",
        "#-- Initial split (percent validation from original train)\n",
        "test_size_1st = 0.10\n",
        "\n",
        "#-- Second split of (percent test from initial train split)\n",
        "test_size_2nd = 0.10\n",
        "\n",
        "#-- Input dimensions for ventricles_only=True; otherwise (120, 160, 120, 1)\n",
        "input_dim = (120, 160, 16, 1)\n",
        "\n",
        "#-- Filters for inception block in the specified branch order: \n",
        "#       [branch_1x1x1, branch_3x3x3, branch_double_3x3x3, branch_maxpool_3x3x3]\n",
        "filter_operation = [10, 10, 10, 10]\n",
        "\n",
        "#-- Inception model summary view setting for positions to minimize truncation\n",
        "four_cols = [.35, .64, .71, 1.]\n"
      ],
      "execution_count": 0,
      "outputs": []
    },
    {
      "cell_type": "markdown",
      "metadata": {
        "id": "nPFgeYTuzQ9k",
        "colab_type": "text"
      },
      "source": [
        "#### Create Train/Test Subset"
      ]
    },
    {
      "cell_type": "code",
      "metadata": {
        "id": "qYrPlrRqzQ9k",
        "colab_type": "code",
        "colab": {}
      },
      "source": [
        "#%cd /content/drive/My Drive/AD_MRI\n",
        "\n",
        "def create_master_sheet(filepath=master_file):\n",
        "    # Load list of records\n",
        "    with open(filepath, 'rb') as f:\n",
        "        master_list = pickle.load(f)\n",
        "        \n",
        "    master_sheet = pd.DataFrame.from_dict(master_list, orient='index')\n",
        "    display(master_sheet.head())\n",
        "\n",
        "    return master_sheet\n",
        "\n",
        "\n",
        "def split_data(master_sheet):\n",
        "    # Split into train, validation, test\n",
        "    train_list, val_list, train_label, val_label = \\\n",
        "            train_test_split(master_sheet.subject.values, \n",
        "                            master_sheet.diagnosis.values, \n",
        "                            random_state = 1337, \n",
        "                            test_size=test_size_1st)\n",
        "            \n",
        "    train_list, test_list, train_label, test_label = \\\n",
        "            train_test_split(train_list, \n",
        "                            train_label, \n",
        "                            random_state = 0, \n",
        "                            test_size=test_size_2nd)\n",
        "            \n",
        "    return train_list, train_label, val_list, val_label, test_list, test_label\n",
        "\n",
        "def check_split(train_list, train_label, val_list, val_label, test_list, test_label):\n",
        "\n",
        "    # Check for ratios of AD to NC to be consistent among sets\n",
        "    AD_count = 0\n",
        "    for lab in train_label:\n",
        "        if lab == 'AD':\n",
        "            AD_count +=1\n",
        "    print('train_ratio AD: ', round(AD_count/len(train_label), 3))\n",
        "\n",
        "    AD_count = 0\n",
        "    for lab in val_label:\n",
        "        if lab == 'AD':\n",
        "            AD_count +=1\n",
        "    print('val_ratio AD: ', round(AD_count/len(val_label), 3))\n",
        "\n",
        "    AD_count = 0\n",
        "    for lab in test_label:\n",
        "        if lab == 'AD':\n",
        "            AD_count +=1\n",
        "    print('test_ratio AD: ', round(AD_count/len(test_label), 3))\n",
        "\n",
        "    print('\\nNumber of records\\ntrain:', len(train_list), \n",
        "        '\\nvalidation:', len(val_list), '\\ntest:', len(test_list))\n",
        "\n"
      ],
      "execution_count": 0,
      "outputs": []
    },
    {
      "cell_type": "markdown",
      "metadata": {
        "id": "BWz1F457zQ9r",
        "colab_type": "text"
      },
      "source": [
        "#### Create Generator"
      ]
    },
    {
      "cell_type": "code",
      "metadata": {
        "id": "Q3IK5qfYzQ9r",
        "colab_type": "code",
        "colab": {}
      },
      "source": [
        "def labels_to_categorical(labels):\n",
        "    le = LabelEncoder()\n",
        "    le.fit([\"CN\", \"AD\"])\n",
        "    num_lab = to_categorical(le.transform(labels), num_classes=2)\n",
        "    return num_lab\n",
        "\n",
        "\n",
        "def my_minmax(z):\n",
        "    return (z-np.min(z)) / (np.max(z)-np.min(z))\n",
        "\n",
        "\n",
        "class MyDataGenerator(Sequence):\n",
        "    \"\"\"Generates data for Keras Sequence based data generator. \n",
        "    Suitable for building data generator for training and prediction.\n",
        "    \"\"\"\n",
        "    def __init__(self, list_IDs, processed_dir=processed_dir, augment=False, \n",
        "                 to_fit=True, batch_size=32, dim=(120, 160, 120, 1),\n",
        "                 n_classes=2, shuffle=True, with_ib=False, with_ae=True, \n",
        "                 ventricles_only=True, slice_start=50, slice_end=66, \n",
        "                 sample_weight=None):\n",
        "        \"\"\"Initialization\n",
        "        :param list_IDs: list of all 'label' PATHS\n",
        "        :param processed_dir: path to directory of processed images\n",
        "        :param augment: True to augment data with random image rotations\n",
        "        :param to_fit: True to return X, y and w, False to return X only\n",
        "        :param batch_size: batch size at each iteration\n",
        "        :param dim: tuple indicating image dimension\n",
        "        :param n_classes: number of output masks\n",
        "        :param shuffle: True to shuffle label indexes after every epoch\n",
        "        :param with_ib: True to include inception block(s)\n",
        "        :param with_ae: True to also run decoder and autoencoder, \n",
        "                        False to run encoder/classifier only\n",
        "        :param ventricles_only: True to reduce dimensions to relevant slice\n",
        "        :param slice_start: starting index for ventricles_only=True\n",
        "        :param slice_end: ending index for ventricles_only=True\n",
        "        :param sample_weight: weights to address class imbalance if to_fit=True\n",
        "        \"\"\"\n",
        "        self.list_IDs = list_IDs\n",
        "        self.processed_dir = processed_dir\n",
        "        self.augment = augment\n",
        "        self.to_fit = to_fit\n",
        "        self.batch_size = batch_size\n",
        "        self.dim = dim\n",
        "        self.n_classes = n_classes\n",
        "        self.shuffle = shuffle\n",
        "        self.with_ib = with_ib\n",
        "        self.with_ae = with_ae\n",
        "        self.ventricles_only = ventricles_only\n",
        "        self.on_epoch_end()\n",
        "        self.slice_start = slice_start\n",
        "        self.slice_end = slice_end\n",
        "        if self.ventricles_only == False:\n",
        "            self.slice_size = 120\n",
        "        else:\n",
        "            self.slice_size = slice_end - slice_start\n",
        "        self.sample_weight = sample_weight\n",
        "\n",
        "\n",
        "    def __len__(self):\n",
        "        \"\"\"Denotes the number of batches per epoch\n",
        "        :return: number of batches per epoch\n",
        "        \"\"\"\n",
        "        return int(np.floor(len(self.list_IDs) / self.batch_size))\n",
        "\n",
        "\n",
        "    def __getitem__(self, index):\n",
        "        \"\"\"Generate one batch of data\n",
        "        :param index: index of the batch\n",
        "        :return: X and y when fitting. X only when predicting\n",
        "        \"\"\"\n",
        "        # Generate indexes of the batch\n",
        "        indexes = self.indexes[index \n",
        "                               * self.batch_size:(index + 1) \n",
        "                               * self.batch_size]\n",
        "\n",
        "        # Find list of IDs\n",
        "        list_IDs_temp = [self.list_IDs[k] for k in indexes]\n",
        "        \n",
        "        # Generate data\n",
        "        X, y = self._load_data(list_IDs_temp)\n",
        "        X = my_minmax(np.float32(X))\n",
        "        if self.ventricles_only == True:\n",
        "          X = X[:, :, :, self.slice_start:self.slice_end, :]\n",
        "        w_temp = np.asarray([self.sample_weight[k] for k in indexes])\n",
        "        if self.to_fit:\n",
        "            if self.with_ae:\n",
        "                y = {'classifier': y, 'decoder': X}\n",
        "                w = {'classifier': w_temp,\n",
        "                    'decoder':np.ones(np.shape(X))}\n",
        "            else:\n",
        "                w = w_temp\n",
        "            return X, y, w\n",
        "\n",
        "        else:\n",
        "            return X\n",
        "\n",
        "\n",
        "    def on_epoch_end(self):\n",
        "        \"\"\"Updates indexes after each epoch\n",
        "        \"\"\"\n",
        "        self.indexes = np.arange(len(self.list_IDs))\n",
        "        if self.shuffle == True:\n",
        "            np.random.shuffle(self.indexes)\n",
        "\n",
        "\n",
        "    def _load_data(self, list_IDs_temp):\n",
        "        \"\"\"Generates data containing batch_size images\n",
        "        :param list_IDs_temp: list of label ids to load\n",
        "        :return: batch of images\n",
        "        \"\"\"\n",
        "        # Initialization\n",
        "        X = np.empty((self.batch_size, *self.dim))\n",
        "        y = np.empty((self.batch_size, self.n_classes), dtype=int)\n",
        "        \n",
        "        # Generate data\n",
        "        for i, ID in enumerate(list_IDs_temp):\n",
        "            \n",
        "            # start X\n",
        "            with open(self.processed_dir+ID+'_data','rb') as f:\n",
        "                data = pickle.load(f)\n",
        "                \n",
        "            # third dimension = 120, error using self.slice_size for value 16\n",
        "            x_reshape= np.reshape(data['image'], (120, 160, 120, 1))\n",
        "            if self.augment == True:\n",
        "                x_reshape = scipy.ndimage.rotate(x_reshape, \n",
        "                                axes=random.choice([(0, 1), (0, 2), (1, 2)]), \n",
        "                                angle=random.choice([360-15, 15,0]), \n",
        "                                reshape=False)\n",
        "            X[i,] = x_reshape\n",
        "            \n",
        "            #start y\n",
        "            y[i,] = labels_to_categorical([data['diagnosis']])\n",
        "\n",
        "        return X, y\n",
        "\n",
        "    "
      ],
      "execution_count": 0,
      "outputs": []
    },
    {
      "cell_type": "code",
      "metadata": {
        "id": "sDciL6K9E10n",
        "colab_type": "code",
        "colab": {}
      },
      "source": [
        "def check_gen(train_label, test_list):\n",
        "\n",
        "    print(labels_to_categorical([\"CN\"]))\n",
        "\n",
        "    balancing_weights = class_weight.compute_sample_weight('balanced', \n",
        "                                                           train_label)\n",
        "    print(balancing_weights[0], train_label[0])\n",
        "    print(balancing_weights[1], train_label[1])\n",
        "\n",
        "    # # usage:\n",
        "    # mdg = MyDataGenerator(test_list, processed_dir=PROCESSED_DIR, to_fit=False, \n",
        "    #                       augment=True, sample_weight=balancing_weights, \n",
        "    #                       batch_size=2)\n",
        "\n",
        "    # X, y, weights = mdg.__getitem__(0) #without .__getitem__ obviously\n",
        "\n",
        "    # print('X:', X, '\\ny:', y, '\\nweights:', weights)\n"
      ],
      "execution_count": 0,
      "outputs": []
    },
    {
      "cell_type": "markdown",
      "metadata": {
        "id": "dmBIOR_Imh2S",
        "colab_type": "text"
      },
      "source": [
        "#### Create Inception Block"
      ]
    },
    {
      "cell_type": "code",
      "metadata": {
        "id": "Tds1F1Ic_hYE",
        "colab_type": "code",
        "colab": {}
      },
      "source": [
        "def inception_module(input, filter_operation=filter_operation, \n",
        "                     l1_value=l1_value, l2_value=l2_value):\n",
        "    \"\"\"\n",
        "    filter_operation is a list of inception operations for:\n",
        "        1x1x1 kernel, \n",
        "        1x1x1 then 3x3x3 kernels, \n",
        "        1x1x1 then 3x3x3 then 3x3x3 kernels, \n",
        "        and 3x3x3 maxpooling then 1x1x1 kernels, \n",
        "            respectively.\n",
        "    \"\"\"\n",
        "    # Branch A\n",
        "    branch_1x1x1 = Conv3D(filter_operation[0], kernel_size=(1, 1, 1), \n",
        "                          activation='relu', padding='same', \n",
        "                          kernel_regularizer=l1_l2(l1_value, l2_value), \n",
        "                          name='Branch_A_1x1x1')(input)\n",
        "\n",
        "    # Branch B\n",
        "    branch_3x3x3_initial = Conv3D(filter_operation[1], kernel_size=(1, 1, 1), \n",
        "                                  activation='relu', padding='same', \n",
        "                                  kernel_regularizer=l1_l2(l1_value, l2_value), \n",
        "                                  name='Branch_B_1x1x1')(input)\n",
        "    branch_3x3x3 = Conv3D(filter_operation[1], kernel_size=(3, 3, 3), \n",
        "                          activation='relu', padding='same', \n",
        "                          kernel_regularizer=l1_l2(l1_value, l2_value), \n",
        "                          name='Branch_B_3x3x3')(branch_3x3x3_initial)\n",
        "\n",
        "    # Branch C\n",
        "    branch_double_3x3x3_initial = Conv3D(filter_operation[2], \n",
        "                                         kernel_size=(1, 1, 1), \n",
        "                                         activation='relu', padding='same', \n",
        "                                         kernel_regularizer=l1_l2(l1_value, \n",
        "                                                                  l2_value), \n",
        "                                         name='Branch_C_1x1x1')(input)\n",
        "    branch_double_3x3x3_middle = Conv3D(filter_operation[2], \n",
        "                                        kernel_size=(3, 3, 3), \n",
        "                                        activation='relu', padding='same', \n",
        "                                        kernel_regularizer=l1_l2(l1_value, \n",
        "                                                                 l2_value), \n",
        "                                        name='Branch_C_1st_3x3x3')\\\n",
        "                                        (branch_double_3x3x3_initial)\n",
        "    branch_double_3x3x3 = Conv3D(filter_operation[2], kernel_size=(3, 3, 3), \n",
        "                                 activation='relu', padding='same', \n",
        "                                 kernel_regularizer=l1_l2(l1_value, l2_value), \n",
        "                                 name='Branch_C_2nd_3x3x3')\\\n",
        "                                 (branch_double_3x3x3_middle)\n",
        "\n",
        "    # Branch D\n",
        "    branch_maxpool_3x3x3_initial = MaxPool3D(pool_size=(3, 3, 3), \n",
        "                                             strides=(1, 1, 1), padding='same', \n",
        "                                             name='Branch_D_3x3x3_maxpool')\\\n",
        "                                             (input)\n",
        "    branch_maxpool_3x3x3 = Conv3D(filter_operation[3], kernel_size=(1, 1, 1), \n",
        "                                  activation='relu', padding='same', \n",
        "                                  kernel_regularizer=l1_l2(l1_value, l2_value), \n",
        "                                  name='Branch_D_1x1x1')\\\n",
        "                                  (branch_maxpool_3x3x3_initial)\n",
        "    \n",
        "    # Merge branches\n",
        "    modules = [branch_1x1x1, branch_3x3x3, branch_double_3x3x3, \n",
        "               branch_maxpool_3x3x3]\n",
        "    merged_module = concatenate(modules, name='Inception_Merged')\n",
        "    \n",
        "    return merged_module\n",
        "    \n"
      ],
      "execution_count": 0,
      "outputs": []
    },
    {
      "cell_type": "markdown",
      "metadata": {
        "id": "keq6jtuibxaY",
        "colab_type": "text"
      },
      "source": [
        "#### Build Encoder"
      ]
    },
    {
      "cell_type": "code",
      "metadata": {
        "id": "nl5zjCyJbwfe",
        "colab_type": "code",
        "colab": {}
      },
      "source": [
        "def build_encoder(input_dim=input_dim, with_ib=with_ib, dropout_rate=dropout_rate):\n",
        "    '''\n",
        "    '''\n",
        "    input_img = Input(shape=input_dim, name='Input')\n",
        "    print('\\ninput shape:', input_img.shape)\n",
        "\n",
        "    x = Conv3D(10, (3, 3, 3), activation='relu', padding='same', \n",
        "            name='Convolution_1')(input_img)\n",
        "    x = MaxPool3D((2, 2, 2), name='MaxPooling_1')(x)\n",
        "    x = Dropout(dropout_rate, name='DropOut_1')(x)\n",
        "\n",
        "    x = Conv3D(10, (3, 3, 3), activation='relu', padding='same', \n",
        "            name='Convolution_2')(x)\n",
        "    x = MaxPool3D((2, 2, 2), name='MaxPooling_2')(x)\n",
        "    x = Dropout(dropout_rate, name='DropOut_2')(x)\n",
        "\n",
        "    if with_ib:\n",
        "        x = inception_module(x, filter_operations)\n",
        "    else:\n",
        "        x = Conv3D(10, (3, 3, 3), activation='relu', padding='same', \n",
        "                name='Convolution_3')(x)\n",
        "    x = MaxPool3D((2, 2, 2), name='MaxPooling_3')(x)\n",
        "    x = Dropout(dropout_rate, name='DropOut_3')(x)\n",
        "\n",
        "    encoded = x\n",
        "    encoded_shape = K.int_shape(encoded)\n",
        "    print('output shape:', encoded_shape, '\\n')\n",
        "\n",
        "    encoder = Model(input_img, encoded, name='encoder')\n",
        "\n",
        "    if with_ib:\n",
        "        encoder.summary(positions=four_cols) \n",
        "    else:\n",
        "        encoder.summary()\n",
        "    \n",
        "    return encoder, encoded_shape\n",
        "\n"
      ],
      "execution_count": 0,
      "outputs": []
    },
    {
      "cell_type": "markdown",
      "metadata": {
        "id": "mgdhITnqeZWu",
        "colab_type": "text"
      },
      "source": [
        "#### Build Decoder"
      ]
    },
    {
      "cell_type": "code",
      "metadata": {
        "id": "tpsV8eaBebwy",
        "colab_type": "code",
        "colab": {}
      },
      "source": [
        "def build_decoder(encoder, encoded_shape, \n",
        "                  with_ib=with_ib, dropout_rate=dropout_rate):\n",
        "    '''\n",
        "    used when with_ae=True\n",
        "    '''\n",
        "    encoded_input = Input(shape=(encoded_shape[1],encoded_shape[2], \n",
        "                                encoded_shape[3], encoded_shape[4],), \n",
        "                        name='Encoded')\n",
        "    print('\\ninput shape:', encoded_input.shape)\n",
        "\n",
        "    x = encoded_input\n",
        "\n",
        "    if with_ib:\n",
        "        x = inception_module(x, filter_operations)\n",
        "    else:\n",
        "        x = Conv3DTranspose(10, (3, 3, 3), activation='relu', padding='same', \n",
        "                            name='Convolution_3')(x)\n",
        "    x = UpSampling3D((2, 2, 2), name='UpSampling_3')(x)\n",
        "    x = Dropout(dropout_rate, name='DropOut_3')(x)\n",
        "\n",
        "    x = Conv3DTranspose(10, (3, 3, 3), activation='relu', padding='same', \n",
        "                        name='Convolution_2')(x)\n",
        "    x = UpSampling3D((2, 2, 2), name='UpSampling_2')(x)\n",
        "    x = Dropout(dropout_rate, name='DropOut_2')(x)\n",
        "\n",
        "    x = Conv3DTranspose(10, (3, 3, 3), activation='relu', padding='same', \n",
        "                        name='Convolution_1')(x)\n",
        "    x = UpSampling3D((2, 2, 2), name='UpSampling_1')(x)\n",
        "    x = Dropout(dropout_rate, name='DropOut_1')(x)\n",
        "\n",
        "    x = Conv3DTranspose(1, (3, 3, 3), activation='sigmoid', padding='same', \n",
        "                            name='Output')(x)\n",
        "\n",
        "    decoded = x\n",
        "    print('output shape:', K.int_shape(decoded), '\\n')\n",
        "\n",
        "    decoder = Model(encoded_input, decoded, name='decoder')\n",
        "\n",
        "    if with_ib:\n",
        "        decoder.summary(positions=four_cols)\n",
        "    else:\n",
        "        decoder.summary()\n",
        "\n",
        "    return decoder\n",
        "\n"
      ],
      "execution_count": 0,
      "outputs": []
    },
    {
      "cell_type": "markdown",
      "metadata": {
        "id": "kXkI4A-7nVdl",
        "colab_type": "text"
      },
      "source": [
        "#### Build Classifier"
      ]
    },
    {
      "cell_type": "code",
      "metadata": {
        "id": "4HojJmkjnY03",
        "colab_type": "code",
        "colab": {}
      },
      "source": [
        "def build_classifier(encoded, encoded_shape, n_nodes_1st=n_nodes_1st, \n",
        "                     n_nodes_2nd=n_nodes_2nd, output_act=output_act):\n",
        "    '''\n",
        "    '''\n",
        "    encoded_input = Input(shape=(encoded_shape[1], encoded_shape[2], \n",
        "                                encoded_shape[3], encoded_shape[4],), \n",
        "                        name='Encoded')\n",
        "\n",
        "    y = encoded_input\n",
        "\n",
        "    y = Flatten(name='Flatten')(y)\n",
        "    y = Dense(n_nodes_1st, activation='selu', name='SELU_1')(y)\n",
        "    y = Dense(n_nodes_2nd, activation='selu', name='SELU_2')(y)\n",
        "    y = Dense(2, activation=output_act, name='Prediction')(y)\n",
        "\n",
        "    pred = y\n",
        "\n",
        "    classifier = Model(encoded_input, pred, name='classifier')\n",
        "    classifier.summary()\n",
        "\n",
        "    return classifier\n",
        "\n"
      ],
      "execution_count": 0,
      "outputs": []
    },
    {
      "cell_type": "markdown",
      "metadata": {
        "id": "1L3j8PNorW9O",
        "colab_type": "text"
      },
      "source": [
        "#### Build Autoencoder"
      ]
    },
    {
      "cell_type": "code",
      "metadata": {
        "id": "vCFOKbp1rZTr",
        "colab_type": "code",
        "colab": {}
      },
      "source": [
        "def build_autoencoder(encoder, decoder, classifier, input_dim=input_dim):\n",
        "    '''\n",
        "    '''\n",
        "    input_img = Input(shape=input_dim, name='Input')\n",
        "    autoencoder = Model(inputs=input_img, \n",
        "                            outputs=[decoder(encoder(input_img)), \n",
        "                                    classifier(encoder(input_img))],\n",
        "                    name='autoencoder')\n",
        "\n",
        "    if with_ib:\n",
        "        autoencoder.summary(positions=four_cols)\n",
        "    else:\n",
        "        autoencoder.summary()\n",
        "\n",
        "    return autoencoder\n",
        "\n"
      ],
      "execution_count": 0,
      "outputs": []
    },
    {
      "cell_type": "markdown",
      "metadata": {
        "id": "0M5-EcRBy3nY",
        "colab_type": "text"
      },
      "source": [
        "#### Run Pipeline"
      ]
    },
    {
      "cell_type": "code",
      "metadata": {
        "id": "tJn08jd_y9Ch",
        "colab_type": "code",
        "colab": {
          "base_uri": "https://localhost:8080/",
          "height": 1000
        },
        "outputId": "3f12a44e-8037-4c1a-d908-a63bd6438c0b"
      },
      "source": [
        "#-- Set options above and run pipeline\n",
        "\n",
        "master_sheet = create_master_sheet()\n",
        "\n",
        "train_list, train_label, val_list, val_label, test_list, test_label = \\\n",
        "    split_data(master_sheet)\n",
        "\n",
        "#-- optional check\n",
        "check_split(train_list, train_label, val_list, val_label, test_list, test_label)\n",
        "\n",
        "#-- optional check\n",
        "check_gen(train_label, test_list)\n",
        "\n",
        "encoder, encoded_shape = build_encoder()\n",
        "classifier = build_classifier(encoder, encoded_shape)\n",
        "\n",
        "if with_ae:\n",
        "    decoder = build_decoder(encoder, encoded_shape)\n",
        "    autoencoder = build_autoencoder(encoder, decoder, classifier)\n",
        "\n"
      ],
      "execution_count": 21,
      "outputs": [
        {
          "output_type": "display_data",
          "data": {
            "text/html": [
              "<div>\n",
              "<style scoped>\n",
              "    .dataframe tbody tr th:only-of-type {\n",
              "        vertical-align: middle;\n",
              "    }\n",
              "\n",
              "    .dataframe tbody tr th {\n",
              "        vertical-align: top;\n",
              "    }\n",
              "\n",
              "    .dataframe thead th {\n",
              "        text-align: right;\n",
              "    }\n",
              "</style>\n",
              "<table border=\"1\" class=\"dataframe\">\n",
              "  <thead>\n",
              "    <tr style=\"text-align: right;\">\n",
              "      <th></th>\n",
              "      <th>subject</th>\n",
              "      <th>age</th>\n",
              "      <th>diagnosis</th>\n",
              "      <th>scan_ID</th>\n",
              "    </tr>\n",
              "  </thead>\n",
              "  <tbody>\n",
              "    <tr>\n",
              "      <th>OAS30001</th>\n",
              "      <td>OAS30001</td>\n",
              "      <td>65.0</td>\n",
              "      <td>CN</td>\n",
              "      <td>OAS30001_MR_d0129</td>\n",
              "    </tr>\n",
              "    <tr>\n",
              "      <th>OAS30002</th>\n",
              "      <td>OAS30002</td>\n",
              "      <td>68.0</td>\n",
              "      <td>CN</td>\n",
              "      <td>OAS30002_MR_d0371</td>\n",
              "    </tr>\n",
              "    <tr>\n",
              "      <th>OAS30003</th>\n",
              "      <td>OAS30003</td>\n",
              "      <td>60.0</td>\n",
              "      <td>CN</td>\n",
              "      <td>OAS30003_MR_d0558</td>\n",
              "    </tr>\n",
              "    <tr>\n",
              "      <th>OAS30004</th>\n",
              "      <td>OAS30004</td>\n",
              "      <td>58.0</td>\n",
              "      <td>CN</td>\n",
              "      <td>OAS30004_MR_d1101</td>\n",
              "    </tr>\n",
              "    <tr>\n",
              "      <th>OAS30005</th>\n",
              "      <td>OAS30005</td>\n",
              "      <td>48.0</td>\n",
              "      <td>CN</td>\n",
              "      <td>OAS30005_MR_d0143</td>\n",
              "    </tr>\n",
              "  </tbody>\n",
              "</table>\n",
              "</div>"
            ],
            "text/plain": [
              "           subject   age diagnosis            scan_ID\n",
              "OAS30001  OAS30001  65.0        CN  OAS30001_MR_d0129\n",
              "OAS30002  OAS30002  68.0        CN  OAS30002_MR_d0371\n",
              "OAS30003  OAS30003  60.0        CN  OAS30003_MR_d0558\n",
              "OAS30004  OAS30004  58.0        CN  OAS30004_MR_d1101\n",
              "OAS30005  OAS30005  48.0        CN  OAS30005_MR_d0143"
            ]
          },
          "metadata": {
            "tags": []
          }
        },
        {
          "output_type": "stream",
          "text": [
            "train_ratio AD:  0.367\n",
            "val_ratio AD:  0.367\n",
            "test_ratio AD:  0.371\n",
            "\n",
            "Number of records\n",
            "train: 793 \n",
            "validation: 98 \n",
            "test: 89\n",
            "[[0. 1.]]\n",
            "1.3625429553264605 AD\n",
            "0.7898406374501992 CN\n",
            "\n",
            "input shape: (None, 120, 160, 16, 1)\n",
            "output shape: (None, 15, 20, 2, 10) \n",
            "\n",
            "Model: \"encoder\"\n",
            "_________________________________________________________________\n",
            "Layer (type)                 Output Shape              Param #   \n",
            "=================================================================\n",
            "Input (InputLayer)           [(None, 120, 160, 16, 1)] 0         \n",
            "_________________________________________________________________\n",
            "Convolution_1 (Conv3D)       (None, 120, 160, 16, 10)  280       \n",
            "_________________________________________________________________\n",
            "MaxPooling_1 (MaxPooling3D)  (None, 60, 80, 8, 10)     0         \n",
            "_________________________________________________________________\n",
            "DropOut_1 (Dropout)          (None, 60, 80, 8, 10)     0         \n",
            "_________________________________________________________________\n",
            "Convolution_2 (Conv3D)       (None, 60, 80, 8, 10)     2710      \n",
            "_________________________________________________________________\n",
            "MaxPooling_2 (MaxPooling3D)  (None, 30, 40, 4, 10)     0         \n",
            "_________________________________________________________________\n",
            "DropOut_2 (Dropout)          (None, 30, 40, 4, 10)     0         \n",
            "_________________________________________________________________\n",
            "Convolution_3 (Conv3D)       (None, 30, 40, 4, 10)     2710      \n",
            "_________________________________________________________________\n",
            "MaxPooling_3 (MaxPooling3D)  (None, 15, 20, 2, 10)     0         \n",
            "_________________________________________________________________\n",
            "DropOut_3 (Dropout)          (None, 15, 20, 2, 10)     0         \n",
            "=================================================================\n",
            "Total params: 5,700\n",
            "Trainable params: 5,700\n",
            "Non-trainable params: 0\n",
            "_________________________________________________________________\n",
            "Model: \"classifier\"\n",
            "_________________________________________________________________\n",
            "Layer (type)                 Output Shape              Param #   \n",
            "=================================================================\n",
            "Encoded (InputLayer)         [(None, 15, 20, 2, 10)]   0         \n",
            "_________________________________________________________________\n",
            "Flatten (Flatten)            (None, 6000)              0         \n",
            "_________________________________________________________________\n",
            "SELU_1 (Dense)               (None, 1024)              6145024   \n",
            "_________________________________________________________________\n",
            "SELU_2 (Dense)               (None, 64)                65600     \n",
            "_________________________________________________________________\n",
            "Prediction (Dense)           (None, 2)                 130       \n",
            "=================================================================\n",
            "Total params: 6,210,754\n",
            "Trainable params: 6,210,754\n",
            "Non-trainable params: 0\n",
            "_________________________________________________________________\n",
            "\n",
            "input shape: (None, 15, 20, 2, 10)\n",
            "output shape: (None, 120, 160, 16, 1) \n",
            "\n",
            "Model: \"decoder\"\n",
            "_________________________________________________________________\n",
            "Layer (type)                 Output Shape              Param #   \n",
            "=================================================================\n",
            "Encoded (InputLayer)         [(None, 15, 20, 2, 10)]   0         \n",
            "_________________________________________________________________\n",
            "Convolution_3 (Conv3DTranspo (None, 15, 20, 2, 10)     2710      \n",
            "_________________________________________________________________\n",
            "UpSampling_3 (UpSampling3D)  (None, 30, 40, 4, 10)     0         \n",
            "_________________________________________________________________\n",
            "DropOut_3 (Dropout)          (None, 30, 40, 4, 10)     0         \n",
            "_________________________________________________________________\n",
            "Convolution_2 (Conv3DTranspo (None, 30, 40, 4, 10)     2710      \n",
            "_________________________________________________________________\n",
            "UpSampling_2 (UpSampling3D)  (None, 60, 80, 8, 10)     0         \n",
            "_________________________________________________________________\n",
            "DropOut_2 (Dropout)          (None, 60, 80, 8, 10)     0         \n",
            "_________________________________________________________________\n",
            "Convolution_1 (Conv3DTranspo (None, 60, 80, 8, 10)     2710      \n",
            "_________________________________________________________________\n",
            "UpSampling_1 (UpSampling3D)  (None, 120, 160, 16, 10)  0         \n",
            "_________________________________________________________________\n",
            "DropOut_1 (Dropout)          (None, 120, 160, 16, 10)  0         \n",
            "_________________________________________________________________\n",
            "Output (Conv3DTranspose)     (None, 120, 160, 16, 1)   271       \n",
            "=================================================================\n",
            "Total params: 8,401\n",
            "Trainable params: 8,401\n",
            "Non-trainable params: 0\n",
            "_________________________________________________________________\n",
            "Model: \"autoencoder\"\n",
            "__________________________________________________________________________________________________\n",
            "Layer (type)                    Output Shape         Param #     Connected to                     \n",
            "==================================================================================================\n",
            "Input (InputLayer)              [(None, 120, 160, 16 0                                            \n",
            "__________________________________________________________________________________________________\n",
            "encoder (Model)                 (None, 15, 20, 2, 10 5700        Input[0][0]                      \n",
            "                                                                 Input[0][0]                      \n",
            "__________________________________________________________________________________________________\n",
            "decoder (Model)                 (None, 120, 160, 16, 8401        encoder[1][0]                    \n",
            "__________________________________________________________________________________________________\n",
            "classifier (Model)              (None, 2)            6210754     encoder[2][0]                    \n",
            "==================================================================================================\n",
            "Total params: 6,224,855\n",
            "Trainable params: 6,224,855\n",
            "Non-trainable params: 0\n",
            "__________________________________________________________________________________________________\n"
          ],
          "name": "stdout"
        }
      ]
    },
    {
      "cell_type": "markdown",
      "metadata": {
        "id": "ol-4Dt7WzQ-4",
        "colab_type": "text"
      },
      "source": [
        "#### Build Classifier Branch"
      ]
    },
    {
      "cell_type": "code",
      "metadata": {
        "id": "WzIAsNitzQ-7",
        "colab_type": "code",
        "colab": {}
      },
      "source": [
        "losses = {'decoder':'binary_crossentropy', \n",
        "          'classifier':'categorical_crossentropy'}\n",
        "metrics= {'decoder':'mae', 'classifier':[ \\\n",
        "                                            'acc',\n",
        "                                            tf.keras.metrics.Precision(), \n",
        "                                            tf.keras.metrics.Recall(),\n",
        "                                            tf.keras.metrics.FalseNegatives(), \n",
        "                                            tf.keras.metrics.FalsePositives()]}\n",
        "loss_weights={'decoder':0.5,'classifier':0.5}\n",
        "\n",
        "initial_learning_rate = 0.1\n",
        "lr_schedule = tf.keras.optimizers.schedules.ExponentialDecay(\\\n",
        "    initial_learning_rate,\n",
        "    decay_steps=100000,\n",
        "    decay_rate=0.90,\n",
        "    staircase=True)\n",
        "\n",
        "autoencoder.compile(optimizer='adam', \n",
        "                         loss=losses,\n",
        "                         loss_weights = loss_weights,\n",
        "                         metrics=metrics)\n",
        "\n",
        "my_callbacks = [\n",
        "    tf.keras.callbacks.EarlyStopping(patience=10),\n",
        "    tf.keras.callbacks.ModelCheckpoint(filepath=\\\n",
        "        '/content/drive/My Drive/AD_MRI/outputs_AC/\\\n",
        "        pipeline_0523.{epoch:02d}-{val_loss:.2f}.h5'),\n",
        "    tf.keras.callbacks.TensorBoard(log_dir='./logs_AC'),\n",
        "]"
      ],
      "execution_count": 0,
      "outputs": []
    },
    {
      "cell_type": "code",
      "metadata": {
        "id": "AzHGmaPojkQQ",
        "colab_type": "code",
        "colab": {}
      },
      "source": [
        "balancing_weights = class_weight.compute_sample_weight('balanced', \n",
        "                                                       train_label)\n",
        "balancing_weights_test = class_weight.compute_sample_weight('balanced', \n",
        "                                                            test_label)"
      ],
      "execution_count": 0,
      "outputs": []
    },
    {
      "cell_type": "code",
      "metadata": {
        "id": "aonFiMErCkN3",
        "colab_type": "code",
        "colab": {}
      },
      "source": [
        "train_generator = MyDataGenerator(train_list, processed_dir, to_fit=True, \n",
        "                                  augment=True, batch_size=32, \n",
        "                                  sample_weight=balancing_weights)\n",
        "test_generator = MyDataGenerator(test_list, processed_dir, batch_size=32, \n",
        "                                 sample_weight=balancing_weights_test)"
      ],
      "execution_count": 0,
      "outputs": []
    },
    {
      "cell_type": "markdown",
      "metadata": {
        "id": "L88JL5DGvZRZ",
        "colab_type": "text"
      },
      "source": [
        "#### Run Model"
      ]
    },
    {
      "cell_type": "code",
      "metadata": {
        "id": "xq404p3hmDdZ",
        "colab_type": "code",
        "outputId": "ccc9098c-6b6d-4482-9fd4-a53075489392",
        "colab": {
          "base_uri": "https://localhost:8080/",
          "height": 156
        }
      },
      "source": [
        "history_pipeline = autoencoder.fit_generator(generator=train_generator, \n",
        "                                              epochs=n_epochs, \n",
        "                                              validation_data=test_generator, \n",
        "                                              shuffle=True, \n",
        "                                              callbacks = my_callbacks)"
      ],
      "execution_count": 25,
      "outputs": [
        {
          "output_type": "stream",
          "text": [
            "WARNING:tensorflow:From <ipython-input-25-6cc740f982c7>:5: Model.fit_generator (from tensorflow.python.keras.engine.training) is deprecated and will be removed in a future version.\n",
            "Instructions for updating:\n",
            "Please use Model.fit, which supports generators.\n",
            "Epoch 1/2\n",
            "24/24 [==============================] - 601s 25s/step - loss: 2.0474 - decoder_loss: 0.9890 - classifier_loss: 3.1058 - decoder_mae: 0.2583 - classifier_acc: 0.5221 - classifier_precision: 0.5221 - classifier_recall: 0.5221 - classifier_false_negatives: 367.0000 - classifier_false_positives: 367.0000 - val_loss: 0.6992 - val_decoder_loss: 0.6737 - val_classifier_loss: 0.7248 - val_decoder_mae: 0.2817 - val_classifier_acc: 0.4219 - val_classifier_precision: 0.4219 - val_classifier_recall: 0.4219 - val_classifier_false_negatives: 37.0000 - val_classifier_false_positives: 37.0000\n",
            "Epoch 2/2\n",
            "24/24 [==============================] - 382s 16s/step - loss: 0.7136 - decoder_loss: 0.6608 - classifier_loss: 0.7665 - decoder_mae: 0.1905 - classifier_acc: 0.5000 - classifier_precision: 0.5000 - classifier_recall: 0.5000 - classifier_false_negatives: 384.0000 - classifier_false_positives: 384.0000 - val_loss: 0.6630 - val_decoder_loss: 0.6373 - val_classifier_loss: 0.6886 - val_decoder_mae: 0.2534 - val_classifier_acc: 0.6250 - val_classifier_precision: 0.6250 - val_classifier_recall: 0.6250 - val_classifier_false_negatives: 24.0000 - val_classifier_false_positives: 24.0000\n"
          ],
          "name": "stdout"
        }
      ]
    },
    {
      "cell_type": "markdown",
      "metadata": {
        "id": "C2CT254LtLKr",
        "colab_type": "text"
      },
      "source": [
        "#### Analyze Results"
      ]
    },
    {
      "cell_type": "code",
      "metadata": {
        "id": "TOEJJGH9jVxB",
        "colab_type": "code",
        "outputId": "f6c4e15e-2af9-407e-a3ed-350236913e45",
        "colab": {
          "base_uri": "https://localhost:8080/",
          "height": 295
        }
      },
      "source": [
        "if with_ae:\n",
        "    autoencoder.save('autoencoder_pipeline.h5')\n",
        "else:\n",
        "    classifier.save('classifier_pipeline.h5')\n",
        "with open('/content/drive/My Drive/AD_MRI/trainHistoryDict', 'wb') as file_pi:\n",
        "        pickle.dump(history_pipeline.history, file_pi)\n",
        "plt.plot(history_pipeline.history['loss'])\n",
        "plt.plot(history_pipeline.history['val_loss'])\n",
        "plt.title('model loss')\n",
        "plt.ylabel('loss')\n",
        "plt.xlabel('epoch')\n",
        "plt.legend(['train', 'val'], loc='upper left')\n",
        "plt.show()"
      ],
      "execution_count": 29,
      "outputs": [
        {
          "output_type": "display_data",
          "data": {
            "image/png": "[encoded data removed]",
            "text/plain": [
              "<Figure size 432x288 with 1 Axes>"
            ]
          },
          "metadata": {
            "tags": [],
            "needs_background": "light"
          }
        }
      ]
    },
    {
      "cell_type": "code",
      "metadata": {
        "id": "mtYMkfSzJR6h",
        "colab_type": "code",
        "outputId": "0c15697d-4216-45af-b356-951ba124ff5d",
        "colab": {
          "base_uri": "https://localhost:8080/",
          "height": 54
        }
      },
      "source": [
        "history_pipeline.history.keys()"
      ],
      "execution_count": 30,
      "outputs": [
        {
          "output_type": "execute_result",
          "data": {
            "text/plain": [
              "dict_keys(['loss', 'decoder_loss', 'classifier_loss', 'decoder_mae', 'classifier_acc', 'classifier_precision', 'classifier_recall', 'classifier_false_negatives', 'classifier_false_positives', 'val_loss', 'val_decoder_loss', 'val_classifier_loss', 'val_decoder_mae', 'val_classifier_acc', 'val_classifier_precision', 'val_classifier_recall', 'val_classifier_false_negatives', 'val_classifier_false_positives'])"
            ]
          },
          "metadata": {
            "tags": []
          },
          "execution_count": 30
        }
      ]
    },
    {
      "cell_type": "code",
      "metadata": {
        "id": "9dTaweFaJcUQ",
        "colab_type": "code",
        "outputId": "e99989db-b61c-41ee-8fe8-31c59717000f",
        "colab": {
          "base_uri": "https://localhost:8080/",
          "height": 295
        }
      },
      "source": [
        "plt.plot(history_pipeline.history['classifier_acc'])\n",
        "plt.plot(history_pipeline.history['classifier_acc'])\n",
        "plt.title('model accuracy')\n",
        "plt.ylabel('accuracy')\n",
        "plt.xlabel('epoch')\n",
        "plt.legend(['train', 'val'], loc='upper left')\n",
        "plt.show()"
      ],
      "execution_count": 31,
      "outputs": [
        {
          "output_type": "display_data",
          "data": {
            "image/png": "[encoded data removed]",
            "text/plain": [
              "<Figure size 432x288 with 1 Axes>"
            ]
          },
          "metadata": {
            "tags": [],
            "needs_background": "light"
          }
        }
      ]
    },
    {
      "cell_type": "code",
      "metadata": {
        "id": "Dvwu2uDHJ8Ll",
        "colab_type": "code",
        "outputId": "54c62a1b-9bdd-43fe-869d-10bd25ad3bdd",
        "colab": {
          "base_uri": "https://localhost:8080/",
          "height": 295
        }
      },
      "source": [
        "plt.plot(history_pipeline.history['classifier_precision'])\n",
        "plt.plot(history_pipeline.history['val_classifier_precision'])\n",
        "plt.title('model precision')\n",
        "plt.ylabel('precision')\n",
        "plt.xlabel('epoch')\n",
        "plt.legend(['train', 'val'], loc='upper left')\n",
        "plt.show()"
      ],
      "execution_count": 39,
      "outputs": [
        {
          "output_type": "display_data",
          "data": {
            "image/png": "[encoded data removed]",
            "text/plain": [
              "<Figure size 432x288 with 1 Axes>"
            ]
          },
          "metadata": {
            "tags": [],
            "needs_background": "light"
          }
        }
      ]
    },
    {
      "cell_type": "code",
      "metadata": {
        "id": "J_huDqdGOcVq",
        "colab_type": "code",
        "outputId": "04a35a2e-851d-4230-a8ce-94b2b6d406ad",
        "colab": {
          "base_uri": "https://localhost:8080/",
          "height": 88
        }
      },
      "source": [
        "balancing_weights_val = class_weight.compute_sample_weight('balanced', \n",
        "                                                           val_label)\n",
        "val_generator = MyDataGenerator(val_list, processed_dir, to_fit=False, \n",
        "                                batch_size=2, \n",
        "                                sample_weight=balancing_weights_val)\n",
        "if with_ae:\n",
        "    pred = autoencoder.predict_generator(val_generator)\n",
        "else:\n",
        "    pred = classifier.predict_generator(val_generator)"
      ],
      "execution_count": 33,
      "outputs": [
        {
          "output_type": "stream",
          "text": [
            "WARNING:tensorflow:From <ipython-input-33-b034a08bce93>:7: Model.predict_generator (from tensorflow.python.keras.engine.training) is deprecated and will be removed in a future version.\n",
            "Instructions for updating:\n",
            "Please use Model.predict, which supports generators.\n"
          ],
          "name": "stdout"
        }
      ]
    },
    {
      "cell_type": "code",
      "metadata": {
        "id": "V4TetCYxO0ie",
        "colab_type": "code",
        "outputId": "2e6d398a-c879-41c3-ece8-1f4138da1bcc",
        "colab": {
          "base_uri": "https://localhost:8080/",
          "height": 204
        }
      },
      "source": [
        "from sklearn.metrics import classification_report, accuracy_score\n",
        "\n",
        "print(\"acc: \", accuracy_score(labels_to_categorical(val_label), \n",
        "                              np.round(pred[1])))\n",
        "print(classification_report(labels_to_categorical(val_label), \n",
        "                            np.round(pred[1])))"
      ],
      "execution_count": 34,
      "outputs": [
        {
          "output_type": "stream",
          "text": [
            "acc:  0.6326530612244898\n",
            "              precision    recall  f1-score   support\n",
            "\n",
            "           0       0.50      0.06      0.10        36\n",
            "           1       0.64      0.97      0.77        62\n",
            "\n",
            "   micro avg       0.63      0.63      0.63        98\n",
            "   macro avg       0.57      0.51      0.43        98\n",
            "weighted avg       0.59      0.63      0.52        98\n",
            " samples avg       0.63      0.63      0.63        98\n",
            "\n"
          ],
          "name": "stdout"
        }
      ]
    },
    {
      "cell_type": "code",
      "metadata": {
        "id": "i_X8TgGTPJt4",
        "colab_type": "code",
        "colab": {}
      },
      "source": [
        "with open('/content/drive/My Drive/AD_MRI/outputs_AC/trainHistoryDict', 'rb') as file_pi:\n",
        "    test = pickle.load(file_pi)"
      ],
      "execution_count": 0,
      "outputs": []
    },
    {
      "cell_type": "code",
      "metadata": {
        "id": "uCIHa87SVGOr",
        "colab_type": "code",
        "outputId": "4379071c-1b31-4781-f28f-15e2c34f032f",
        "colab": {
          "base_uri": "https://localhost:8080/",
          "height": 187
        }
      },
      "source": [
        "test['loss'][-10:]"
      ],
      "execution_count": 37,
      "outputs": [
        {
          "output_type": "execute_result",
          "data": {
            "text/plain": [
              "[0.6932370662689209,\n",
              " 0.6932371258735657,\n",
              " 0.6937539577484131,\n",
              " 0.69427090883255,\n",
              " 0.6953046321868896,\n",
              " 0.69427090883255,\n",
              " 0.6963384747505188,\n",
              " 0.6937539577484131,\n",
              " 0.6932372450828552,\n",
              " 0.6932370662689209]"
            ]
          },
          "metadata": {
            "tags": []
          },
          "execution_count": 37
        }
      ]
    },
    {
      "cell_type": "code",
      "metadata": {
        "id": "URv9KGWOVGzk",
        "colab_type": "code",
        "outputId": "5877e2a5-901d-401c-cf2c-40ee79f532bb",
        "colab": {
          "base_uri": "https://localhost:8080/",
          "height": 519
        }
      },
      "source": [
        "if with_ae:\n",
        "    plt.imshow(pred[0][2][:,:,15,0])\n",
        "    plt.show()\n",
        "    plt.imshow(pred[0][2][:,:,0,0])"
      ],
      "execution_count": 38,
      "outputs": [
        {
          "output_type": "display_data",
          "data": {
            "image/png": "[encoded data removed]",
            "text/plain": [
              "<Figure size 432x288 with 1 Axes>"
            ]
          },
          "metadata": {
            "tags": [],
            "needs_background": "light"
          }
        },
        {
          "output_type": "display_data",
          "data": {
            "image/png": "[encoded data removed]",
            "text/plain": [
              "<Figure size 432x288 with 1 Axes>"
            ]
          },
          "metadata": {
            "tags": [],
            "needs_background": "light"
          }
        }
      ]
    },
    {
      "cell_type": "code",
      "metadata": {
        "id": "-r-49t7GVU7U",
        "colab_type": "code",
        "colab": {}
      },
      "source": [
        ""
      ],
      "execution_count": 0,
      "outputs": []
    }
  ]
}