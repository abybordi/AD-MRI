{
  "nbformat": 4,
  "nbformat_minor": 0,
  "metadata": {
    "kernelspec": {
      "display_name": "Python 3",
      "language": "python",
      "name": "python3"
    },
    "language_info": {
      "codemirror_mode": {
        "name": "ipython",
        "version": 3
      },
      "file_extension": ".py",
      "mimetype": "text/x-python",
      "name": "python",
      "nbconvert_exporter": "python",
      "pygments_lexer": "ipython3",
      "version": "3.7.6"
    },
    "colab": {
      "name": "AD-MRI_Classifier Pipeline.ipynb",
      "provenance": [],
      "collapsed_sections": [
        "vTngGXkhvhH3",
        "nPFgeYTuzQ9k"
      ],
      "machine_shape": "hm"
    },
    "accelerator": "GPU"
  },
  "cells": [
    {
      "cell_type": "markdown",
      "metadata": {
        "id": "vTngGXkhvhH3",
        "colab_type": "text"
      },
      "source": [
        "#### Import Libraries and Mount Data"
      ]
    },
    {
      "cell_type": "code",
      "metadata": {
        "id": "Xt2onyB1zQ9Z",
        "colab_type": "code",
        "colab": {}
      },
      "source": [
        "%matplotlib inline \n",
        "from matplotlib import pyplot as plt\n",
        "import numpy as np\n",
        "import pandas as pd\n",
        "import pickle\n",
        "import warnings\n",
        "import tensorflow as tf\n",
        "import random\n",
        "import scipy\n",
        "import cv2\n",
        "from tensorflow.keras.utils import Sequence\n",
        "from tensorflow.keras.utils import to_categorical\n",
        "from sklearn.model_selection import train_test_split\n",
        "from sklearn.preprocessing import LabelEncoder\n",
        "from sklearn.utils import class_weight\n",
        "from tensorflow import keras\n",
        "from tensorflow.keras import backend as K\n",
        "from tensorflow.keras.callbacks import TensorBoard\n",
        "from tensorflow.keras.models import Sequential, Model\n",
        "from tensorflow.keras.layers import Dense, Conv3D, MaxPool3D, Dropout, \\\n",
        "        Flatten, Conv3DTranspose, UpSampling3D, Reshape, Input, concatenate\n",
        "from tensorflow.keras.regularizers import l1_l2\n",
        "from google.colab import drive\n"
      ],
      "execution_count": 0,
      "outputs": []
    },
    {
      "cell_type": "code",
      "metadata": {
        "id": "I8ug2tfPzWqa",
        "colab_type": "code",
        "outputId": "b9de20de-dd6f-41bd-d2fb-c8df970953d5",
        "colab": {
          "base_uri": "https://localhost:8080/",
          "height": 122
        }
      },
      "source": [
        "drive.mount('/content/drive')"
      ],
      "execution_count": 0,
      "outputs": [
        {
          "output_type": "stream",
          "text": [
            "Go to this URL in a browser: https://accounts.google.com/o/oauth2/auth?client_id=947318989803-6bn6qk8qdgf4n4g3pfee6491hc0brc4i.apps.googleusercontent.com&redirect_uri=urn%3aietf%3awg%3aoauth%3a2.0%3aoob&response_type=code&scope=email%20https%3a%2f%2fwww.googleapis.com%2fauth%2fdocs.test%20https%3a%2f%2fwww.googleapis.com%2fauth%2fdrive%20https%3a%2f%2fwww.googleapis.com%2fauth%2fdrive.photos.readonly%20https%3a%2f%2fwww.googleapis.com%2fauth%2fpeopleapi.readonly\n",
            "\n",
            "Enter your authorization code:\n",
            "··········\n",
            "Mounted at /content/drive\n"
          ],
          "name": "stdout"
        }
      ]
    },
    {
      "cell_type": "code",
      "metadata": {
        "id": "vXKe3JlXzQ9d",
        "colab_type": "code",
        "colab": {}
      },
      "source": [
        "warnings.filterwarnings('ignore')"
      ],
      "execution_count": 0,
      "outputs": []
    },
    {
      "cell_type": "code",
      "metadata": {
        "id": "IT-I0pU4zQ9g",
        "colab_type": "code",
        "outputId": "8b58088e-c859-41a8-cf94-d701a71bf5e9",
        "colab": {
          "base_uri": "https://localhost:8080/",
          "height": 34
        }
      },
      "source": [
        "print('Tensorflow version:', tf.__version__)"
      ],
      "execution_count": 0,
      "outputs": [
        {
          "output_type": "stream",
          "text": [
            "Tensorflow version: 2.2.0\n"
          ],
          "name": "stdout"
        }
      ]
    },
    {
      "cell_type": "markdown",
      "metadata": {
        "id": "KA4HQ31xqss0",
        "colab_type": "text"
      },
      "source": [
        "#### Set Options"
      ]
    },
    {
      "cell_type": "code",
      "metadata": {
        "id": "GBOAiHg0qrLZ",
        "colab_type": "code",
        "colab": {}
      },
      "source": [
        "#-- Dropout values tested: 0.0, 0.5, 0.8\n",
        "dropout = 0.8\n",
        "\n",
        "#-- With or without inception block \n",
        "with_ib = False\n",
        "\n",
        "#-- Filters for inception block in the specified branch order: \n",
        "#       [branch_1x1x1, branch_3x3x3, branch_double_3x3x3, branch_maxpool_3x3x3]\n",
        "filter_operations = [10, 10, 10, 10]\n",
        "\n",
        "# According to Nature paper (Oh et. al.), l1 and l2 values of 10e-4 \n",
        "#   performed the best from experimentation with 0.01, 0.001, 0.0001, 0.00001 \n",
        "#   values.\n",
        "#-- L1 regularization option in inception block\n",
        "l1_value = 10e-4\n",
        "\n",
        "#-- L2 regularization option in inception block\n",
        "l2_value = 10e-4\n",
        "\n",
        "\n",
        "#-- With or without an autoencoder\n",
        "with_ae = True \n",
        "\n",
        "#-- File path to pickled master sheet\n",
        "MASTER_FILE = '/content/drive/My Drive/AD_MRI/AD_MRI_Master'\n",
        "\n",
        "#-- Directory path to preprocessed images\n",
        "PROCESSED_DIR = '/content/drive/My Drive/AD_MRI/PROCESSED/'\n",
        "\n",
        "#-- Initial split (percent validation from original train)\n",
        "test_size_1st = 0.10\n",
        "\n",
        "#-- Second split of (percent test from initial train split)\n",
        "test_size_2nd = 0.10\n",
        "\n",
        "#-- Number of Epochs\n",
        "n_epochs = 50"
      ],
      "execution_count": 0,
      "outputs": []
    },
    {
      "cell_type": "markdown",
      "metadata": {
        "id": "0M5-EcRBy3nY",
        "colab_type": "text"
      },
      "source": [
        "#### Run Pipeline"
      ]
    },
    {
      "cell_type": "code",
      "metadata": {
        "id": "tJn08jd_y9Ch",
        "colab_type": "code",
        "colab": {}
      },
      "source": [
        "#-- Set options above and run pipeline\n",
        "\n",
        "master_sheet = create_master_sheet()\n",
        "\n",
        "train_list, train_label, val_list, val_label, test_list, test_label = \n",
        "    split_data(master_sheet)\n",
        "\n",
        "check_split(train_list, train_label, val_list, val_label, test_list, test_label)\n"
      ],
      "execution_count": 0,
      "outputs": []
    },
    {
      "cell_type": "markdown",
      "metadata": {
        "id": "nPFgeYTuzQ9k",
        "colab_type": "text"
      },
      "source": [
        "#### Create Train/Test Subset"
      ]
    },
    {
      "cell_type": "code",
      "metadata": {
        "id": "qYrPlrRqzQ9k",
        "colab_type": "code",
        "outputId": "402455bc-8f43-4767-e060-50d86e727051",
        "colab": {
          "base_uri": "https://localhost:8080/",
          "height": 374
        }
      },
      "source": [
        "#%cd /content/drive/My Drive/AD_MRI\n",
        "\n",
        "def create_master_sheet(filepath=MASTER_FILE):\n",
        "    # Load list of records\n",
        "    with open(path, 'rb') as f:\n",
        "        master_list = pickle.load(f)\n",
        "        \n",
        "    master_sheet = pd.DataFrame.from_dict(master_list, orient='index')\n",
        "    display(master_sheet.head())\n",
        "\n",
        "    return master_sheet\n",
        "\n",
        "\n",
        "def split_data(master_sheet):\n",
        "    # Split into train, validation, test\n",
        "    train_list, val_list, train_label, val_label = \\\n",
        "            train_test_split(master_sheet.subject.values, \n",
        "                            master_sheet.diagnosis.values, \n",
        "                            random_state = 1337, \n",
        "                            test_size=test_size_1st)\n",
        "            \n",
        "    train_list, test_list, train_label, test_label = \\\n",
        "            train_test_split(train_list, \n",
        "                            train_label, \n",
        "                            random_state = 0, \n",
        "                            test_size=test_size_2nd)\n",
        "            \n",
        "    return train_list, train_label, val_list, val_label, test_list, test_label\n",
        "\n",
        "def check_split(train_list, train_label, val_list, val_label, test_list, test_label):\n",
        "\n",
        "    # Check for ratios of AD to NC to be consistent among sets\n",
        "    AD_count = 0\n",
        "    for lab in train_label:\n",
        "        if lab == 'AD':\n",
        "            AD_count +=1\n",
        "    print('train_ratio AD: ', round(AD_count/len(train_label), 3))\n",
        "\n",
        "    AD_count = 0\n",
        "    for lab in val_label:\n",
        "        if lab == 'AD':\n",
        "            AD_count +=1\n",
        "    print('val_ratio AD: ', round(AD_count/len(val_label), 3))\n",
        "\n",
        "    AD_count = 0\n",
        "    for lab in test_label:\n",
        "        if lab == 'AD':\n",
        "            AD_count +=1\n",
        "    print('test_ratio AD: ', round(AD_count/len(test_label), 3))\n",
        "\n",
        "    print('\\nNumber of records\\ntrain:', len(train_list), \n",
        "        '\\nvalidation:', len(val_list), '\\ntest:', len(test_list))\n",
        "\n"
      ],
      "execution_count": 0,
      "outputs": [
        {
          "output_type": "stream",
          "text": [
            "/content/drive/.shortcut-targets-by-id/1oU0ruELKPJf457X2y4uyGIpFkyyxaQyv/AD_MRI\n"
          ],
          "name": "stdout"
        },
        {
          "output_type": "display_data",
          "data": {
            "text/html": [
              "<div>\n",
              "<style scoped>\n",
              "    .dataframe tbody tr th:only-of-type {\n",
              "        vertical-align: middle;\n",
              "    }\n",
              "\n",
              "    .dataframe tbody tr th {\n",
              "        vertical-align: top;\n",
              "    }\n",
              "\n",
              "    .dataframe thead th {\n",
              "        text-align: right;\n",
              "    }\n",
              "</style>\n",
              "<table border=\"1\" class=\"dataframe\">\n",
              "  <thead>\n",
              "    <tr style=\"text-align: right;\">\n",
              "      <th></th>\n",
              "      <th>subject</th>\n",
              "      <th>age</th>\n",
              "      <th>diagnosis</th>\n",
              "      <th>scan_ID</th>\n",
              "    </tr>\n",
              "  </thead>\n",
              "  <tbody>\n",
              "    <tr>\n",
              "      <th>OAS30001</th>\n",
              "      <td>OAS30001</td>\n",
              "      <td>65.0</td>\n",
              "      <td>CN</td>\n",
              "      <td>OAS30001_MR_d0129</td>\n",
              "    </tr>\n",
              "    <tr>\n",
              "      <th>OAS30002</th>\n",
              "      <td>OAS30002</td>\n",
              "      <td>68.0</td>\n",
              "      <td>CN</td>\n",
              "      <td>OAS30002_MR_d0371</td>\n",
              "    </tr>\n",
              "    <tr>\n",
              "      <th>OAS30003</th>\n",
              "      <td>OAS30003</td>\n",
              "      <td>60.0</td>\n",
              "      <td>CN</td>\n",
              "      <td>OAS30003_MR_d0558</td>\n",
              "    </tr>\n",
              "    <tr>\n",
              "      <th>OAS30004</th>\n",
              "      <td>OAS30004</td>\n",
              "      <td>58.0</td>\n",
              "      <td>CN</td>\n",
              "      <td>OAS30004_MR_d1101</td>\n",
              "    </tr>\n",
              "    <tr>\n",
              "      <th>OAS30005</th>\n",
              "      <td>OAS30005</td>\n",
              "      <td>48.0</td>\n",
              "      <td>CN</td>\n",
              "      <td>OAS30005_MR_d0143</td>\n",
              "    </tr>\n",
              "  </tbody>\n",
              "</table>\n",
              "</div>"
            ],
            "text/plain": [
              "           subject   age diagnosis            scan_ID\n",
              "OAS30001  OAS30001  65.0        CN  OAS30001_MR_d0129\n",
              "OAS30002  OAS30002  68.0        CN  OAS30002_MR_d0371\n",
              "OAS30003  OAS30003  60.0        CN  OAS30003_MR_d0558\n",
              "OAS30004  OAS30004  58.0        CN  OAS30004_MR_d1101\n",
              "OAS30005  OAS30005  48.0        CN  OAS30005_MR_d0143"
            ]
          },
          "metadata": {
            "tags": []
          }
        },
        {
          "output_type": "stream",
          "text": [
            "\n",
            "train_ratio AD:  0.367\n",
            "val_ratio AD:  0.367\n",
            "test_ratio AD:  0.371\n",
            "\n",
            "Number of records\n",
            "train: 793 \n",
            "validation: 98 \n",
            "test: 89\n"
          ],
          "name": "stdout"
        }
      ]
    },
    {
      "cell_type": "markdown",
      "metadata": {
        "id": "BWz1F457zQ9r",
        "colab_type": "text"
      },
      "source": [
        "#### Create Generator"
      ]
    },
    {
      "cell_type": "code",
      "metadata": {
        "id": "Q3IK5qfYzQ9r",
        "colab_type": "code",
        "colab": {}
      },
      "source": [
        "def labels_to_categorical(labels):\n",
        "    le = LabelEncoder()\n",
        "    le.fit([\"CN\", \"AD\"])\n",
        "    num_lab=to_categorical(le.transform(labels),num_classes=2)\n",
        "    return num_lab\n",
        "\n",
        "\n",
        "def my_minmax(z):\n",
        "    return (z-np.min(z))/(np.max(z)-np.min(z))\n",
        "\n",
        "\n",
        "class MyDataGenerator(Sequence):\n",
        "    \"\"\"Generates data for Keras Sequence based data generator. \n",
        "    Suitable for building data generator for training and prediction.\n",
        "    \"\"\"\n",
        "    def __init__(self, list_IDs, processed_dir=PROCESSED_DIR, augment=False, \n",
        "                 to_fit=True, batch_size=32, dim=(120, 160, 120, 1),\n",
        "                 n_classes=2, shuffle=True, with_ib=False, with_ae=True, \n",
        "                 ventricles_only=True, slice_start=50, slice_end=66, \n",
        "                 sample_weight=None):\n",
        "        \"\"\"Initialization\n",
        "        :param list_IDs: list of all 'label' PATHS\n",
        "        :param processed_dir: path to directory of processed images\n",
        "        :param augment: True to augment data with random image rotations\n",
        "        :param to_fit: True to return X, y and w, False to return X only\n",
        "        :param batch_size: batch size at each iteration\n",
        "        :param dim: tuple indicating image dimension\n",
        "        :param n_classes: number of output masks\n",
        "        :param shuffle: True to shuffle label indexes after every epoch\n",
        "        :param with_ib: True to include inception block(s)\n",
        "        :param with_ae: True to also run decoder and autoencoder, \n",
        "                        False to run encoder/classifier only\n",
        "        :param ventricles_only: True to reduce dimensions to relevant slice\n",
        "        :param slice_start: starting index for ventricles_only=True\n",
        "        :param slice_end: ending index for ventricles_only=True\n",
        "        :param sample_weight: weights to address class imbalance if to_fit=True\n",
        "        \"\"\"\n",
        "        self.list_IDs = list_IDs\n",
        "        self.processed_dir = processed_dir\n",
        "        self.augment = augment\n",
        "        self.to_fit = to_fit\n",
        "        self.batch_size = batch_size\n",
        "        self.dim = dim\n",
        "        self.n_classes = n_classes\n",
        "        self.shuffle = shuffle\n",
        "        self.with_ib = with_ib\n",
        "        self.with_ae = with_ae\n",
        "        self.ventricles_only = ventricles_only\n",
        "        self.on_epoch_end()\n",
        "        self.slice_start = slice_start\n",
        "        self.slice_end = slice_end\n",
        "        if self.ventricles_only == False:\n",
        "            self.slice_size = 120\n",
        "        else:\n",
        "            self.slice_size = slice_end - slice_start\n",
        "        self.sample_weight = sample_weight\n",
        "\n",
        "\n",
        "    def __len__(self):\n",
        "        \"\"\"Denotes the number of batches per epoch\n",
        "        :return: number of batches per epoch\n",
        "        \"\"\"\n",
        "        return int(np.floor(len(self.list_IDs) / self.batch_size))\n",
        "\n",
        "\n",
        "    def __getitem__(self, index):\n",
        "        \"\"\"Generate one batch of data\n",
        "        :param index: index of the batch\n",
        "        :return: X and y when fitting. X only when predicting\n",
        "        \"\"\"\n",
        "        # Generate indexes of the batch\n",
        "        indexes = self.indexes[index \n",
        "                               * self.batch_size:(index + 1) \n",
        "                               * self.batch_size]\n",
        "\n",
        "        # Find list of IDs\n",
        "        list_IDs_temp = [self.list_IDs[k] for k in indexes]\n",
        "        \n",
        "        # Generate data\n",
        "        X, y = self._load_data(list_IDs_temp)\n",
        "        X = my_minmax(np.float32(X))\n",
        "        if self.ventricles_only == True:\n",
        "          X = X[:, :, :, self.slice_start:self.slice_end, :]\n",
        "        w_temp = np.asarray([self.sample_weight[k] for k in indexes])\n",
        "        if self.to_fit:\n",
        "            if self.with_ae:\n",
        "                y = {'ICAE_classifier': y, 'ICAE_decoder': X}\n",
        "                w = {'ICAE_classifier': w_temp,\n",
        "                    'ICAE_decoder':np.ones(np.shape(X))}\n",
        "            else:\n",
        "                w = w_temp\n",
        "            return X, y, w\n",
        "\n",
        "        else:\n",
        "            return X\n",
        "\n",
        "\n",
        "    def on_epoch_end(self):\n",
        "        \"\"\"Updates indexes after each epoch\n",
        "        \"\"\"\n",
        "        self.indexes = np.arange(len(self.list_IDs))\n",
        "        if self.shuffle == True:\n",
        "            np.random.shuffle(self.indexes)\n",
        "\n",
        "\n",
        "    def _load_data(self, list_IDs_temp):\n",
        "        \"\"\"Generates data containing batch_size images\n",
        "        :param list_IDs_temp: list of label ids to load\n",
        "        :return: batch of images\n",
        "        \"\"\"\n",
        "        # Initialization\n",
        "        X = np.empty((self.batch_size, *self.dim))\n",
        "        y = np.empty((self.batch_size, self.n_classes), dtype=int)\n",
        "        \n",
        "        # Generate data\n",
        "        for i, ID in enumerate(list_IDs_temp):\n",
        "            \n",
        "            # start X\n",
        "            with open(self.processed_dir+ID+'_data','rb') as f:\n",
        "                data = pickle.load(f)\n",
        "                \n",
        "            # third dimension = 120, error using self.slice_size for value 16\n",
        "            x_reshape= np.reshape(data['image'], (120, 160, 120, 1))\n",
        "            if self.augment == True:\n",
        "                x_reshape = scipy.ndimage.rotate(x_reshape, \n",
        "                                axes=random.choice([(0, 1), (0, 2), (1, 2)]), \n",
        "                                angle=random.choice([360-15, 15,0]), \n",
        "                                reshape=False)\n",
        "            X[i,] = x_reshape\n",
        "            \n",
        "            #start y\n",
        "            y[i,] = labels_to_categorical([data['diagnosis']])\n",
        "\n",
        "        return X, y\n",
        "\n",
        "    "
      ],
      "execution_count": 0,
      "outputs": []
    },
    {
      "cell_type": "code",
      "metadata": {
        "id": "sDciL6K9E10n",
        "colab_type": "code",
        "outputId": "7059c29e-da91-472c-bfaf-55152bf71aa8",
        "colab": {
          "base_uri": "https://localhost:8080/",
          "height": 68
        }
      },
      "source": [
        "print(labels_to_categorical([\"CN\"]))\n",
        "\n",
        "balancing_weights = class_weight.compute_sample_weight('balanced',train_label)\n",
        "print(balancing_weights[0],train_label[0])\n",
        "print(balancing_weights[1],train_label[1])\n",
        "\n",
        "\n",
        "# usage:\n",
        "processed_dir = '/content/drive/My Drive/AD_MRI/PROCESSED/'\n",
        "mdg = MyDataGenerator(test_list, processed_dir, to_fit=True, augment=True, \n",
        "                      sample_weight=balancing_weights,batch_size=2)\n",
        "\n",
        "#X, pred, weights = mdg.__getitem__(0) #without .__getitem__ obviously\n",
        "\n"
      ],
      "execution_count": 0,
      "outputs": [
        {
          "output_type": "stream",
          "text": [
            "[[0. 1.]]\n",
            "1.3625429553264605 AD\n",
            "0.7898406374501992 CN\n"
          ],
          "name": "stdout"
        }
      ]
    },
    {
      "cell_type": "markdown",
      "metadata": {
        "id": "pf0QJqFOzQ-a",
        "colab_type": "text"
      },
      "source": [
        "#### Build CAE Encoder"
      ]
    },
    {
      "cell_type": "code",
      "metadata": {
        "id": "NQHRA3MVzQ-b",
        "colab_type": "code",
        "colab": {}
      },
      "source": [
        ""
      ],
      "execution_count": 0,
      "outputs": []
    },
    {
      "cell_type": "code",
      "metadata": {
        "id": "Q7R3ToLhHofx",
        "colab_type": "code",
        "outputId": "c2e31d4c-eb7c-45ef-934d-f1016969aed9",
        "colab": {
          "base_uri": "https://localhost:8080/",
          "height": 561
        }
      },
      "source": [
        "dropout_rate = 0.0\n",
        "input_img = Input(shape=(120, 160, 16, 1), name='Input')\n",
        "print('\\ninput shape:', input_img.shape)\n",
        "\n",
        "x = Conv3D(10, (3, 3, 3), activation='relu', padding='same', \n",
        "           name='Convolution_1')(input_img)\n",
        "x = MaxPool3D((2, 2, 2), name='MaxPooling_1')(x)\n",
        "x = Dropout(dropout_rate, name='DropOut_1')(x)\n",
        "\n",
        "x = Conv3D(10, (3, 3, 3), activation='relu', padding='same', \n",
        "           name='Convolution_2')(x)\n",
        "x = MaxPool3D((2, 2, 2), name='MaxPooling_2')(x)\n",
        "x = Dropout(dropout_rate, name='DropOut_2')(x)\n",
        "\n",
        "x = Conv3D(10, (3, 3, 3), activation='relu', padding='same', \n",
        "           name='Convolution_3')(x)\n",
        "x = MaxPool3D((2, 2, 2), name='MaxPooling_3')(x)\n",
        "x = Dropout(dropout_rate, name='DropOut_3')(x)\n",
        "\n",
        "encoded = x\n",
        "encoded_shape = K.int_shape(encoded)\n",
        "print('output shape:', encoded_shape, '\\n')\n",
        "\n",
        "CAE_encoder = Model(input_img, encoded, name='CAE_encoder')\n",
        "CAE_encoder.summary()\n",
        "\n"
      ],
      "execution_count": 0,
      "outputs": [
        {
          "output_type": "stream",
          "text": [
            "\n",
            "input shape: (None, 120, 160, 16, 1)\n",
            "output shape: (None, 15, 20, 2, 10) \n",
            "\n",
            "Model: \"CAE_encoder\"\n",
            "_________________________________________________________________\n",
            "Layer (type)                 Output Shape              Param #   \n",
            "=================================================================\n",
            "Input (InputLayer)           [(None, 120, 160, 16, 1)] 0         \n",
            "_________________________________________________________________\n",
            "Convolution_1 (Conv3D)       (None, 120, 160, 16, 10)  280       \n",
            "_________________________________________________________________\n",
            "MaxPooling_1 (MaxPooling3D)  (None, 60, 80, 8, 10)     0         \n",
            "_________________________________________________________________\n",
            "DropOut_1 (Dropout)          (None, 60, 80, 8, 10)     0         \n",
            "_________________________________________________________________\n",
            "Convolution_2 (Conv3D)       (None, 60, 80, 8, 10)     2710      \n",
            "_________________________________________________________________\n",
            "MaxPooling_2 (MaxPooling3D)  (None, 30, 40, 4, 10)     0         \n",
            "_________________________________________________________________\n",
            "DropOut_2 (Dropout)          (None, 30, 40, 4, 10)     0         \n",
            "_________________________________________________________________\n",
            "Convolution_3 (Conv3D)       (None, 30, 40, 4, 10)     2710      \n",
            "_________________________________________________________________\n",
            "MaxPooling_3 (MaxPooling3D)  (None, 15, 20, 2, 10)     0         \n",
            "_________________________________________________________________\n",
            "DropOut_3 (Dropout)          (None, 15, 20, 2, 10)     0         \n",
            "=================================================================\n",
            "Total params: 5,700\n",
            "Trainable params: 5,700\n",
            "Non-trainable params: 0\n",
            "_________________________________________________________________\n"
          ],
          "name": "stdout"
        }
      ]
    },
    {
      "cell_type": "markdown",
      "metadata": {
        "id": "b1o-Xo2SzQ-h",
        "colab_type": "text"
      },
      "source": [
        "#### Build CAE Decoder"
      ]
    },
    {
      "cell_type": "code",
      "metadata": {
        "id": "KiVNE5H4yPaU",
        "colab_type": "code",
        "outputId": "4bde605b-1251-4c84-849b-295fb64b2d8e",
        "colab": {
          "base_uri": "https://localhost:8080/",
          "height": 34
        }
      },
      "source": [
        "encoded_shape"
      ],
      "execution_count": 0,
      "outputs": [
        {
          "output_type": "execute_result",
          "data": {
            "text/plain": [
              "(None, 15, 20, 2, 10)"
            ]
          },
          "metadata": {
            "tags": []
          },
          "execution_count": 14
        }
      ]
    },
    {
      "cell_type": "code",
      "metadata": {
        "id": "NnPBrgD6zQ-i",
        "colab_type": "code",
        "outputId": "3354808a-fa7b-4e64-9d34-75ed88dd4b92",
        "colab": {
          "base_uri": "https://localhost:8080/",
          "height": 595
        }
      },
      "source": [
        "encoded_input = Input(shape=(encoded_shape[1],encoded_shape[2], \n",
        "                             encoded_shape[3], encoded_shape[4],), \n",
        "                      name='Encoded')\n",
        "\n",
        "print('\\ninput shape:', encoded_input.shape)\n",
        "x = encoded_input\n",
        "\n",
        "x = Conv3DTranspose(10, (3, 3, 3), activation='relu', padding='same', \n",
        "                    name='Convolution_3')(x)\n",
        "x = UpSampling3D((2, 2, 2), name='UpSampling_3')(x)\n",
        "x = Dropout(dropout_rate, name='DropOut_3')(x)\n",
        "\n",
        "x = Conv3DTranspose(10, (3, 3, 3), activation='relu', padding='same', \n",
        "                    name='Convolution_2')(x)\n",
        "x = UpSampling3D((2, 2, 2), name='UpSampling_2')(x)\n",
        "x = Dropout(dropout_rate, name='DropOut_2')(x)\n",
        "\n",
        "x = Conv3DTranspose(10, (3, 3, 3), activation='relu', padding='same', \n",
        "                    name='Convolution_1')(x)\n",
        "x = UpSampling3D((2, 2, 2), name='UpSampling_1')(x)\n",
        "x = Dropout(dropout_rate, name='DropOut_1')(x)\n",
        "\n",
        "decoded = Conv3DTranspose(1, (3, 3, 3), activation='sigmoid', padding='same', \n",
        "                          name='Output')(x)\n",
        "\n",
        "print('output shape:', K.int_shape(decoded), '\\n')\n",
        "\n",
        "CAE_decoder = Model(encoded_input, decoded, name='CAE_decoder')\n",
        "CAE_decoder.summary()\n"
      ],
      "execution_count": 0,
      "outputs": [
        {
          "output_type": "stream",
          "text": [
            "\n",
            "input shape: (None, 15, 20, 2, 10)\n",
            "output shape: (None, 120, 160, 16, 1) \n",
            "\n",
            "Model: \"CAE_decoder\"\n",
            "_________________________________________________________________\n",
            "Layer (type)                 Output Shape              Param #   \n",
            "=================================================================\n",
            "Encoded (InputLayer)         [(None, 15, 20, 2, 10)]   0         \n",
            "_________________________________________________________________\n",
            "Convolution_3 (Conv3DTranspo (None, 15, 20, 2, 10)     2710      \n",
            "_________________________________________________________________\n",
            "UpSampling_3 (UpSampling3D)  (None, 30, 40, 4, 10)     0         \n",
            "_________________________________________________________________\n",
            "DropOut_3 (Dropout)          (None, 30, 40, 4, 10)     0         \n",
            "_________________________________________________________________\n",
            "Convolution_2 (Conv3DTranspo (None, 30, 40, 4, 10)     2710      \n",
            "_________________________________________________________________\n",
            "UpSampling_2 (UpSampling3D)  (None, 60, 80, 8, 10)     0         \n",
            "_________________________________________________________________\n",
            "DropOut_2 (Dropout)          (None, 60, 80, 8, 10)     0         \n",
            "_________________________________________________________________\n",
            "Convolution_1 (Conv3DTranspo (None, 60, 80, 8, 10)     2710      \n",
            "_________________________________________________________________\n",
            "UpSampling_1 (UpSampling3D)  (None, 120, 160, 16, 10)  0         \n",
            "_________________________________________________________________\n",
            "DropOut_1 (Dropout)          (None, 120, 160, 16, 10)  0         \n",
            "_________________________________________________________________\n",
            "Output (Conv3DTranspose)     (None, 120, 160, 16, 1)   271       \n",
            "=================================================================\n",
            "Total params: 8,401\n",
            "Trainable params: 8,401\n",
            "Non-trainable params: 0\n",
            "_________________________________________________________________\n"
          ],
          "name": "stdout"
        }
      ]
    },
    {
      "cell_type": "markdown",
      "metadata": {
        "id": "2XfL8Nnpx4hm",
        "colab_type": "text"
      },
      "source": [
        "#### Build CAE Classifier"
      ]
    },
    {
      "cell_type": "code",
      "metadata": {
        "id": "5xQYaVA2ssdV",
        "colab_type": "code",
        "outputId": "e75a214a-e5de-4f30-e10a-4ace1bb292e2",
        "colab": {
          "base_uri": "https://localhost:8080/",
          "height": 323
        }
      },
      "source": [
        "encoded_input = Input(shape=(encoded_shape[1], encoded_shape[2], \n",
        "                             encoded_shape[3], encoded_shape[4],), \n",
        "                      name='Encoded')\n",
        "\n",
        "y = encoded_input\n",
        "\n",
        "y = Flatten(name='Flatten')(y)\n",
        "y = Dense(1024, activation='selu', name='SELU_1')(y)\n",
        "y = Dense(64, activation='selu', name='SELU_2')(y)\n",
        "y = Dense(2, activation='softmax', name='Prediction')(y)\n",
        "\n",
        "CAE_pred = y\n",
        "\n",
        "CAE_classifier = Model(encoded_input, CAE_pred, name='CAE_classifier')\n",
        "CAE_classifier.summary()"
      ],
      "execution_count": 0,
      "outputs": [
        {
          "output_type": "stream",
          "text": [
            "Model: \"CAE_classifier\"\n",
            "_________________________________________________________________\n",
            "Layer (type)                 Output Shape              Param #   \n",
            "=================================================================\n",
            "Encoded (InputLayer)         [(None, 15, 20, 2, 10)]   0         \n",
            "_________________________________________________________________\n",
            "Flatten (Flatten)            (None, 6000)              0         \n",
            "_________________________________________________________________\n",
            "SELU_1 (Dense)               (None, 1024)              6145024   \n",
            "_________________________________________________________________\n",
            "SELU_2 (Dense)               (None, 64)                65600     \n",
            "_________________________________________________________________\n",
            "Prediction (Dense)           (None, 2)                 130       \n",
            "=================================================================\n",
            "Total params: 6,210,754\n",
            "Trainable params: 6,210,754\n",
            "Non-trainable params: 0\n",
            "_________________________________________________________________\n"
          ],
          "name": "stdout"
        }
      ]
    },
    {
      "cell_type": "markdown",
      "metadata": {
        "id": "V3szdqC1zQ-k",
        "colab_type": "text"
      },
      "source": [
        "#### Build CAE Autoencoder"
      ]
    },
    {
      "cell_type": "code",
      "metadata": {
        "id": "kjQVyVdYzQ-4",
        "colab_type": "code",
        "outputId": "969b82df-a968-4ddf-94f3-1406673501b6",
        "colab": {
          "base_uri": "https://localhost:8080/",
          "height": 306
        }
      },
      "source": [
        "CAE_autoencoder = Model(inputs=input_img, \n",
        "                         outputs=[CAE_decoder(CAE_encoder(input_img)), \n",
        "                                  CAE_classifier(CAE_encoder(input_img))],\n",
        "                   name='CAE_autoencoder')\n",
        "CAE_autoencoder.summary()\n",
        "\n"
      ],
      "execution_count": 0,
      "outputs": [
        {
          "output_type": "stream",
          "text": [
            "Model: \"CAE_autoencoder\"\n",
            "__________________________________________________________________________________________________\n",
            "Layer (type)                    Output Shape         Param #     Connected to                     \n",
            "==================================================================================================\n",
            "Input (InputLayer)              [(None, 120, 160, 16 0                                            \n",
            "__________________________________________________________________________________________________\n",
            "CAE_encoder (Model)             (None, 15, 20, 2, 10 5700        Input[0][0]                      \n",
            "                                                                 Input[0][0]                      \n",
            "__________________________________________________________________________________________________\n",
            "CAE_decoder (Model)             (None, 120, 160, 16, 8401        CAE_encoder[1][0]                \n",
            "__________________________________________________________________________________________________\n",
            "CAE_classifier (Model)          (None, 2)            6210754     CAE_encoder[2][0]                \n",
            "==================================================================================================\n",
            "Total params: 6,224,855\n",
            "Trainable params: 6,224,855\n",
            "Non-trainable params: 0\n",
            "__________________________________________________________________________________________________\n"
          ],
          "name": "stdout"
        }
      ]
    },
    {
      "cell_type": "markdown",
      "metadata": {
        "id": "amndwBFI_jPq",
        "colab_type": "text"
      },
      "source": [
        "#### Build ICAE Encoder"
      ]
    },
    {
      "cell_type": "code",
      "metadata": {
        "id": "Tds1F1Ic_hYE",
        "colab_type": "code",
        "colab": {}
      },
      "source": [
        "def inception_module(input, filter_operation=filter_operation, \n",
        "                     l1_value=l1_value, l2_value=l2value):\n",
        "    \"\"\"\n",
        "    filter_operation is a list of inception operations for:\n",
        "        1x1x1 kernel, \n",
        "        1x1x1 then 3x3x3 kernels, \n",
        "        1x1x1 then 3x3x3 then 3x3x3 kernels, \n",
        "        and 3x3x3 maxpooling then 1x1x1 kernels, \n",
        "            respectively.\n",
        "    \"\"\"\n",
        "    # Branch A\n",
        "    branch_1x1x1 = Conv3D(filter_operation[0], kernel_size=(1, 1, 1), \n",
        "                          activation='relu', padding='same', \n",
        "                          kernel_regularizer=l1_l2(l1_value, l2_value), \n",
        "                          name='Branch_A_1x1x1')(input)\n",
        "\n",
        "    # Branch B\n",
        "    branch_3x3x3_initial = Conv3D(filter_operation[1], kernel_size=(1, 1, 1), \n",
        "                                  activation='relu', padding='same', \n",
        "                                  kernel_regularizer=l1_l2(l1_value, l2_value), \n",
        "                                  name='Branch_B_1x1x1')(input)\n",
        "    branch_3x3x3 = Conv3D(filter_operation[1], kernel_size=(3, 3, 3), \n",
        "                          activation='relu', padding='same', \n",
        "                          kernel_regularizer=l1_l2(l1_value, l2_value), \n",
        "                          name='Branch_B_3x3x3')(branch_3x3x3_initial)\n",
        "\n",
        "    # Branch C\n",
        "    branch_double_3x3x3_initial = Conv3D(filter_operation[2], \n",
        "                                         kernel_size=(1, 1, 1), \n",
        "                                         activation='relu', padding='same', \n",
        "                                         kernel_regularizer=l1_l2(l1_value, \n",
        "                                                                  l2_value), \n",
        "                                         name='Branch_C_1x1x1')(input)\n",
        "    branch_double_3x3x3_middle = Conv3D(filter_operation[2], \n",
        "                                        kernel_size=(3, 3, 3), \n",
        "                                        activation='relu', padding='same', \n",
        "                                        kernel_regularizer=l1_l2(l1_value, \n",
        "                                                                 l2_value), \n",
        "                                        name='Branch_C_1st_3x3x3')\\\n",
        "                                        (branch_double_3x3x3_initial)\n",
        "    branch_double_3x3x3 = Conv3D(filter_operation[2], kernel_size=(3, 3, 3), \n",
        "                                 activation='relu', padding='same', \n",
        "                                 kernel_regularizer=l1_l2(l1_value, l2_value), \n",
        "                                 name='Branch_C_2nd_3x3x3')\\\n",
        "                                 (branch_double_3x3x3_middle)\n",
        "\n",
        "    # Branch D\n",
        "    branch_maxpool_3x3x3_initial = MaxPool3D(pool_size=(3, 3, 3), \n",
        "                                             strides=(1, 1, 1), padding='same', \n",
        "                                             name='Branch_D_3x3x3_maxpool')\\\n",
        "                                             (input)\n",
        "    branch_maxpool_3x3x3 = Conv3D(filter_operation[3], kernel_size=(1, 1, 1), \n",
        "                                  activation='relu', padding='same', \n",
        "                                  kernel_regularizer=l1_l2(l1_value, l2_value), \n",
        "                                  name='Branch_D_1x1x1')\\\n",
        "                                  (branch_maxpool_3x3x3_initial)\n",
        "    \n",
        "    # Merge branches\n",
        "    modules = [branch_1x1x1, branch_3x3x3, branch_double_3x3x3, \n",
        "               branch_maxpool_3x3x3]\n",
        "    merged_module = concatenate(modules, name='Inception_Merged')\n",
        "    \n",
        "    return merged_module\n",
        "    \n"
      ],
      "execution_count": 0,
      "outputs": []
    },
    {
      "cell_type": "code",
      "metadata": {
        "id": "NQQ-yI4NABc6",
        "colab_type": "code",
        "outputId": "fd15b03f-5c6c-4a30-b617-3c6a2313e105",
        "colab": {
          "base_uri": "https://localhost:8080/",
          "height": 884
        }
      },
      "source": [
        "dropout = 0.5\n",
        "\n",
        "input_img = Input(shape= (120, 160, 16, 1), name='Input')\n",
        "print('\\ninput shape:', input_img.shape)\n",
        "\n",
        "x = Conv3D(10, (3, 3, 3), activation='relu', padding='same', \n",
        "           name='Convolution_1')(input_img)\n",
        "x = MaxPool3D((2, 2, 2), name='MaxPooling_1')(x)\n",
        "x = Dropout(dropout, name='DropOut_1')(x)\n",
        "\n",
        "x = Conv3D(10, (3, 3, 3), activation='relu', padding='same', \n",
        "           name='Convolution_2')(x)\n",
        "x = MaxPool3D((2, 2, 2), name='MaxPooling_2')(x)\n",
        "x = Dropout(dropout, name='DropOut_2')(x)\n",
        "\n",
        "x = inception_module(x, filter_operations)\n",
        "x = MaxPool3D((2, 2, 2), name='Inception_MaxPooling')(x)\n",
        "x = Dropout(dropout, name='DropOut_3')(x)\n",
        "\n",
        "encoded = x\n",
        "encoded_shape = K.int_shape(encoded)\n",
        "print('output shape:', encoded_shape, '\\n')\n",
        "\n",
        "ICAE_encoder = Model(input_img, encoded, name='ICAE_encoder')\n",
        "ICAE_encoder.summary(positions=[.35, .64, .71, 1.]) \n",
        "# `positions` adjusts print settings to minimize truncation"
      ],
      "execution_count": 0,
      "outputs": [
        {
          "output_type": "stream",
          "text": [
            "\n",
            "input shape: (None, 120, 160, 16, 1)\n",
            "output shape: (None, 15, 20, 2, 40) \n",
            "\n",
            "Model: \"ICAE_encoder\"\n",
            "__________________________________________________________________________________________________\n",
            "Layer (type)                      Output Shape                Param  Connected to                 \n",
            "==================================================================================================\n",
            "Input (InputLayer)                [(None, 120, 160, 16, 1)]   0                                   \n",
            "__________________________________________________________________________________________________\n",
            "Convolution_1 (Conv3D)            (None, 120, 160, 16, 10)    280    Input[0][0]                  \n",
            "__________________________________________________________________________________________________\n",
            "MaxPooling_1 (MaxPooling3D)       (None, 60, 80, 8, 10)       0      Convolution_1[0][0]          \n",
            "__________________________________________________________________________________________________\n",
            "DropOut_1 (Dropout)               (None, 60, 80, 8, 10)       0      MaxPooling_1[0][0]           \n",
            "__________________________________________________________________________________________________\n",
            "Convolution_2 (Conv3D)            (None, 60, 80, 8, 10)       2710   DropOut_1[0][0]              \n",
            "__________________________________________________________________________________________________\n",
            "MaxPooling_2 (MaxPooling3D)       (None, 30, 40, 4, 10)       0      Convolution_2[0][0]          \n",
            "__________________________________________________________________________________________________\n",
            "DropOut_2 (Dropout)               (None, 30, 40, 4, 10)       0      MaxPooling_2[0][0]           \n",
            "__________________________________________________________________________________________________\n",
            "Branch_C_1x1x1 (Conv3D)           (None, 30, 40, 4, 10)       110    DropOut_2[0][0]              \n",
            "__________________________________________________________________________________________________\n",
            "Branch_B_1x1x1 (Conv3D)           (None, 30, 40, 4, 10)       110    DropOut_2[0][0]              \n",
            "__________________________________________________________________________________________________\n",
            "Branch_C_1st_3x3x3 (Conv3D)       (None, 30, 40, 4, 10)       2710   Branch_C_1x1x1[0][0]         \n",
            "__________________________________________________________________________________________________\n",
            "Branch_D_3x3x3_maxpool (MaxPoolin (None, 30, 40, 4, 10)       0      DropOut_2[0][0]              \n",
            "__________________________________________________________________________________________________\n",
            "Branch_A_1x1x1 (Conv3D)           (None, 30, 40, 4, 10)       110    DropOut_2[0][0]              \n",
            "__________________________________________________________________________________________________\n",
            "Branch_B_3x3x3 (Conv3D)           (None, 30, 40, 4, 10)       2710   Branch_B_1x1x1[0][0]         \n",
            "__________________________________________________________________________________________________\n",
            "Branch_C_2nd_3x3x3 (Conv3D)       (None, 30, 40, 4, 10)       2710   Branch_C_1st_3x3x3[0][0]     \n",
            "__________________________________________________________________________________________________\n",
            "Branch_D_1x1x1 (Conv3D)           (None, 30, 40, 4, 10)       110    Branch_D_3x3x3_maxpool[0][0] \n",
            "__________________________________________________________________________________________________\n",
            "Inception_Merged (Concatenate)    (None, 30, 40, 4, 40)       0      Branch_A_1x1x1[0][0]         \n",
            "                                                                     Branch_B_3x3x3[0][0]         \n",
            "                                                                     Branch_C_2nd_3x3x3[0][0]     \n",
            "                                                                     Branch_D_1x1x1[0][0]         \n",
            "__________________________________________________________________________________________________\n",
            "Inception_MaxPooling (MaxPooling3 (None, 15, 20, 2, 40)       0      Inception_Merged[0][0]       \n",
            "__________________________________________________________________________________________________\n",
            "DropOut_3 (Dropout)               (None, 15, 20, 2, 40)       0      Inception_MaxPooling[0][0]   \n",
            "==================================================================================================\n",
            "Total params: 11,560\n",
            "Trainable params: 11,560\n",
            "Non-trainable params: 0\n",
            "__________________________________________________________________________________________________\n"
          ],
          "name": "stdout"
        }
      ]
    },
    {
      "cell_type": "markdown",
      "metadata": {
        "id": "otpPJNY3_7Ih",
        "colab_type": "text"
      },
      "source": [
        "#### Build ICAE Decoder"
      ]
    },
    {
      "cell_type": "code",
      "metadata": {
        "id": "Qe0RuTsJ_9FN",
        "colab_type": "code",
        "outputId": "b2f113e8-5322-4a38-b477-e49b2b38c086",
        "colab": {
          "base_uri": "https://localhost:8080/",
          "height": 918
        }
      },
      "source": [
        "encoded_input= Input(shape=(encoded_shape[1],encoded_shape[2], \n",
        "                            encoded_shape[3], encoded_shape[4],), \n",
        "                     name='Encoded')\n",
        "print('\\ninput shape:', encoded_input.shape)\n",
        "\n",
        "combined_dim = sum(filter_operations) \n",
        "\n",
        "x = encoded_input\n",
        "\n",
        "x = inception_module(x, filter_operations)\n",
        "x = UpSampling3D((2, 2, 2), name='Inception_Upsampling')(x)\n",
        "x = Dropout(dropout, name='DropOut_3')(x)\n",
        "\n",
        "x = Conv3DTranspose(10, (3, 3, 3), activation='relu', padding='same', \n",
        "                    name='Convolution_2')(x)\n",
        "x = UpSampling3D((2, 2, 2), name='Upsampling_2')(x)\n",
        "x = Dropout(dropout, name='DropOut_2')(x)\n",
        "\n",
        "x = Conv3DTranspose(10, (3, 3, 3), activation='relu', padding='same', \n",
        "                    name='Convolution_1')(x)\n",
        "x = UpSampling3D((2, 2, 2), name='Upsampling_1')(x)\n",
        "x = Dropout(dropout, name='DropOut_1')(x)\n",
        "\n",
        "decoded = Conv3DTranspose(1, (3, 3, 3), activation='sigmoid', padding='same', \n",
        "                          name='Output')(x)\n",
        "\n",
        "print('output shape:', K.int_shape(decoded), '\\n')\n",
        "\n",
        "ICAE_decoder = Model(encoded_input, decoded, name='ICAE_decoder')\n",
        "ICAE_decoder.summary(positions=[.35, .64, .71, 1.])\n"
      ],
      "execution_count": 0,
      "outputs": [
        {
          "output_type": "stream",
          "text": [
            "\n",
            "input shape: (None, 15, 20, 2, 40)\n",
            "output shape: (None, 120, 160, 16, 1) \n",
            "\n",
            "Model: \"ICAE_decoder\"\n",
            "__________________________________________________________________________________________________\n",
            "Layer (type)                      Output Shape                Param  Connected to                 \n",
            "==================================================================================================\n",
            "Encoded (InputLayer)              [(None, 15, 20, 2, 40)]     0                                   \n",
            "__________________________________________________________________________________________________\n",
            "Branch_C_1x1x1 (Conv3D)           (None, 15, 20, 2, 10)       410    Encoded[0][0]                \n",
            "__________________________________________________________________________________________________\n",
            "Branch_B_1x1x1 (Conv3D)           (None, 15, 20, 2, 10)       410    Encoded[0][0]                \n",
            "__________________________________________________________________________________________________\n",
            "Branch_C_1st_3x3x3 (Conv3D)       (None, 15, 20, 2, 10)       2710   Branch_C_1x1x1[0][0]         \n",
            "__________________________________________________________________________________________________\n",
            "Branch_D_3x3x3_maxpool (MaxPoolin (None, 15, 20, 2, 40)       0      Encoded[0][0]                \n",
            "__________________________________________________________________________________________________\n",
            "Branch_A_1x1x1 (Conv3D)           (None, 15, 20, 2, 10)       410    Encoded[0][0]                \n",
            "__________________________________________________________________________________________________\n",
            "Branch_B_3x3x3 (Conv3D)           (None, 15, 20, 2, 10)       2710   Branch_B_1x1x1[0][0]         \n",
            "__________________________________________________________________________________________________\n",
            "Branch_C_2nd_3x3x3 (Conv3D)       (None, 15, 20, 2, 10)       2710   Branch_C_1st_3x3x3[0][0]     \n",
            "__________________________________________________________________________________________________\n",
            "Branch_D_1x1x1 (Conv3D)           (None, 15, 20, 2, 10)       410    Branch_D_3x3x3_maxpool[0][0] \n",
            "__________________________________________________________________________________________________\n",
            "Inception_Merged (Concatenate)    (None, 15, 20, 2, 40)       0      Branch_A_1x1x1[0][0]         \n",
            "                                                                     Branch_B_3x3x3[0][0]         \n",
            "                                                                     Branch_C_2nd_3x3x3[0][0]     \n",
            "                                                                     Branch_D_1x1x1[0][0]         \n",
            "__________________________________________________________________________________________________\n",
            "Inception_Upsampling (UpSampling3 (None, 30, 40, 4, 40)       0      Inception_Merged[0][0]       \n",
            "__________________________________________________________________________________________________\n",
            "DropOut_3 (Dropout)               (None, 30, 40, 4, 40)       0      Inception_Upsampling[0][0]   \n",
            "__________________________________________________________________________________________________\n",
            "Convolution_2 (Conv3DTranspose)   (None, 30, 40, 4, 10)       10810  DropOut_3[0][0]              \n",
            "__________________________________________________________________________________________________\n",
            "Upsampling_2 (UpSampling3D)       (None, 60, 80, 8, 10)       0      Convolution_2[0][0]          \n",
            "__________________________________________________________________________________________________\n",
            "DropOut_2 (Dropout)               (None, 60, 80, 8, 10)       0      Upsampling_2[0][0]           \n",
            "__________________________________________________________________________________________________\n",
            "Convolution_1 (Conv3DTranspose)   (None, 60, 80, 8, 10)       2710   DropOut_2[0][0]              \n",
            "__________________________________________________________________________________________________\n",
            "Upsampling_1 (UpSampling3D)       (None, 120, 160, 16, 10)    0      Convolution_1[0][0]          \n",
            "__________________________________________________________________________________________________\n",
            "DropOut_1 (Dropout)               (None, 120, 160, 16, 10)    0      Upsampling_1[0][0]           \n",
            "__________________________________________________________________________________________________\n",
            "Output (Conv3DTranspose)          (None, 120, 160, 16, 1)     271    DropOut_1[0][0]              \n",
            "==================================================================================================\n",
            "Total params: 23,561\n",
            "Trainable params: 23,561\n",
            "Non-trainable params: 0\n",
            "__________________________________________________________________________________________________\n"
          ],
          "name": "stdout"
        }
      ]
    },
    {
      "cell_type": "markdown",
      "metadata": {
        "id": "6w0wr-Wq_7mu",
        "colab_type": "text"
      },
      "source": [
        "#### Build ICAE Classifier"
      ]
    },
    {
      "cell_type": "code",
      "metadata": {
        "id": "vGZRzup8_91T",
        "colab_type": "code",
        "outputId": "4742003c-42ae-42ff-c64f-b1be15afcf79",
        "colab": {
          "base_uri": "https://localhost:8080/",
          "height": 323
        }
      },
      "source": [
        "encoded_input = Input(shape=(encoded_shape[1], encoded_shape[2], \n",
        "                             encoded_shape[3], encoded_shape[4],), \n",
        "                      name='Encoded')\n",
        "\n",
        "y = encoded_input\n",
        "\n",
        "# y = Conv3D(10, (1, 1, 1), padding='same', name='Linear')(y)\n",
        "y = Flatten(name='Flatten')(y)\n",
        "y = Dense(256, activation='selu', name='SELU_1')(y) #32\n",
        "y = Dense(128, activation='selu', name='SELU_2')(y) #16\n",
        "y = Dense(2, activation='sigmoid', name='Prediction')(y) #softmax\n",
        "\n",
        "ICAE_pred = y\n",
        "\n",
        "ICAE_classifier = Model(encoded_input, ICAE_pred, name='ICAE_classifier')\n",
        "ICAE_classifier.summary()"
      ],
      "execution_count": 0,
      "outputs": [
        {
          "output_type": "stream",
          "text": [
            "Model: \"ICAE_classifier\"\n",
            "_________________________________________________________________\n",
            "Layer (type)                 Output Shape              Param #   \n",
            "=================================================================\n",
            "Encoded (InputLayer)         [(None, 15, 20, 2, 40)]   0         \n",
            "_________________________________________________________________\n",
            "Flatten (Flatten)            (None, 24000)             0         \n",
            "_________________________________________________________________\n",
            "SELU_1 (Dense)               (None, 256)               6144256   \n",
            "_________________________________________________________________\n",
            "SELU_2 (Dense)               (None, 128)               32896     \n",
            "_________________________________________________________________\n",
            "Prediction (Dense)           (None, 2)                 258       \n",
            "=================================================================\n",
            "Total params: 6,177,410\n",
            "Trainable params: 6,177,410\n",
            "Non-trainable params: 0\n",
            "_________________________________________________________________\n"
          ],
          "name": "stdout"
        }
      ]
    },
    {
      "cell_type": "markdown",
      "metadata": {
        "id": "xzCE0JpP_74-",
        "colab_type": "text"
      },
      "source": [
        "#### Build ICAE Autoencoder"
      ]
    },
    {
      "cell_type": "code",
      "metadata": {
        "id": "-Xz8kxBA_-mg",
        "colab_type": "code",
        "outputId": "30c36cd8-c15d-4e62-fe05-b1ba47ce7e75",
        "colab": {
          "base_uri": "https://localhost:8080/",
          "height": 306
        }
      },
      "source": [
        "ICAE_autoencoder = Model(inputs=input_img, \n",
        "                         outputs=[ICAE_decoder(ICAE_encoder(input_img)), \n",
        "                                  ICAE_classifier(ICAE_encoder(input_img))],\n",
        "                   name='ICAE_autoencoder')\n",
        "ICAE_autoencoder.summary(positions=[.35, .64, .71, 1.])"
      ],
      "execution_count": 0,
      "outputs": [
        {
          "output_type": "stream",
          "text": [
            "Model: \"ICAE_autoencoder\"\n",
            "__________________________________________________________________________________________________\n",
            "Layer (type)                      Output Shape                Param  Connected to                 \n",
            "==================================================================================================\n",
            "Input (InputLayer)                [(None, 120, 160, 16, 1)]   0                                   \n",
            "__________________________________________________________________________________________________\n",
            "ICAE_encoder (Model)              (None, 15, 20, 2, 40)       11560  Input[0][0]                  \n",
            "                                                                     Input[0][0]                  \n",
            "__________________________________________________________________________________________________\n",
            "ICAE_decoder (Model)              (None, 120, 160, 16, 1)     23561  ICAE_encoder[1][0]           \n",
            "__________________________________________________________________________________________________\n",
            "ICAE_classifier (Model)           (None, 2)                   617741 ICAE_encoder[2][0]           \n",
            "==================================================================================================\n",
            "Total params: 6,212,531\n",
            "Trainable params: 6,212,531\n",
            "Non-trainable params: 0\n",
            "__________________________________________________________________________________________________\n"
          ],
          "name": "stdout"
        }
      ]
    },
    {
      "cell_type": "markdown",
      "metadata": {
        "id": "ol-4Dt7WzQ-4",
        "colab_type": "text"
      },
      "source": [
        "#### Build Classifier Branch"
      ]
    },
    {
      "cell_type": "code",
      "metadata": {
        "id": "WzIAsNitzQ-7",
        "colab_type": "code",
        "colab": {}
      },
      "source": [
        "losses = {\"ICAE_decoder\":'binary_crossentropy','ICAE_classifier':'categorical_crossentropy'}\n",
        "metrics= {'ICAE_decoder':'mae', 'ICAE_classifier':[ \\\n",
        "                                            'acc',\n",
        "                                            tf.keras.metrics.Precision(), \n",
        "                                            tf.keras.metrics.Recall(),\n",
        "                                            tf.keras.metrics.FalseNegatives(), \n",
        "                                            tf.keras.metrics.FalsePositives()]}\n",
        "loss_weights={\"ICAE_decoder\":0.5,'ICAE_classifier':0.5}\n",
        "\n",
        "initial_learning_rate = 0.1\n",
        "lr_schedule = tf.keras.optimizers.schedules.ExponentialDecay(\\\n",
        "    initial_learning_rate,\n",
        "    decay_steps=100000,\n",
        "    decay_rate=0.90,\n",
        "    staircase=True)\n",
        "\n",
        "ICAE_autoencoder.compile(optimizer='adam', \n",
        "                         loss=losses,\n",
        "                         loss_weights = loss_weights,\n",
        "                         metrics=metrics)\n",
        "\n",
        "my_callbacks = [\n",
        "    tf.keras.callbacks.EarlyStopping(patience=10),\n",
        "    tf.keras.callbacks.ModelCheckpoint(filepath='outputs_AC/ICAE_50do_nol1l2_AC_0523a.{epoch:02d}-{val_loss:.2f}.h5'),\n",
        "    tf.keras.callbacks.TensorBoard(log_dir='./logs_AC'),\n",
        "]"
      ],
      "execution_count": 0,
      "outputs": []
    },
    {
      "cell_type": "code",
      "metadata": {
        "id": "AzHGmaPojkQQ",
        "colab_type": "code",
        "colab": {}
      },
      "source": [
        "balancing_weights = class_weight.compute_sample_weight('balanced',train_label)\n",
        "balancing_weights_test = class_weight.compute_sample_weight('balanced',test_label)"
      ],
      "execution_count": 0,
      "outputs": []
    },
    {
      "cell_type": "code",
      "metadata": {
        "id": "aonFiMErCkN3",
        "colab_type": "code",
        "colab": {}
      },
      "source": [
        "train_generator = MyDataGenerator(train_list, processed_dir, to_fit=True, \n",
        "                                  augment=True, batch_size=32,sample_weight=balancing_weights)\n",
        "test_generator = MyDataGenerator(test_list, processed_dir, batch_size=32,sample_weight=balancing_weights_test)"
      ],
      "execution_count": 0,
      "outputs": []
    },
    {
      "cell_type": "markdown",
      "metadata": {
        "id": "L88JL5DGvZRZ",
        "colab_type": "text"
      },
      "source": [
        "#### Run Model"
      ]
    },
    {
      "cell_type": "code",
      "metadata": {
        "id": "xq404p3hmDdZ",
        "colab_type": "code",
        "outputId": "5497db6e-3eeb-4929-86a1-d02a3ccdf927",
        "colab": {
          "base_uri": "https://localhost:8080/",
          "height": 972
        }
      },
      "source": [
        "history_ICAE_50do=ICAE_autoencoder.fit_generator(generator=train_generator,epochs=50,\n",
        "                                       validation_data=test_generator,shuffle=True,\n",
        "                                       callbacks = my_callbacks)"
      ],
      "execution_count": 0,
      "outputs": [
        {
          "output_type": "stream",
          "text": [
            "WARNING:tensorflow:From <ipython-input-20-aeb999c49156>:3: Model.fit_generator (from tensorflow.python.keras.engine.training) is deprecated and will be removed in a future version.\n",
            "Instructions for updating:\n",
            "Please use Model.fit, which supports generators.\n",
            "Epoch 1/50\n",
            "24/24 [==============================] - 566s 24s/step - loss: 4.1650 - ICAE_decoder_loss: 0.6640 - ICAE_classifier_loss: 7.6661 - ICAE_decoder_mae: 0.1874 - ICAE_classifier_acc: 0.3880 - ICAE_classifier_precision_1: 0.3853 - ICAE_classifier_recall_1: 0.3828 - ICAE_classifier_false_negatives_1: 474.0000 - ICAE_classifier_false_positives_1: 469.0000 - val_loss: 4.4156 - val_ICAE_decoder_loss: 0.6260 - val_ICAE_classifier_loss: 8.2052 - val_ICAE_decoder_mae: 0.2401 - val_ICAE_classifier_acc: 0.3594 - val_ICAE_classifier_precision_1: 0.3594 - val_ICAE_classifier_recall_1: 0.3594 - val_ICAE_classifier_false_negatives_1: 41.0000 - val_ICAE_classifier_false_positives_1: 41.0000\n",
            "Epoch 2/50\n",
            "24/24 [==============================] - 400s 17s/step - loss: 4.3040 - ICAE_decoder_loss: 0.6015 - ICAE_classifier_loss: 8.0064 - ICAE_decoder_mae: 0.1197 - ICAE_classifier_acc: 0.3711 - ICAE_classifier_precision_1: 0.3711 - ICAE_classifier_recall_1: 0.3711 - ICAE_classifier_false_negatives_1: 483.0000 - ICAE_classifier_false_positives_1: 483.0000 - val_loss: 4.2578 - val_ICAE_decoder_loss: 0.5330 - val_ICAE_classifier_loss: 7.9826 - val_ICAE_decoder_mae: 0.1659 - val_ICAE_classifier_acc: 0.3750 - val_ICAE_classifier_precision_1: 0.3750 - val_ICAE_classifier_recall_1: 0.3750 - val_ICAE_classifier_false_negatives_1: 40.0000 - val_ICAE_classifier_false_positives_1: 40.0000\n",
            "Epoch 3/50\n",
            "24/24 [==============================] - 383s 16s/step - loss: 4.3425 - ICAE_decoder_loss: 0.5792 - ICAE_classifier_loss: 8.1059 - ICAE_decoder_mae: 0.0932 - ICAE_classifier_acc: 0.3633 - ICAE_classifier_precision_1: 0.3633 - ICAE_classifier_recall_1: 0.3633 - ICAE_classifier_false_negatives_1: 489.0000 - ICAE_classifier_false_positives_1: 489.0000 - val_loss: 4.0986 - val_ICAE_decoder_loss: 0.5183 - val_ICAE_classifier_loss: 7.6788 - val_ICAE_decoder_mae: 0.1592 - val_ICAE_classifier_acc: 0.3750 - val_ICAE_classifier_precision_1: 0.3750 - val_ICAE_classifier_recall_1: 0.3750 - val_ICAE_classifier_false_negatives_1: 40.0000 - val_ICAE_classifier_false_positives_1: 40.0000\n",
            "Epoch 4/50\n",
            "24/24 [==============================] - 378s 16s/step - loss: 4.3226 - ICAE_decoder_loss: 0.5724 - ICAE_classifier_loss: 8.0727 - ICAE_decoder_mae: 0.0882 - ICAE_classifier_acc: 0.3659 - ICAE_classifier_precision_1: 0.3659 - ICAE_classifier_recall_1: 0.3659 - ICAE_classifier_false_negatives_1: 487.0000 - ICAE_classifier_false_positives_1: 487.0000 - val_loss: 3.8107 - val_ICAE_decoder_loss: 0.5183 - val_ICAE_classifier_loss: 7.1030 - val_ICAE_decoder_mae: 0.1562 - val_ICAE_classifier_acc: 0.3750 - val_ICAE_classifier_precision_1: 0.3750 - val_ICAE_classifier_recall_1: 0.3750 - val_ICAE_classifier_false_negatives_1: 40.0000 - val_ICAE_classifier_false_positives_1: 40.0000\n",
            "Epoch 5/50\n",
            "24/24 [==============================] - 389s 16s/step - loss: 4.3309 - ICAE_decoder_loss: 0.5725 - ICAE_classifier_loss: 8.0893 - ICAE_decoder_mae: 0.0849 - ICAE_classifier_acc: 0.3646 - ICAE_classifier_precision_1: 0.3646 - ICAE_classifier_recall_1: 0.3646 - ICAE_classifier_false_negatives_1: 488.0000 - ICAE_classifier_false_positives_1: 488.0000 - val_loss: 3.5755 - val_ICAE_decoder_loss: 0.5058 - val_ICAE_classifier_loss: 6.6453 - val_ICAE_decoder_mae: 0.1504 - val_ICAE_classifier_acc: 0.3594 - val_ICAE_classifier_precision_1: 0.3594 - val_ICAE_classifier_recall_1: 0.3594 - val_ICAE_classifier_false_negatives_1: 41.0000 - val_ICAE_classifier_false_positives_1: 41.0000\n",
            "Epoch 6/50\n",
            "24/24 [==============================] - 380s 16s/step - loss: 4.3213 - ICAE_decoder_loss: 0.5698 - ICAE_classifier_loss: 8.0727 - ICAE_decoder_mae: 0.0838 - ICAE_classifier_acc: 0.3659 - ICAE_classifier_precision_1: 0.3659 - ICAE_classifier_recall_1: 0.3659 - ICAE_classifier_false_negatives_1: 487.0000 - ICAE_classifier_false_positives_1: 487.0000 - val_loss: 3.2292 - val_ICAE_decoder_loss: 0.5078 - val_ICAE_classifier_loss: 5.9506 - val_ICAE_decoder_mae: 0.1529 - val_ICAE_classifier_acc: 0.3750 - val_ICAE_classifier_precision_1: 0.3750 - val_ICAE_classifier_recall_1: 0.3750 - val_ICAE_classifier_false_negatives_1: 40.0000 - val_ICAE_classifier_false_positives_1: 40.0000\n",
            "Epoch 7/50\n",
            "24/24 [==============================] - 414s 17s/step - loss: 3.7562 - ICAE_decoder_loss: 0.5637 - ICAE_classifier_loss: 6.9487 - ICAE_decoder_mae: 0.0833 - ICAE_classifier_acc: 0.3945 - ICAE_classifier_precision_1: 0.3993 - ICAE_classifier_recall_1: 0.4492 - ICAE_classifier_false_negatives_1: 423.0000 - ICAE_classifier_false_positives_1: 519.0000 - val_loss: 0.6162 - val_ICAE_decoder_loss: 0.5246 - val_ICAE_classifier_loss: 0.7079 - val_ICAE_decoder_mae: 0.1654 - val_ICAE_classifier_acc: 0.6094 - val_ICAE_classifier_precision_1: 0.5000 - val_ICAE_classifier_recall_1: 1.0000 - val_ICAE_classifier_false_negatives_1: 0.0000e+00 - val_ICAE_classifier_false_positives_1: 64.0000\n",
            "Epoch 8/50\n",
            "24/24 [==============================] - 389s 16s/step - loss: 0.6358 - ICAE_decoder_loss: 0.5792 - ICAE_classifier_loss: 0.6924 - ICAE_decoder_mae: 0.0952 - ICAE_classifier_acc: 0.6328 - ICAE_classifier_precision_1: 0.5000 - ICAE_classifier_recall_1: 1.0000 - ICAE_classifier_false_negatives_1: 0.0000e+00 - ICAE_classifier_false_positives_1: 768.0000 - val_loss: 0.5970 - val_ICAE_decoder_loss: 0.4932 - val_ICAE_classifier_loss: 0.7008 - val_ICAE_decoder_mae: 0.1372 - val_ICAE_classifier_acc: 0.6094 - val_ICAE_classifier_precision_1: 0.5000 - val_ICAE_classifier_recall_1: 1.0000 - val_ICAE_classifier_false_negatives_1: 0.0000e+00 - val_ICAE_classifier_false_positives_1: 64.0000\n",
            "Epoch 9/50\n",
            "24/24 [==============================] - 397s 17s/step - loss: 0.6296 - ICAE_decoder_loss: 0.5676 - ICAE_classifier_loss: 0.6917 - ICAE_decoder_mae: 0.0820 - ICAE_classifier_acc: 0.5143 - ICAE_classifier_precision_1: 0.5000 - ICAE_classifier_recall_1: 1.0000 - ICAE_classifier_false_negatives_1: 0.0000e+00 - ICAE_classifier_false_positives_1: 768.0000 - val_loss: 0.6006 - val_ICAE_decoder_loss: 0.5065 - val_ICAE_classifier_loss: 0.6948 - val_ICAE_decoder_mae: 0.1472 - val_ICAE_classifier_acc: 0.6250 - val_ICAE_classifier_precision_1: 0.5000 - val_ICAE_classifier_recall_1: 1.0000 - val_ICAE_classifier_false_negatives_1: 0.0000e+00 - val_ICAE_classifier_false_positives_1: 64.0000\n",
            "Epoch 10/50\n",
            "24/24 [==============================] - 390s 16s/step - loss: 0.6288 - ICAE_decoder_loss: 0.5648 - ICAE_classifier_loss: 0.6927 - ICAE_decoder_mae: 0.0785 - ICAE_classifier_acc: 0.4193 - ICAE_classifier_precision_1: 0.5000 - ICAE_classifier_recall_1: 1.0000 - ICAE_classifier_false_negatives_1: 0.0000e+00 - ICAE_classifier_false_positives_1: 768.0000 - val_loss: 0.6134 - val_ICAE_decoder_loss: 0.5201 - val_ICAE_classifier_loss: 0.7068 - val_ICAE_decoder_mae: 0.1545 - val_ICAE_classifier_acc: 0.5938 - val_ICAE_classifier_precision_1: 0.5000 - val_ICAE_classifier_recall_1: 1.0000 - val_ICAE_classifier_false_negatives_1: 0.0000e+00 - val_ICAE_classifier_false_positives_1: 64.0000\n",
            "Epoch 11/50\n",
            "24/24 [==============================] - 385s 16s/step - loss: 0.6274 - ICAE_decoder_loss: 0.5589 - ICAE_classifier_loss: 0.6958 - ICAE_decoder_mae: 0.0765 - ICAE_classifier_acc: 0.4297 - ICAE_classifier_precision_1: 0.5000 - ICAE_classifier_recall_1: 1.0000 - ICAE_classifier_false_negatives_1: 0.0000e+00 - ICAE_classifier_false_positives_1: 768.0000 - val_loss: 0.6070 - val_ICAE_decoder_loss: 0.5191 - val_ICAE_classifier_loss: 0.6948 - val_ICAE_decoder_mae: 0.1532 - val_ICAE_classifier_acc: 0.6250 - val_ICAE_classifier_precision_1: 0.5000 - val_ICAE_classifier_recall_1: 1.0000 - val_ICAE_classifier_false_negatives_1: 0.0000e+00 - val_ICAE_classifier_false_positives_1: 64.0000\n",
            "Epoch 12/50\n",
            "24/24 [==============================] - 382s 16s/step - loss: 0.6303 - ICAE_decoder_loss: 0.5679 - ICAE_classifier_loss: 0.6927 - ICAE_decoder_mae: 0.0739 - ICAE_classifier_acc: 0.4388 - ICAE_classifier_precision_1: 0.5000 - ICAE_classifier_recall_1: 1.0000 - ICAE_classifier_false_negatives_1: 0.0000e+00 - ICAE_classifier_false_positives_1: 768.0000 - val_loss: 0.5914 - val_ICAE_decoder_loss: 0.5121 - val_ICAE_classifier_loss: 0.6707 - val_ICAE_decoder_mae: 0.1510 - val_ICAE_classifier_acc: 0.6875 - val_ICAE_classifier_precision_1: 0.5000 - val_ICAE_classifier_recall_1: 1.0000 - val_ICAE_classifier_false_negatives_1: 0.0000e+00 - val_ICAE_classifier_false_positives_1: 64.0000\n",
            "Epoch 13/50\n",
            "24/24 [==============================] - 383s 16s/step - loss: 0.6292 - ICAE_decoder_loss: 0.5636 - ICAE_classifier_loss: 0.6948 - ICAE_decoder_mae: 0.0738 - ICAE_classifier_acc: 0.4049 - ICAE_classifier_precision_1: 0.5000 - ICAE_classifier_recall_1: 1.0000 - ICAE_classifier_false_negatives_1: 0.0000e+00 - ICAE_classifier_false_positives_1: 768.0000 - val_loss: 0.5997 - val_ICAE_decoder_loss: 0.5046 - val_ICAE_classifier_loss: 0.6948 - val_ICAE_decoder_mae: 0.1465 - val_ICAE_classifier_acc: 0.6250 - val_ICAE_classifier_precision_1: 0.5000 - val_ICAE_classifier_recall_1: 1.0000 - val_ICAE_classifier_false_negatives_1: 0.0000e+00 - val_ICAE_classifier_false_positives_1: 64.0000\n",
            "Epoch 14/50\n",
            "24/24 [==============================] - 384s 16s/step - loss: 0.6291 - ICAE_decoder_loss: 0.5656 - ICAE_classifier_loss: 0.6927 - ICAE_decoder_mae: 0.0727 - ICAE_classifier_acc: 0.4167 - ICAE_classifier_precision_1: 0.5000 - ICAE_classifier_recall_1: 1.0000 - ICAE_classifier_false_negatives_1: 0.0000e+00 - ICAE_classifier_false_positives_1: 768.0000 - val_loss: 0.5939 - val_ICAE_decoder_loss: 0.4930 - val_ICAE_classifier_loss: 0.6948 - val_ICAE_decoder_mae: 0.1401 - val_ICAE_classifier_acc: 0.6250 - val_ICAE_classifier_precision_1: 0.5000 - val_ICAE_classifier_recall_1: 1.0000 - val_ICAE_classifier_false_negatives_1: 0.0000e+00 - val_ICAE_classifier_false_positives_1: 64.0000\n",
            "Epoch 15/50\n",
            "24/24 [==============================] - 394s 16s/step - loss: 0.6228 - ICAE_decoder_loss: 0.5534 - ICAE_classifier_loss: 0.6922 - ICAE_decoder_mae: 0.0729 - ICAE_classifier_acc: 0.4062 - ICAE_classifier_precision_1: 0.5000 - ICAE_classifier_recall_1: 1.0000 - ICAE_classifier_false_negatives_1: 0.0000e+00 - ICAE_classifier_false_positives_1: 768.0000 - val_loss: 0.5990 - val_ICAE_decoder_loss: 0.4972 - val_ICAE_classifier_loss: 0.7008 - val_ICAE_decoder_mae: 0.1406 - val_ICAE_classifier_acc: 0.6094 - val_ICAE_classifier_precision_1: 0.5000 - val_ICAE_classifier_recall_1: 1.0000 - val_ICAE_classifier_false_negatives_1: 0.0000e+00 - val_ICAE_classifier_false_positives_1: 64.0000\n",
            "Epoch 16/50\n",
            "24/24 [==============================] - 379s 16s/step - loss: 0.6284 - ICAE_decoder_loss: 0.5626 - ICAE_classifier_loss: 0.6943 - ICAE_decoder_mae: 0.0706 - ICAE_classifier_acc: 0.3880 - ICAE_classifier_precision_1: 0.5000 - ICAE_classifier_recall_1: 1.0000 - ICAE_classifier_false_negatives_1: 0.0000e+00 - ICAE_classifier_false_positives_1: 768.0000 - val_loss: 0.5843 - val_ICAE_decoder_loss: 0.4978 - val_ICAE_classifier_loss: 0.6707 - val_ICAE_decoder_mae: 0.1417 - val_ICAE_classifier_acc: 0.6875 - val_ICAE_classifier_precision_1: 0.5000 - val_ICAE_classifier_recall_1: 1.0000 - val_ICAE_classifier_false_negatives_1: 0.0000e+00 - val_ICAE_classifier_false_positives_1: 64.0000\n",
            "Epoch 17/50\n",
            "24/24 [==============================] - 383s 16s/step - loss: 0.6243 - ICAE_decoder_loss: 0.5558 - ICAE_classifier_loss: 0.6927 - ICAE_decoder_mae: 0.0705 - ICAE_classifier_acc: 0.3997 - ICAE_classifier_precision_1: 0.5000 - ICAE_classifier_recall_1: 1.0000 - ICAE_classifier_false_negatives_1: 0.0000e+00 - ICAE_classifier_false_positives_1: 768.0000 - val_loss: 0.5961 - val_ICAE_decoder_loss: 0.4974 - val_ICAE_classifier_loss: 0.6948 - val_ICAE_decoder_mae: 0.1415 - val_ICAE_classifier_acc: 0.6250 - val_ICAE_classifier_precision_1: 0.5000 - val_ICAE_classifier_recall_1: 1.0000 - val_ICAE_classifier_false_negatives_1: 0.0000e+00 - val_ICAE_classifier_false_positives_1: 64.0000\n",
            "Epoch 18/50\n",
            "24/24 [==============================] - 388s 16s/step - loss: 0.6245 - ICAE_decoder_loss: 0.5563 - ICAE_classifier_loss: 0.6927 - ICAE_decoder_mae: 0.0694 - ICAE_classifier_acc: 0.3529 - ICAE_classifier_precision_1: 0.5000 - ICAE_classifier_recall_1: 1.0000 - ICAE_classifier_false_negatives_1: 0.0000e+00 - ICAE_classifier_false_positives_1: 768.0000 - val_loss: 0.5962 - val_ICAE_decoder_loss: 0.4976 - val_ICAE_classifier_loss: 0.6948 - val_ICAE_decoder_mae: 0.1415 - val_ICAE_classifier_acc: 0.6250 - val_ICAE_classifier_precision_1: 0.5000 - val_ICAE_classifier_recall_1: 1.0000 - val_ICAE_classifier_false_negatives_1: 0.0000e+00 - val_ICAE_classifier_false_positives_1: 64.0000\n",
            "Epoch 19/50\n",
            "24/24 [==============================] - 377s 16s/step - loss: 0.6267 - ICAE_decoder_loss: 0.5597 - ICAE_classifier_loss: 0.6938 - ICAE_decoder_mae: 0.0684 - ICAE_classifier_acc: 0.3789 - ICAE_classifier_precision_1: 0.5000 - ICAE_classifier_recall_1: 1.0000 - ICAE_classifier_false_negatives_1: 0.0000e+00 - ICAE_classifier_false_positives_1: 768.0000 - val_loss: 0.5952 - val_ICAE_decoder_loss: 0.4896 - val_ICAE_classifier_loss: 0.7008 - val_ICAE_decoder_mae: 0.1371 - val_ICAE_classifier_acc: 0.6094 - val_ICAE_classifier_precision_1: 0.5000 - val_ICAE_classifier_recall_1: 1.0000 - val_ICAE_classifier_false_negatives_1: 0.0000e+00 - val_ICAE_classifier_false_positives_1: 64.0000\n",
            "Epoch 20/50\n",
            "24/24 [==============================] - 385s 16s/step - loss: 0.6268 - ICAE_decoder_loss: 0.5598 - ICAE_classifier_loss: 0.6938 - ICAE_decoder_mae: 0.0684 - ICAE_classifier_acc: 0.3828 - ICAE_classifier_precision_1: 0.5000 - ICAE_classifier_recall_1: 1.0000 - ICAE_classifier_false_negatives_1: 0.0000e+00 - ICAE_classifier_false_positives_1: 768.0000 - val_loss: 0.5908 - val_ICAE_decoder_loss: 0.4928 - val_ICAE_classifier_loss: 0.6888 - val_ICAE_decoder_mae: 0.1385 - val_ICAE_classifier_acc: 0.6406 - val_ICAE_classifier_precision_1: 0.5000 - val_ICAE_classifier_recall_1: 1.0000 - val_ICAE_classifier_false_negatives_1: 0.0000e+00 - val_ICAE_classifier_false_positives_1: 64.0000\n",
            "Epoch 21/50\n",
            "24/24 [==============================] - 389s 16s/step - loss: 0.6288 - ICAE_decoder_loss: 0.5634 - ICAE_classifier_loss: 0.6943 - ICAE_decoder_mae: 0.0683 - ICAE_classifier_acc: 0.3763 - ICAE_classifier_precision_1: 0.5000 - ICAE_classifier_recall_1: 1.0000 - ICAE_classifier_false_negatives_1: 0.0000e+00 - ICAE_classifier_false_positives_1: 768.0000 - val_loss: 0.5886 - val_ICAE_decoder_loss: 0.4945 - val_ICAE_classifier_loss: 0.6827 - val_ICAE_decoder_mae: 0.1394 - val_ICAE_classifier_acc: 0.6562 - val_ICAE_classifier_precision_1: 0.5000 - val_ICAE_classifier_recall_1: 1.0000 - val_ICAE_classifier_false_negatives_1: 0.0000e+00 - val_ICAE_classifier_false_positives_1: 64.0000\n",
            "Epoch 22/50\n",
            "24/24 [==============================] - 378s 16s/step - loss: 0.6286 - ICAE_decoder_loss: 0.5644 - ICAE_classifier_loss: 0.6927 - ICAE_decoder_mae: 0.0674 - ICAE_classifier_acc: 0.3919 - ICAE_classifier_precision_1: 0.5000 - ICAE_classifier_recall_1: 1.0000 - ICAE_classifier_false_negatives_1: 0.0000e+00 - ICAE_classifier_false_positives_1: 768.0000 - val_loss: 0.5979 - val_ICAE_decoder_loss: 0.4889 - val_ICAE_classifier_loss: 0.7068 - val_ICAE_decoder_mae: 0.1378 - val_ICAE_classifier_acc: 0.5938 - val_ICAE_classifier_precision_1: 0.5000 - val_ICAE_classifier_recall_1: 1.0000 - val_ICAE_classifier_false_negatives_1: 0.0000e+00 - val_ICAE_classifier_false_positives_1: 64.0000\n",
            "Epoch 23/50\n",
            "24/24 [==============================] - 366s 15s/step - loss: 0.6242 - ICAE_decoder_loss: 0.5562 - ICAE_classifier_loss: 0.6922 - ICAE_decoder_mae: 0.0663 - ICAE_classifier_acc: 0.3906 - ICAE_classifier_precision_1: 0.5000 - ICAE_classifier_recall_1: 1.0000 - ICAE_classifier_false_negatives_1: 0.0000e+00 - ICAE_classifier_false_positives_1: 768.0000 - val_loss: 0.5898 - val_ICAE_decoder_loss: 0.4908 - val_ICAE_classifier_loss: 0.6888 - val_ICAE_decoder_mae: 0.1371 - val_ICAE_classifier_acc: 0.6406 - val_ICAE_classifier_precision_1: 0.5000 - val_ICAE_classifier_recall_1: 1.0000 - val_ICAE_classifier_false_negatives_1: 0.0000e+00 - val_ICAE_classifier_false_positives_1: 64.0000\n",
            "Epoch 24/50\n",
            "24/24 [==============================] - 367s 15s/step - loss: 0.6230 - ICAE_decoder_loss: 0.5533 - ICAE_classifier_loss: 0.6927 - ICAE_decoder_mae: 0.0656 - ICAE_classifier_acc: 0.3828 - ICAE_classifier_precision_1: 0.5000 - ICAE_classifier_recall_1: 1.0000 - ICAE_classifier_false_negatives_1: 0.0000e+00 - ICAE_classifier_false_positives_1: 768.0000 - val_loss: 0.5947 - val_ICAE_decoder_loss: 0.4946 - val_ICAE_classifier_loss: 0.6948 - val_ICAE_decoder_mae: 0.1387 - val_ICAE_classifier_acc: 0.6250 - val_ICAE_classifier_precision_1: 0.5000 - val_ICAE_classifier_recall_1: 1.0000 - val_ICAE_classifier_false_negatives_1: 0.0000e+00 - val_ICAE_classifier_false_positives_1: 64.0000\n",
            "Epoch 25/50\n",
            "24/24 [==============================] - 372s 15s/step - loss: 0.6262 - ICAE_decoder_loss: 0.5576 - ICAE_classifier_loss: 0.6948 - ICAE_decoder_mae: 0.0654 - ICAE_classifier_acc: 0.3815 - ICAE_classifier_precision_1: 0.5000 - ICAE_classifier_recall_1: 1.0000 - ICAE_classifier_false_negatives_1: 0.0000e+00 - ICAE_classifier_false_positives_1: 768.0000 - val_loss: 0.5986 - val_ICAE_decoder_loss: 0.4905 - val_ICAE_classifier_loss: 0.7068 - val_ICAE_decoder_mae: 0.1381 - val_ICAE_classifier_acc: 0.5938 - val_ICAE_classifier_precision_1: 0.5000 - val_ICAE_classifier_recall_1: 1.0000 - val_ICAE_classifier_false_negatives_1: 0.0000e+00 - val_ICAE_classifier_false_positives_1: 64.0000\n",
            "Epoch 26/50\n",
            "24/24 [==============================] - 369s 15s/step - loss: 0.6231 - ICAE_decoder_loss: 0.5535 - ICAE_classifier_loss: 0.6927 - ICAE_decoder_mae: 0.0648 - ICAE_classifier_acc: 0.3750 - ICAE_classifier_precision_1: 0.5000 - ICAE_classifier_recall_1: 1.0000 - ICAE_classifier_false_negatives_1: 0.0000e+00 - ICAE_classifier_false_positives_1: 768.0000 - val_loss: 0.5959 - val_ICAE_decoder_loss: 0.4909 - val_ICAE_classifier_loss: 0.7008 - val_ICAE_decoder_mae: 0.1376 - val_ICAE_classifier_acc: 0.6094 - val_ICAE_classifier_precision_1: 0.5000 - val_ICAE_classifier_recall_1: 1.0000 - val_ICAE_classifier_false_negatives_1: 0.0000e+00 - val_ICAE_classifier_false_positives_1: 64.0000\n"
          ],
          "name": "stdout"
        }
      ]
    },
    {
      "cell_type": "markdown",
      "metadata": {
        "id": "C2CT254LtLKr",
        "colab_type": "text"
      },
      "source": [
        "#### Analyze Results"
      ]
    },
    {
      "cell_type": "code",
      "metadata": {
        "id": "TOEJJGH9jVxB",
        "colab_type": "code",
        "outputId": "65aa22f3-940d-40ac-8ba4-67f036c8d752",
        "colab": {
          "base_uri": "https://localhost:8080/",
          "height": 295
        }
      },
      "source": [
        "ICAE_autoencoder.save('ICAE_autoencoder_50do_5-23.h5')\n",
        "with open('outputs_AC/trainHistoryDict', 'wb') as file_pi:\n",
        "        pickle.dump(history_ICAE_50do.history, file_pi)\n",
        "plt.plot(history_ICAE_50do.history['loss'])\n",
        "plt.plot(history_ICAE_50do.history['val_loss'])\n",
        "plt.title('model loss')\n",
        "plt.ylabel('loss')\n",
        "plt.xlabel('epoch')\n",
        "plt.legend(['train', 'val'], loc='upper left')\n",
        "plt.show()"
      ],
      "execution_count": 0,
      "outputs": [
        {
          "output_type": "display_data",
          "data": {
            "image/png": "[encoded data removed]",
            "text/plain": [
              "<Figure size 432x288 with 1 Axes>"
            ]
          },
          "metadata": {
            "tags": [],
            "needs_background": "light"
          }
        }
      ]
    },
    {
      "cell_type": "code",
      "metadata": {
        "id": "mtYMkfSzJR6h",
        "colab_type": "code",
        "outputId": "cf9d9e6f-0e7b-44e0-c936-32be98af9bb9",
        "colab": {
          "base_uri": "https://localhost:8080/",
          "height": 54
        }
      },
      "source": [
        "history_ICAE_50do.history.keys()"
      ],
      "execution_count": 0,
      "outputs": [
        {
          "output_type": "execute_result",
          "data": {
            "text/plain": [
              "dict_keys(['loss', 'ICAE_decoder_loss', 'ICAE_classifier_loss', 'ICAE_decoder_mae', 'ICAE_classifier_acc', 'ICAE_classifier_precision_1', 'ICAE_classifier_recall_1', 'ICAE_classifier_false_negatives_1', 'ICAE_classifier_false_positives_1', 'val_loss', 'val_ICAE_decoder_loss', 'val_ICAE_classifier_loss', 'val_ICAE_decoder_mae', 'val_ICAE_classifier_acc', 'val_ICAE_classifier_precision_1', 'val_ICAE_classifier_recall_1', 'val_ICAE_classifier_false_negatives_1', 'val_ICAE_classifier_false_positives_1'])"
            ]
          },
          "metadata": {
            "tags": []
          },
          "execution_count": 22
        }
      ]
    },
    {
      "cell_type": "code",
      "metadata": {
        "id": "9dTaweFaJcUQ",
        "colab_type": "code",
        "outputId": "4e40fbbc-f974-4838-ee7c-38ed4961c82f",
        "colab": {
          "base_uri": "https://localhost:8080/",
          "height": 295
        }
      },
      "source": [
        "plt.plot(history_ICAE_50do.history['ICAE_classifier_acc'])\n",
        "plt.plot(history_ICAE_50do.history['val_ICAE_classifier_acc'])\n",
        "plt.title('model accuracy')\n",
        "plt.ylabel('accuracy')\n",
        "plt.xlabel('epoch')\n",
        "plt.legend(['train', 'val'], loc='upper left')\n",
        "plt.show()"
      ],
      "execution_count": 0,
      "outputs": [
        {
          "output_type": "display_data",
          "data": {
            "image/png": "[encoded data removed]",
            "text/plain": [
              "<Figure size 432x288 with 1 Axes>"
            ]
          },
          "metadata": {
            "tags": [],
            "needs_background": "light"
          }
        }
      ]
    },
    {
      "cell_type": "code",
      "metadata": {
        "id": "Dvwu2uDHJ8Ll",
        "colab_type": "code",
        "outputId": "2d44a953-6682-4888-91ab-15928ffdc616",
        "colab": {
          "base_uri": "https://localhost:8080/",
          "height": 295
        }
      },
      "source": [
        "plt.plot(history_ICAE_50do.history['ICAE_classifier_precision_1'])\n",
        "plt.plot(history_ICAE_50do.history['val_ICAE_classifier_precision_1'])\n",
        "plt.title('model precision')\n",
        "plt.ylabel('precision')\n",
        "plt.xlabel('epoch')\n",
        "plt.legend(['train', 'val'], loc='upper left')\n",
        "plt.show()"
      ],
      "execution_count": 0,
      "outputs": [
        {
          "output_type": "display_data",
          "data": {
            "image/png": "[encoded data removed]",
            "text/plain": [
              "<Figure size 432x288 with 1 Axes>"
            ]
          },
          "metadata": {
            "tags": [],
            "needs_background": "light"
          }
        }
      ]
    },
    {
      "cell_type": "code",
      "metadata": {
        "id": "J_huDqdGOcVq",
        "colab_type": "code",
        "outputId": "ccf55dba-1b1a-4eb4-e0bd-97c28fe04c9e",
        "colab": {
          "base_uri": "https://localhost:8080/",
          "height": 88
        }
      },
      "source": [
        "balancing_weights_val = class_weight.compute_sample_weight('balanced',val_label)\n",
        "val_generator = MyDataGenerator(val_list, processed_dir,to_fit=False, batch_size=2,sample_weight=balancing_weights_val)\n",
        "pred = ICAE_autoencoder.predict_generator(val_generator)"
      ],
      "execution_count": 0,
      "outputs": [
        {
          "output_type": "stream",
          "text": [
            "WARNING:tensorflow:From <ipython-input-25-5366bf302948>:3: Model.predict_generator (from tensorflow.python.keras.engine.training) is deprecated and will be removed in a future version.\n",
            "Instructions for updating:\n",
            "Please use Model.predict, which supports generators.\n"
          ],
          "name": "stdout"
        }
      ]
    },
    {
      "cell_type": "code",
      "metadata": {
        "id": "V4TetCYxO0ie",
        "colab_type": "code",
        "outputId": "4751d33f-3705-422a-d1c7-0c35122bf491",
        "colab": {
          "base_uri": "https://localhost:8080/",
          "height": 204
        }
      },
      "source": [
        "from sklearn.metrics import classification_report,accuracy_score\n",
        "print(\"acc: \",accuracy_score(labels_to_categorical(val_label),np.round(pred[1])))\n",
        "print(classification_report(labels_to_categorical(val_label),np.round(pred[1])))"
      ],
      "execution_count": 0,
      "outputs": [
        {
          "output_type": "stream",
          "text": [
            "acc:  0.0\n",
            "              precision    recall  f1-score   support\n",
            "\n",
            "           0       0.37      1.00      0.54        36\n",
            "           1       0.63      1.00      0.78        62\n",
            "\n",
            "   micro avg       0.50      1.00      0.67        98\n",
            "   macro avg       0.50      1.00      0.66        98\n",
            "weighted avg       0.54      1.00      0.69        98\n",
            " samples avg       0.50      1.00      0.67        98\n",
            "\n"
          ],
          "name": "stdout"
        }
      ]
    },
    {
      "cell_type": "code",
      "metadata": {
        "id": "i_X8TgGTPJt4",
        "colab_type": "code",
        "colab": {}
      },
      "source": [
        "with open('outputs_AC/trainHistoryDict', 'rb') as file_pi:\n",
        "  test = pickle.load(file_pi)"
      ],
      "execution_count": 0,
      "outputs": []
    },
    {
      "cell_type": "code",
      "metadata": {
        "id": "uCIHa87SVGOr",
        "colab_type": "code",
        "outputId": "856bb7ef-fd8f-488e-8c79-d878a10c4e5d",
        "colab": {
          "base_uri": "https://localhost:8080/",
          "height": 187
        }
      },
      "source": [
        "test['loss'][-10:]"
      ],
      "execution_count": 0,
      "outputs": [
        {
          "output_type": "execute_result",
          "data": {
            "text/plain": [
              "[0.6242644190788269,\n",
              " 0.6245046854019165,\n",
              " 0.6267444491386414,\n",
              " 0.6267972588539124,\n",
              " 0.6288314461708069,\n",
              " 0.6285659074783325,\n",
              " 0.6241881847381592,\n",
              " 0.6230306029319763,\n",
              " 0.6261947154998779,\n",
              " 0.6231281161308289]"
            ]
          },
          "metadata": {
            "tags": []
          },
          "execution_count": 28
        }
      ]
    },
    {
      "cell_type": "code",
      "metadata": {
        "id": "URv9KGWOVGzk",
        "colab_type": "code",
        "outputId": "081e5237-7120-475f-95d6-308831369150",
        "colab": {
          "base_uri": "https://localhost:8080/",
          "height": 536
        }
      },
      "source": [
        "plt.imshow(pred[0][2][:,:,15,0])\n",
        "plt.show()\n",
        "plt.imshow(pred[0][2][:,:,0,0])"
      ],
      "execution_count": 0,
      "outputs": [
        {
          "output_type": "display_data",
          "data": {
            "image/png": "[encoded data removed]",
            "text/plain": [
              "<Figure size 432x288 with 1 Axes>"
            ]
          },
          "metadata": {
            "tags": [],
            "needs_background": "light"
          }
        },
        {
          "output_type": "execute_result",
          "data": {
            "text/plain": [
              "<matplotlib.image.AxesImage at 0x7f20ed61eb38>"
            ]
          },
          "metadata": {
            "tags": []
          },
          "execution_count": 29
        },
        {
          "output_type": "display_data",
          "data": {
            "image/png": "[encoded data removed]",
            "text/plain": [
              "<Figure size 432x288 with 1 Axes>"
            ]
          },
          "metadata": {
            "tags": [],
            "needs_background": "light"
          }
        }
      ]
    },
    {
      "cell_type": "code",
      "metadata": {
        "id": "-r-49t7GVU7U",
        "colab_type": "code",
        "colab": {}
      },
      "source": [
        ""
      ],
      "execution_count": 0,
      "outputs": []
    }
  ]
}