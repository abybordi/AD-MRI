{
  "nbformat": 4,
  "nbformat_minor": 0,
  "metadata": {
    "kernelspec": {
      "display_name": "Python 3",
      "language": "python",
      "name": "python3"
    },
    "language_info": {
      "codemirror_mode": {
        "name": "ipython",
        "version": 3
      },
      "file_extension": ".py",
      "mimetype": "text/x-python",
      "name": "python",
      "nbconvert_exporter": "python",
      "pygments_lexer": "ipython3",
      "version": "3.7.6"
    },
    "colab": {
      "name": "AD-MRI_Classifier Pipeline.ipynb",
      "provenance": [],
      "collapsed_sections": [
        "vPxTpESCFEvr",
        "0M5-EcRBy3nY"
      ],
      "machine_shape": "hm"
    },
    "accelerator": "GPU"
  },
  "cells": [
    {
      "cell_type": "markdown",
      "metadata": {
        "id": "vPxTpESCFEvr",
        "colab_type": "text"
      },
      "source": [
        "### Preprocessing"
      ]
    },
    {
      "cell_type": "markdown",
      "metadata": {
        "id": "k4ojT_jUDBDV",
        "colab_type": "text"
      },
      "source": [
        "#### Filter and Download Data"
      ]
    },
    {
      "cell_type": "code",
      "metadata": {
        "id": "DOJt0uFpBUVV",
        "colab_type": "code",
        "colab": {}
      },
      "source": [
        "# current working directory?\n",
        "# %cd /content/drive/My Drive/AD_MRI/DATA"
      ],
      "execution_count": 0,
      "outputs": []
    },
    {
      "cell_type": "code",
      "metadata": {
        "id": "TaSoXK7kDgFQ",
        "colab_type": "code",
        "colab": {}
      },
      "source": [
        "# Aux Functions\n",
        "import collections\n",
        "\n",
        "def get_iterable(x):\n",
        "    if isinstance(x, collections.Iterable):\n",
        "        return x\n",
        "    else:\n",
        "        return (x,)\n",
        "\n",
        "def find_nearest(array, value):\n",
        "    array = np.asarray(array)\n",
        "    idx = np.nanargmin((np.abs(array - value)))\n",
        "    return array[idx]\n",
        "\n",
        "def has_diagnosis(list_of_diag,x):\n",
        "    return [True if any(j in i for j in get_iterable(list_of_diag)) \\\n",
        "            else False for i in get_iterable(temp_diagnosis.dx1.values)]\n",
        "\n"
      ],
      "execution_count": 0,
      "outputs": []
    },
    {
      "cell_type": "code",
      "metadata": {
        "id": "i6vfhwi-Dnt9",
        "colab_type": "code",
        "colab": {
          "base_uri": "https://localhost:8080/",
          "height": 463
        },
        "outputId": "98e0c7d7-b1fe-4302-e893-954382c3dd0e"
      },
      "source": [
        "# load data\n",
        "grand = pd.read_csv('../scans_Oasis.csv') # all scans\n",
        "g_diagnosis = pd.read_csv('../diagnosis_Oasis.csv') .dropna(subset=['dx1']) #\"grand\" diagnosis \n",
        "participants = g_diagnosis.Subject.unique() #possible IDs\n",
        "\n",
        "\n",
        "# Create \"master list\"\n",
        "scan_IDs=[]\n",
        "diag=[]\n",
        "AD_MRI_Master = {}\n",
        "\n",
        "for sub in participants:\n",
        "      \n",
        "    \n",
        "    temp_diagnosis=g_diagnosis.loc[g_diagnosis.Subject==sub,['dx1','ageAtEntry']]\n",
        "    \n",
        "    \n",
        "    temp_scans=grand.loc[grand.Subject==sub,['MR ID','Age','Scans']]\n",
        "    # matching AD scan, nearest diagnosis\n",
        "    #print(sub)\n",
        "    if np.any(has_diagnosis(['AD','DAT'],temp_diagnosis.dx1.values)):\n",
        "        AD+=1\n",
        "        AD_MRI_Master[sub]={}\n",
        "        \n",
        "        first=has_diagnosis(['AD','DAT'],temp_diagnosis)\n",
        "        age_diag = temp_diagnosis.loc[first,'ageAtEntry'].values[0]\n",
        "        age_scan = find_nearest(temp_scans.Age.values,age_diag)\n",
        "        scan_ID = temp_scans.loc[temp_scans.Age==age_scan,['MR ID']].values[0][0]    \n",
        "        #print(sub,scan_ID)\n",
        "        scan_IDs.append(scan_ID)\n",
        "        diag.append('AD')\n",
        "        AD_MRI_Master[sub]['subject']=sub\n",
        "        AD_MRI_Master[sub]['age'] = age_scan\n",
        "        AD_MRI_Master[sub]['diagnosis']='AD'\n",
        "        AD_MRI_Master[sub]['scan_ID'] = scan_ID\n",
        "        \n",
        "        \n",
        "    elif np.all(has_diagnosis(['normal','.'],temp_diagnosis.dx1.values)):\n",
        "        \n",
        "        CN+=1\n",
        "        AD_MRI_Master[sub]={}\n",
        "            \n",
        "        first=has_diagnosis(['normal','.'],temp_diagnosis)\n",
        "        age_diag = temp_diagnosis.loc[first,'ageAtEntry'].values[0]\n",
        "        age_scan = find_nearest(temp_scans.Age.values,age_diag)\n",
        "        scan_ID = temp_scans.loc[temp_scans.Age==age_scan,['MR ID']].values[0][0]\n",
        "        #print(sub,scan_ID)\n",
        "        scan_IDs.append(scan_ID)\n",
        "        diag.append('CN')\n",
        "        AD_MRI_Master[sub]['subject']=sub\n",
        "        AD_MRI_Master[sub]['age'] = age_scan\n",
        "        AD_MRI_Master[sub]['diagnosis']='CN'\n",
        "        AD_MRI_Master[sub]['scan_ID'] = scan_ID\n",
        "    else:\n",
        "        #print(sub,temp_diagnosis.dx1)\n",
        "        Other+=1"
      ],
      "execution_count": 34,
      "outputs": [
        {
          "output_type": "error",
          "ename": "FileNotFoundError",
          "evalue": "ignored",
          "traceback": [
            "\u001b[0;31m---------------------------------------------------------------------------\u001b[0m",
            "\u001b[0;31mFileNotFoundError\u001b[0m                         Traceback (most recent call last)",
            "\u001b[0;32m<ipython-input-34-f1a6b5c26a47>\u001b[0m in \u001b[0;36m<module>\u001b[0;34m()\u001b[0m\n\u001b[1;32m      1\u001b[0m \u001b[0;31m# load data\u001b[0m\u001b[0;34m\u001b[0m\u001b[0;34m\u001b[0m\u001b[0;34m\u001b[0m\u001b[0m\n\u001b[0;32m----> 2\u001b[0;31m \u001b[0mgrand\u001b[0m \u001b[0;34m=\u001b[0m \u001b[0mpd\u001b[0m\u001b[0;34m.\u001b[0m\u001b[0mread_csv\u001b[0m\u001b[0;34m(\u001b[0m\u001b[0;34m'../scans_Oasis.csv'\u001b[0m\u001b[0;34m)\u001b[0m \u001b[0;31m# all scans\u001b[0m\u001b[0;34m\u001b[0m\u001b[0;34m\u001b[0m\u001b[0m\n\u001b[0m\u001b[1;32m      3\u001b[0m \u001b[0mg_diagnosis\u001b[0m \u001b[0;34m=\u001b[0m \u001b[0mpd\u001b[0m\u001b[0;34m.\u001b[0m\u001b[0mread_csv\u001b[0m\u001b[0;34m(\u001b[0m\u001b[0;34m'../diagnosis_Oasis.csv'\u001b[0m\u001b[0;34m)\u001b[0m \u001b[0;34m.\u001b[0m\u001b[0mdropna\u001b[0m\u001b[0;34m(\u001b[0m\u001b[0msubset\u001b[0m\u001b[0;34m=\u001b[0m\u001b[0;34m[\u001b[0m\u001b[0;34m'dx1'\u001b[0m\u001b[0;34m]\u001b[0m\u001b[0;34m)\u001b[0m \u001b[0;31m#\"grand\" diagnosis\u001b[0m\u001b[0;34m\u001b[0m\u001b[0;34m\u001b[0m\u001b[0m\n\u001b[1;32m      4\u001b[0m \u001b[0mparticipants\u001b[0m \u001b[0;34m=\u001b[0m \u001b[0mg_diagnosis\u001b[0m\u001b[0;34m.\u001b[0m\u001b[0mSubject\u001b[0m\u001b[0;34m.\u001b[0m\u001b[0munique\u001b[0m\u001b[0;34m(\u001b[0m\u001b[0;34m)\u001b[0m \u001b[0;31m#possible IDs\u001b[0m\u001b[0;34m\u001b[0m\u001b[0;34m\u001b[0m\u001b[0m\n\u001b[1;32m      5\u001b[0m \u001b[0;34m\u001b[0m\u001b[0m\n",
            "\u001b[0;32m/usr/local/lib/python3.6/dist-packages/pandas/io/parsers.py\u001b[0m in \u001b[0;36mparser_f\u001b[0;34m(filepath_or_buffer, sep, delimiter, header, names, index_col, usecols, squeeze, prefix, mangle_dupe_cols, dtype, engine, converters, true_values, false_values, skipinitialspace, skiprows, skipfooter, nrows, na_values, keep_default_na, na_filter, verbose, skip_blank_lines, parse_dates, infer_datetime_format, keep_date_col, date_parser, dayfirst, cache_dates, iterator, chunksize, compression, thousands, decimal, lineterminator, quotechar, quoting, doublequote, escapechar, comment, encoding, dialect, error_bad_lines, warn_bad_lines, delim_whitespace, low_memory, memory_map, float_precision)\u001b[0m\n\u001b[1;32m    674\u001b[0m         )\n\u001b[1;32m    675\u001b[0m \u001b[0;34m\u001b[0m\u001b[0m\n\u001b[0;32m--> 676\u001b[0;31m         \u001b[0;32mreturn\u001b[0m \u001b[0m_read\u001b[0m\u001b[0;34m(\u001b[0m\u001b[0mfilepath_or_buffer\u001b[0m\u001b[0;34m,\u001b[0m \u001b[0mkwds\u001b[0m\u001b[0;34m)\u001b[0m\u001b[0;34m\u001b[0m\u001b[0;34m\u001b[0m\u001b[0m\n\u001b[0m\u001b[1;32m    677\u001b[0m \u001b[0;34m\u001b[0m\u001b[0m\n\u001b[1;32m    678\u001b[0m     \u001b[0mparser_f\u001b[0m\u001b[0;34m.\u001b[0m\u001b[0m__name__\u001b[0m \u001b[0;34m=\u001b[0m \u001b[0mname\u001b[0m\u001b[0;34m\u001b[0m\u001b[0;34m\u001b[0m\u001b[0m\n",
            "\u001b[0;32m/usr/local/lib/python3.6/dist-packages/pandas/io/parsers.py\u001b[0m in \u001b[0;36m_read\u001b[0;34m(filepath_or_buffer, kwds)\u001b[0m\n\u001b[1;32m    446\u001b[0m \u001b[0;34m\u001b[0m\u001b[0m\n\u001b[1;32m    447\u001b[0m     \u001b[0;31m# Create the parser.\u001b[0m\u001b[0;34m\u001b[0m\u001b[0;34m\u001b[0m\u001b[0;34m\u001b[0m\u001b[0m\n\u001b[0;32m--> 448\u001b[0;31m     \u001b[0mparser\u001b[0m \u001b[0;34m=\u001b[0m \u001b[0mTextFileReader\u001b[0m\u001b[0;34m(\u001b[0m\u001b[0mfp_or_buf\u001b[0m\u001b[0;34m,\u001b[0m \u001b[0;34m**\u001b[0m\u001b[0mkwds\u001b[0m\u001b[0;34m)\u001b[0m\u001b[0;34m\u001b[0m\u001b[0;34m\u001b[0m\u001b[0m\n\u001b[0m\u001b[1;32m    449\u001b[0m \u001b[0;34m\u001b[0m\u001b[0m\n\u001b[1;32m    450\u001b[0m     \u001b[0;32mif\u001b[0m \u001b[0mchunksize\u001b[0m \u001b[0;32mor\u001b[0m \u001b[0miterator\u001b[0m\u001b[0;34m:\u001b[0m\u001b[0;34m\u001b[0m\u001b[0;34m\u001b[0m\u001b[0m\n",
            "\u001b[0;32m/usr/local/lib/python3.6/dist-packages/pandas/io/parsers.py\u001b[0m in \u001b[0;36m__init__\u001b[0;34m(self, f, engine, **kwds)\u001b[0m\n\u001b[1;32m    878\u001b[0m             \u001b[0mself\u001b[0m\u001b[0;34m.\u001b[0m\u001b[0moptions\u001b[0m\u001b[0;34m[\u001b[0m\u001b[0;34m\"has_index_names\"\u001b[0m\u001b[0;34m]\u001b[0m \u001b[0;34m=\u001b[0m \u001b[0mkwds\u001b[0m\u001b[0;34m[\u001b[0m\u001b[0;34m\"has_index_names\"\u001b[0m\u001b[0;34m]\u001b[0m\u001b[0;34m\u001b[0m\u001b[0;34m\u001b[0m\u001b[0m\n\u001b[1;32m    879\u001b[0m \u001b[0;34m\u001b[0m\u001b[0m\n\u001b[0;32m--> 880\u001b[0;31m         \u001b[0mself\u001b[0m\u001b[0;34m.\u001b[0m\u001b[0m_make_engine\u001b[0m\u001b[0;34m(\u001b[0m\u001b[0mself\u001b[0m\u001b[0;34m.\u001b[0m\u001b[0mengine\u001b[0m\u001b[0;34m)\u001b[0m\u001b[0;34m\u001b[0m\u001b[0;34m\u001b[0m\u001b[0m\n\u001b[0m\u001b[1;32m    881\u001b[0m \u001b[0;34m\u001b[0m\u001b[0m\n\u001b[1;32m    882\u001b[0m     \u001b[0;32mdef\u001b[0m \u001b[0mclose\u001b[0m\u001b[0;34m(\u001b[0m\u001b[0mself\u001b[0m\u001b[0;34m)\u001b[0m\u001b[0;34m:\u001b[0m\u001b[0;34m\u001b[0m\u001b[0;34m\u001b[0m\u001b[0m\n",
            "\u001b[0;32m/usr/local/lib/python3.6/dist-packages/pandas/io/parsers.py\u001b[0m in \u001b[0;36m_make_engine\u001b[0;34m(self, engine)\u001b[0m\n\u001b[1;32m   1112\u001b[0m     \u001b[0;32mdef\u001b[0m \u001b[0m_make_engine\u001b[0m\u001b[0;34m(\u001b[0m\u001b[0mself\u001b[0m\u001b[0;34m,\u001b[0m \u001b[0mengine\u001b[0m\u001b[0;34m=\u001b[0m\u001b[0;34m\"c\"\u001b[0m\u001b[0;34m)\u001b[0m\u001b[0;34m:\u001b[0m\u001b[0;34m\u001b[0m\u001b[0;34m\u001b[0m\u001b[0m\n\u001b[1;32m   1113\u001b[0m         \u001b[0;32mif\u001b[0m \u001b[0mengine\u001b[0m \u001b[0;34m==\u001b[0m \u001b[0;34m\"c\"\u001b[0m\u001b[0;34m:\u001b[0m\u001b[0;34m\u001b[0m\u001b[0;34m\u001b[0m\u001b[0m\n\u001b[0;32m-> 1114\u001b[0;31m             \u001b[0mself\u001b[0m\u001b[0;34m.\u001b[0m\u001b[0m_engine\u001b[0m \u001b[0;34m=\u001b[0m \u001b[0mCParserWrapper\u001b[0m\u001b[0;34m(\u001b[0m\u001b[0mself\u001b[0m\u001b[0;34m.\u001b[0m\u001b[0mf\u001b[0m\u001b[0;34m,\u001b[0m \u001b[0;34m**\u001b[0m\u001b[0mself\u001b[0m\u001b[0;34m.\u001b[0m\u001b[0moptions\u001b[0m\u001b[0;34m)\u001b[0m\u001b[0;34m\u001b[0m\u001b[0;34m\u001b[0m\u001b[0m\n\u001b[0m\u001b[1;32m   1115\u001b[0m         \u001b[0;32melse\u001b[0m\u001b[0;34m:\u001b[0m\u001b[0;34m\u001b[0m\u001b[0;34m\u001b[0m\u001b[0m\n\u001b[1;32m   1116\u001b[0m             \u001b[0;32mif\u001b[0m \u001b[0mengine\u001b[0m \u001b[0;34m==\u001b[0m \u001b[0;34m\"python\"\u001b[0m\u001b[0;34m:\u001b[0m\u001b[0;34m\u001b[0m\u001b[0;34m\u001b[0m\u001b[0m\n",
            "\u001b[0;32m/usr/local/lib/python3.6/dist-packages/pandas/io/parsers.py\u001b[0m in \u001b[0;36m__init__\u001b[0;34m(self, src, **kwds)\u001b[0m\n\u001b[1;32m   1889\u001b[0m         \u001b[0mkwds\u001b[0m\u001b[0;34m[\u001b[0m\u001b[0;34m\"usecols\"\u001b[0m\u001b[0;34m]\u001b[0m \u001b[0;34m=\u001b[0m \u001b[0mself\u001b[0m\u001b[0;34m.\u001b[0m\u001b[0musecols\u001b[0m\u001b[0;34m\u001b[0m\u001b[0;34m\u001b[0m\u001b[0m\n\u001b[1;32m   1890\u001b[0m \u001b[0;34m\u001b[0m\u001b[0m\n\u001b[0;32m-> 1891\u001b[0;31m         \u001b[0mself\u001b[0m\u001b[0;34m.\u001b[0m\u001b[0m_reader\u001b[0m \u001b[0;34m=\u001b[0m \u001b[0mparsers\u001b[0m\u001b[0;34m.\u001b[0m\u001b[0mTextReader\u001b[0m\u001b[0;34m(\u001b[0m\u001b[0msrc\u001b[0m\u001b[0;34m,\u001b[0m \u001b[0;34m**\u001b[0m\u001b[0mkwds\u001b[0m\u001b[0;34m)\u001b[0m\u001b[0;34m\u001b[0m\u001b[0;34m\u001b[0m\u001b[0m\n\u001b[0m\u001b[1;32m   1892\u001b[0m         \u001b[0mself\u001b[0m\u001b[0;34m.\u001b[0m\u001b[0munnamed_cols\u001b[0m \u001b[0;34m=\u001b[0m \u001b[0mself\u001b[0m\u001b[0;34m.\u001b[0m\u001b[0m_reader\u001b[0m\u001b[0;34m.\u001b[0m\u001b[0munnamed_cols\u001b[0m\u001b[0;34m\u001b[0m\u001b[0;34m\u001b[0m\u001b[0m\n\u001b[1;32m   1893\u001b[0m \u001b[0;34m\u001b[0m\u001b[0m\n",
            "\u001b[0;32mpandas/_libs/parsers.pyx\u001b[0m in \u001b[0;36mpandas._libs.parsers.TextReader.__cinit__\u001b[0;34m()\u001b[0m\n",
            "\u001b[0;32mpandas/_libs/parsers.pyx\u001b[0m in \u001b[0;36mpandas._libs.parsers.TextReader._setup_parser_source\u001b[0;34m()\u001b[0m\n",
            "\u001b[0;31mFileNotFoundError\u001b[0m: [Errno 2] File ../scans_Oasis.csv does not exist: '../scans_Oasis.csv'"
          ]
        }
      ]
    },
    {
      "cell_type": "code",
      "metadata": {
        "id": "4HUGNUqmDqhb",
        "colab_type": "code",
        "colab": {}
      },
      "source": [
        "# Create scan IDs (only) csv:\n",
        "sids= pd.DataFrame(scan_IDs)\n",
        "sids.to_csv(\"scan_IDs.csv\",header=False,index=False)"
      ],
      "execution_count": 0,
      "outputs": []
    },
    {
      "cell_type": "code",
      "metadata": {
        "id": "99Tf3d4oDrTR",
        "colab_type": "code",
        "colab": {}
      },
      "source": [
        "# Download data using script:\n",
        "#! sh download_oasis_scans.sh scan_IDs.csv ./DATA dbrennan T1\n",
        "\n",
        "# This downloads all the data for scan IDs in \"sids\"/\"scan_IDs.csv\" to a folder called DATA"
      ],
      "execution_count": 0,
      "outputs": []
    },
    {
      "cell_type": "markdown",
      "metadata": {
        "id": "n3I5qUaFDgbQ",
        "colab_type": "text"
      },
      "source": [
        "#### Preprocess Data"
      ]
    },
    {
      "cell_type": "code",
      "metadata": {
        "id": "sULs8hjDDgwF",
        "colab_type": "code",
        "colab": {}
      },
      "source": [
        "# if you need ants registration package:\n",
        "\n",
        "# !pip install antspyx"
      ],
      "execution_count": 0,
      "outputs": []
    },
    {
      "cell_type": "code",
      "metadata": {
        "id": "xzHjp1Y_ET3t",
        "colab_type": "code",
        "colab": {}
      },
      "source": [
        "import numpy as np\n",
        "import pandas as pd\n",
        "import ants\n",
        "\n",
        "import glob\n",
        "import re"
      ],
      "execution_count": 0,
      "outputs": []
    },
    {
      "cell_type": "code",
      "metadata": {
        "id": "kVxzsyMTET8Q",
        "colab_type": "code",
        "colab": {}
      },
      "source": [
        "paths=[]\n",
        "\n",
        "data_dir = '~/data'\n",
        "mni_path = '~/MNI152_T1_1mm.nii.gz'\n",
        "\n",
        "subject_pattern = re.compile('OAS\\d{5}')\n",
        "paths=glob.glob(data_dir+'/**/*.nii*',recursive=True)\n",
        "subs = [subject_pattern.findall(i)[0] for i in paths]\n",
        "subs = list(np.unique(subs))\n",
        "\n",
        "mni = ants.image_read(mni_path,pixeltype='unsigned int')"
      ],
      "execution_count": 0,
      "outputs": []
    },
    {
      "cell_type": "code",
      "metadata": {
        "id": "m2N1z-FNEUDq",
        "colab_type": "code",
        "colab": {}
      },
      "source": [
        "# auxilliary functions\n",
        "\n",
        "import collections\n",
        "def get_iterable(x):\n",
        "    if isinstance(x, collections.Iterable):\n",
        "        return x\n",
        "    else:\n",
        "        return (x,)\n",
        "def my_minmax(z):\n",
        "    return (z-np.min(z))/(np.max(z)-np.min(z))\n",
        "\n",
        "\n",
        "def start_from(my_list,start):\n",
        "    l=[i for i in my_list.keys()]\n",
        "    start_ind = [num for num,j in enumerate(l) if j == start][0]\n",
        "    return l[start_ind:]\n",
        "\n",
        "\n",
        "for sub in start_from(AD_MRI_Master,'OAS30001'): #can start from any participant if preproc gets interrupted, etc\n",
        "#for sub in ('OAS30599',):\n",
        "    \n",
        "    sID = AD_MRI_Master[sub]['scan_ID']\n",
        "    T1_paths = glob.glob('DATA/'+sID+'/**/*T1w*nii*')\n",
        "    try:\n",
        "        T1_path = get_iterable(T1_paths)[0]\n",
        "    except:\n",
        "        print(sub,': cant find T1!')\n",
        "\n",
        "    moving = ants.image_read(T1_path)\n",
        "    #fit transformation\n",
        "    transform = ants.registration(fixed=mni,moving=moving,type_of_transform='SyN')\n",
        "    out_data= AD_MRI_Master[sub] #copies all demographic data: age, diagnosis etc.\n",
        "    # makes new dict entry, \"image\" which contains T1, after applying transformation:\n",
        "    out_data['image']=ants.apply_transforms(fixed=mni,moving=moving,\n",
        "                                            transformlist=transform['fwdtransforms']).resample_image((120,160,120),use_voxels=True)\n",
        "    out_data['image']=my_minmax(out_data['image'].numpy()) #squash values to 0:1\n",
        "    \n",
        "    # dumps new dicts into foldr called \"processed\" which contains all of the data ready for analysis\n",
        "    with open('PROCESSED/'+ sub +'_data','wb') as f:\n",
        "        pickle.dump(out_data, f)\n",
        "    \n"
      ],
      "execution_count": 0,
      "outputs": []
    },
    {
      "cell_type": "markdown",
      "metadata": {
        "id": "JbGuvPWzE0m3",
        "colab_type": "text"
      },
      "source": [
        "#### QA with \"QA.py\""
      ]
    },
    {
      "cell_type": "markdown",
      "metadata": {
        "id": "ccCmW0mfFWzO",
        "colab_type": "text"
      },
      "source": [
        "After all data is processed, do QA with \"QA.py\", which will display slices of image and slices of MNI.\n",
        "\n",
        "Ensure they are aligned, and respond \"g\" if good, and \"b\" if bad. Response is recorded and QA list updated:"
      ]
    },
    {
      "cell_type": "code",
      "metadata": {
        "id": "2xl8BwsNDhGk",
        "colab_type": "code",
        "colab": {}
      },
      "source": [
        "# ! python QA.py\n",
        "\n",
        "# after going through and reprocessing bad images, check QA again with:\n",
        "# ! python QA_update.py"
      ],
      "execution_count": 0,
      "outputs": []
    },
    {
      "cell_type": "markdown",
      "metadata": {
        "id": "4kHL0I0XDhSR",
        "colab_type": "text"
      },
      "source": [
        "### Finally, data is ready for deep learning!\n"
      ]
    },
    {
      "cell_type": "markdown",
      "metadata": {
        "id": "vTngGXkhvhH3",
        "colab_type": "text"
      },
      "source": [
        "#### Import Libraries and Mount Data"
      ]
    },
    {
      "cell_type": "code",
      "metadata": {
        "id": "Xt2onyB1zQ9Z",
        "colab_type": "code",
        "colab": {}
      },
      "source": [
        "%matplotlib inline \n",
        "from matplotlib import pyplot as plt\n",
        "import numpy as np\n",
        "import pandas as pd\n",
        "import pickle\n",
        "import warnings\n",
        "import tensorflow as tf\n",
        "import random\n",
        "import scipy\n",
        "import cv2\n",
        "from tensorflow.keras.utils import Sequence\n",
        "from tensorflow.keras.utils import to_categorical\n",
        "from sklearn.model_selection import train_test_split\n",
        "from sklearn.preprocessing import LabelEncoder\n",
        "from sklearn.utils import class_weight\n",
        "from tensorflow import keras\n",
        "from tensorflow.keras import backend as K\n",
        "from tensorflow.keras.callbacks import TensorBoard\n",
        "from tensorflow.keras.models import Sequential, Model\n",
        "from tensorflow.keras.layers import Dense, Conv3D, MaxPool3D, Dropout, \\\n",
        "        Flatten, Conv3DTranspose, UpSampling3D, Reshape, Input, concatenate\n",
        "from tensorflow.keras.regularizers import l1_l2\n",
        "from google.colab import drive\n"
      ],
      "execution_count": 0,
      "outputs": []
    },
    {
      "cell_type": "code",
      "metadata": {
        "id": "I8ug2tfPzWqa",
        "colab_type": "code",
        "outputId": "6140e126-3751-4f04-d94c-e5f33bafb65f",
        "colab": {
          "base_uri": "https://localhost:8080/",
          "height": 34
        }
      },
      "source": [
        "drive.mount('/content/drive')"
      ],
      "execution_count": 2,
      "outputs": [
        {
          "output_type": "stream",
          "text": [
            "Drive already mounted at /content/drive; to attempt to forcibly remount, call drive.mount(\"/content/drive\", force_remount=True).\n"
          ],
          "name": "stdout"
        }
      ]
    },
    {
      "cell_type": "code",
      "metadata": {
        "id": "vXKe3JlXzQ9d",
        "colab_type": "code",
        "colab": {}
      },
      "source": [
        "warnings.filterwarnings('ignore')"
      ],
      "execution_count": 0,
      "outputs": []
    },
    {
      "cell_type": "code",
      "metadata": {
        "id": "IT-I0pU4zQ9g",
        "colab_type": "code",
        "outputId": "2b3ccfc8-b973-41c5-e9a0-6fc808b26093",
        "colab": {
          "base_uri": "https://localhost:8080/",
          "height": 34
        }
      },
      "source": [
        "print('Tensorflow version:', tf.__version__)"
      ],
      "execution_count": 4,
      "outputs": [
        {
          "output_type": "stream",
          "text": [
            "Tensorflow version: 2.2.0\n"
          ],
          "name": "stdout"
        }
      ]
    },
    {
      "cell_type": "markdown",
      "metadata": {
        "id": "KA4HQ31xqss0",
        "colab_type": "text"
      },
      "source": [
        "#### Set Options"
      ]
    },
    {
      "cell_type": "code",
      "metadata": {
        "id": "GBOAiHg0qrLZ",
        "colab_type": "code",
        "colab": {}
      },
      "source": [
        "#-- Experimental options --#\n",
        "\n",
        "#-- Dropout; values tested: 0.0, 0.5, 0.8\n",
        "dropout_rate = 0.8\n",
        "\n",
        "#-- With or without inception block \n",
        "with_ib = True\n",
        "\n",
        "#-- With or without an autoencoder\n",
        "with_ae = False\n",
        "\n",
        "#-- Number of Epochs\n",
        "n_epochs = 2 #-- to check pipeline only # 50\n",
        "\n",
        "#-- Number of nodes in first dense layer of classifier; values tested: 1024, 256\n",
        "n_nodes_1st = 1024\n",
        "\n",
        "#-- Number of nodes in second dense layer of classifier; values tested: 64, 128\n",
        "n_nodes_2nd = 64\n",
        "\n",
        "#-- Classifier output layer activation; values tested: softmax, sigmoid\n",
        "output_act = 'softmax'\n",
        "\n",
        "# According to Nature paper (Oh et. al.), l1 and l2 values of 10e-4 \n",
        "#   performed the best from experimentation with 0.01, 0.001, 0.0001, 0.00001 \n",
        "#   values.\n",
        "#-- L1 regularization option in inception block; off at 0\n",
        "l1_value = 0\n",
        "\n",
        "#-- L2 regularization option in inception block; off at 0\n",
        "l2_value = 0\n",
        "\n",
        "\n",
        "\n",
        "#-- Fairly static options for consistent experimentation --#\n",
        "\n",
        "#-- File path to pickled master sheet\n",
        "master_file = '/content/drive/My Drive/AD_MRI/AD_MRI_Master'\n",
        "\n",
        "#-- Directory path to preprocessed images\n",
        "processed_dir = '/content/drive/My Drive/AD_MRI/PROCESSED/'\n",
        "\n",
        "#-- Initial split (percent validation from original train)\n",
        "test_size_1st = 0.10\n",
        "\n",
        "#-- Second split of (percent test from initial train split)\n",
        "test_size_2nd = 0.10\n",
        "\n",
        "#-- Input dimensions for ventricles_only=True; otherwise (120, 160, 120, 1)\n",
        "input_dim = (120, 160, 16, 1)\n",
        "\n",
        "#-- Filters for inception block in the specified branch order: \n",
        "#       [branch_1x1x1, branch_3x3x3, branch_double_3x3x3, branch_maxpool_3x3x3]\n",
        "filters = [10, 10, 10, 10]\n",
        "\n",
        "#-- Inception model summary view setting for positions to minimize truncation\n",
        "four_cols = [.35, .64, .71, 1.]\n"
      ],
      "execution_count": 0,
      "outputs": []
    },
    {
      "cell_type": "markdown",
      "metadata": {
        "id": "nPFgeYTuzQ9k",
        "colab_type": "text"
      },
      "source": [
        "#### Create Train/Test Subset"
      ]
    },
    {
      "cell_type": "code",
      "metadata": {
        "id": "qYrPlrRqzQ9k",
        "colab_type": "code",
        "colab": {}
      },
      "source": [
        "#%cd /content/drive/My Drive/AD_MRI\n",
        "\n",
        "def create_master_sheet(filepath=master_file):\n",
        "    # Load list of records\n",
        "    with open(filepath, 'rb') as f:\n",
        "        master_list = pickle.load(f)\n",
        "        \n",
        "    master_sheet = pd.DataFrame.from_dict(master_list, orient='index')\n",
        "    display(master_sheet.head())\n",
        "\n",
        "    return master_sheet\n",
        "\n",
        "\n",
        "def split_data(master_sheet):\n",
        "    # Split into train, validation, test\n",
        "    train_list, test_list, train_label, test_label = \\\n",
        "            train_test_split(master_sheet.subject.values, \n",
        "                            master_sheet.diagnosis.values, \n",
        "                            random_state = 1337, \n",
        "                            test_size=test_size_1st)\n",
        "            \n",
        "    train_list, val_list, train_label, val_label = \\\n",
        "            train_test_split(train_list, \n",
        "                            train_label, \n",
        "                            random_state = 0, \n",
        "                            test_size=test_size_2nd)\n",
        "            \n",
        "    return train_list, train_label, val_list, val_label, test_list, test_label\n",
        "\n",
        "def check_split(train_list, train_label, \n",
        "                val_list, val_label, \n",
        "                test_list, test_label):\n",
        "\n",
        "    # Check for ratios of AD to NC to be consistent among sets\n",
        "    AD_count = 0\n",
        "    for lab in train_label:\n",
        "        if lab == 'AD':\n",
        "            AD_count +=1\n",
        "    print('train_ratio AD: ', round(AD_count/len(train_label), 3))\n",
        "\n",
        "    AD_count = 0\n",
        "    for lab in val_label:\n",
        "        if lab == 'AD':\n",
        "            AD_count +=1\n",
        "    print('val_ratio AD: ', round(AD_count/len(val_label), 3))\n",
        "\n",
        "    AD_count = 0\n",
        "    for lab in test_label:\n",
        "        if lab == 'AD':\n",
        "            AD_count +=1\n",
        "    print('test_ratio AD: ', round(AD_count/len(test_label), 3))\n",
        "\n",
        "    print('\\nNumber of records\\ntrain:', len(train_list), \n",
        "        '\\nvalidation:', len(val_list), '\\ntest:', len(test_list))\n",
        "\n"
      ],
      "execution_count": 0,
      "outputs": []
    },
    {
      "cell_type": "markdown",
      "metadata": {
        "id": "BWz1F457zQ9r",
        "colab_type": "text"
      },
      "source": [
        "#### Create Generator"
      ]
    },
    {
      "cell_type": "code",
      "metadata": {
        "id": "Q3IK5qfYzQ9r",
        "colab_type": "code",
        "colab": {}
      },
      "source": [
        "def labels_to_categorical(labels):\n",
        "    le = LabelEncoder()\n",
        "    le.fit([\"CN\", \"AD\"])\n",
        "    num_lab = to_categorical(le.transform(labels), num_classes=2)\n",
        "    return num_lab\n",
        "\n",
        "\n",
        "def my_minmax(z):\n",
        "    return (z-np.min(z)) / (np.max(z)-np.min(z))\n",
        "\n",
        "\n",
        "class MyDataGenerator(Sequence):\n",
        "    \"\"\"Generates data for Keras Sequence based data generator. \n",
        "    Suitable for building data generator for training and prediction.\n",
        "    \"\"\"\n",
        "    def __init__(self, list_IDs, processed_dir=processed_dir, augment=False, \n",
        "                 to_fit=True, batch_size=32, dim=(120, 160, 120, 1),\n",
        "                 n_classes=2, shuffle=True, with_ib=False, with_ae=True, \n",
        "                 ventricles_only=True, slice_start=50, slice_end=66, \n",
        "                 sample_weight=None):\n",
        "        \"\"\"Initialization\n",
        "        :param list_IDs: list of all 'label' PATHS\n",
        "        :param processed_dir: path to directory of processed images\n",
        "        :param augment: True to augment data with random image rotations\n",
        "        :param to_fit: True to return X, y and w, False to return X only\n",
        "        :param batch_size: batch size at each iteration\n",
        "        :param dim: tuple indicating image dimension\n",
        "        :param n_classes: number of output masks\n",
        "        :param shuffle: True to shuffle label indexes after every epoch\n",
        "        :param with_ib: True to include inception block(s)\n",
        "        :param with_ae: True to also run decoder and autoencoder, \n",
        "                        False to run encoder/classifier only\n",
        "        :param ventricles_only: True to reduce dimensions to relevant slice\n",
        "        :param slice_start: starting index for ventricles_only=True\n",
        "        :param slice_end: ending index for ventricles_only=True\n",
        "        :param sample_weight: weights to address class imbalance if to_fit=True\n",
        "        \"\"\"\n",
        "        self.list_IDs = list_IDs\n",
        "        self.processed_dir = processed_dir\n",
        "        self.augment = augment\n",
        "        self.to_fit = to_fit\n",
        "        self.batch_size = batch_size\n",
        "        self.dim = dim\n",
        "        self.n_classes = n_classes\n",
        "        self.shuffle = shuffle\n",
        "        self.with_ib = with_ib\n",
        "        self.with_ae = with_ae\n",
        "        self.ventricles_only = ventricles_only\n",
        "        self.on_epoch_end()\n",
        "        self.slice_start = slice_start\n",
        "        self.slice_end = slice_end\n",
        "        if self.ventricles_only == False:\n",
        "            self.slice_size = 120\n",
        "        else:\n",
        "            self.slice_size = slice_end - slice_start\n",
        "        self.sample_weight = sample_weight\n",
        "\n",
        "\n",
        "    def __len__(self):\n",
        "        \"\"\"Denotes the number of batches per epoch\n",
        "        :return: number of batches per epoch\n",
        "        \"\"\"\n",
        "        return int(np.floor(len(self.list_IDs) / self.batch_size))\n",
        "\n",
        "\n",
        "    def __getitem__(self, index):\n",
        "        \"\"\"Generate one batch of data\n",
        "        :param index: index of the batch\n",
        "        :return: X and y when fitting. X only when predicting\n",
        "        \"\"\"\n",
        "        # Generate indexes of the batch\n",
        "        indexes = self.indexes[index \n",
        "                               * self.batch_size:(index + 1) \n",
        "                               * self.batch_size]\n",
        "\n",
        "        # Find list of IDs\n",
        "        list_IDs_temp = [self.list_IDs[k] for k in indexes]\n",
        "        \n",
        "        # Generate data\n",
        "        X, y = self._load_data(list_IDs_temp)\n",
        "        X = my_minmax(np.float32(X))\n",
        "        if self.ventricles_only == True:\n",
        "          X = X[:, :, :, self.slice_start:self.slice_end, :]\n",
        "        w = np.asarray([self.sample_weight[k] for k in indexes])\n",
        "        if self.to_fit:\n",
        "            if self.with_ae == True:\n",
        "                y = {'classifier': y, 'decoder': X}\n",
        "                w = {'classifier': w,\n",
        "                    'decoder':np.ones(np.shape(X))}\n",
        "            else:\n",
        "                y = {'classifier': y}\n",
        "                w = {'classifier': w}\n",
        "            return X, y, w\n",
        "\n",
        "        else:\n",
        "            return X\n",
        "\n",
        "\n",
        "    def on_epoch_end(self):\n",
        "        \"\"\"Updates indexes after each epoch\n",
        "        \"\"\"\n",
        "        self.indexes = np.arange(len(self.list_IDs))\n",
        "        if self.shuffle == True:\n",
        "            np.random.shuffle(self.indexes)\n",
        "\n",
        "\n",
        "    def _load_data(self, list_IDs_temp):\n",
        "        \"\"\"Generates data containing batch_size images\n",
        "        :param list_IDs_temp: list of label ids to load\n",
        "        :return: batch of images\n",
        "        \"\"\"\n",
        "        # Initialization\n",
        "        X = np.empty((self.batch_size, *self.dim))\n",
        "        y = np.empty((self.batch_size, self.n_classes), dtype=int)\n",
        "        \n",
        "        # Generate data\n",
        "        for i, ID in enumerate(list_IDs_temp):\n",
        "            \n",
        "            # start X\n",
        "            with open(self.processed_dir+ID+'_data','rb') as f:\n",
        "                data = pickle.load(f)\n",
        "                \n",
        "            # third dimension = 120, error using self.slice_size for value 16\n",
        "            x_reshape= np.reshape(data['image'], (120, 160, 120, 1))\n",
        "            if self.augment == True:\n",
        "                x_reshape = scipy.ndimage.rotate(x_reshape, \n",
        "                                axes=random.choice([(0, 1), (0, 2), (1, 2)]), \n",
        "                                angle=random.choice([360-15, 15,0]), \n",
        "                                reshape=False)\n",
        "            X[i,] = x_reshape\n",
        "            \n",
        "            #start y\n",
        "            y[i,] = labels_to_categorical([data['diagnosis']])\n",
        "\n",
        "        return X, y\n",
        "\n",
        "    "
      ],
      "execution_count": 0,
      "outputs": []
    },
    {
      "cell_type": "code",
      "metadata": {
        "id": "sDciL6K9E10n",
        "colab_type": "code",
        "colab": {}
      },
      "source": [
        "def check_gen(train_label, test_list):\n",
        "\n",
        "    print(labels_to_categorical([\"CN\"]))\n",
        "\n",
        "    balancing_weights = class_weight.compute_sample_weight('balanced', \n",
        "                                                           train_label)\n",
        "    print(balancing_weights[0], train_label[0])\n",
        "    print(balancing_weights[1], train_label[1])\n",
        "\n",
        "    # # usage:\n",
        "    # mdg = MyDataGenerator(test_list, processed_dir=PROCESSED_DIR, to_fit=False,\n",
        "    #                       with_ae=with_ae, with_ib=with_ib, \n",
        "    #                       augment=True, sample_weight=balancing_weights, \n",
        "    #                       batch_size=2)\n",
        "\n",
        "    # X, y, weights = mdg.__getitem__(0) #without .__getitem__ obviously\n",
        "\n",
        "    # print('X:', X, '\\ny:', y, '\\nweights:', weights)\n"
      ],
      "execution_count": 0,
      "outputs": []
    },
    {
      "cell_type": "markdown",
      "metadata": {
        "id": "dmBIOR_Imh2S",
        "colab_type": "text"
      },
      "source": [
        "#### Create Inception Block"
      ]
    },
    {
      "cell_type": "code",
      "metadata": {
        "id": "Tds1F1Ic_hYE",
        "colab_type": "code",
        "colab": {}
      },
      "source": [
        "def inception_module(input_tensor, filters=filters, \n",
        "                     l1_value=l1_value, l2_value=l2_value):\n",
        "    \"\"\"\n",
        "    filters is a list of inception filter operations for:\n",
        "        1x1x1 kernel, \n",
        "        1x1x1 then 3x3x3 kernels, \n",
        "        1x1x1 then 3x3x3 then 3x3x3 kernels, \n",
        "        and 3x3x3 maxpooling then 1x1x1 kernels, \n",
        "            respectively.\n",
        "    \"\"\"\n",
        "    filter0, filter1, filter2, filter3 = filters\n",
        "\n",
        "    # Branch A\n",
        "    branch_1x1x1 = Conv3D(filter0, kernel_size=(1, 1, 1), \n",
        "                          activation='relu', padding='same', \n",
        "                          kernel_regularizer=l1_l2(l1_value, l2_value), \n",
        "                          name='Branch_A_1x1x1')(input_tensor)\n",
        "\n",
        "    # Branch B\n",
        "    branch_3x3x3_initial = Conv3D(filter1, kernel_size=(1, 1, 1), \n",
        "                                  activation='relu', padding='same', \n",
        "                                  kernel_regularizer=l1_l2(l1_value, l2_value), \n",
        "                                  name='Branch_B_1x1x1')(input_tensor)\n",
        "    branch_3x3x3 = Conv3D(filter1, kernel_size=(3, 3, 3), \n",
        "                          activation='relu', padding='same', \n",
        "                          kernel_regularizer=l1_l2(l1_value, l2_value), \n",
        "                          name='Branch_B_3x3x3')(branch_3x3x3_initial)\n",
        "\n",
        "    # Branch C\n",
        "    branch_double_3x3x3_initial = Conv3D(filter2, \n",
        "                                         kernel_size=(1, 1, 1), \n",
        "                                         activation='relu', padding='same', \n",
        "                                         kernel_regularizer=l1_l2(l1_value, \n",
        "                                                                  l2_value), \n",
        "                                         name='Branch_C_1x1x1')(input_tensor)\n",
        "    branch_double_3x3x3_middle = Conv3D(filter2, \n",
        "                                        kernel_size=(3, 3, 3), \n",
        "                                        activation='relu', padding='same', \n",
        "                                        kernel_regularizer=l1_l2(l1_value, \n",
        "                                                                 l2_value), \n",
        "                                        name='Branch_C_1st_3x3x3')\\\n",
        "                                        (branch_double_3x3x3_initial)\n",
        "    branch_double_3x3x3 = Conv3D(filter2, kernel_size=(3, 3, 3), \n",
        "                                 activation='relu', padding='same', \n",
        "                                 kernel_regularizer=l1_l2(l1_value, l2_value), \n",
        "                                 name='Branch_C_2nd_3x3x3')\\\n",
        "                                 (branch_double_3x3x3_middle)\n",
        "\n",
        "    # Branch D\n",
        "    branch_maxpool_3x3x3_initial = MaxPool3D(pool_size=(3, 3, 3), \n",
        "                                             strides=(1, 1, 1), padding='same', \n",
        "                                             name='Branch_D_3x3x3_maxpool')\\\n",
        "                                             (input_tensor)\n",
        "    branch_maxpool_3x3x3 = Conv3D(filter3, kernel_size=(1, 1, 1), \n",
        "                                  activation='relu', padding='same', \n",
        "                                  kernel_regularizer=l1_l2(l1_value, l2_value), \n",
        "                                  name='Branch_D_1x1x1')\\\n",
        "                                  (branch_maxpool_3x3x3_initial)\n",
        "    \n",
        "    # Merge branches\n",
        "    modules = [branch_1x1x1, branch_3x3x3, branch_double_3x3x3, \n",
        "               branch_maxpool_3x3x3]\n",
        "    merged_module = concatenate(modules, name='Inception_Merged')\n",
        "    \n",
        "    return merged_module\n",
        "    \n"
      ],
      "execution_count": 0,
      "outputs": []
    },
    {
      "cell_type": "markdown",
      "metadata": {
        "id": "keq6jtuibxaY",
        "colab_type": "text"
      },
      "source": [
        "#### Build Encoder"
      ]
    },
    {
      "cell_type": "code",
      "metadata": {
        "id": "nl5zjCyJbwfe",
        "colab_type": "code",
        "colab": {}
      },
      "source": [
        "def build_encoder(input_dim=input_dim, with_ib=with_ib, dropout_rate=dropout_rate):\n",
        "    '''\n",
        "    '''\n",
        "    input_img = Input(shape=input_dim, name='Input')\n",
        "    print('\\ninput shape:', input_img.shape)\n",
        "\n",
        "    x = Conv3D(10, (3, 3, 3), activation='relu', padding='same', \n",
        "            name='Convolution_1')(input_img)\n",
        "    x = MaxPool3D((2, 2, 2), name='MaxPooling_1')(x)\n",
        "    x = Dropout(dropout_rate, name='DropOut_1')(x)\n",
        "\n",
        "    x = Conv3D(10, (3, 3, 3), activation='relu', padding='same', \n",
        "            name='Convolution_2')(x)\n",
        "    x = MaxPool3D((2, 2, 2), name='MaxPooling_2')(x)\n",
        "    x = Dropout(dropout_rate, name='DropOut_2')(x)\n",
        "\n",
        "    if with_ib:\n",
        "        x = inception_module(x)\n",
        "    else:\n",
        "        x = Conv3D(10, (3, 3, 3), activation='relu', padding='same', \n",
        "                name='Convolution_3')(x)\n",
        "    x = MaxPool3D((2, 2, 2), name='MaxPooling_3')(x)\n",
        "    x = Dropout(dropout_rate, name='DropOut_3')(x)\n",
        "\n",
        "    encoded = x\n",
        "    encoded_shape = K.int_shape(encoded)\n",
        "    print('output shape:', encoded_shape, '\\n')\n",
        "\n",
        "    encoder = Model(input_img, encoded, name='encoder')\n",
        "\n",
        "    if with_ib:\n",
        "        encoder.summary(positions=four_cols) \n",
        "    else:\n",
        "        encoder.summary()\n",
        "    \n",
        "    return encoder, encoded_shape\n",
        "\n"
      ],
      "execution_count": 0,
      "outputs": []
    },
    {
      "cell_type": "markdown",
      "metadata": {
        "id": "mgdhITnqeZWu",
        "colab_type": "text"
      },
      "source": [
        "#### Build Decoder"
      ]
    },
    {
      "cell_type": "code",
      "metadata": {
        "id": "tpsV8eaBebwy",
        "colab_type": "code",
        "colab": {}
      },
      "source": [
        "def build_decoder(encoder, encoded_shape, \n",
        "                  with_ib=with_ib, dropout_rate=dropout_rate):\n",
        "    '''\n",
        "    used when with_ae=True\n",
        "    '''\n",
        "    encoded_input = Input(shape=(encoded_shape[1],encoded_shape[2], \n",
        "                                encoded_shape[3], encoded_shape[4],), \n",
        "                        name='Encoded')\n",
        "    print('\\ninput shape:', encoded_input.shape)\n",
        "\n",
        "    x = encoded_input\n",
        "\n",
        "    if with_ib:\n",
        "        x = inception_module(x)\n",
        "    else:\n",
        "        x = Conv3DTranspose(10, (3, 3, 3), activation='relu', padding='same', \n",
        "                            name='Convolution_3')(x)\n",
        "    x = UpSampling3D((2, 2, 2), name='UpSampling_3')(x)\n",
        "    x = Dropout(dropout_rate, name='DropOut_3')(x)\n",
        "\n",
        "    x = Conv3DTranspose(10, (3, 3, 3), activation='relu', padding='same', \n",
        "                        name='Convolution_2')(x)\n",
        "    x = UpSampling3D((2, 2, 2), name='UpSampling_2')(x)\n",
        "    x = Dropout(dropout_rate, name='DropOut_2')(x)\n",
        "\n",
        "    x = Conv3DTranspose(10, (3, 3, 3), activation='relu', padding='same', \n",
        "                        name='Convolution_1')(x)\n",
        "    x = UpSampling3D((2, 2, 2), name='UpSampling_1')(x)\n",
        "    x = Dropout(dropout_rate, name='DropOut_1')(x)\n",
        "\n",
        "    x = Conv3DTranspose(1, (3, 3, 3), activation='sigmoid', padding='same', \n",
        "                            name='Output')(x)\n",
        "\n",
        "    decoded = x\n",
        "    print('output shape:', K.int_shape(decoded), '\\n')\n",
        "\n",
        "    decoder = Model(encoded_input, decoded, name='decoder')\n",
        "\n",
        "    if with_ib:\n",
        "        decoder.summary(positions=four_cols)\n",
        "    else:\n",
        "        decoder.summary()\n",
        "\n",
        "    return decoder\n",
        "\n"
      ],
      "execution_count": 0,
      "outputs": []
    },
    {
      "cell_type": "markdown",
      "metadata": {
        "id": "kXkI4A-7nVdl",
        "colab_type": "text"
      },
      "source": [
        "#### Build Classifier"
      ]
    },
    {
      "cell_type": "code",
      "metadata": {
        "id": "4HojJmkjnY03",
        "colab_type": "code",
        "colab": {}
      },
      "source": [
        "def build_classifier(encoded, encoded_shape, n_nodes_1st=n_nodes_1st, \n",
        "                     n_nodes_2nd=n_nodes_2nd, output_act=output_act):\n",
        "    '''\n",
        "    '''\n",
        "    encoded_input = Input(shape=(encoded_shape[1], encoded_shape[2], \n",
        "                                encoded_shape[3], encoded_shape[4],), \n",
        "                        name='Encoded')\n",
        "\n",
        "    y = encoded_input\n",
        "\n",
        "    y = Flatten(name='Flatten')(y)\n",
        "    y = Dense(n_nodes_1st, activation='selu', name='SELU_1')(y)\n",
        "    y = Dense(n_nodes_2nd, activation='selu', name='SELU_2')(y)\n",
        "    y = Dense(2, activation=output_act, name='Prediction')(y)\n",
        "\n",
        "    pred = y\n",
        "\n",
        "    classifier = Model(encoded_input, pred, name='classifier')\n",
        "    classifier.summary()\n",
        "\n",
        "    return classifier\n",
        "\n"
      ],
      "execution_count": 0,
      "outputs": []
    },
    {
      "cell_type": "markdown",
      "metadata": {
        "id": "3M-7jOq3L88B",
        "colab_type": "text"
      },
      "source": [
        "#### Build Model"
      ]
    },
    {
      "cell_type": "code",
      "metadata": {
        "id": "yiEiqXYZLkBM",
        "colab_type": "code",
        "colab": {}
      },
      "source": [
        "def build_model(encoder, decoder, classifier, input_dim=input_dim, \n",
        "                with_ae=with_ae, with_ib=with_ib):\n",
        "    '''\n",
        "    Build model with inception block and autoencoder options.\n",
        "    '''\n",
        "    input_img = Input(shape=input_dim, name='Input')\n",
        "    if with_ae:\n",
        "        model = Model(inputs=input_img, \n",
        "                                outputs=[decoder(encoder(input_img)), \n",
        "                                        classifier(encoder(input_img))], \n",
        "                      name='model')\n",
        "    else:\n",
        "        model = Model(inputs=input_img, outputs=classifier(encoder(input_img)), \n",
        "                      name='model')\n",
        "\n",
        "    if with_ib:\n",
        "        model.summary(positions=four_cols)\n",
        "    else:\n",
        "        model.summary()\n",
        "\n",
        "    return model\n",
        "\n"
      ],
      "execution_count": 0,
      "outputs": []
    },
    {
      "cell_type": "markdown",
      "metadata": {
        "id": "0M5-EcRBy3nY",
        "colab_type": "text"
      },
      "source": [
        "#### Run Pipeline"
      ]
    },
    {
      "cell_type": "code",
      "metadata": {
        "id": "tJn08jd_y9Ch",
        "colab_type": "code",
        "outputId": "c91ee10b-ee26-441d-eb44-9ab70b97a5b2",
        "colab": {
          "base_uri": "https://localhost:8080/",
          "height": 1000
        }
      },
      "source": [
        "#-- Set options in above 'Set Options' section and run pipeline\n",
        "\n",
        "master_sheet = create_master_sheet()\n",
        "\n",
        "train_list, train_label, val_list, val_label, test_list, test_label = \\\n",
        "    split_data(master_sheet)\n",
        "\n",
        "#-- optional check\n",
        "check_split(train_list, train_label, val_list, val_label, test_list, test_label)\n",
        "\n",
        "#-- optional check\n",
        "check_gen(train_label, test_list)\n",
        "\n",
        "encoder, encoded_shape = build_encoder()\n",
        "\n",
        "#-- currently building decoder regardless of with_ae\n",
        "decoder = build_decoder(encoder, encoded_shape)\n",
        "\n",
        "classifier = build_classifier(encoder, encoded_shape)\n",
        "\n",
        "#-- decoder input but unused in model when with_ae=False\n",
        "model = build_model(encoder, decoder, classifier)\n"
      ],
      "execution_count": 52,
      "outputs": [
        {
          "output_type": "display_data",
          "data": {
            "text/html": [
              "<div>\n",
              "<style scoped>\n",
              "    .dataframe tbody tr th:only-of-type {\n",
              "        vertical-align: middle;\n",
              "    }\n",
              "\n",
              "    .dataframe tbody tr th {\n",
              "        vertical-align: top;\n",
              "    }\n",
              "\n",
              "    .dataframe thead th {\n",
              "        text-align: right;\n",
              "    }\n",
              "</style>\n",
              "<table border=\"1\" class=\"dataframe\">\n",
              "  <thead>\n",
              "    <tr style=\"text-align: right;\">\n",
              "      <th></th>\n",
              "      <th>subject</th>\n",
              "      <th>age</th>\n",
              "      <th>diagnosis</th>\n",
              "      <th>scan_ID</th>\n",
              "    </tr>\n",
              "  </thead>\n",
              "  <tbody>\n",
              "    <tr>\n",
              "      <th>OAS30001</th>\n",
              "      <td>OAS30001</td>\n",
              "      <td>65.0</td>\n",
              "      <td>CN</td>\n",
              "      <td>OAS30001_MR_d0129</td>\n",
              "    </tr>\n",
              "    <tr>\n",
              "      <th>OAS30002</th>\n",
              "      <td>OAS30002</td>\n",
              "      <td>68.0</td>\n",
              "      <td>CN</td>\n",
              "      <td>OAS30002_MR_d0371</td>\n",
              "    </tr>\n",
              "    <tr>\n",
              "      <th>OAS30003</th>\n",
              "      <td>OAS30003</td>\n",
              "      <td>60.0</td>\n",
              "      <td>CN</td>\n",
              "      <td>OAS30003_MR_d0558</td>\n",
              "    </tr>\n",
              "    <tr>\n",
              "      <th>OAS30004</th>\n",
              "      <td>OAS30004</td>\n",
              "      <td>58.0</td>\n",
              "      <td>CN</td>\n",
              "      <td>OAS30004_MR_d1101</td>\n",
              "    </tr>\n",
              "    <tr>\n",
              "      <th>OAS30005</th>\n",
              "      <td>OAS30005</td>\n",
              "      <td>48.0</td>\n",
              "      <td>CN</td>\n",
              "      <td>OAS30005_MR_d0143</td>\n",
              "    </tr>\n",
              "  </tbody>\n",
              "</table>\n",
              "</div>"
            ],
            "text/plain": [
              "           subject   age diagnosis            scan_ID\n",
              "OAS30001  OAS30001  65.0        CN  OAS30001_MR_d0129\n",
              "OAS30002  OAS30002  68.0        CN  OAS30002_MR_d0371\n",
              "OAS30003  OAS30003  60.0        CN  OAS30003_MR_d0558\n",
              "OAS30004  OAS30004  58.0        CN  OAS30004_MR_d1101\n",
              "OAS30005  OAS30005  48.0        CN  OAS30005_MR_d0143"
            ]
          },
          "metadata": {
            "tags": []
          }
        },
        {
          "output_type": "stream",
          "text": [
            "train_ratio AD:  0.367\n",
            "val_ratio AD:  0.371\n",
            "test_ratio AD:  0.367\n",
            "\n",
            "Number of records\n",
            "train: 793 \n",
            "validation: 89 \n",
            "test: 98\n",
            "[[0. 1.]]\n",
            "1.3625429553264605 AD\n",
            "0.7898406374501992 CN\n",
            "\n",
            "input shape: (None, 120, 160, 16, 1)\n",
            "output shape: (None, 15, 20, 2, 40) \n",
            "\n",
            "Model: \"encoder\"\n",
            "__________________________________________________________________________________________________\n",
            "Layer (type)                      Output Shape                Param  Connected to                 \n",
            "==================================================================================================\n",
            "Input (InputLayer)                [(None, 120, 160, 16, 1)]   0                                   \n",
            "__________________________________________________________________________________________________\n",
            "Convolution_1 (Conv3D)            (None, 120, 160, 16, 10)    280    Input[0][0]                  \n",
            "__________________________________________________________________________________________________\n",
            "MaxPooling_1 (MaxPooling3D)       (None, 60, 80, 8, 10)       0      Convolution_1[0][0]          \n",
            "__________________________________________________________________________________________________\n",
            "DropOut_1 (Dropout)               (None, 60, 80, 8, 10)       0      MaxPooling_1[0][0]           \n",
            "__________________________________________________________________________________________________\n",
            "Convolution_2 (Conv3D)            (None, 60, 80, 8, 10)       2710   DropOut_1[0][0]              \n",
            "__________________________________________________________________________________________________\n",
            "MaxPooling_2 (MaxPooling3D)       (None, 30, 40, 4, 10)       0      Convolution_2[0][0]          \n",
            "__________________________________________________________________________________________________\n",
            "DropOut_2 (Dropout)               (None, 30, 40, 4, 10)       0      MaxPooling_2[0][0]           \n",
            "__________________________________________________________________________________________________\n",
            "Branch_C_1x1x1 (Conv3D)           (None, 30, 40, 4, 10)       110    DropOut_2[0][0]              \n",
            "__________________________________________________________________________________________________\n",
            "Branch_B_1x1x1 (Conv3D)           (None, 30, 40, 4, 10)       110    DropOut_2[0][0]              \n",
            "__________________________________________________________________________________________________\n",
            "Branch_C_1st_3x3x3 (Conv3D)       (None, 30, 40, 4, 10)       2710   Branch_C_1x1x1[0][0]         \n",
            "__________________________________________________________________________________________________\n",
            "Branch_D_3x3x3_maxpool (MaxPoolin (None, 30, 40, 4, 10)       0      DropOut_2[0][0]              \n",
            "__________________________________________________________________________________________________\n",
            "Branch_A_1x1x1 (Conv3D)           (None, 30, 40, 4, 10)       110    DropOut_2[0][0]              \n",
            "__________________________________________________________________________________________________\n",
            "Branch_B_3x3x3 (Conv3D)           (None, 30, 40, 4, 10)       2710   Branch_B_1x1x1[0][0]         \n",
            "__________________________________________________________________________________________________\n",
            "Branch_C_2nd_3x3x3 (Conv3D)       (None, 30, 40, 4, 10)       2710   Branch_C_1st_3x3x3[0][0]     \n",
            "__________________________________________________________________________________________________\n",
            "Branch_D_1x1x1 (Conv3D)           (None, 30, 40, 4, 10)       110    Branch_D_3x3x3_maxpool[0][0] \n",
            "__________________________________________________________________________________________________\n",
            "Inception_Merged (Concatenate)    (None, 30, 40, 4, 40)       0      Branch_A_1x1x1[0][0]         \n",
            "                                                                     Branch_B_3x3x3[0][0]         \n",
            "                                                                     Branch_C_2nd_3x3x3[0][0]     \n",
            "                                                                     Branch_D_1x1x1[0][0]         \n",
            "__________________________________________________________________________________________________\n",
            "MaxPooling_3 (MaxPooling3D)       (None, 15, 20, 2, 40)       0      Inception_Merged[0][0]       \n",
            "__________________________________________________________________________________________________\n",
            "DropOut_3 (Dropout)               (None, 15, 20, 2, 40)       0      MaxPooling_3[0][0]           \n",
            "==================================================================================================\n",
            "Total params: 11,560\n",
            "Trainable params: 11,560\n",
            "Non-trainable params: 0\n",
            "__________________________________________________________________________________________________\n",
            "\n",
            "input shape: (None, 15, 20, 2, 40)\n",
            "output shape: (None, 120, 160, 16, 1) \n",
            "\n",
            "Model: \"decoder\"\n",
            "__________________________________________________________________________________________________\n",
            "Layer (type)                      Output Shape                Param  Connected to                 \n",
            "==================================================================================================\n",
            "Encoded (InputLayer)              [(None, 15, 20, 2, 40)]     0                                   \n",
            "__________________________________________________________________________________________________\n",
            "Branch_C_1x1x1 (Conv3D)           (None, 15, 20, 2, 10)       410    Encoded[0][0]                \n",
            "__________________________________________________________________________________________________\n",
            "Branch_B_1x1x1 (Conv3D)           (None, 15, 20, 2, 10)       410    Encoded[0][0]                \n",
            "__________________________________________________________________________________________________\n",
            "Branch_C_1st_3x3x3 (Conv3D)       (None, 15, 20, 2, 10)       2710   Branch_C_1x1x1[0][0]         \n",
            "__________________________________________________________________________________________________\n",
            "Branch_D_3x3x3_maxpool (MaxPoolin (None, 15, 20, 2, 40)       0      Encoded[0][0]                \n",
            "__________________________________________________________________________________________________\n",
            "Branch_A_1x1x1 (Conv3D)           (None, 15, 20, 2, 10)       410    Encoded[0][0]                \n",
            "__________________________________________________________________________________________________\n",
            "Branch_B_3x3x3 (Conv3D)           (None, 15, 20, 2, 10)       2710   Branch_B_1x1x1[0][0]         \n",
            "__________________________________________________________________________________________________\n",
            "Branch_C_2nd_3x3x3 (Conv3D)       (None, 15, 20, 2, 10)       2710   Branch_C_1st_3x3x3[0][0]     \n",
            "__________________________________________________________________________________________________\n",
            "Branch_D_1x1x1 (Conv3D)           (None, 15, 20, 2, 10)       410    Branch_D_3x3x3_maxpool[0][0] \n",
            "__________________________________________________________________________________________________\n",
            "Inception_Merged (Concatenate)    (None, 15, 20, 2, 40)       0      Branch_A_1x1x1[0][0]         \n",
            "                                                                     Branch_B_3x3x3[0][0]         \n",
            "                                                                     Branch_C_2nd_3x3x3[0][0]     \n",
            "                                                                     Branch_D_1x1x1[0][0]         \n",
            "__________________________________________________________________________________________________\n",
            "UpSampling_3 (UpSampling3D)       (None, 30, 40, 4, 40)       0      Inception_Merged[0][0]       \n",
            "__________________________________________________________________________________________________\n",
            "DropOut_3 (Dropout)               (None, 30, 40, 4, 40)       0      UpSampling_3[0][0]           \n",
            "__________________________________________________________________________________________________\n",
            "Convolution_2 (Conv3DTranspose)   (None, 30, 40, 4, 10)       10810  DropOut_3[0][0]              \n",
            "__________________________________________________________________________________________________\n",
            "UpSampling_2 (UpSampling3D)       (None, 60, 80, 8, 10)       0      Convolution_2[0][0]          \n",
            "__________________________________________________________________________________________________\n",
            "DropOut_2 (Dropout)               (None, 60, 80, 8, 10)       0      UpSampling_2[0][0]           \n",
            "__________________________________________________________________________________________________\n",
            "Convolution_1 (Conv3DTranspose)   (None, 60, 80, 8, 10)       2710   DropOut_2[0][0]              \n",
            "__________________________________________________________________________________________________\n",
            "UpSampling_1 (UpSampling3D)       (None, 120, 160, 16, 10)    0      Convolution_1[0][0]          \n",
            "__________________________________________________________________________________________________\n",
            "DropOut_1 (Dropout)               (None, 120, 160, 16, 10)    0      UpSampling_1[0][0]           \n",
            "__________________________________________________________________________________________________\n",
            "Output (Conv3DTranspose)          (None, 120, 160, 16, 1)     271    DropOut_1[0][0]              \n",
            "==================================================================================================\n",
            "Total params: 23,561\n",
            "Trainable params: 23,561\n",
            "Non-trainable params: 0\n",
            "__________________________________________________________________________________________________\n",
            "Model: \"classifier\"\n",
            "_________________________________________________________________\n",
            "Layer (type)                 Output Shape              Param #   \n",
            "=================================================================\n",
            "Encoded (InputLayer)         [(None, 15, 20, 2, 40)]   0         \n",
            "_________________________________________________________________\n",
            "Flatten (Flatten)            (None, 24000)             0         \n",
            "_________________________________________________________________\n",
            "SELU_1 (Dense)               (None, 1024)              24577024  \n",
            "_________________________________________________________________\n",
            "SELU_2 (Dense)               (None, 64)                65600     \n",
            "_________________________________________________________________\n",
            "Prediction (Dense)           (None, 2)                 130       \n",
            "=================================================================\n",
            "Total params: 24,642,754\n",
            "Trainable params: 24,642,754\n",
            "Non-trainable params: 0\n",
            "_________________________________________________________________\n",
            "Model: \"model\"\n",
            "_________________________________________________________________\n",
            "Layer (type)          Output Shape       Param\n",
            "=================================================================\n",
            "Input (InputLayer)    [(None, 120, 160,  0    \n",
            "_________________________________________________________________\n",
            "encoder (Model)       (None, 15, 20, 2,  11560\n",
            "_________________________________________________________________\n",
            "classifier (Model)    (None, 2)          24642\n",
            "=================================================================\n",
            "Total params: 24,654,314\n",
            "Trainable params: 24,654,314\n",
            "Non-trainable params: 0\n",
            "_________________________________________________________________\n"
          ],
          "name": "stdout"
        }
      ]
    },
    {
      "cell_type": "markdown",
      "metadata": {
        "id": "ol-4Dt7WzQ-4",
        "colab_type": "text"
      },
      "source": [
        "#### Build Classifier Branch"
      ]
    },
    {
      "cell_type": "code",
      "metadata": {
        "id": "WzIAsNitzQ-7",
        "colab_type": "code",
        "colab": {}
      },
      "source": [
        "initial_learning_rate = 0.1\n",
        "lr_schedule = tf.keras.optimizers.schedules.ExponentialDecay(\\\n",
        "    initial_learning_rate,\n",
        "    decay_steps=100000,\n",
        "    decay_rate=0.90,\n",
        "    staircase=True)\n",
        "\n",
        "if with_ae:\n",
        "    losses = {'decoder':'binary_crossentropy', \n",
        "            'classifier':'categorical_crossentropy'}\n",
        "    metrics= {'decoder':'mae', 'classifier':[ \\\n",
        "                                            'acc',\n",
        "                                            tf.keras.metrics.Precision(name='precision'), \n",
        "                                            tf.keras.metrics.Recall(name='recall'),\n",
        "                                            tf.keras.metrics.FalseNegatives(name='fn'), \n",
        "                                            tf.keras.metrics.FalsePositives(name='fp')]}\n",
        "    loss_weights={'decoder':0.5,'classifier':0.5}\n",
        "else:\n",
        "    losses = {'classifier':'categorical_crossentropy'}\n",
        "    metrics= {'classifier':[ \\\n",
        "                            'acc',\n",
        "                            tf.keras.metrics.Precision(name='precision'), \n",
        "                            tf.keras.metrics.Recall(name='recall'),\n",
        "                            tf.keras.metrics.FalseNegatives(name='fn'), \n",
        "                            tf.keras.metrics.FalsePositives(name='fp')]}\n",
        "    loss_weights={'classifier':1.0}\n",
        "\n",
        "model.compile(optimizer='adam', \n",
        "              loss=losses, \n",
        "              loss_weights=loss_weights, \n",
        "              metrics=metrics)\n",
        "\n",
        "my_callbacks = [\n",
        "    tf.keras.callbacks.EarlyStopping(patience=10),\n",
        "    tf.keras.callbacks.ModelCheckpoint(filepath=\\\n",
        "        '/content/drive/My Drive/AD_MRI/final_outputs/\\\n",
        "        pipeline.{epoch:02d}-{val_loss:.2f}.h5'),\n",
        "    tf.keras.callbacks.TensorBoard(log_dir='./final_logs'),\n",
        "]"
      ],
      "execution_count": 0,
      "outputs": []
    },
    {
      "cell_type": "code",
      "metadata": {
        "id": "AzHGmaPojkQQ",
        "colab_type": "code",
        "colab": {}
      },
      "source": [
        "balancing_weights = class_weight.compute_sample_weight('balanced', \n",
        "                                                       train_label)\n",
        "balancing_weights_val = class_weight.compute_sample_weight('balanced', \n",
        "                                                            val_label)"
      ],
      "execution_count": 0,
      "outputs": []
    },
    {
      "cell_type": "code",
      "metadata": {
        "id": "aonFiMErCkN3",
        "colab_type": "code",
        "colab": {}
      },
      "source": [
        "train_generator = MyDataGenerator(train_list, processed_dir, to_fit=True, \n",
        "                                  augment=True, batch_size=32, \n",
        "                                  with_ae=with_ae, with_ib=with_ib, \n",
        "                                  sample_weight=balancing_weights)\n",
        "val_generator = MyDataGenerator(val_list, processed_dir, batch_size=32, \n",
        "                                with_ae=with_ae, with_ib=with_ib, \n",
        "                                sample_weight=balancing_weights_val)"
      ],
      "execution_count": 0,
      "outputs": []
    },
    {
      "cell_type": "markdown",
      "metadata": {
        "id": "L88JL5DGvZRZ",
        "colab_type": "text"
      },
      "source": [
        "#### Run Model"
      ]
    },
    {
      "cell_type": "code",
      "metadata": {
        "id": "xq404p3hmDdZ",
        "colab_type": "code",
        "outputId": "fe51c0b0-f25d-4c31-da32-0f244dfec131",
        "colab": {
          "base_uri": "https://localhost:8080/",
          "height": 105
        }
      },
      "source": [
        "history_pipeline = model.fit_generator(generator=train_generator, \n",
        "                                        epochs=n_epochs, \n",
        "                                        validation_data=val_generator, \n",
        "                                        shuffle=True, \n",
        "                                        callbacks = my_callbacks)"
      ],
      "execution_count": 63,
      "outputs": [
        {
          "output_type": "stream",
          "text": [
            "Epoch 1/2\n",
            "24/24 [==============================] - 425s 18s/step - loss: 1.2082 - acc: 0.5312 - precision: 0.5312 - recall: 0.5312 - fn: 360.0000 - fp: 360.0000 - val_loss: 0.6929 - val_acc: 0.4219 - val_precision: 0.4219 - val_recall: 0.4219 - val_fn: 37.0000 - val_fp: 37.0000\n",
            "Epoch 2/2\n",
            "24/24 [==============================] - 430s 18s/step - loss: 0.7989 - acc: 0.4766 - precision: 0.4766 - recall: 0.4766 - fn: 402.0000 - fp: 402.0000 - val_loss: 0.7017 - val_acc: 0.6094 - val_precision: 0.6094 - val_recall: 0.6094 - val_fn: 25.0000 - val_fp: 25.0000\n"
          ],
          "name": "stdout"
        }
      ]
    },
    {
      "cell_type": "markdown",
      "metadata": {
        "id": "C2CT254LtLKr",
        "colab_type": "text"
      },
      "source": [
        "#### Analyze Results"
      ]
    },
    {
      "cell_type": "code",
      "metadata": {
        "id": "TOEJJGH9jVxB",
        "colab_type": "code",
        "outputId": "e8956c1e-ca8a-40a0-b7ba-29b75b340b6b",
        "colab": {
          "base_uri": "https://localhost:8080/",
          "height": 295
        }
      },
      "source": [
        "model.save('model_pipeline.h5')\n",
        "with open('/content/drive/My Drive/AD_MRI/final_history/trainHistoryDict', 'wb') as file_pi:\n",
        "        pickle.dump(history_pipeline.history, file_pi)\n",
        "plt.plot(history_pipeline.history['loss'])\n",
        "plt.plot(history_pipeline.history['val_loss'])\n",
        "plt.title('model loss')\n",
        "plt.ylabel('loss')\n",
        "plt.xlabel('epoch')\n",
        "plt.legend(['train', 'val'], loc='upper left')\n",
        "plt.show()"
      ],
      "execution_count": 64,
      "outputs": [
        {
          "output_type": "display_data",
          "data": {
            "image/png": "[encoded data removed]",
            "text/plain": [
              "<Figure size 432x288 with 1 Axes>"
            ]
          },
          "metadata": {
            "tags": [],
            "needs_background": "light"
          }
        }
      ]
    },
    {
      "cell_type": "code",
      "metadata": {
        "id": "mtYMkfSzJR6h",
        "colab_type": "code",
        "outputId": "c9c3e210-88aa-4282-995d-a7c177ae01b8",
        "colab": {
          "base_uri": "https://localhost:8080/",
          "height": 34
        }
      },
      "source": [
        "history_pipeline.history.keys()"
      ],
      "execution_count": 65,
      "outputs": [
        {
          "output_type": "execute_result",
          "data": {
            "text/plain": [
              "dict_keys(['loss', 'acc', 'precision', 'recall', 'fn', 'fp', 'val_loss', 'val_acc', 'val_precision', 'val_recall', 'val_fn', 'val_fp'])"
            ]
          },
          "metadata": {
            "tags": []
          },
          "execution_count": 65
        }
      ]
    },
    {
      "cell_type": "code",
      "metadata": {
        "id": "9dTaweFaJcUQ",
        "colab_type": "code",
        "outputId": "2dd9ef1c-85a2-4f93-b0dd-a4aaa8dadc07",
        "colab": {
          "base_uri": "https://localhost:8080/",
          "height": 295
        }
      },
      "source": [
        "plt.plot(history_pipeline.history['acc'])\n",
        "plt.plot(history_pipeline.history['acc'])\n",
        "plt.title('model accuracy')\n",
        "plt.ylabel('accuracy')\n",
        "plt.xlabel('epoch')\n",
        "plt.legend(['train', 'val'], loc='upper left')\n",
        "plt.show()"
      ],
      "execution_count": 66,
      "outputs": [
        {
          "output_type": "display_data",
          "data": {
            "image/png": "[encoded data removed]",
            "text/plain": [
              "<Figure size 432x288 with 1 Axes>"
            ]
          },
          "metadata": {
            "tags": [],
            "needs_background": "light"
          }
        }
      ]
    },
    {
      "cell_type": "code",
      "metadata": {
        "id": "Dvwu2uDHJ8Ll",
        "colab_type": "code",
        "outputId": "4fbad394-6812-468f-c689-426c2765f9af",
        "colab": {
          "base_uri": "https://localhost:8080/",
          "height": 295
        }
      },
      "source": [
        "plt.plot(history_pipeline.history['precision'])\n",
        "plt.plot(history_pipeline.history['val_precision'])\n",
        "plt.title('model precision')\n",
        "plt.ylabel('precision')\n",
        "plt.xlabel('epoch')\n",
        "plt.legend(['train', 'val'], loc='upper left')\n",
        "plt.show()"
      ],
      "execution_count": 67,
      "outputs": [
        {
          "output_type": "display_data",
          "data": {
            "image/png": "[encoded data removed]",
            "text/plain": [
              "<Figure size 432x288 with 1 Axes>"
            ]
          },
          "metadata": {
            "tags": [],
            "needs_background": "light"
          }
        }
      ]
    },
    {
      "cell_type": "code",
      "metadata": {
        "id": "J_huDqdGOcVq",
        "colab_type": "code",
        "outputId": "2a7fc814-e943-4d65-9357-2886a1d489b4",
        "colab": {
          "base_uri": "https://localhost:8080/",
          "height": 88
        }
      },
      "source": [
        "balancing_weights_test = class_weight.compute_sample_weight('balanced', \n",
        "                                                           test_label)\n",
        "test_generator = MyDataGenerator(test_list, processed_dir, to_fit=False, \n",
        "                                batch_size=2, \n",
        "                                with_ae=with_ae, with_ib=with_ib, \n",
        "                                sample_weight=balancing_weights_test)\n",
        "\n",
        "pred = model.predict_generator(test_generator)\n"
      ],
      "execution_count": 68,
      "outputs": [
        {
          "output_type": "stream",
          "text": [
            "WARNING:tensorflow:From <ipython-input-68-ccfd72de63a6>:8: Model.predict_generator (from tensorflow.python.keras.engine.training) is deprecated and will be removed in a future version.\n",
            "Instructions for updating:\n",
            "Please use Model.predict, which supports generators.\n"
          ],
          "name": "stdout"
        }
      ]
    },
    {
      "cell_type": "code",
      "metadata": {
        "id": "V4TetCYxO0ie",
        "colab_type": "code",
        "outputId": "773bf100-fc83-4ee5-9d9b-7be12dad2638",
        "colab": {
          "base_uri": "https://localhost:8080/",
          "height": 204
        }
      },
      "source": [
        "from sklearn.metrics import classification_report, accuracy_score\n",
        "\n",
        "if with_ae:\n",
        "    print(\"acc: \", accuracy_score(labels_to_categorical(test_label), \n",
        "                                np.round(pred[1])))\n",
        "    print(classification_report(labels_to_categorical(test_label), \n",
        "                                np.round(pred[1])))\n",
        "else:\n",
        "    print(\"acc: \", accuracy_score(labels_to_categorical(test_label), \n",
        "                              np.round(pred)))\n",
        "    print(classification_report(labels_to_categorical(test_label), \n",
        "                            np.round(pred)))"
      ],
      "execution_count": 70,
      "outputs": [
        {
          "output_type": "stream",
          "text": [
            "acc:  0.6326530612244898\n",
            "              precision    recall  f1-score   support\n",
            "\n",
            "           0       0.00      0.00      0.00        36\n",
            "           1       0.63      1.00      0.78        62\n",
            "\n",
            "   micro avg       0.63      0.63      0.63        98\n",
            "   macro avg       0.32      0.50      0.39        98\n",
            "weighted avg       0.40      0.63      0.49        98\n",
            " samples avg       0.63      0.63      0.63        98\n",
            "\n"
          ],
          "name": "stdout"
        }
      ]
    },
    {
      "cell_type": "code",
      "metadata": {
        "id": "i_X8TgGTPJt4",
        "colab_type": "code",
        "colab": {}
      },
      "source": [
        "with open('/content/drive/My Drive/AD_MRI/final_history/trainHistoryDict', 'rb') as file_pi:\n",
        "    test = pickle.load(file_pi)"
      ],
      "execution_count": 0,
      "outputs": []
    },
    {
      "cell_type": "code",
      "metadata": {
        "id": "uCIHa87SVGOr",
        "colab_type": "code",
        "outputId": "ec9a365a-c245-49e9-90d1-d4fe17a70dc8",
        "colab": {
          "base_uri": "https://localhost:8080/",
          "height": 34
        }
      },
      "source": [
        "test['loss'][-10:]"
      ],
      "execution_count": 72,
      "outputs": [
        {
          "output_type": "execute_result",
          "data": {
            "text/plain": [
              "[1.2081817388534546, 0.7989049553871155]"
            ]
          },
          "metadata": {
            "tags": []
          },
          "execution_count": 72
        }
      ]
    },
    {
      "cell_type": "code",
      "metadata": {
        "id": "URv9KGWOVGzk",
        "colab_type": "code",
        "colab": {}
      },
      "source": [
        "if with_ae:\n",
        "    plt.imshow(pred[0][2][:,:,15,0])\n",
        "    plt.show()\n",
        "    plt.imshow(pred[0][2][:,:,0,0])"
      ],
      "execution_count": 0,
      "outputs": []
    },
    {
      "cell_type": "code",
      "metadata": {
        "id": "-r-49t7GVU7U",
        "colab_type": "code",
        "colab": {}
      },
      "source": [
        ""
      ],
      "execution_count": 0,
      "outputs": []
    }
  ]
}