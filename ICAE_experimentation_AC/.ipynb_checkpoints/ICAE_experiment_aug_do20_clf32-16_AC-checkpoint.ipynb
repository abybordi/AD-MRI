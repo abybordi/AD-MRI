{
 "cells": [
  {
   "cell_type": "code",
   "execution_count": 0,
   "metadata": {
    "colab": {},
    "colab_type": "code",
    "id": "Xt2onyB1zQ9Z"
   },
   "outputs": [],
   "source": [
    "%matplotlib inline \n",
    "from matplotlib import pyplot as plt\n",
    "import numpy as np\n",
    "import pandas as pd\n",
    "import pickle\n",
    "import warnings\n",
    "import tensorflow as tf\n",
    "import random\n",
    "import scipy\n",
    "import cv2\n",
    "from tensorflow.keras.utils import Sequence, to_categorical, plot_model\n",
    "from sklearn.model_selection import train_test_split\n",
    "from sklearn.preprocessing import LabelEncoder\n",
    "from sklearn.utils import class_weight\n",
    "from tensorflow import keras\n",
    "from tensorflow.keras import backend as K\n",
    "from tensorflow.keras.callbacks import TensorBoard\n",
    "from tensorflow.keras.models import Sequential, Model\n",
    "from tensorflow.keras.layers import Dense, Conv3D, MaxPool3D, Dropout, \\\n",
    "        Flatten, Conv3DTranspose, UpSampling3D, Reshape, Input, concatenate\n",
    "from tensorflow.keras.regularizers import l1_l2\n",
    "from google.colab import drive\n",
    "import time"
   ]
  },
  {
   "cell_type": "code",
   "execution_count": 3,
   "metadata": {
    "colab": {
     "base_uri": "https://localhost:8080/",
     "height": 578
    },
    "colab_type": "code",
    "executionInfo": {
     "elapsed": 8801,
     "status": "ok",
     "timestamp": 1589410803348,
     "user": {
      "displayName": "Andrea Ceres",
      "photoUrl": "",
      "userId": "00692741891371770039"
     },
     "user_tz": 240
    },
    "id": "SdnFutmTb0Ji",
    "outputId": "e04ae787-0bd3-4d28-9eb7-aa905e7cb6bc"
   },
   "outputs": [
    {
     "name": "stdout",
     "output_type": "stream",
     "text": [
      "Tensorflow version: 2.2.0\n",
      "/device:GPU:0\n",
      "[name: \"/device:CPU:0\"\n",
      "device_type: \"CPU\"\n",
      "memory_limit: 268435456\n",
      "locality {\n",
      "}\n",
      "incarnation: 17091042210156442814\n",
      ", name: \"/device:XLA_CPU:0\"\n",
      "device_type: \"XLA_CPU\"\n",
      "memory_limit: 17179869184\n",
      "locality {\n",
      "}\n",
      "incarnation: 8140961176369178084\n",
      "physical_device_desc: \"device: XLA_CPU device\"\n",
      ", name: \"/device:XLA_GPU:0\"\n",
      "device_type: \"XLA_GPU\"\n",
      "memory_limit: 17179869184\n",
      "locality {\n",
      "}\n",
      "incarnation: 371351048851318328\n",
      "physical_device_desc: \"device: XLA_GPU device\"\n",
      ", name: \"/device:GPU:0\"\n",
      "device_type: \"GPU\"\n",
      "memory_limit: 7304675328\n",
      "locality {\n",
      "  bus_id: 1\n",
      "  links {\n",
      "  }\n",
      "}\n",
      "incarnation: 11069859280775230820\n",
      "physical_device_desc: \"device: 0, name: Tesla P4, pci bus id: 0000:00:04.0, compute capability: 6.1\"\n",
      "]\n"
     ]
    }
   ],
   "source": [
    "warnings.filterwarnings('ignore')\n",
    "print('Tensorflow version:', tf.__version__)\n",
    "print(tf.test.gpu_device_name())\n",
    "print(tf.python.client.device_lib.list_local_devices())"
   ]
  },
  {
   "cell_type": "code",
   "execution_count": 0,
   "metadata": {
    "colab": {},
    "colab_type": "code",
    "id": "Ax011ee8c22q"
   },
   "outputs": [],
   "source": [
    "# !cat /proc/meminfo"
   ]
  },
  {
   "cell_type": "code",
   "execution_count": 5,
   "metadata": {
    "colab": {
     "base_uri": "https://localhost:8080/",
     "height": 122
    },
    "colab_type": "code",
    "executionInfo": {
     "elapsed": 1293939,
     "status": "ok",
     "timestamp": 1589412101621,
     "user": {
      "displayName": "Andrea Ceres",
      "photoUrl": "",
      "userId": "00692741891371770039"
     },
     "user_tz": 240
    },
    "id": "I8ug2tfPzWqa",
    "outputId": "f28e3293-1418-4b40-a6b9-98142052e9a7"
   },
   "outputs": [
    {
     "name": "stdout",
     "output_type": "stream",
     "text": [
      "Go to this URL in a browser: https://accounts.google.com/o/oauth2/auth?client_id=947318989803-6bn6qk8qdgf4n4g3pfee6491hc0brc4i.apps.googleusercontent.com&redirect_uri=urn%3aietf%3awg%3aoauth%3a2.0%3aoob&response_type=code&scope=email%20https%3a%2f%2fwww.googleapis.com%2fauth%2fdocs.test%20https%3a%2f%2fwww.googleapis.com%2fauth%2fdrive%20https%3a%2f%2fwww.googleapis.com%2fauth%2fdrive.photos.readonly%20https%3a%2f%2fwww.googleapis.com%2fauth%2fpeopleapi.readonly\n",
      "\n",
      "Enter your authorization code:\n",
      "··········\n",
      "Mounted at /content/drive\n"
     ]
    }
   ],
   "source": [
    "drive.mount('/content/drive')"
   ]
  },
  {
   "cell_type": "markdown",
   "metadata": {
    "colab_type": "text",
    "id": "nPFgeYTuzQ9k"
   },
   "source": [
    "#### Create Train/Validation/Test Subsets"
   ]
  },
  {
   "cell_type": "code",
   "execution_count": 5,
   "metadata": {
    "colab": {
     "base_uri": "https://localhost:8080/",
     "height": 391
    },
    "colab_type": "code",
    "executionInfo": {
     "elapsed": 2267,
     "status": "ok",
     "timestamp": 1589403798522,
     "user": {
      "displayName": "Andrea Ceres",
      "photoUrl": "",
      "userId": "00692741891371770039"
     },
     "user_tz": 240
    },
    "id": "qYrPlrRqzQ9k",
    "outputId": "03a24a3c-57ef-4196-8d9a-f0f5c18b0c53"
   },
   "outputs": [
    {
     "name": "stdout",
     "output_type": "stream",
     "text": [
      "/content/drive/.shortcut-targets-by-id/1oU0ruELKPJf457X2y4uyGIpFkyyxaQyv/AD_MRI\n"
     ]
    },
    {
     "data": {
      "text/html": [
       "<div>\n",
       "<style scoped>\n",
       "    .dataframe tbody tr th:only-of-type {\n",
       "        vertical-align: middle;\n",
       "    }\n",
       "\n",
       "    .dataframe tbody tr th {\n",
       "        vertical-align: top;\n",
       "    }\n",
       "\n",
       "    .dataframe thead th {\n",
       "        text-align: right;\n",
       "    }\n",
       "</style>\n",
       "<table border=\"1\" class=\"dataframe\">\n",
       "  <thead>\n",
       "    <tr style=\"text-align: right;\">\n",
       "      <th></th>\n",
       "      <th>subject</th>\n",
       "      <th>age</th>\n",
       "      <th>diagnosis</th>\n",
       "      <th>scan_ID</th>\n",
       "    </tr>\n",
       "  </thead>\n",
       "  <tbody>\n",
       "    <tr>\n",
       "      <th>OAS30001</th>\n",
       "      <td>OAS30001</td>\n",
       "      <td>65.0</td>\n",
       "      <td>CN</td>\n",
       "      <td>OAS30001_MR_d0129</td>\n",
       "    </tr>\n",
       "    <tr>\n",
       "      <th>OAS30002</th>\n",
       "      <td>OAS30002</td>\n",
       "      <td>68.0</td>\n",
       "      <td>CN</td>\n",
       "      <td>OAS30002_MR_d0371</td>\n",
       "    </tr>\n",
       "    <tr>\n",
       "      <th>OAS30003</th>\n",
       "      <td>OAS30003</td>\n",
       "      <td>60.0</td>\n",
       "      <td>CN</td>\n",
       "      <td>OAS30003_MR_d0558</td>\n",
       "    </tr>\n",
       "    <tr>\n",
       "      <th>OAS30004</th>\n",
       "      <td>OAS30004</td>\n",
       "      <td>58.0</td>\n",
       "      <td>CN</td>\n",
       "      <td>OAS30004_MR_d1101</td>\n",
       "    </tr>\n",
       "    <tr>\n",
       "      <th>OAS30005</th>\n",
       "      <td>OAS30005</td>\n",
       "      <td>48.0</td>\n",
       "      <td>CN</td>\n",
       "      <td>OAS30005_MR_d0143</td>\n",
       "    </tr>\n",
       "  </tbody>\n",
       "</table>\n",
       "</div>"
      ],
      "text/plain": [
       "           subject   age diagnosis            scan_ID\n",
       "OAS30001  OAS30001  65.0        CN  OAS30001_MR_d0129\n",
       "OAS30002  OAS30002  68.0        CN  OAS30002_MR_d0371\n",
       "OAS30003  OAS30003  60.0        CN  OAS30003_MR_d0558\n",
       "OAS30004  OAS30004  58.0        CN  OAS30004_MR_d1101\n",
       "OAS30005  OAS30005  48.0        CN  OAS30005_MR_d0143"
      ]
     },
     "metadata": {
      "tags": []
     },
     "output_type": "display_data"
    },
    {
     "name": "stdout",
     "output_type": "stream",
     "text": [
      "(980, 4)\n",
      "\n",
      "train_ratio AD:  0.367\n",
      "val_ratio AD:  0.371\n",
      "test_ratio AD:  0.367\n",
      "\n",
      "Number of records\n",
      "train: 793 \n",
      "validation: 89 \n",
      "test: 98\n"
     ]
    }
   ],
   "source": [
    "%cd /content/drive/My Drive/AD_MRI\n",
    "\n",
    "# Load list of records\n",
    "with open('AD_MRI_Master', 'rb') as f:\n",
    "    master_list = pickle.load(f)\n",
    "    \n",
    "master_sheet = pd.DataFrame.from_dict(master_list, orient='index')\n",
    "display(master_sheet.head())\n",
    "print(master_sheet.shape)\n",
    "print()\n",
    "\n",
    "# Split: 80% train, 10% validation, 10% test\n",
    "train_list, test_list, train_label, test_label = \\\n",
    "        train_test_split(master_sheet.subject.values, \n",
    "                         master_sheet.diagnosis.values, \n",
    "                         random_state = 1337, \n",
    "                         test_size=0.1)\n",
    "        \n",
    "train_list, val_list, train_label, val_label = \\\n",
    "        train_test_split(train_list, \n",
    "                         train_label, \n",
    "                         random_state = 0, \n",
    "                         test_size=0.1)\n",
    "        \n",
    "# train_list, test_list, train_label, test_label = \\\n",
    "#         train_test_split(master_sheet.subject.values, \n",
    "#                          master_sheet.diagnosis.values, \n",
    "#                          random_state = 1337, \n",
    "#                          test_size=0.2)\n",
    "        \n",
    "# test_list, val_list, test_label, val_label = \\\n",
    "#         train_test_split(test_list, \n",
    "#                          test_label, \n",
    "#                          random_state = 0, \n",
    "#                          test_size=0.5)\n",
    "\n",
    "# Check for ratios of AD to NC to be consistent among sets\n",
    "AD_count = 0\n",
    "for lab in train_label:\n",
    "    if lab == 'AD':\n",
    "        AD_count +=1\n",
    "print('train_ratio AD: ', round(AD_count/len(train_label), 3))\n",
    "\n",
    "AD_count = 0\n",
    "for lab in val_label:\n",
    "    if lab == 'AD':\n",
    "        AD_count +=1\n",
    "print('val_ratio AD: ', round(AD_count/len(val_label), 3))\n",
    "\n",
    "AD_count = 0\n",
    "for lab in test_label:\n",
    "    if lab == 'AD':\n",
    "        AD_count +=1\n",
    "print('test_ratio AD: ', round(AD_count/len(test_label), 3))\n",
    "\n",
    "print('\\nNumber of records\\ntrain:', len(train_list), \n",
    "      '\\nvalidation:', len(val_list), '\\ntest:', len(test_list))\n"
   ]
  },
  {
   "cell_type": "markdown",
   "metadata": {
    "colab_type": "text",
    "id": "BWz1F457zQ9r"
   },
   "source": [
    "### Create Generator"
   ]
  },
  {
   "cell_type": "code",
   "execution_count": 0,
   "metadata": {
    "colab": {},
    "colab_type": "code",
    "id": "Q3IK5qfYzQ9r"
   },
   "outputs": [],
   "source": [
    "processed_dir = '/content/drive/My Drive/AD_MRI/PROCESSED/'\n",
    "\n",
    "# Convert categorical labels\n",
    "# CN: 0, AD: 1\n",
    "def labels_to_categorical(labels):\n",
    "    le = LabelEncoder()\n",
    "    le.fit([\"CN\", \"AD\"])\n",
    "    num_labels = to_categorical(le.transform(labels), num_classes=2)\n",
    "    return num_labels\n",
    "\n",
    "\n",
    "# Custom data generator\n",
    "class MyDataGenerator(Sequence):\n",
    "    \"\"\"Generates data for Keras Sequence based data generator. \n",
    "    Suitable for building data generator for training and prediction.\n",
    "    \"\"\"\n",
    "    def __init__(self, list_IDs, processed_dir, augment=False, \n",
    "                 to_fit=True, batch_size=32, dim=(120, 160, 120, 1),\n",
    "                 n_classes=2, shuffle=True, ventricles_only=True, \n",
    "                 slice_start=50, slice_end=66, sample_weight=None):\n",
    "        \"\"\"Initialization\n",
    "        :param list_IDs: list of all 'label' PATHS\n",
    "        :param processed_dir: path to directory of processed images\n",
    "        :param augment\n",
    "        :param to_fit: True to return X and y, False to return X only\n",
    "        :param batch_size: batch size at each iteration\n",
    "        :param dim: tuple indicating image dimension\n",
    "        :param n_classes: number of output masks\n",
    "        :param shuffle: True to shuffle label indexes after every epoch\n",
    "        :param ventricles_only: reduce dimensions to relevant slice\n",
    "        \"\"\"\n",
    "        self.list_IDs = list_IDs\n",
    "        self.processed_dir = processed_dir\n",
    "        self.augment = augment\n",
    "        self.to_fit = to_fit\n",
    "        self.batch_size = batch_size\n",
    "        self.dim = dim\n",
    "        self.n_classes = n_classes\n",
    "        self.shuffle = shuffle\n",
    "        self.ventricles_only = ventricles_only\n",
    "        self.on_epoch_end()\n",
    "        self.slice_start = slice_start\n",
    "        self.slice_end = slice_end\n",
    "        if self.ventricles_only == False:\n",
    "            self.slice_size = 120\n",
    "        else:\n",
    "            self.slice_size = slice_end - slice_start\n",
    "        self.sample_weight = sample_weight\n",
    "        # sample_weight needs to be provided if to_fit=True\n",
    "\n",
    "\n",
    "    def __len__(self):\n",
    "        \"\"\"Denotes the number of batches per epoch\n",
    "        :return: number of batches per epoch\n",
    "        \"\"\"\n",
    "        return int(np.floor(len(self.list_IDs) / self.batch_size))\n",
    "\n",
    "\n",
    "    def __getitem__(self, index):\n",
    "        \"\"\"Generate one batch of data\n",
    "        :param index: index of the batch\n",
    "        :return: X and y when fitting. X only when predicting\n",
    "        \"\"\"\n",
    "        # Generate indexes of the batch\n",
    "        indexes = self.indexes[index \n",
    "                               * self.batch_size:(index + 1) \n",
    "                               * self.batch_size]\n",
    "\n",
    "        # Find list of IDs\n",
    "        list_IDs_temp = [self.list_IDs[k] for k in indexes]\n",
    "        \n",
    "        # Generate data\n",
    "        X, y = self._load_data(list_IDs_temp)\n",
    "        X = np.float32(X)\n",
    "        if self.ventricles_only == True:\n",
    "          X = X[:, :, :, self.slice_start:self.slice_end, :]\n",
    "        if self.to_fit:\n",
    "            y = {'ICAE_classifier': y, 'ICAE_decoder': X}\n",
    "            return X, y, self.sample_weight\n",
    "        else:\n",
    "            return X, self.sample_weight\n",
    "\n",
    "\n",
    "    def on_epoch_end(self):\n",
    "        \"\"\"Updates indexes after each epoch\n",
    "        \"\"\"\n",
    "        self.indexes = np.arange(len(self.list_IDs))\n",
    "        if self.shuffle == True:\n",
    "            np.random.shuffle(self.indexes)\n",
    "\n",
    "\n",
    "    def _load_data(self, list_IDs_temp):\n",
    "        \"\"\"Generates data containing batch_size images\n",
    "        :param list_IDs_temp: list of label ids to load\n",
    "        :return: batch of images\n",
    "        \"\"\"\n",
    "        # Initialization\n",
    "        X = np.empty((self.batch_size, *self.dim))\n",
    "        y = np.empty((self.batch_size, self.n_classes), dtype=int)\n",
    "        \n",
    "        # Generate data\n",
    "        for i, ID in enumerate(list_IDs_temp):\n",
    "            \n",
    "            # start X\n",
    "            with open(self.processed_dir+ID+'_data','rb') as f:\n",
    "                data = pickle.load(f)\n",
    "                \n",
    "            # third dimension = 120, error using self.slice_size for value 16\n",
    "            x_reshape= np.reshape(data['image'], (120, 160, 120, 1))\n",
    "            if self.augment == True:\n",
    "                x_reshape = scipy.ndimage.rotate(x_reshape, \n",
    "                                axes=random.choice([(0, 1), (0, 2), (1, 2)]), \n",
    "                                angle=random.choice([360-15, 15]), \n",
    "                                reshape=False)\n",
    "            X[i,] = x_reshape\n",
    "            \n",
    "            #start y\n",
    "            y[i,] = labels_to_categorical([data['diagnosis']])\n",
    "\n",
    "        return X, y\n",
    "\n",
    "    "
   ]
  },
  {
   "cell_type": "code",
   "execution_count": 7,
   "metadata": {
    "colab": {
     "base_uri": "https://localhost:8080/",
     "height": 34
    },
    "colab_type": "code",
    "executionInfo": {
     "elapsed": 1449,
     "status": "ok",
     "timestamp": 1589403812663,
     "user": {
      "displayName": "Andrea Ceres",
      "photoUrl": "",
      "userId": "00692741891371770039"
     },
     "user_tz": 240
    },
    "id": "FGs1K35WzMxP",
    "outputId": "bcb690a0-fd65-4214-9571-945fcd7073c5"
   },
   "outputs": [
    {
     "data": {
      "text/plain": [
       "793"
      ]
     },
     "execution_count": 7,
     "metadata": {
      "tags": []
     },
     "output_type": "execute_result"
    }
   ],
   "source": [
    "# Class imbalance handling\n",
    "balancing_weights = class_weight.compute_sample_weight('balanced', train_label)\n",
    "len(balancing_weights)"
   ]
  },
  {
   "cell_type": "code",
   "execution_count": 0,
   "metadata": {
    "colab": {},
    "colab_type": "code",
    "id": "YpzZF63uzQ9w"
   },
   "outputs": [],
   "source": [
    "# mdg = MyDataGenerator(test_list, processed_dir, to_fit=True, augment=True, \n",
    "#                       sample_weight=balancing_weights, ventricles_only=True)\n",
    "\n",
    "# X, pred, weights = mdg.__getitem__(0)"
   ]
  },
  {
   "cell_type": "code",
   "execution_count": 0,
   "metadata": {
    "colab": {},
    "colab_type": "code",
    "id": "uUEOTwa87Kwl"
   },
   "outputs": [],
   "source": [
    "# X.shape"
   ]
  },
  {
   "cell_type": "code",
   "execution_count": 0,
   "metadata": {
    "colab": {},
    "colab_type": "code",
    "id": "-vb0PH-hz348"
   },
   "outputs": [],
   "source": [
    "# len(weights)"
   ]
  },
  {
   "cell_type": "markdown",
   "metadata": {
    "colab_type": "text",
    "id": "pf0QJqFOzQ-a"
   },
   "source": [
    "#### Building CAE Encoder"
   ]
  },
  {
   "cell_type": "code",
   "execution_count": 0,
   "metadata": {
    "colab": {
     "base_uri": "https://localhost:8080/",
     "height": 561
    },
    "colab_type": "code",
    "executionInfo": {
     "elapsed": 946,
     "status": "ok",
     "timestamp": 1589379443393,
     "user": {
      "displayName": "Andrea Ceres",
      "photoUrl": "",
      "userId": "00692741891371770039"
     },
     "user_tz": 240
    },
    "id": "Ayyv4uXRzQ-d",
    "outputId": "99d71510-030c-4bec-a405-9bd6c9c1cc99"
   },
   "outputs": [
    {
     "name": "stdout",
     "output_type": "stream",
     "text": [
      "\n",
      "input shape: (None, 120, 160, 16, 1)\n",
      "output shape: (None, 15, 20, 2, 10) \n",
      "\n",
      "Model: \"CAE_encoder\"\n",
      "_________________________________________________________________\n",
      "Layer (type)                 Output Shape              Param #   \n",
      "=================================================================\n",
      "Input (InputLayer)           [(None, 120, 160, 16, 1)] 0         \n",
      "_________________________________________________________________\n",
      "Convolution_1 (Conv3D)       (None, 120, 160, 16, 10)  280       \n",
      "_________________________________________________________________\n",
      "MaxPooling_1 (MaxPooling3D)  (None, 60, 80, 8, 10)     0         \n",
      "_________________________________________________________________\n",
      "DropOut_1 (Dropout)          (None, 60, 80, 8, 10)     0         \n",
      "_________________________________________________________________\n",
      "Convolution_2 (Conv3D)       (None, 60, 80, 8, 10)     2710      \n",
      "_________________________________________________________________\n",
      "MaxPooling_2 (MaxPooling3D)  (None, 30, 40, 4, 10)     0         \n",
      "_________________________________________________________________\n",
      "DropOut_2 (Dropout)          (None, 30, 40, 4, 10)     0         \n",
      "_________________________________________________________________\n",
      "Convolution_3 (Conv3D)       (None, 30, 40, 4, 10)     2710      \n",
      "_________________________________________________________________\n",
      "MaxPooling_3 (MaxPooling3D)  (None, 15, 20, 2, 10)     0         \n",
      "_________________________________________________________________\n",
      "DropOut_3 (Dropout)          (None, 15, 20, 2, 10)     0         \n",
      "=================================================================\n",
      "Total params: 5,700\n",
      "Trainable params: 5,700\n",
      "Non-trainable params: 0\n",
      "_________________________________________________________________\n"
     ]
    }
   ],
   "source": [
    "dropout = 0.2\n",
    "\n",
    "input_img = Input(shape=(120, 160, 16, 1), name='Input')\n",
    "print('\\ninput shape:', input_img.shape)\n",
    "\n",
    "x = Conv3D(10, (3, 3, 3), activation='relu', padding='same', \n",
    "           name='Convolution_1')(input_img)\n",
    "x = MaxPool3D((2, 2, 2), name='MaxPooling_1')(x)\n",
    "x = Dropout(dropout, name='DropOut_1')(x)\n",
    "\n",
    "x = Conv3D(10, (3, 3, 3), activation='relu', padding='same', \n",
    "           name='Convolution_2')(x)\n",
    "x = MaxPool3D((2, 2, 2), name='MaxPooling_2')(x)\n",
    "x = Dropout(dropout, name='DropOut_2')(x)\n",
    "\n",
    "x = Conv3D(10, (3, 3, 3), activation='relu', padding='same', \n",
    "           name='Convolution_3')(x)\n",
    "x = MaxPool3D((2, 2, 2), name='MaxPooling_3')(x)\n",
    "x = Dropout(dropout, name='DropOut_3')(x)\n",
    "\n",
    "encoded = x\n",
    "encoded_shape = K.int_shape(encoded)\n",
    "print('output shape:', encoded_shape, '\\n')\n",
    "\n",
    "CAE_encoder = Model(input_img, encoded, name='CAE_encoder')\n",
    "CAE_encoder.summary()\n"
   ]
  },
  {
   "cell_type": "markdown",
   "metadata": {
    "colab_type": "text",
    "id": "b1o-Xo2SzQ-h"
   },
   "source": [
    "#### Building CAE Decoder"
   ]
  },
  {
   "cell_type": "code",
   "execution_count": 0,
   "metadata": {
    "colab": {
     "base_uri": "https://localhost:8080/",
     "height": 34
    },
    "colab_type": "code",
    "executionInfo": {
     "elapsed": 280,
     "status": "ok",
     "timestamp": 1589379450967,
     "user": {
      "displayName": "Andrea Ceres",
      "photoUrl": "",
      "userId": "00692741891371770039"
     },
     "user_tz": 240
    },
    "id": "KiVNE5H4yPaU",
    "outputId": "2d0e6a51-c5ee-4c59-f1b3-ce1455ca20f8"
   },
   "outputs": [
    {
     "data": {
      "text/plain": [
       "(None, 15, 20, 2, 10)"
      ]
     },
     "execution_count": 11,
     "metadata": {
      "tags": []
     },
     "output_type": "execute_result"
    }
   ],
   "source": [
    "encoded_shape"
   ]
  },
  {
   "cell_type": "code",
   "execution_count": 0,
   "metadata": {
    "colab": {
     "base_uri": "https://localhost:8080/",
     "height": 595
    },
    "colab_type": "code",
    "executionInfo": {
     "elapsed": 313,
     "status": "ok",
     "timestamp": 1589379451981,
     "user": {
      "displayName": "Andrea Ceres",
      "photoUrl": "",
      "userId": "00692741891371770039"
     },
     "user_tz": 240
    },
    "id": "NnPBrgD6zQ-i",
    "outputId": "6c810b48-b7f4-45be-cd04-96c15b6fdfeb"
   },
   "outputs": [
    {
     "name": "stdout",
     "output_type": "stream",
     "text": [
      "\n",
      "input shape: (None, 15, 20, 2, 10)\n",
      "output shape: (None, 120, 160, 16, 1) \n",
      "\n",
      "Model: \"CAE_decoder\"\n",
      "_________________________________________________________________\n",
      "Layer (type)                 Output Shape              Param #   \n",
      "=================================================================\n",
      "Encoded (InputLayer)         [(None, 15, 20, 2, 10)]   0         \n",
      "_________________________________________________________________\n",
      "Convolution_3 (Conv3DTranspo (None, 15, 20, 2, 10)     2710      \n",
      "_________________________________________________________________\n",
      "UpSampling_3 (UpSampling3D)  (None, 30, 40, 4, 10)     0         \n",
      "_________________________________________________________________\n",
      "DropOut_3 (Dropout)          (None, 30, 40, 4, 10)     0         \n",
      "_________________________________________________________________\n",
      "Convolution_2 (Conv3DTranspo (None, 30, 40, 4, 10)     2710      \n",
      "_________________________________________________________________\n",
      "UpSampling_2 (UpSampling3D)  (None, 60, 80, 8, 10)     0         \n",
      "_________________________________________________________________\n",
      "DropOut_2 (Dropout)          (None, 60, 80, 8, 10)     0         \n",
      "_________________________________________________________________\n",
      "Convolution_1 (Conv3DTranspo (None, 60, 80, 8, 10)     2710      \n",
      "_________________________________________________________________\n",
      "UpSampling_1 (UpSampling3D)  (None, 120, 160, 16, 10)  0         \n",
      "_________________________________________________________________\n",
      "DropOut_1 (Dropout)          (None, 120, 160, 16, 10)  0         \n",
      "_________________________________________________________________\n",
      "Output (Conv3DTranspose)     (None, 120, 160, 16, 1)   271       \n",
      "=================================================================\n",
      "Total params: 8,401\n",
      "Trainable params: 8,401\n",
      "Non-trainable params: 0\n",
      "_________________________________________________________________\n"
     ]
    }
   ],
   "source": [
    "encoded_input = Input(shape=(encoded_shape[1],encoded_shape[2], \n",
    "                             encoded_shape[3], encoded_shape[4],), \n",
    "                      name='Encoded')\n",
    "\n",
    "print('\\ninput shape:', encoded_input.shape)\n",
    "x = encoded_input\n",
    "\n",
    "x = Conv3DTranspose(10, (3, 3, 3), activation='relu', padding='same', \n",
    "                    name='Convolution_3')(x)\n",
    "x = UpSampling3D((2, 2, 2), name='UpSampling_3')(x)\n",
    "x = Dropout(dropout, name='DropOut_3')(x)\n",
    "\n",
    "x = Conv3DTranspose(10, (3, 3, 3), activation='relu', padding='same', \n",
    "                    name='Convolution_2')(x)\n",
    "x = UpSampling3D((2, 2, 2), name='UpSampling_2')(x)\n",
    "x = Dropout(dropout, name='DropOut_2')(x)\n",
    "\n",
    "x = Conv3DTranspose(10, (3, 3, 3), activation='relu', padding='same', \n",
    "                    name='Convolution_1')(x)\n",
    "x = UpSampling3D((2, 2, 2), name='UpSampling_1')(x)\n",
    "x = Dropout(dropout, name='DropOut_1')(x)\n",
    "\n",
    "decoded = Conv3DTranspose(1, (3, 3, 3), activation='sigmoid', padding='same', \n",
    "                          name='Output')(x)\n",
    "\n",
    "print('output shape:', K.int_shape(decoded), '\\n')\n",
    "\n",
    "CAE_decoder = Model(encoded_input, decoded, name='CAE_decoder')\n",
    "CAE_decoder.summary()"
   ]
  },
  {
   "cell_type": "markdown",
   "metadata": {
    "colab_type": "text",
    "id": "V3szdqC1zQ-k"
   },
   "source": [
    "#### Building CAE Autoencoder"
   ]
  },
  {
   "cell_type": "code",
   "execution_count": 0,
   "metadata": {
    "colab": {
     "base_uri": "https://localhost:8080/",
     "height": 255
    },
    "colab_type": "code",
    "executionInfo": {
     "elapsed": 423,
     "status": "ok",
     "timestamp": 1589379453799,
     "user": {
      "displayName": "Andrea Ceres",
      "photoUrl": "",
      "userId": "00692741891371770039"
     },
     "user_tz": 240
    },
    "id": "QKb0jdkXzQ-m",
    "outputId": "87c18510-8aed-49aa-b208-5c42cb885c0e"
   },
   "outputs": [
    {
     "name": "stdout",
     "output_type": "stream",
     "text": [
      "Model: \"CAE_autoencoder\"\n",
      "_________________________________________________________________\n",
      "Layer (type)                 Output Shape              Param #   \n",
      "=================================================================\n",
      "Input (InputLayer)           [(None, 120, 160, 16, 1)] 0         \n",
      "_________________________________________________________________\n",
      "CAE_encoder (Model)          (None, 15, 20, 2, 10)     5700      \n",
      "_________________________________________________________________\n",
      "CAE_decoder (Model)          (None, 120, 160, 16, 1)   8401      \n",
      "=================================================================\n",
      "Total params: 14,101\n",
      "Trainable params: 14,101\n",
      "Non-trainable params: 0\n",
      "_________________________________________________________________\n"
     ]
    }
   ],
   "source": [
    "CAE_autoencoder = Model(input_img, CAE_decoder(CAE_encoder(input_img)), \n",
    "                        name='CAE_autoencoder')\n",
    "CAE_autoencoder.summary()"
   ]
  },
  {
   "cell_type": "code",
   "execution_count": 0,
   "metadata": {
    "colab": {},
    "colab_type": "code",
    "id": "wKlx4vFKzQ-o"
   },
   "outputs": [],
   "source": [
    "CAE_autoencoder.compile(optimizer='adam', loss='binary_crossentropy')"
   ]
  },
  {
   "cell_type": "markdown",
   "metadata": {
    "colab_type": "text",
    "id": "ZpFLNADNzQ-r"
   },
   "source": [
    "### ICAE Inception Model"
   ]
  },
  {
   "cell_type": "markdown",
   "metadata": {
    "colab_type": "text",
    "id": "I9if6blZzQ-s"
   },
   "source": [
    "#### Building ICAE Encoder"
   ]
  },
  {
   "cell_type": "code",
   "execution_count": 0,
   "metadata": {
    "colab": {},
    "colab_type": "code",
    "id": "vGFALorfzQ-v"
   },
   "outputs": [],
   "source": [
    "def inception_module(input, filter_operation):\n",
    "    \"\"\"\n",
    "    filter_operation is a list of inception operations for:\n",
    "        1x1x1 kernel, \n",
    "        1x1x1 then 3x3x3 kernels, \n",
    "        1x1x1 then 3x3x3 then 3x3x3 kernels, \n",
    "        and 3x3x3 maxpooling then 1x1x1 kernels, \n",
    "            respectively.\n",
    "    \"\"\"\n",
    "    \n",
    "    # According to Nature paper (Oh et. al.), l1 and l2 values of 10e-4 \n",
    "    # performed the best from experimentation with 0.01, 0.001, 0.0001, 0.00001 \n",
    "    # values.\n",
    "    l1_value = 10e-4\n",
    "    l2_value = 10e-4\n",
    "\n",
    "    # Branch A\n",
    "    branch_1x1x1 = Conv3D(filter_operation[0], kernel_size=(1, 1, 1), \n",
    "                          activation='relu', padding='same', \n",
    "                          kernel_regularizer=l1_l2(l1_value, l2_value), \n",
    "                          name='Branch_A_1x1x1')(input)\n",
    "\n",
    "    # Branch B\n",
    "    branch_3x3x3_initial = Conv3D(filter_operation[1], kernel_size=(1, 1, 1), \n",
    "                                  activation='relu', padding='same', \n",
    "                                  kernel_regularizer=l1_l2(l1_value, l2_value), \n",
    "                                  name='Branch_B_1x1x1')(input)\n",
    "    branch_3x3x3 = Conv3D(filter_operation[1], kernel_size=(3, 3, 3), \n",
    "                          activation='relu', padding='same', \n",
    "                          kernel_regularizer=l1_l2(l1_value, l2_value), \n",
    "                          name='Branch_B_3x3x3')(branch_3x3x3_initial)\n",
    "\n",
    "    # Branch C\n",
    "    branch_double_3x3x3_initial = Conv3D(filter_operation[2], \n",
    "                                         kernel_size=(1, 1, 1), \n",
    "                                         activation='relu', padding='same', \n",
    "                                         kernel_regularizer=l1_l2(l1_value, \n",
    "                                                                  l2_value), \n",
    "                                         name='Branch_C_1x1x1')(input)\n",
    "    branch_double_3x3x3_middle = Conv3D(filter_operation[2], \n",
    "                                        kernel_size=(3, 3, 3), \n",
    "                                        activation='relu', padding='same', \n",
    "                                        kernel_regularizer=l1_l2(l1_value, \n",
    "                                                                 l2_value), \n",
    "                                        name='Branch_C_1st_3x3x3')\\\n",
    "                                        (branch_double_3x3x3_initial)\n",
    "    branch_double_3x3x3 = Conv3D(filter_operation[2], kernel_size=(3, 3, 3), \n",
    "                                 activation='relu', padding='same', \n",
    "                                 kernel_regularizer=l1_l2(l1_value, l2_value), \n",
    "                                 name='Branch_C_2nd_3x3x3')\\\n",
    "                                 (branch_double_3x3x3_middle)\n",
    "\n",
    "    # Branch D\n",
    "    branch_maxpool_3x3x3_initial = MaxPool3D(pool_size=(3, 3, 3), \n",
    "                                             strides=(1, 1, 1), padding='same', \n",
    "                                             name='Branch_D_3x3x3_maxpool')\\\n",
    "                                             (input)\n",
    "    branch_maxpool_3x3x3 = Conv3D(filter_operation[3], kernel_size=(1, 1, 1), \n",
    "                                  activation='relu', padding='same', \n",
    "                                  kernel_regularizer=l1_l2(l1_value, l2_value), \n",
    "                                  name='Branch_D_1x1x1')\\\n",
    "                                  (branch_maxpool_3x3x3_initial)\n",
    "    \n",
    "    # Merge branches\n",
    "    modules = [branch_1x1x1, branch_3x3x3, branch_double_3x3x3, \n",
    "               branch_maxpool_3x3x3]\n",
    "    merged_module = concatenate(modules, name='Inception_Merged')\n",
    "    \n",
    "    return merged_module\n",
    "    \n"
   ]
  },
  {
   "cell_type": "code",
   "execution_count": 9,
   "metadata": {
    "colab": {
     "base_uri": "https://localhost:8080/",
     "height": 884
    },
    "colab_type": "code",
    "executionInfo": {
     "elapsed": 1216,
     "status": "ok",
     "timestamp": 1589403819902,
     "user": {
      "displayName": "Andrea Ceres",
      "photoUrl": "",
      "userId": "00692741891371770039"
     },
     "user_tz": 240
    },
    "id": "HX5sfPuTzQ-x",
    "outputId": "32872176-496b-42f3-9a7d-3f4a4b340e21"
   },
   "outputs": [
    {
     "name": "stdout",
     "output_type": "stream",
     "text": [
      "\n",
      "input shape: (None, 120, 160, 16, 1)\n",
      "output shape: (None, 15, 20, 2, 40) \n",
      "\n",
      "Model: \"ICAE_encoder\"\n",
      "__________________________________________________________________________________________________\n",
      "Layer (type)                      Output Shape                Param  Connected to                 \n",
      "==================================================================================================\n",
      "Input (InputLayer)                [(None, 120, 160, 16, 1)]   0                                   \n",
      "__________________________________________________________________________________________________\n",
      "Convolution_1 (Conv3D)            (None, 120, 160, 16, 10)    280    Input[0][0]                  \n",
      "__________________________________________________________________________________________________\n",
      "MaxPooling_1 (MaxPooling3D)       (None, 60, 80, 8, 10)       0      Convolution_1[0][0]          \n",
      "__________________________________________________________________________________________________\n",
      "DropOut_1 (Dropout)               (None, 60, 80, 8, 10)       0      MaxPooling_1[0][0]           \n",
      "__________________________________________________________________________________________________\n",
      "Convolution_2 (Conv3D)            (None, 60, 80, 8, 10)       2710   DropOut_1[0][0]              \n",
      "__________________________________________________________________________________________________\n",
      "MaxPooling_2 (MaxPooling3D)       (None, 30, 40, 4, 10)       0      Convolution_2[0][0]          \n",
      "__________________________________________________________________________________________________\n",
      "DropOut_2 (Dropout)               (None, 30, 40, 4, 10)       0      MaxPooling_2[0][0]           \n",
      "__________________________________________________________________________________________________\n",
      "Branch_C_1x1x1 (Conv3D)           (None, 30, 40, 4, 10)       110    DropOut_2[0][0]              \n",
      "__________________________________________________________________________________________________\n",
      "Branch_B_1x1x1 (Conv3D)           (None, 30, 40, 4, 10)       110    DropOut_2[0][0]              \n",
      "__________________________________________________________________________________________________\n",
      "Branch_C_1st_3x3x3 (Conv3D)       (None, 30, 40, 4, 10)       2710   Branch_C_1x1x1[0][0]         \n",
      "__________________________________________________________________________________________________\n",
      "Branch_D_3x3x3_maxpool (MaxPoolin (None, 30, 40, 4, 10)       0      DropOut_2[0][0]              \n",
      "__________________________________________________________________________________________________\n",
      "Branch_A_1x1x1 (Conv3D)           (None, 30, 40, 4, 10)       110    DropOut_2[0][0]              \n",
      "__________________________________________________________________________________________________\n",
      "Branch_B_3x3x3 (Conv3D)           (None, 30, 40, 4, 10)       2710   Branch_B_1x1x1[0][0]         \n",
      "__________________________________________________________________________________________________\n",
      "Branch_C_2nd_3x3x3 (Conv3D)       (None, 30, 40, 4, 10)       2710   Branch_C_1st_3x3x3[0][0]     \n",
      "__________________________________________________________________________________________________\n",
      "Branch_D_1x1x1 (Conv3D)           (None, 30, 40, 4, 10)       110    Branch_D_3x3x3_maxpool[0][0] \n",
      "__________________________________________________________________________________________________\n",
      "Inception_Merged (Concatenate)    (None, 30, 40, 4, 40)       0      Branch_A_1x1x1[0][0]         \n",
      "                                                                     Branch_B_3x3x3[0][0]         \n",
      "                                                                     Branch_C_2nd_3x3x3[0][0]     \n",
      "                                                                     Branch_D_1x1x1[0][0]         \n",
      "__________________________________________________________________________________________________\n",
      "Inception_MaxPooling (MaxPooling3 (None, 15, 20, 2, 40)       0      Inception_Merged[0][0]       \n",
      "__________________________________________________________________________________________________\n",
      "DropOut_3 (Dropout)               (None, 15, 20, 2, 40)       0      Inception_MaxPooling[0][0]   \n",
      "==================================================================================================\n",
      "Total params: 11,560\n",
      "Trainable params: 11,560\n",
      "Non-trainable params: 0\n",
      "__________________________________________________________________________________________________\n"
     ]
    }
   ],
   "source": [
    "filter_operations = [10, 10, 10, 10]\n",
    "dropout = 0.2\n",
    "ventricles_only = True\n",
    "\n",
    "if ventricles_only == True:\n",
    "    input_dim = (120, 160, 16, 1)\n",
    "else:\n",
    "    input_dim = (120, 160, 120, 1)\n",
    "\n",
    "input_img = Input(shape=input_dim, name='Input')\n",
    "print('\\ninput shape:', input_img.shape)\n",
    "\n",
    "x = Conv3D(10, (3, 3, 3), activation='relu', padding='same', \n",
    "           name='Convolution_1')(input_img)\n",
    "x = MaxPool3D((2, 2, 2), name='MaxPooling_1')(x)\n",
    "x = Dropout(dropout, name='DropOut_1')(x)\n",
    "\n",
    "x = Conv3D(10, (3, 3, 3), activation='relu', padding='same', \n",
    "           name='Convolution_2')(x)\n",
    "x = MaxPool3D((2, 2, 2), name='MaxPooling_2')(x)\n",
    "x = Dropout(dropout, name='DropOut_2')(x)\n",
    "\n",
    "x = inception_module(x, filter_operations)\n",
    "x = MaxPool3D((2, 2, 2), name='Inception_MaxPooling')(x)\n",
    "x = Dropout(dropout, name='DropOut_3')(x)\n",
    "\n",
    "encoded = x\n",
    "encoded_shape = K.int_shape(encoded)\n",
    "print('output shape:', encoded_shape, '\\n')\n",
    "\n",
    "ICAE_encoder = Model(input_img, encoded, name='ICAE_encoder')\n",
    "ICAE_encoder.summary(positions=[.35, .64, .71, 1.]) \n",
    "# `positions` adjusts print settings to minimize truncation"
   ]
  },
  {
   "cell_type": "markdown",
   "metadata": {
    "colab_type": "text",
    "id": "KsOlxg4vzQ-z"
   },
   "source": [
    "#### Building ICAE Decoder"
   ]
  },
  {
   "cell_type": "code",
   "execution_count": 10,
   "metadata": {
    "colab": {
     "base_uri": "https://localhost:8080/",
     "height": 918
    },
    "colab_type": "code",
    "executionInfo": {
     "elapsed": 1741,
     "status": "ok",
     "timestamp": 1589403827353,
     "user": {
      "displayName": "Andrea Ceres",
      "photoUrl": "",
      "userId": "00692741891371770039"
     },
     "user_tz": 240
    },
    "id": "AyLnMo4szQ-0",
    "outputId": "0d91e4b5-107b-40ff-ab48-b33c7cfe787d"
   },
   "outputs": [
    {
     "name": "stdout",
     "output_type": "stream",
     "text": [
      "\n",
      "input shape: (None, 15, 20, 2, 40)\n",
      "output shape: (None, 120, 160, 16, 1) \n",
      "\n",
      "Model: \"ICAE_decoder\"\n",
      "__________________________________________________________________________________________________\n",
      "Layer (type)                      Output Shape                Param  Connected to                 \n",
      "==================================================================================================\n",
      "Encoded (InputLayer)              [(None, 15, 20, 2, 40)]     0                                   \n",
      "__________________________________________________________________________________________________\n",
      "Branch_C_1x1x1 (Conv3D)           (None, 15, 20, 2, 10)       410    Encoded[0][0]                \n",
      "__________________________________________________________________________________________________\n",
      "Branch_B_1x1x1 (Conv3D)           (None, 15, 20, 2, 10)       410    Encoded[0][0]                \n",
      "__________________________________________________________________________________________________\n",
      "Branch_C_1st_3x3x3 (Conv3D)       (None, 15, 20, 2, 10)       2710   Branch_C_1x1x1[0][0]         \n",
      "__________________________________________________________________________________________________\n",
      "Branch_D_3x3x3_maxpool (MaxPoolin (None, 15, 20, 2, 40)       0      Encoded[0][0]                \n",
      "__________________________________________________________________________________________________\n",
      "Branch_A_1x1x1 (Conv3D)           (None, 15, 20, 2, 10)       410    Encoded[0][0]                \n",
      "__________________________________________________________________________________________________\n",
      "Branch_B_3x3x3 (Conv3D)           (None, 15, 20, 2, 10)       2710   Branch_B_1x1x1[0][0]         \n",
      "__________________________________________________________________________________________________\n",
      "Branch_C_2nd_3x3x3 (Conv3D)       (None, 15, 20, 2, 10)       2710   Branch_C_1st_3x3x3[0][0]     \n",
      "__________________________________________________________________________________________________\n",
      "Branch_D_1x1x1 (Conv3D)           (None, 15, 20, 2, 10)       410    Branch_D_3x3x3_maxpool[0][0] \n",
      "__________________________________________________________________________________________________\n",
      "Inception_Merged (Concatenate)    (None, 15, 20, 2, 40)       0      Branch_A_1x1x1[0][0]         \n",
      "                                                                     Branch_B_3x3x3[0][0]         \n",
      "                                                                     Branch_C_2nd_3x3x3[0][0]     \n",
      "                                                                     Branch_D_1x1x1[0][0]         \n",
      "__________________________________________________________________________________________________\n",
      "Inception_Upsampling (UpSampling3 (None, 30, 40, 4, 40)       0      Inception_Merged[0][0]       \n",
      "__________________________________________________________________________________________________\n",
      "DropOut_3 (Dropout)               (None, 30, 40, 4, 40)       0      Inception_Upsampling[0][0]   \n",
      "__________________________________________________________________________________________________\n",
      "Convolution_2 (Conv3DTranspose)   (None, 30, 40, 4, 10)       10810  DropOut_3[0][0]              \n",
      "__________________________________________________________________________________________________\n",
      "Upsampling_2 (UpSampling3D)       (None, 60, 80, 8, 10)       0      Convolution_2[0][0]          \n",
      "__________________________________________________________________________________________________\n",
      "DropOut_2 (Dropout)               (None, 60, 80, 8, 10)       0      Upsampling_2[0][0]           \n",
      "__________________________________________________________________________________________________\n",
      "Convolution_1 (Conv3DTranspose)   (None, 60, 80, 8, 10)       2710   DropOut_2[0][0]              \n",
      "__________________________________________________________________________________________________\n",
      "Upsampling_1 (UpSampling3D)       (None, 120, 160, 16, 10)    0      Convolution_1[0][0]          \n",
      "__________________________________________________________________________________________________\n",
      "DropOut_1 (Dropout)               (None, 120, 160, 16, 10)    0      Upsampling_1[0][0]           \n",
      "__________________________________________________________________________________________________\n",
      "Output (Conv3DTranspose)          (None, 120, 160, 16, 1)     271    DropOut_1[0][0]              \n",
      "==================================================================================================\n",
      "Total params: 23,561\n",
      "Trainable params: 23,561\n",
      "Non-trainable params: 0\n",
      "__________________________________________________________________________________________________\n"
     ]
    }
   ],
   "source": [
    "encoded_input= Input(shape=(encoded_shape[1],encoded_shape[2], \n",
    "                            encoded_shape[3], encoded_shape[4],), \n",
    "                     name='Encoded')\n",
    "print('\\ninput shape:', encoded_input.shape)\n",
    "\n",
    "combined_dim = sum(filter_operations) \n",
    "# `filter_operations` taken from ICAE encoder\n",
    "\n",
    "x = encoded_input\n",
    "\n",
    "x = inception_module(x, filter_operations)\n",
    "x = UpSampling3D((2, 2, 2), name='Inception_Upsampling')(x)\n",
    "x = Dropout(dropout, name='DropOut_3')(x)\n",
    "\n",
    "x = Conv3DTranspose(10, (3, 3, 3), activation='relu', padding='same', \n",
    "                    name='Convolution_2')(x)\n",
    "x = UpSampling3D((2, 2, 2), name='Upsampling_2')(x)\n",
    "x = Dropout(dropout, name='DropOut_2')(x)\n",
    "\n",
    "x = Conv3DTranspose(10, (3, 3, 3), activation='relu', padding='same', \n",
    "                    name='Convolution_1')(x)\n",
    "x = UpSampling3D((2, 2, 2), name='Upsampling_1')(x)\n",
    "x = Dropout(dropout, name='DropOut_1')(x)\n",
    "\n",
    "decoded = Conv3DTranspose(1, (3, 3, 3), activation='sigmoid', padding='same', \n",
    "                          name='Output')(x)\n",
    "\n",
    "print('output shape:', K.int_shape(decoded), '\\n')\n",
    "\n",
    "ICAE_decoder = Model(encoded_input, decoded, name='ICAE_decoder')\n",
    "ICAE_decoder.summary(positions=[.35, .64, .71, 1.])\n"
   ]
  },
  {
   "cell_type": "markdown",
   "metadata": {
    "colab_type": "text",
    "id": "ol-4Dt7WzQ-4"
   },
   "source": [
    "#### Building ICAE Classifier"
   ]
  },
  {
   "cell_type": "code",
   "execution_count": 1,
   "metadata": {
    "colab": {
     "base_uri": "https://localhost:8080/",
     "height": 232
    },
    "colab_type": "code",
    "executionInfo": {
     "elapsed": 1420,
     "status": "error",
     "timestamp": 1589410774470,
     "user": {
      "displayName": "Andrea Ceres",
      "photoUrl": "",
      "userId": "00692741891371770039"
     },
     "user_tz": 240
    },
    "id": "5xQYaVA2ssdV",
    "outputId": "8f447f34-5e15-419d-f05b-a0856cb36a7b"
   },
   "outputs": [
    {
     "ename": "NameError",
     "evalue": "ignored",
     "output_type": "error",
     "traceback": [
      "\u001b[0;31m---------------------------------------------------------------------------\u001b[0m",
      "\u001b[0;31mNameError\u001b[0m                                 Traceback (most recent call last)",
      "\u001b[0;32m<ipython-input-1-f7528ad67957>\u001b[0m in \u001b[0;36m<module>\u001b[0;34m()\u001b[0m\n\u001b[1;32m      1\u001b[0m \u001b[0;31m# ICAE Classifier\u001b[0m\u001b[0;34m\u001b[0m\u001b[0;34m\u001b[0m\u001b[0;34m\u001b[0m\u001b[0m\n\u001b[1;32m      2\u001b[0m \u001b[0;34m\u001b[0m\u001b[0m\n\u001b[0;32m----> 3\u001b[0;31m encoded_input = Input(shape=(encoded_shape[1], encoded_shape[2], \n\u001b[0m\u001b[1;32m      4\u001b[0m                              encoded_shape[3], encoded_shape[4],), \n\u001b[1;32m      5\u001b[0m                       name='Encoded')\n",
      "\u001b[0;31mNameError\u001b[0m: name 'Input' is not defined"
     ]
    }
   ],
   "source": [
    "# ICAE Classifier\n",
    "\n",
    "encoded_input = Input(shape=(encoded_shape[1], encoded_shape[2], \n",
    "                             encoded_shape[3], encoded_shape[4],), \n",
    "                      name='Encoded')\n",
    "\n",
    "y = encoded_input\n",
    "\n",
    "y = Conv3D(10, (1, 1, 1), padding='same', name='Linear')(y)\n",
    "y = Flatten(name='Flatten')(y)\n",
    "y = Dense(16, activation='selu', name='SELU_1')(y)\n",
    "y = Dense(8, activation='selu', name='SELU_2')(y)\n",
    "y = Dense(2, activation='softmax', name='Prediction')(y)\n",
    "\n",
    "ICAE_pred = y\n",
    "\n",
    "ICAE_classifier = Model(encoded_input, ICAE_pred, name='ICAE_classifier')\n",
    "ICAE_classifier.summary()"
   ]
  },
  {
   "cell_type": "markdown",
   "metadata": {
    "colab_type": "text",
    "id": "RcV7XMRmGqhw"
   },
   "source": [
    "#### Building ICAE Autoencoder"
   ]
  },
  {
   "cell_type": "code",
   "execution_count": 12,
   "metadata": {
    "colab": {
     "base_uri": "https://localhost:8080/",
     "height": 306
    },
    "colab_type": "code",
    "executionInfo": {
     "elapsed": 1201,
     "status": "ok",
     "timestamp": 1589403835371,
     "user": {
      "displayName": "Andrea Ceres",
      "photoUrl": "",
      "userId": "00692741891371770039"
     },
     "user_tz": 240
    },
    "id": "kjQVyVdYzQ-4",
    "outputId": "a8b093c7-409f-4389-ccd9-6702f84b129a"
   },
   "outputs": [
    {
     "name": "stdout",
     "output_type": "stream",
     "text": [
      "Model: \"ICAE_autoencoder\"\n",
      "__________________________________________________________________________________________________\n",
      "Layer (type)                      Output Shape                Param  Connected to                 \n",
      "==================================================================================================\n",
      "Input (InputLayer)                [(None, 120, 160, 16, 1)]   0                                   \n",
      "__________________________________________________________________________________________________\n",
      "ICAE_encoder (Model)              (None, 15, 20, 2, 40)       11560  Input[0][0]                  \n",
      "                                                                     Input[0][0]                  \n",
      "__________________________________________________________________________________________________\n",
      "ICAE_decoder (Model)              (None, 120, 160, 16, 1)     23561  ICAE_encoder[1][0]           \n",
      "__________________________________________________________________________________________________\n",
      "ICAE_classifier (Model)           (None, 2)                   193004 ICAE_encoder[2][0]           \n",
      "==================================================================================================\n",
      "Total params: 228,125\n",
      "Trainable params: 228,125\n",
      "Non-trainable params: 0\n",
      "__________________________________________________________________________________________________\n"
     ]
    }
   ],
   "source": [
    "ICAE_autoencoder = Model(inputs=input_img, \n",
    "                         outputs=[ICAE_decoder(ICAE_encoder(input_img)), \n",
    "                                  ICAE_classifier(ICAE_encoder(input_img))],\n",
    "                   name='ICAE_autoencoder')\n",
    "ICAE_autoencoder.summary(positions=[.35, .64, .71, 1.])"
   ]
  },
  {
   "cell_type": "markdown",
   "metadata": {
    "colab_type": "text",
    "id": "EAJ3gzWsGjHM"
   },
   "source": [
    "#### Plot Models"
   ]
  },
  {
   "cell_type": "code",
   "execution_count": 0,
   "metadata": {
    "colab": {
     "base_uri": "https://localhost:8080/",
     "height": 911
    },
    "colab_type": "code",
    "executionInfo": {
     "elapsed": 1329,
     "status": "ok",
     "timestamp": 1589397847573,
     "user": {
      "displayName": "Andrea Ceres",
      "photoUrl": "",
      "userId": "00692741891371770039"
     },
     "user_tz": 240
    },
    "id": "kSiOHeSTFXc1",
    "outputId": "1d734429-25be-4ae9-acb1-a19ac7657e89"
   },
   "outputs": [
    {
     "data": {
      "image/png": "[encoded data removed]",
      "text/plain": [
       "<IPython.core.display.Image object>"
      ]
     },
     "execution_count": 70,
     "metadata": {
      "tags": []
     },
     "output_type": "execute_result"
    }
   ],
   "source": [
    "plot_model(ICAE_encoder, to_file='outputs_AC/ICAE_encoder.png', show_shapes=True, show_layer_names=True)"
   ]
  },
  {
   "cell_type": "code",
   "execution_count": 0,
   "metadata": {
    "colab": {
     "base_uri": "https://localhost:8080/",
     "height": 644
    },
    "colab_type": "code",
    "executionInfo": {
     "elapsed": 908,
     "status": "ok",
     "timestamp": 1589397849332,
     "user": {
      "displayName": "Andrea Ceres",
      "photoUrl": "",
      "userId": "00692741891371770039"
     },
     "user_tz": 240
    },
    "id": "Fd1Y6R2hDvxy",
    "outputId": "6e314a29-1ab1-4753-bd7e-757e212ba4bd"
   },
   "outputs": [
    {
     "data": {
      "image/png": "[encoded data removed]",
      "text/plain": [
       "<IPython.core.display.Image object>"
      ]
     },
     "execution_count": 71,
     "metadata": {
      "tags": []
     },
     "output_type": "execute_result"
    }
   ],
   "source": [
    "plot_model(ICAE_classifier, to_file='outputs_AC/ICAE_classifier.png', show_shapes=True, show_layer_names=True)"
   ]
  },
  {
   "cell_type": "code",
   "execution_count": 0,
   "metadata": {
    "colab": {
     "base_uri": "https://localhost:8080/",
     "height": 312
    },
    "colab_type": "code",
    "executionInfo": {
     "elapsed": 559,
     "status": "ok",
     "timestamp": 1589397854037,
     "user": {
      "displayName": "Andrea Ceres",
      "photoUrl": "",
      "userId": "00692741891371770039"
     },
     "user_tz": 240
    },
    "id": "IjkEdebye3bU",
    "outputId": "71f57614-2467-4de7-a23f-660e35526d6d"
   },
   "outputs": [
    {
     "data": {
      "image/png": "[encoded data removed]",
      "text/plain": [
       "<IPython.core.display.Image object>"
      ]
     },
     "execution_count": 72,
     "metadata": {
      "tags": []
     },
     "output_type": "execute_result"
    }
   ],
   "source": [
    "plot_model(ICAE_autoencoder, to_file='outputs_AC/ICAE_autoencoder.png', show_shapes=True, show_layer_names=True)"
   ]
  },
  {
   "cell_type": "markdown",
   "metadata": {
    "colab_type": "text",
    "id": "rsCakaPqfR8I"
   },
   "source": [
    "#### ICAE Autoencoder Training"
   ]
  },
  {
   "cell_type": "code",
   "execution_count": 0,
   "metadata": {
    "colab": {},
    "colab_type": "code",
    "id": "WzIAsNitzQ-7"
   },
   "outputs": [],
   "source": [
    "losses = {'ICAE_decoder':'mse', 'ICAE_classifier':'categorical_crossentropy'}\n",
    "metrics = {'ICAE_decoder':'mae', 'ICAE_classifier':[\\\n",
    "                            tf.keras.metrics.BinaryAccuracy(name='acc'),\n",
    "                            tf.keras.metrics.TrueNegatives(name='tn'), \n",
    "                            tf.keras.metrics.TruePositives(name='tp'),\n",
    "                            tf.keras.metrics.FalseNegatives(name='fn'), \n",
    "                            tf.keras.metrics.FalsePositives(name='fp')]}\n",
    "loss_weights = {'ICAE_decoder':0.5, 'ICAE_classifier':0.5}\n",
    "\n",
    "ICAE_autoencoder.compile(optimizer='sgd', \n",
    "                         loss=losses,\n",
    "                         loss_weights=loss_weights,\n",
    "                         metrics=metrics)\n",
    "\n",
    "my_callbacks = [\n",
    "    tf.keras.callbacks.EarlyStopping(patience=10),\n",
    "    tf.keras.callbacks.ModelCheckpoint(\\\n",
    "        filepath=\\\n",
    "        'outputs_AC/ICAE_experiment_aug_do20_clf32-16_AC_518.{epoch:02d}-{val_loss:.2f}.h5'),\n",
    "    tf.keras.callbacks.TensorBoard(log_dir='./logs_AC')] # initialed AC"
   ]
  },
  {
   "cell_type": "code",
   "execution_count": 0,
   "metadata": {
    "colab": {},
    "colab_type": "code",
    "id": "aonFiMErCkN3"
   },
   "outputs": [],
   "source": [
    "train_generator = MyDataGenerator(train_list, processed_dir, to_fit=True, \n",
    "                                  augment=True, batch_size=32, \n",
    "                                  ventricles_only=True)\n",
    "val_generator = MyDataGenerator(val_list, processed_dir, to_fit=False, \n",
    "                                augment=False, batch_size=32,\n",
    "                                ventricles_only=True)"
   ]
  },
  {
   "cell_type": "code",
   "execution_count": 0,
   "metadata": {
    "colab": {
     "base_uri": "https://localhost:8080/",
     "height": 105
    },
    "colab_type": "code",
    "executionInfo": {
     "elapsed": 835042,
     "status": "error",
     "timestamp": 1589403648901,
     "user": {
      "displayName": "Andrea Ceres",
      "photoUrl": "",
      "userId": "00692741891371770039"
     },
     "user_tz": 240
    },
    "id": "tCHdEEUHpLlz",
    "outputId": "9043587a-c657-419d-98e5-e6f037626e4a"
   },
   "outputs": [
    {
     "name": "stdout",
     "output_type": "stream",
     "text": [
      "Epoch 1/100\n",
      "24/24 [==============================] - 463s 19s/step - loss: 1.7686 - ICAE_decoder_loss: 0.1155 - ICAE_classifier_loss: 0.6587 - ICAE_decoder_mae: 0.2955 - ICAE_classifier_acc: 0.6302 - ICAE_classifier_tn: 484.0000 - ICAE_classifier_tp: 484.0000 - ICAE_classifier_fn: 284.0000 - ICAE_classifier_fp: 284.0000 - val_loss: 1.3786 - val_ICAE_decoder_loss: 0.0000e+00 - val_ICAE_classifier_loss: 0.0000e+00 - val_ICAE_decoder_mae: 0.0000e+00 - val_ICAE_classifier_acc: 0.0000e+00 - val_ICAE_classifier_tn: 0.0000e+00 - val_ICAE_classifier_tp: 0.0000e+00 - val_ICAE_classifier_fn: 0.0000e+00 - val_ICAE_classifier_fp: 0.0000e+00\n",
      "Epoch 2/100\n",
      "22/24 [==========================>...] - ETA: 36s - loss: 1.7633 - ICAE_decoder_loss: 0.1113 - ICAE_classifier_loss: 0.6631 - ICAE_decoder_mae: 0.2886 - ICAE_classifier_acc: 0.6222 - ICAE_classifier_tn: 438.0000 - ICAE_classifier_tp: 438.0000 - ICAE_classifier_fn: 266.0000 - ICAE_classifier_fp: 266.0000"
     ]
    }
   ],
   "source": [
    "start_time = time.time()\n",
    "\n",
    "history_ICAE = ICAE_autoencoder.fit(train_generator, epochs=100, \n",
    "                                    validation_data=val_generator, \n",
    "                                    shuffle=True, use_multiprocessing=False, \n",
    "                                    callbacks=my_callbacks)\n",
    "# given the warning, if this hangs, try default use_multiprocessing=False\n",
    "\n",
    "duration = round((time.time() - start_time) / 60, 2)\n",
    "\n",
    "print('Time taken:', duration, 'minutes')"
   ]
  },
  {
   "cell_type": "code",
   "execution_count": 0,
   "metadata": {
    "colab": {},
    "colab_type": "code",
    "id": "DOp5M7PkCzYI"
   },
   "outputs": [],
   "source": [
    "# print('Time taken:', duration, 'minutes')"
   ]
  },
  {
   "cell_type": "code",
   "execution_count": 0,
   "metadata": {
    "colab": {},
    "colab_type": "code",
    "id": "ppgSLdmM89c3"
   },
   "outputs": [],
   "source": [
    "test_generator = MyDataGenerator(test_list, processed_dir, batch_size=32, \n",
    "                                 augment=True, to_fit=False, \n",
    "                                 ventricles_only=False)"
   ]
  },
  {
   "cell_type": "code",
   "execution_count": 0,
   "metadata": {
    "colab": {},
    "colab_type": "code",
    "id": "wXko1wgZ20mm"
   },
   "outputs": [],
   "source": [
    "ae_pred = ICAE_autoencoder.predict(test_generator)"
   ]
  },
  {
   "cell_type": "code",
   "execution_count": 0,
   "metadata": {
    "colab": {
     "base_uri": "https://localhost:8080/",
     "height": 34
    },
    "colab_type": "code",
    "executionInfo": {
     "elapsed": 334,
     "status": "ok",
     "timestamp": 1589383361022,
     "user": {
      "displayName": "Andrea Ceres",
      "photoUrl": "",
      "userId": "00692741891371770039"
     },
     "user_tz": 240
    },
    "id": "mDeDerZN9IC-",
    "outputId": "0b12815b-4a89-4fca-aee0-3b8fe5bdf6af"
   },
   "outputs": [
    {
     "data": {
      "text/plain": [
       "array([ 0., 96.], dtype=float32)"
      ]
     },
     "execution_count": 39,
     "metadata": {
      "tags": []
     },
     "output_type": "execute_result"
    }
   ],
   "source": [
    "np.sum(np.round(ae_pred[1]),axis=0)"
   ]
  },
  {
   "cell_type": "code",
   "execution_count": 0,
   "metadata": {
    "colab": {},
    "colab_type": "code",
    "id": "pAraTd7sIXKU"
   },
   "outputs": [],
   "source": [
    "clf_pred = ICAE_classifier.predict(test_generator)"
   ]
  },
  {
   "cell_type": "code",
   "execution_count": 0,
   "metadata": {
    "colab": {},
    "colab_type": "code",
    "id": "cBUHEbZI3KDo"
   },
   "outputs": [],
   "source": [
    "from sklearn.metrics import confusion_matrix, classification_report\n",
    "\n",
    "conf_matrix = confusion_matrix(test_label, clf_pred)\n",
    "conf_matrix"
   ]
  },
  {
   "cell_type": "code",
   "execution_count": 0,
   "metadata": {
    "colab": {},
    "colab_type": "code",
    "id": "EqODngyYMasW"
   },
   "outputs": [],
   "source": [
    "class_report = classification_report(test_label.argmax(axis=1), clf_pred.argmax(axis=1))\n",
    "class_report"
   ]
  },
  {
   "cell_type": "code",
   "execution_count": 0,
   "metadata": {
    "colab": {
     "base_uri": "https://localhost:8080/",
     "height": 34
    },
    "colab_type": "code",
    "executionInfo": {
     "elapsed": 329,
     "status": "ok",
     "timestamp": 1589383363900,
     "user": {
      "displayName": "Andrea Ceres",
      "photoUrl": "",
      "userId": "00692741891371770039"
     },
     "user_tz": 240
    },
    "id": "v5g3X4bw0ICu",
    "outputId": "a3499995-2fee-4104-ed78-76270708968c"
   },
   "outputs": [
    {
     "data": {
      "text/plain": [
       "(98,)"
      ]
     },
     "execution_count": 41,
     "metadata": {
      "tags": []
     },
     "output_type": "execute_result"
    }
   ],
   "source": [
    "test_label.shape"
   ]
  },
  {
   "cell_type": "code",
   "execution_count": 0,
   "metadata": {
    "colab": {},
    "colab_type": "code",
    "id": "0v3iyKqQ0TjN"
   },
   "outputs": [],
   "source": []
  }
 ],
 "metadata": {
  "accelerator": "GPU",
  "colab": {
   "collapsed_sections": [
    "pf0QJqFOzQ-a",
    "b1o-Xo2SzQ-h",
    "V3szdqC1zQ-k",
    "EAJ3gzWsGjHM"
   ],
   "name": "Copy of ICAE_experiment_aug_do20_clf32-16_AC.ipynb",
   "provenance": [
    {
     "file_id": "1PrcRIbnqjv_AODsWMQqOFCv21NuVwt1Q",
     "timestamp": 1589403658454
    },
    {
     "file_id": "1znQLlgYEWEFF3AfAAuuHB4mPmAswbZpK",
     "timestamp": 1589402518526
    },
    {
     "file_id": "1sdmltVuge_GDM7R1bPYZVWV64OJHOTeN",
     "timestamp": 1589399123718
    },
    {
     "file_id": "1MBISrGlK_PHo7bHG0eQ8b_C-KIwfCuXT",
     "timestamp": 1589391464166
    }
   ]
  },
  "kernelspec": {
   "display_name": "Python 3",
   "language": "python",
   "name": "python3"
  },
  "language_info": {
   "codemirror_mode": {
    "name": "ipython",
    "version": 3
   },
   "file_extension": ".py",
   "mimetype": "text/x-python",
   "name": "python",
   "nbconvert_exporter": "python",
   "pygments_lexer": "ipython3",
   "version": "3.6.1"
  }
 },
 "nbformat": 4,
 "nbformat_minor": 1
}
